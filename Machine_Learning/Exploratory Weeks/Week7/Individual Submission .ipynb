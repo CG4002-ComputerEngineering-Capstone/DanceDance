{
 "cells": [
  {
   "cell_type": "markdown",
   "id": "9530ceac",
   "metadata": {},
   "source": [
    "## Individual Subcomponent Test for ML - Week 7\n",
    "\n",
    "#### Dataset : https://archive.ics.uci.edu/ml/datasets/Smartphone-Based+Recognition+of+Human+Activities+and+Postural+Transitions\n",
    "\n",
    "`30` subjects & `12` activities.\n",
    "3-axial linear acceleration and 3-axial angular velocity at a constant rate of `50Hz` using the embedded accelerometer and gyroscope of the device. \n",
    "\n",
    "The obtained dataset was randomly partitioned into two sets, where `70%` of the volunteers was selected for generating the `training data` and `30%` the `test data`.\n",
    "\n",
    "- The sensor signals (accelerometer and gyroscope) were pre-processed by applying noise filters and then sampled in fixed-width `sliding windows of 2.56 sec` and `50% overlap (128 readings/window)`. \n",
    "- The sensor acceleration signal, which has gravitational and body motion components, was separated using a Butterworth low-pass filter into body acceleration and gravity. \n",
    "- The gravitational force is assumed to have only low frequency components, therefore a filter with 0.3 Hz cutoff frequency was used. \n",
    "- From `each window`, a vector of `561 features` was obtained by calculating variables from the time and frequency domain. \n",
    "\n",
    "#### Libraries used : \n",
    "- scikit-learn\n",
    "- pytorch\n",
    "\n",
    "#### References : \n",
    "- https://www.analyticsvidhya.com/blog/2020/10/a-comprehensive-guide-to-feature-selection-using-wrapper-methods-in-python/\n",
    "- https://chrisalbon.com/code/machine_learning/trees_and_forests/feature_selection_using_random_forest/\n",
    "- https://deeplizard.com/learn/video/0LhiS6yu2qQ\n",
    "- https://towardsdatascience.com/pytorch-tabular-multiclass-classification-9f8211a123ab\n",
    "- https://towardsdatascience.com/multiclass-classification-using-k-nearest-neighbours-ca5281a9ef76\n",
    "- https://sebastianraschka.com/blog/2016/model-evaluation-selection-part3.html\n",
    "\n",
    "\n",
    "\n"
   ]
  },
  {
   "cell_type": "code",
   "execution_count": 1,
   "id": "36692c9f",
   "metadata": {},
   "outputs": [],
   "source": [
    "import torch\n",
    "import torch.nn as nn\n",
    "import torch.nn.functional as F\n",
    "from torch.utils.data import Dataset, DataLoader, random_split,SubsetRandomSampler, TensorDataset\n",
    "from sklearn.model_selection import train_test_split\n",
    "from sklearn.ensemble import RandomForestClassifier\n",
    "from sklearn import svm\n",
    "from sklearn.neighbors import KNeighborsClassifier\n",
    "from sklearn.feature_selection import SelectFromModel\n",
    "from sklearn.metrics import confusion_matrix,classification_report\n",
    "from sklearn.metrics import accuracy_score, precision_score, recall_score, f1_score\n",
    "from sklearn.model_selection import StratifiedKFold\n",
    "from sklearn.model_selection import KFold\n",
    "\n",
    "\n",
    "\n",
    "from statistics import mean, stdev\n",
    "import random\n",
    "import csv\n",
    "import time\n",
    "import numpy as np\n",
    "import pandas as pd\n",
    "import matplotlib.pyplot as plt\n",
    "import itertools\n",
    "import seaborn as sn\n",
    "plt.style.use('ggplot')\n",
    "sn.set_style(\"whitegrid\")\n",
    "%matplotlib inline"
   ]
  },
  {
   "cell_type": "code",
   "execution_count": 2,
   "id": "957c8921",
   "metadata": {},
   "outputs": [
    {
     "name": "stdout",
     "output_type": "stream",
     "text": [
      "labels : ['WALKING' 'WALKING_UPSTAIRS' 'WALKING_DOWNSTAIRS' 'SITTING' 'STANDING'\n",
      " 'LAYING' 'STAND_TO_SIT' 'SIT_TO_STAND' 'SIT_TO_LIE' 'LIE_TO_SIT'\n",
      " 'STAND_TO_LIE' 'LIE_TO_STAND']\n",
      "activity_num : [ 0  1  2  3  4  5  6  7  8  9 10 11]\n",
      "Total number of training feature columns : 561\n"
     ]
    },
    {
     "data": {
      "text/plain": [
       "{0: 'WALKING',\n",
       " 1: 'WALKING_UPSTAIRS',\n",
       " 2: 'WALKING_DOWNSTAIRS',\n",
       " 3: 'SITTING',\n",
       " 4: 'STANDING',\n",
       " 5: 'LAYING',\n",
       " 6: 'STAND_TO_SIT',\n",
       " 7: 'SIT_TO_STAND',\n",
       " 8: 'SIT_TO_LIE',\n",
       " 9: 'LIE_TO_SIT',\n",
       " 10: 'STAND_TO_LIE',\n",
       " 11: 'LIE_TO_STAND'}"
      ]
     },
     "execution_count": 2,
     "metadata": {},
     "output_type": "execute_result"
    }
   ],
   "source": [
    "# Read in activity num & labels as a df\n",
    "activity_label_df = pd.read_csv('../data2/HAPT Data Set/activity_labels.txt',delim_whitespace=True, header=None)\n",
    "activity_num = np.arange(0,12)\n",
    "labels = np.array(activity_label_df[1])\n",
    "print(f\"labels : {labels}\")\n",
    "print(f\"activity_num : {activity_num}\")\n",
    "\n",
    "# Read in features extracted as a df \n",
    "features_df = pd.read_csv('../data2/HAPT Data Set/features.txt',delim_whitespace=True, header=None)\n",
    "features = np.array(features_df[0])\n",
    "# print(f\"features : {features}\")\n",
    "print(f\"Total number of training feature columns : {features.size}\")\n",
    "\n",
    "# create map of activity num to activity name \n",
    "map_num_to_activity = {}\n",
    "for i,num in enumerate(activity_num):\n",
    "    map_num_to_activity[num] = labels[i]\n",
    "map_num_to_activity"
   ]
  },
  {
   "cell_type": "markdown",
   "id": "e2d55a53",
   "metadata": {},
   "source": [
    "### Load Training Set "
   ]
  },
  {
   "cell_type": "code",
   "execution_count": 3,
   "id": "44ebe705",
   "metadata": {},
   "outputs": [
    {
     "name": "stdout",
     "output_type": "stream",
     "text": [
      "X shape when loaded from txt: (7767, 561)\n",
      "X shape after including subject number: (7767, 562)\n",
      "X shape after including activity and activity name: (7767, 564)\n",
      "No of duplicates in X: 0\n",
      "We have 0 NaN/Null values in X\n"
     ]
    },
    {
     "data": {
      "text/html": [
       "<div>\n",
       "<style scoped>\n",
       "    .dataframe tbody tr th:only-of-type {\n",
       "        vertical-align: middle;\n",
       "    }\n",
       "\n",
       "    .dataframe tbody tr th {\n",
       "        vertical-align: top;\n",
       "    }\n",
       "\n",
       "    .dataframe thead th {\n",
       "        text-align: right;\n",
       "    }\n",
       "</style>\n",
       "<table border=\"1\" class=\"dataframe\">\n",
       "  <thead>\n",
       "    <tr style=\"text-align: right;\">\n",
       "      <th></th>\n",
       "      <th>tBodyAcc-Mean-1</th>\n",
       "      <th>tBodyAcc-Mean-2</th>\n",
       "      <th>tBodyAcc-Mean-3</th>\n",
       "      <th>tBodyAcc-STD-1</th>\n",
       "      <th>tBodyAcc-STD-2</th>\n",
       "      <th>tBodyAcc-STD-3</th>\n",
       "      <th>tBodyAcc-Mad-1</th>\n",
       "      <th>tBodyAcc-Mad-2</th>\n",
       "      <th>tBodyAcc-Mad-3</th>\n",
       "      <th>tBodyAcc-Max-1</th>\n",
       "      <th>...</th>\n",
       "      <th>tBodyAcc-AngleWRTGravity-1</th>\n",
       "      <th>tBodyAccJerk-AngleWRTGravity-1</th>\n",
       "      <th>tBodyGyro-AngleWRTGravity-1</th>\n",
       "      <th>tBodyGyroJerk-AngleWRTGravity-1</th>\n",
       "      <th>tXAxisAcc-AngleWRTGravity-1</th>\n",
       "      <th>tYAxisAcc-AngleWRTGravity-1</th>\n",
       "      <th>tZAxisAcc-AngleWRTGravity-1</th>\n",
       "      <th>Subject</th>\n",
       "      <th>Activity</th>\n",
       "      <th>ActivityName</th>\n",
       "    </tr>\n",
       "  </thead>\n",
       "  <tbody>\n",
       "    <tr>\n",
       "      <th>7161</th>\n",
       "      <td>0.037915</td>\n",
       "      <td>0.070938</td>\n",
       "      <td>-0.011379</td>\n",
       "      <td>-0.105976</td>\n",
       "      <td>-0.331226</td>\n",
       "      <td>-0.136394</td>\n",
       "      <td>-0.205556</td>\n",
       "      <td>-0.373174</td>\n",
       "      <td>-0.279088</td>\n",
       "      <td>0.341157</td>\n",
       "      <td>...</td>\n",
       "      <td>0.149011</td>\n",
       "      <td>-0.76186</td>\n",
       "      <td>-0.804907</td>\n",
       "      <td>0.625453</td>\n",
       "      <td>-0.773254</td>\n",
       "      <td>0.247228</td>\n",
       "      <td>-0.026069</td>\n",
       "      <td>29</td>\n",
       "      <td>1</td>\n",
       "      <td>WALKING_UPSTAIRS</td>\n",
       "    </tr>\n",
       "  </tbody>\n",
       "</table>\n",
       "<p>1 rows × 564 columns</p>\n",
       "</div>"
      ],
      "text/plain": [
       "      tBodyAcc-Mean-1  tBodyAcc-Mean-2  tBodyAcc-Mean-3  tBodyAcc-STD-1  \\\n",
       "7161         0.037915         0.070938        -0.011379       -0.105976   \n",
       "\n",
       "      tBodyAcc-STD-2  tBodyAcc-STD-3  tBodyAcc-Mad-1  tBodyAcc-Mad-2  \\\n",
       "7161       -0.331226       -0.136394       -0.205556       -0.373174   \n",
       "\n",
       "      tBodyAcc-Mad-3  tBodyAcc-Max-1  ...  tBodyAcc-AngleWRTGravity-1  \\\n",
       "7161       -0.279088        0.341157  ...                    0.149011   \n",
       "\n",
       "      tBodyAccJerk-AngleWRTGravity-1  tBodyGyro-AngleWRTGravity-1  \\\n",
       "7161                        -0.76186                    -0.804907   \n",
       "\n",
       "      tBodyGyroJerk-AngleWRTGravity-1  tXAxisAcc-AngleWRTGravity-1  \\\n",
       "7161                         0.625453                    -0.773254   \n",
       "\n",
       "      tYAxisAcc-AngleWRTGravity-1  tZAxisAcc-AngleWRTGravity-1  Subject  \\\n",
       "7161                     0.247228                    -0.026069       29   \n",
       "\n",
       "      Activity      ActivityName  \n",
       "7161         1  WALKING_UPSTAIRS  \n",
       "\n",
       "[1 rows x 564 columns]"
      ]
     },
     "execution_count": 3,
     "metadata": {},
     "output_type": "execute_result"
    }
   ],
   "source": [
    "X = pd.read_csv('../data2/HAPT Data Set/Train/X_train.txt',delim_whitespace=True, header=None)\n",
    "print(f\"X shape when loaded from txt: {X.shape}\")\n",
    "X.columns = features\n",
    "X['Subject'] = pd.read_csv('../data2/HAPT Data Set/Train/subject_id_train.txt', header=None, squeeze=True)\n",
    "print(f\"X shape after including subject number: {X.shape}\")\n",
    "\n",
    "y = pd.read_csv('../data2/HAPT Data Set/Train/y_train.txt', names=['Activity'], squeeze=True)\n",
    "y = y-1\n",
    "X['Activity'] = y\n",
    "X['ActivityName'] = X[\"Activity\"].map(map_num_to_activity)\n",
    "\n",
    "print(f\"X shape after including activity and activity name: {X.shape}\")\n",
    "print('No of duplicates in X: {}'.format(sum(X.duplicated())))\n",
    "print('We have {} NaN/Null values in X'.format(X.isnull().values.sum()))\n",
    "\n",
    "X_vals = X.drop([\"Subject\", \"Activity\", \"ActivityName\"], axis = 1).values\n",
    "X.sample()"
   ]
  },
  {
   "cell_type": "markdown",
   "id": "3b60fa50",
   "metadata": {},
   "source": [
    "### Load Test Set "
   ]
  },
  {
   "cell_type": "code",
   "execution_count": 4,
   "id": "b5bfb12d",
   "metadata": {},
   "outputs": [
    {
     "name": "stdout",
     "output_type": "stream",
     "text": [
      "x_t shape when loaded from txt: (3162, 561)\n",
      "x_t shape after including subject number: (3162, 562)\n",
      "x_t shape after including activity and activity name: (3162, 564)\n",
      "No of duplicates in x_t: 0\n",
      "We have 0 NaN/Null values in x_t\n"
     ]
    },
    {
     "data": {
      "text/html": [
       "<div>\n",
       "<style scoped>\n",
       "    .dataframe tbody tr th:only-of-type {\n",
       "        vertical-align: middle;\n",
       "    }\n",
       "\n",
       "    .dataframe tbody tr th {\n",
       "        vertical-align: top;\n",
       "    }\n",
       "\n",
       "    .dataframe thead th {\n",
       "        text-align: right;\n",
       "    }\n",
       "</style>\n",
       "<table border=\"1\" class=\"dataframe\">\n",
       "  <thead>\n",
       "    <tr style=\"text-align: right;\">\n",
       "      <th></th>\n",
       "      <th>tBodyAcc-Mean-1</th>\n",
       "      <th>tBodyAcc-Mean-2</th>\n",
       "      <th>tBodyAcc-Mean-3</th>\n",
       "      <th>tBodyAcc-STD-1</th>\n",
       "      <th>tBodyAcc-STD-2</th>\n",
       "      <th>tBodyAcc-STD-3</th>\n",
       "      <th>tBodyAcc-Mad-1</th>\n",
       "      <th>tBodyAcc-Mad-2</th>\n",
       "      <th>tBodyAcc-Mad-3</th>\n",
       "      <th>tBodyAcc-Max-1</th>\n",
       "      <th>...</th>\n",
       "      <th>tBodyAcc-AngleWRTGravity-1</th>\n",
       "      <th>tBodyAccJerk-AngleWRTGravity-1</th>\n",
       "      <th>tBodyGyro-AngleWRTGravity-1</th>\n",
       "      <th>tBodyGyroJerk-AngleWRTGravity-1</th>\n",
       "      <th>tXAxisAcc-AngleWRTGravity-1</th>\n",
       "      <th>tYAxisAcc-AngleWRTGravity-1</th>\n",
       "      <th>tZAxisAcc-AngleWRTGravity-1</th>\n",
       "      <th>Subject</th>\n",
       "      <th>Activity</th>\n",
       "      <th>ActivityName</th>\n",
       "    </tr>\n",
       "  </thead>\n",
       "  <tbody>\n",
       "    <tr>\n",
       "      <th>816</th>\n",
       "      <td>0.039884</td>\n",
       "      <td>-0.003784</td>\n",
       "      <td>-0.004452</td>\n",
       "      <td>-0.983228</td>\n",
       "      <td>-0.954961</td>\n",
       "      <td>-0.932004</td>\n",
       "      <td>-0.98644</td>\n",
       "      <td>-0.957683</td>\n",
       "      <td>-0.940761</td>\n",
       "      <td>-0.784937</td>\n",
       "      <td>...</td>\n",
       "      <td>0.071125</td>\n",
       "      <td>0.37018</td>\n",
       "      <td>0.150019</td>\n",
       "      <td>0.873106</td>\n",
       "      <td>-0.850498</td>\n",
       "      <td>0.084026</td>\n",
       "      <td>0.132377</td>\n",
       "      <td>9</td>\n",
       "      <td>4</td>\n",
       "      <td>STANDING</td>\n",
       "    </tr>\n",
       "  </tbody>\n",
       "</table>\n",
       "<p>1 rows × 564 columns</p>\n",
       "</div>"
      ],
      "text/plain": [
       "     tBodyAcc-Mean-1  tBodyAcc-Mean-2  tBodyAcc-Mean-3  tBodyAcc-STD-1  \\\n",
       "816         0.039884        -0.003784        -0.004452       -0.983228   \n",
       "\n",
       "     tBodyAcc-STD-2  tBodyAcc-STD-3  tBodyAcc-Mad-1  tBodyAcc-Mad-2  \\\n",
       "816       -0.954961       -0.932004        -0.98644       -0.957683   \n",
       "\n",
       "     tBodyAcc-Mad-3  tBodyAcc-Max-1  ...  tBodyAcc-AngleWRTGravity-1  \\\n",
       "816       -0.940761       -0.784937  ...                    0.071125   \n",
       "\n",
       "     tBodyAccJerk-AngleWRTGravity-1  tBodyGyro-AngleWRTGravity-1  \\\n",
       "816                         0.37018                     0.150019   \n",
       "\n",
       "     tBodyGyroJerk-AngleWRTGravity-1  tXAxisAcc-AngleWRTGravity-1  \\\n",
       "816                         0.873106                    -0.850498   \n",
       "\n",
       "     tYAxisAcc-AngleWRTGravity-1  tZAxisAcc-AngleWRTGravity-1  Subject  \\\n",
       "816                     0.084026                     0.132377        9   \n",
       "\n",
       "     Activity  ActivityName  \n",
       "816         4      STANDING  \n",
       "\n",
       "[1 rows x 564 columns]"
      ]
     },
     "execution_count": 4,
     "metadata": {},
     "output_type": "execute_result"
    }
   ],
   "source": [
    "# get the data from txt files to pandas dataffame\n",
    "x_t = pd.read_csv('../data2/HAPT Data Set/Test/X_test.txt', delim_whitespace=True, header=None)\n",
    "print(f\"x_t shape when loaded from txt: {x_t.shape}\")\n",
    "x_t.columns = features\n",
    "\n",
    "# add subject column to the dataframe\n",
    "x_t['Subject'] = pd.read_csv('../data2/HAPT Data Set/Test/subject_id_test.txt', header=None, squeeze=True)\n",
    "print(f\"x_t shape after including subject number: {x_t.shape}\")\n",
    "\n",
    "# get y labels from the txt file\n",
    "y_t = pd.read_csv('../data2/HAPT Data Set/Test/y_test.txt', names=['Activity'], squeeze=True)\n",
    "y_t = y_t -1\n",
    "x_t['Activity'] = y_t\n",
    "x_t['ActivityName'] = x_t[\"Activity\"].map(map_num_to_activity)\n",
    "\n",
    "print(f\"x_t shape after including activity and activity name: {x_t.shape}\")\n",
    "print('No of duplicates in x_t: {}'.format(sum(x_t.duplicated())))\n",
    "print('We have {} NaN/Null values in x_t'.format(x_t.isnull().values.sum()))\n",
    "\n",
    "x_tvals = x_t.drop([\"Subject\", \"Activity\", \"ActivityName\"], axis = 1).values\n",
    "x_t.sample()"
   ]
  },
  {
   "cell_type": "markdown",
   "id": "66b97603",
   "metadata": {},
   "source": [
    "### Data Visualisation"
   ]
  },
  {
   "cell_type": "code",
   "execution_count": 5,
   "id": "508fa3ec",
   "metadata": {},
   "outputs": [],
   "source": [
    "def plot_confusion_matrix(cm, classes, normalize=False, title='Confusion matrix', cmap=plt.cm.Blues):\n",
    "    if normalize:\n",
    "        cm = cm.astype('float') / cm.sum(axis=1)[:, np.newaxis]\n",
    "        print(\"Normalized confusion matrix\")\n",
    "    else:\n",
    "        print('Confusion matrix, without normalization')\n",
    "\n",
    "    print(cm)\n",
    "    plt.imshow(cm, interpolation='nearest', cmap=cmap)\n",
    "    plt.title(title)\n",
    "    plt.grid(False)\n",
    "    plt.colorbar()\n",
    "    tick_marks = np.arange(len(classes))\n",
    "    plt.xticks(tick_marks, classes, rotation=90)\n",
    "    plt.yticks(tick_marks, classes)\n",
    "\n",
    "    fmt = '.2f' if normalize else 'd'\n",
    "    thresh = cm.max() / 2.\n",
    "    for i, j in itertools.product(range(cm.shape[0]), range(cm.shape[1])):\n",
    "        plt.text(j, i, format(cm[i, j], fmt), horizontalalignment=\"center\", color=\"white\" if cm[i, j] > thresh else \"black\")\n",
    "\n",
    "    plt.tight_layout()\n",
    "    plt.ylabel('True label')\n",
    "    plt.xlabel('Predicted label')\n"
   ]
  },
  {
   "cell_type": "code",
   "execution_count": 6,
   "id": "cf05646e",
   "metadata": {},
   "outputs": [
    {
     "data": {
      "image/png": "[encoded data removed]",
      "text/plain": [
       "<Figure size 1152x576 with 1 Axes>"
      ]
     },
     "metadata": {
      "needs_background": "light"
     },
     "output_type": "display_data"
    },
    {
     "data": {
      "image/png": "[encoded data removed]",
      "text/plain": [
       "<Figure size 1152x576 with 1 Axes>"
      ]
     },
     "metadata": {
      "needs_background": "light"
     },
     "output_type": "display_data"
    }
   ],
   "source": [
    "plt.figure(figsize = (16,8))\n",
    "plt.title(\"Data provided by each user in Training Set\", fontsize = 20)\n",
    "sn.countplot(x =\"Subject\", hue =\"ActivityName\", data =X)\n",
    "plt.show()\n",
    "\n",
    "plt.figure(figsize = (16,8))\n",
    "plt.title('No of Datapoints per Activity in Training Set ', fontsize=15)\n",
    "sn.countplot(x = X[\"ActivityName\"])\n",
    "plt.xticks(rotation=90)\n",
    "plt.show()"
   ]
  },
  {
   "cell_type": "markdown",
   "id": "ebf81de6",
   "metadata": {},
   "source": [
    "### Feature Selection\n",
    "Feature selection using Random forest is parked under the category of Embedded methods. \n",
    "Benefits of embedded methods:\n",
    "- Highly accurate.\n",
    "- Generalize better.\n",
    "- Interpretable\n",
    "\n",
    "We select features using the training set. "
   ]
  },
  {
   "cell_type": "code",
   "execution_count": 7,
   "id": "175e6815",
   "metadata": {},
   "outputs": [
    {
     "name": "stdout",
     "output_type": "stream",
     "text": [
      "Number of selected features : 136\n"
     ]
    }
   ],
   "source": [
    "rf = RandomForestClassifier(n_estimators=100)\n",
    "rf.fit(X_vals, y)\n",
    "# for feature in zip(features, rf.feature_importances_):\n",
    "#     print(feature)\n",
    "sfm = SelectFromModel(rf)\n",
    "sfm.fit(X_vals, y)\n",
    "\n",
    "# for feature_list_index in sfm.get_support(indices=True):\n",
    "#     print(features[feature_list_index])\n",
    "X_important_train = sfm.transform(X_vals)\n",
    "X_important_test = sfm.transform(x_tvals)\n",
    "print(f\"Number of selected features : {len(sfm.get_support(indices=True))}\")"
   ]
  },
  {
   "cell_type": "code",
   "execution_count": 8,
   "id": "db95b676",
   "metadata": {},
   "outputs": [
    {
     "name": "stdout",
     "output_type": "stream",
     "text": [
      "Number of columns in transformed training set: 136\n"
     ]
    }
   ],
   "source": [
    "print(f\"Number of columns in transformed training set: {len(X_important_train[0])}\")"
   ]
  },
  {
   "cell_type": "markdown",
   "id": "dc3dfd19",
   "metadata": {},
   "source": [
    "### Stratified K fold Cross Validation \n",
    "\n",
    "- K fold Cross Validation is a technique used to evaluate the performance of a machine learning or deep learning model in a robust way.\n",
    "- It splits the dataset into k parts/folds of approximately equal size. Each fold is chosen in turn for testing and the remaining parts for training.\n",
    "- This process is repeated k times and then the performance is measured as the mean across all the test sets.\n",
    "\n",
    "Stratified K fold CV uses stratified sampling. In our case, we use the \"test\" set in each fold as the validation set. This way, we can tune the hyperparameters to yield better classification results. Upon training, we run the model on unseen test set data which was prepared earlier. "
   ]
  },
  {
   "cell_type": "code",
   "execution_count": 9,
   "id": "f0ddc811",
   "metadata": {},
   "outputs": [],
   "source": [
    "def traditional_models_fold_trainer(model, x,y, name):\n",
    "    skf = StratifiedKFold(n_splits=10, shuffle=True, random_state=1)\n",
    "    scores = []\n",
    "    for train_index, test_index in skf.split(x, y):\n",
    "        x_train_fold, x_test_fold = x[train_index], x[test_index]\n",
    "        y_train_fold, y_test_fold = y[train_index], y[test_index]\n",
    "        model.fit(x_train_fold, y_train_fold)\n",
    "        scores.append(model.score(x_test_fold, y_test_fold))\n",
    "    print(f\"-------------------------{name}--------------------------------\")\n",
    "    print()\n",
    "    print('List of possible accuracy:', scores)\n",
    "    print(f\"\\nMaximum Accuracy That can be obtained from {name} is:\", max(scores)*100, '%')\n",
    "    print('\\nMinimum Accuracy:',min(scores)*100, '%')\n",
    "    print('\\nOverall Accuracy:',mean(scores)*100, '%')\n",
    "    print('\\nStandard Deviation is:', stdev(scores))\n",
    "    print(f\"---------------------------------------------------------------\")\n",
    "    print()"
   ]
  },
  {
   "cell_type": "markdown",
   "id": "dfc3b749",
   "metadata": {},
   "source": [
    "### SVM Classifier "
   ]
  },
  {
   "cell_type": "code",
   "execution_count": 10,
   "id": "1f3bd19b",
   "metadata": {},
   "outputs": [
    {
     "name": "stdout",
     "output_type": "stream",
     "text": [
      "-------------------------linearSVM--------------------------------\n",
      "\n",
      "List of possible accuracy: [0.9613899613899614, 0.9652509652509652, 0.963963963963964, 0.972972972972973, 0.954954954954955, 0.9588159588159588, 0.963963963963964, 0.9690721649484536, 0.9523195876288659, 0.9561855670103093]\n",
      "\n",
      "Maximum Accuracy That can be obtained from linearSVM is: 97.2972972972973 %\n",
      "\n",
      "Minimum Accuracy: 95.23195876288659 %\n",
      "\n",
      "Overall Accuracy: 96.1889006090037 %\n",
      "\n",
      "Standard Deviation is: 0.006465656966969198\n",
      "---------------------------------------------------------------\n",
      "\n",
      "-------------------------RBF--------------------------------\n",
      "\n",
      "List of possible accuracy: [0.918918918918919, 0.9266409266409267, 0.9253539253539254, 0.9330759330759331, 0.9163449163449163, 0.9163449163449163, 0.915057915057915, 0.913659793814433, 0.9188144329896907, 0.9201030927835051]\n",
      "\n",
      "Maximum Accuracy That can be obtained from RBF is: 93.30759330759331 %\n",
      "\n",
      "Minimum Accuracy: 91.3659793814433 %\n",
      "\n",
      "Overall Accuracy: 92.0431477132508 %\n",
      "\n",
      "Standard Deviation is: 0.0061083853900146725\n",
      "---------------------------------------------------------------\n",
      "\n",
      "-------------------------Poly--------------------------------\n",
      "\n",
      "List of possible accuracy: [0.9523809523809523, 0.9652509652509652, 0.9588159588159588, 0.9716859716859717, 0.9472329472329473, 0.9536679536679536, 0.9665379665379665, 0.9677835051546392, 0.9471649484536082, 0.9600515463917526]\n",
      "\n",
      "Maximum Accuracy That can be obtained from Poly is: 97.16859716859717 %\n",
      "\n",
      "Minimum Accuracy: 94.71649484536083 %\n",
      "\n",
      "Overall Accuracy: 95.90572715572716 %\n",
      "\n",
      "Standard Deviation is: 0.008729647139187358\n",
      "---------------------------------------------------------------\n",
      "\n",
      "-------------------------Sig--------------------------------\n",
      "\n",
      "List of possible accuracy: [0.7619047619047619, 0.7734877734877735, 0.7683397683397684, 0.7683397683397684, 0.7567567567567568, 0.7541827541827542, 0.7644787644787645, 0.7577319587628866, 0.7525773195876289, 0.7551546391752577]\n",
      "\n",
      "Maximum Accuracy That can be obtained from Sig is: 77.34877734877735 %\n",
      "\n",
      "Minimum Accuracy: 75.25773195876289 %\n",
      "\n",
      "Overall Accuracy: 76.12954265016121 %\n",
      "\n",
      "Standard Deviation is: 0.00711810172300388\n",
      "---------------------------------------------------------------\n",
      "\n"
     ]
    }
   ],
   "source": [
    "linear = svm.SVC(kernel='linear', C=1, decision_function_shape='ovo')\n",
    "rbf = svm.SVC(kernel='rbf', gamma=1, C=1, decision_function_shape='ovo')\n",
    "poly = svm.SVC(kernel='poly', degree=3, C=1, decision_function_shape='ovo')\n",
    "sig = svm.SVC(kernel='sigmoid', C=1, decision_function_shape='ovo')\n",
    "traditional_models_fold_trainer(linear,X_important_train, y, \"linearSVM\")\n",
    "traditional_models_fold_trainer(rbf,X_important_train, y, \"RBF\")\n",
    "traditional_models_fold_trainer(poly,X_important_train, y, \"Poly\")\n",
    "traditional_models_fold_trainer(sig,X_important_train, y, \"Sig\")"
   ]
  },
  {
   "cell_type": "markdown",
   "id": "a161a920",
   "metadata": {},
   "source": [
    "### Testing using the test set"
   ]
  },
  {
   "cell_type": "code",
   "execution_count": 11,
   "id": "5498a7b3",
   "metadata": {},
   "outputs": [],
   "source": [
    "linear_pred = linear.predict(X_important_test)\n",
    "poly_pred = poly.predict(X_important_test)\n",
    "rbf_pred = rbf.predict(X_important_test)\n",
    "sig_pred = sig.predict(X_important_test)"
   ]
  },
  {
   "cell_type": "code",
   "execution_count": 12,
   "id": "59f30eaf",
   "metadata": {},
   "outputs": [
    {
     "name": "stdout",
     "output_type": "stream",
     "text": [
      "Accuracy Linear Kernel: 0.91808981657179\n",
      "Accuracy Polynomial Kernel: 0.9174573055028463\n",
      "Accuracy Radial Basis Kernel: 0.8102466793168881\n",
      "Accuracy Sigmoid Kernel: 0.685325743200506\n"
     ]
    }
   ],
   "source": [
    "accuracy_lin = linear.score(X_important_test, y_t)\n",
    "accuracy_poly = poly.score(X_important_test, y_t)\n",
    "accuracy_rbf = rbf.score(X_important_test, y_t)\n",
    "accuracy_sig = sig.score(X_important_test, y_t)\n",
    "print(\"Accuracy Linear Kernel:\" , accuracy_lin)\n",
    "print(\"Accuracy Polynomial Kernel:\" , accuracy_poly)\n",
    "print(\"Accuracy Radial Basis Kernel:\" , accuracy_rbf)\n",
    "print(\"Accuracy Sigmoid Kernel:\" , accuracy_sig)"
   ]
  },
  {
   "cell_type": "markdown",
   "id": "2855f2a0",
   "metadata": {},
   "source": [
    "#### Evaluation of Linear Kernel"
   ]
  },
  {
   "cell_type": "code",
   "execution_count": 13,
   "id": "a575c1c3",
   "metadata": {},
   "outputs": [
    {
     "name": "stdout",
     "output_type": "stream",
     "text": [
      "Linear Kernel Confusion Matrix:\n",
      "\n",
      "\n",
      "[[495   1   0   0   0   0   0   0   0   0   0   0]\n",
      " [ 39 429   3   0   0   0   0   0   0   0   0   0]\n",
      " [  9  24 387   0   0   0   0   0   0   0   0   0]\n",
      " [  0   1   0 422  83   0   1   0   0   0   1   0]\n",
      " [  0   0   0  38 518   0   0   0   0   0   0   0]\n",
      " [  0   0   0   0   0 544   0   0   0   0   1   0]\n",
      " [  1   0   0   2   1   0  17   1   1   0   0   0]\n",
      " [  0   0   0   0   0   0   0  10   0   0   0   0]\n",
      " [  0   0   0   0   0   0   0   0  26   0   6   0]\n",
      " [  0   0   0   0   0   0   0   0   0  16   1   8]\n",
      " [  2   1   0   2   0   1   2   0  14   1  26   0]\n",
      " [  0   0   0   0   0   0   1   0   0  12   1  13]]\n",
      "\n",
      "\n",
      "Linear Kernel Classification Report:\n",
      "\n",
      "\n",
      "              precision    recall  f1-score   support\n",
      "\n",
      "           0       0.91      1.00      0.95       496\n",
      "           1       0.94      0.91      0.93       471\n",
      "           2       0.99      0.92      0.96       420\n",
      "           3       0.91      0.83      0.87       508\n",
      "           4       0.86      0.93      0.89       556\n",
      "           5       1.00      1.00      1.00       545\n",
      "           6       0.81      0.74      0.77        23\n",
      "           7       0.91      1.00      0.95        10\n",
      "           8       0.63      0.81      0.71        32\n",
      "           9       0.55      0.64      0.59        25\n",
      "          10       0.72      0.53      0.61        49\n",
      "          11       0.62      0.48      0.54        27\n",
      "\n",
      "    accuracy                           0.92      3162\n",
      "   macro avg       0.82      0.82      0.81      3162\n",
      "weighted avg       0.92      0.92      0.92      3162\n",
      "\n",
      "\n",
      "\n",
      "Linear Kernel Accuracy : 0.91808981657179\n",
      "\n",
      "\n"
     ]
    }
   ],
   "source": [
    "print(\"Linear Kernel Confusion Matrix:\")\n",
    "print(\"\\n\")\n",
    "print(confusion_matrix(y_t, linear_pred))\n",
    "print(\"\\n\")\n",
    "print(\"Linear Kernel Classification Report:\",)\n",
    "print(\"\\n\")\n",
    "print (classification_report(y_t, linear_pred))\n",
    "print(\"\\n\")\n",
    "print(\"Linear Kernel Accuracy :\", accuracy_score(y_t,linear_pred))\n",
    "print(\"\\n\")"
   ]
  },
  {
   "cell_type": "markdown",
   "id": "d499f45c",
   "metadata": {},
   "source": [
    "#### Evaluation of Polynomial Kernel"
   ]
  },
  {
   "cell_type": "code",
   "execution_count": 14,
   "id": "fae7aea7",
   "metadata": {},
   "outputs": [
    {
     "name": "stdout",
     "output_type": "stream",
     "text": [
      "Polynomial Kernel Confusion Matrix:\n",
      "\n",
      "\n",
      "[[493   0   3   0   0   0   0   0   0   0   0   0]\n",
      " [ 38 427   6   0   0   0   0   0   0   0   0   0]\n",
      " [ 10  26 384   0   0   0   0   0   0   0   0   0]\n",
      " [  0   1   0 425  78   0   2   0   0   0   2   0]\n",
      " [  0   0   0  34 522   0   0   0   0   0   0   0]\n",
      " [  0   0   0   0   0 545   0   0   0   0   0   0]\n",
      " [  0   3   0   2   1   0  14   1   1   0   1   0]\n",
      " [  0   0   0   0   0   0   2   8   0   0   0   0]\n",
      " [  0   0   0   0   0   0   0   0  29   0   3   0]\n",
      " [  0   0   0   0   0   0   0   0   1  16   0   8]\n",
      " [  2   2   0   2   0   0   2   0  14   2  25   0]\n",
      " [  0   0   0   0   0   0   0   0   0  10   4  13]]\n",
      "\n",
      "\n",
      "Polynomial Kernel Classification Report:\n",
      "\n",
      "\n",
      "              precision    recall  f1-score   support\n",
      "\n",
      "           0       0.91      0.99      0.95       496\n",
      "           1       0.93      0.91      0.92       471\n",
      "           2       0.98      0.91      0.94       420\n",
      "           3       0.92      0.84      0.88       508\n",
      "           4       0.87      0.94      0.90       556\n",
      "           5       1.00      1.00      1.00       545\n",
      "           6       0.70      0.61      0.65        23\n",
      "           7       0.89      0.80      0.84        10\n",
      "           8       0.64      0.91      0.75        32\n",
      "           9       0.57      0.64      0.60        25\n",
      "          10       0.71      0.51      0.60        49\n",
      "          11       0.62      0.48      0.54        27\n",
      "\n",
      "    accuracy                           0.92      3162\n",
      "   macro avg       0.81      0.79      0.80      3162\n",
      "weighted avg       0.92      0.92      0.92      3162\n",
      "\n",
      "\n",
      "\n",
      "Polynomial Kernel Accuracy : 0.9174573055028463\n",
      "\n",
      "\n"
     ]
    }
   ],
   "source": [
    "print(\"Polynomial Kernel Confusion Matrix:\")\n",
    "print(\"\\n\")\n",
    "print(confusion_matrix(y_t, poly_pred))\n",
    "print(\"\\n\")\n",
    "print(\"Polynomial Kernel Classification Report:\",)\n",
    "print(\"\\n\")\n",
    "print (classification_report(y_t, poly_pred))\n",
    "print(\"\\n\")\n",
    "print(\"Polynomial Kernel Accuracy :\", accuracy_score(y_t,poly_pred))\n",
    "print(\"\\n\")"
   ]
  },
  {
   "cell_type": "markdown",
   "id": "eb3e1628",
   "metadata": {},
   "source": [
    "### KNN classifier \n",
    "\n",
    "KNN believes that similar things are in close proximity of each other. Hence, if a datapoint is near to another datapoint, KNN assumes that they both belong to the same class."
   ]
  },
  {
   "cell_type": "code",
   "execution_count": 15,
   "id": "6b35c77e",
   "metadata": {},
   "outputs": [
    {
     "name": "stdout",
     "output_type": "stream",
     "text": [
      "-------------------------KNN--------------------------------\n",
      "\n",
      "List of possible accuracy: [0.9446589446589446, 0.9613899613899614, 0.9536679536679536, 0.9601029601029601, 0.9330759330759331, 0.9433719433719434, 0.9485199485199485, 0.9587628865979382, 0.9458762886597938, 0.9523195876288659]\n",
      "\n",
      "Maximum Accuracy That can be obtained from KNN is: 96.13899613899613 %\n",
      "\n",
      "Minimum Accuracy: 93.30759330759331 %\n",
      "\n",
      "Overall Accuracy: 95.01746407674243 %\n",
      "\n",
      "Standard Deviation is: 0.00885184335735973\n",
      "---------------------------------------------------------------\n",
      "\n"
     ]
    }
   ],
   "source": [
    "knn_clf=KNeighborsClassifier()\n",
    "traditional_models_fold_trainer(knn_clf,X_important_train, y, \"KNN\")"
   ]
  },
  {
   "cell_type": "markdown",
   "id": "b3d41cc3",
   "metadata": {},
   "source": [
    "#### Evaluation of KNN"
   ]
  },
  {
   "cell_type": "code",
   "execution_count": 16,
   "id": "36f9b849",
   "metadata": {},
   "outputs": [
    {
     "name": "stdout",
     "output_type": "stream",
     "text": [
      "KNN Confusion Matrix:\n",
      "\n",
      "\n",
      "[[474   9  13   0   0   0   0   0   0   0   0   0]\n",
      " [ 45 417   9   0   0   0   0   0   0   0   0   0]\n",
      " [ 22  58 340   0   0   0   0   0   0   0   0   0]\n",
      " [  0   3   0 392 113   0   0   0   0   0   0   0]\n",
      " [  1   0   0  39 516   0   0   0   0   0   0   0]\n",
      " [  0   0   0   0   0 543   0   0   0   2   0   0]\n",
      " [  1   3   0   2   0   0  16   0   1   0   0   0]\n",
      " [  0   1   0   0   0   0   2   7   0   0   0   0]\n",
      " [  0   0   0   0   0   0   0   0  29   0   3   0]\n",
      " [  0   0   0   0   0   0   0   0   1  17   0   7]\n",
      " [  3   5   0   2   0   2   1   0  18   0  18   0]\n",
      " [  1   0   0   0   0   0   0   0   1  10   1  14]]\n",
      "\n",
      "\n",
      "KNN Classification Report:\n",
      "\n",
      "\n",
      "              precision    recall  f1-score   support\n",
      "\n",
      "           0       0.87      0.96      0.91       496\n",
      "           1       0.84      0.89      0.86       471\n",
      "           2       0.94      0.81      0.87       420\n",
      "           3       0.90      0.77      0.83       508\n",
      "           4       0.82      0.93      0.87       556\n",
      "           5       1.00      1.00      1.00       545\n",
      "           6       0.84      0.70      0.76        23\n",
      "           7       1.00      0.70      0.82        10\n",
      "           8       0.58      0.91      0.71        32\n",
      "           9       0.59      0.68      0.63        25\n",
      "          10       0.82      0.37      0.51        49\n",
      "          11       0.67      0.52      0.58        27\n",
      "\n",
      "    accuracy                           0.88      3162\n",
      "   macro avg       0.82      0.77      0.78      3162\n",
      "weighted avg       0.88      0.88      0.88      3162\n",
      "\n",
      "\n",
      "\n",
      "KNN Accuracy: 0.8801391524351676\n",
      "\n",
      "\n"
     ]
    }
   ],
   "source": [
    "#These are the predicted output values\n",
    "ypred=knn_clf.predict(X_important_test) \n",
    "print(\"KNN Confusion Matrix:\")\n",
    "print(\"\\n\")\n",
    "print(confusion_matrix(y_t, ypred))\n",
    "print(\"\\n\")\n",
    "print(\"KNN Classification Report:\",)\n",
    "print(\"\\n\")\n",
    "print (classification_report(y_t, ypred))\n",
    "print(\"\\n\")\n",
    "print(\"KNN Accuracy:\", accuracy_score(y_t,ypred))\n",
    "print(\"\\n\")"
   ]
  },
  {
   "cell_type": "markdown",
   "id": "69e11e29",
   "metadata": {},
   "source": [
    "### Multi Layer Perceptron Model"
   ]
  },
  {
   "cell_type": "markdown",
   "id": "ab295d05",
   "metadata": {},
   "source": [
    "#### Defining the MLP model"
   ]
  },
  {
   "cell_type": "code",
   "execution_count": 17,
   "id": "baf30bba",
   "metadata": {},
   "outputs": [],
   "source": [
    "class Model(nn.Module):\n",
    "    def __init__(self, in_features, h1, h2, out_features=12):\n",
    "        super().__init__()\n",
    "        self.fc1 = nn.Linear(in_features,h1)    # input layer\n",
    "        self.fc2 = nn.Linear(h1, h2)            # hidden layer\n",
    "        self.out = nn.Linear(h2, out_features)  # output layer\n",
    "        \n",
    "    def forward(self, x):\n",
    "        x = F.relu(self.fc1(x))\n",
    "        x = F.relu(self.fc2(x))\n",
    "        x = self.out(x)\n",
    "        return x"
   ]
  },
  {
   "cell_type": "markdown",
   "id": "d12c79a3",
   "metadata": {},
   "source": [
    "#### Model Instantiation"
   ]
  },
  {
   "cell_type": "code",
   "execution_count": 18,
   "id": "e07a74d1",
   "metadata": {},
   "outputs": [],
   "source": [
    "# Instantiate the Model class using parameter defaults:\n",
    "torch.manual_seed(32)\n",
    "hidden_layer_1_nodes = 80\n",
    "hidden_layer_2_nodes = 40\n",
    "mlp = Model(in_features=len(X_important_train[0]), h1=hidden_layer_1_nodes, h2=hidden_layer_2_nodes)\n",
    "X_train = torch.FloatTensor(X_important_train)\n",
    "X_test = torch.FloatTensor(X_important_test)\n",
    "y_train = torch.LongTensor(y)\n",
    "y_test = torch.LongTensor(y_t)\n",
    "# trainloader = DataLoader(X_train, batch_size=60, shuffle=True)\n",
    "# testloader = DataLoader(X_test, batch_size=60, shuffle=False)\n",
    "# len(X_important_train[0])"
   ]
  },
  {
   "cell_type": "markdown",
   "id": "4bb49ece",
   "metadata": {},
   "source": [
    "#### Stratified K Fold Cross Validation & Model Training \n",
    "- We have `7767` rows of training data. Assuming `n` features are selected, we create an array of shape `7767 x n `  \n",
    "     - i.e. X_important_train\n",
    "- With SKF CV, each fold separates the `7767` rows of data into `q rows` for training and `r rows` for testing\n",
    "- x_train_fold is of shape `q x n` and x_test_fold is of shape `r x n`\n",
    "\n",
    "With each fold, we get a training set and validation set. For each epoch, we train the model in batches and validate in batches as specified by their respective batch sizes."
   ]
  },
  {
   "cell_type": "code",
   "execution_count": 19,
   "id": "90595777",
   "metadata": {},
   "outputs": [
    {
     "name": "stdout",
     "output_type": "stream",
     "text": [
      "-----------------------\n",
      "fold: 0 , training_loss: 0.04505455121397972\n",
      "fold: 0, 746 out of 777 = 96.01% correct\n",
      "-----------------------\n",
      "-----------------------\n",
      "fold: 1 , training_loss: 0.04576775059103966\n",
      "fold: 1, 754 out of 777 = 97.04% correct\n",
      "-----------------------\n",
      "-----------------------\n",
      "fold: 2 , training_loss: 0.029242822900414467\n",
      "fold: 2, 760 out of 777 = 97.81% correct\n",
      "-----------------------\n",
      "-----------------------\n",
      "fold: 3 , training_loss: 0.019988233223557472\n",
      "fold: 3, 769 out of 777 = 98.97% correct\n",
      "-----------------------\n",
      "-----------------------\n",
      "fold: 4 , training_loss: 0.005179093685001135\n",
      "fold: 4, 767 out of 777 = 98.71% correct\n",
      "-----------------------\n",
      "-----------------------\n",
      "fold: 5 , training_loss: 0.0007793913828209043\n",
      "fold: 5, 773 out of 777 = 99.49% correct\n",
      "-----------------------\n",
      "-----------------------\n",
      "fold: 6 , training_loss: 0.00013208533346187323\n",
      "fold: 6, 772 out of 777 = 99.36% correct\n",
      "-----------------------\n",
      "-----------------------\n",
      "fold: 7 , training_loss: 0.00014399860810954124\n",
      "fold: 7, 774 out of 776 = 99.74% correct\n",
      "-----------------------\n",
      "-----------------------\n",
      "fold: 8 , training_loss: 0.00011768667172873393\n",
      "fold: 8, 771 out of 776 = 99.36% correct\n",
      "-----------------------\n",
      "-----------------------\n",
      "fold: 9 , training_loss: 0.00016979985230136663\n",
      "fold: 9, 772 out of 776 = 99.48% correct\n",
      "-----------------------\n",
      "\n",
      "Done Training\n",
      "Max Validation Accuracy:  99.74226804123711\n"
     ]
    }
   ],
   "source": [
    "k = 10       \n",
    "skfcv = StratifiedKFold(n_splits=k, shuffle=True, random_state=1)\n",
    "epochs = 100\n",
    "criterion = nn.CrossEntropyLoss()\n",
    "optimizer = torch.optim.Adam(mlp.parameters(), lr=0.01)\n",
    "training_loss = {}\n",
    "train_batch_size = 250\n",
    "test_batch_size = 60\n",
    "val_acc = []\n",
    "# per fold \n",
    "for fold, (train_index, test_index) in enumerate(skfcv.split(X_train, y_train)):\n",
    "    x_train_fold, x_test_fold = X_train[train_index], X_train[test_index]\n",
    "    y_train_fold, y_test_fold = y_train[train_index], y_train[test_index]\n",
    "    train_combined = TensorDataset(x_train_fold, y_train_fold)\n",
    "    test_combined = TensorDataset(x_test_fold, y_test_fold)\n",
    "    trainloader = DataLoader(train_combined, batch_size=train_batch_size, shuffle=True)\n",
    "    testloader = DataLoader(test_combined, batch_size=test_batch_size, shuffle=False)\n",
    "    # per epoch\n",
    "    for i in range(epochs): \n",
    "        i+=1\n",
    "        # per batch \n",
    "        losses = [] \n",
    "        val_correct_preds = 0\n",
    "        count = 0 \n",
    "        for batch_idx, (data, target) in enumerate(trainloader):\n",
    "            mlp.train()\n",
    "             \n",
    "            # training \n",
    "            y_pred = mlp.forward(data)\n",
    "            loss = criterion(y_pred, target)\n",
    "            losses.append(loss)\n",
    "            \n",
    "            # backtracking \n",
    "            optimizer.zero_grad()\n",
    "            loss.backward()\n",
    "            optimizer.step() \n",
    "        \n",
    "        # validating \n",
    "        with torch.no_grad():\n",
    "            mlp.eval()\n",
    "            for val_batch_idx, (val_data, val_target) in enumerate(testloader):\n",
    "                y_out = mlp.forward(val_data)\n",
    "#                 print(y_out.shape[0])\n",
    "                for row in range(y_out.shape[0]):\n",
    "#                     print(\"predicted:\" , y_out[row].argmax())\n",
    "#                     print(\"actual: \", val_target[row])\n",
    "                    if y_out[row].argmax() == val_target[row]:\n",
    "                        val_correct_preds += 1\n",
    "                    count += 1\n",
    "\n",
    "            \n",
    "    # per fold         \n",
    "    with torch.no_grad():\n",
    "        training_loss[fold] = np.array(losses).mean()\n",
    "        print(\"-----------------------\")\n",
    "        print(f\"fold: {fold} , training_loss: {training_loss[fold]}\")\n",
    "        print(f\"fold: {fold}, {val_correct_preds} out of {count} = {100*val_correct_preds/count:.2f}% correct\")\n",
    "        print(\"-----------------------\")\n",
    "        val_acc.append(100*val_correct_preds/count)\n",
    "        count = 0\n",
    "\n",
    "print()\n",
    "print(\"Done Training\")\n",
    "print(\"Max Validation Accuracy: \",  np.array(val_acc).max())"
   ]
  },
  {
   "cell_type": "code",
   "execution_count": 20,
   "id": "7037a61e",
   "metadata": {},
   "outputs": [],
   "source": [
    "#         if i%10 == 1:\n",
    "#             print(\"epoch: \" , i)\n",
    "#             if i%10 == 1:\n",
    "#             print(f'batch: {batch_idx:2} epoch: {i:2}  loss: {loss.item():10.8f}')\n",
    "\n",
    "#             if batch_idx %100 == 1:\n",
    "#             print(\"         batch_idx: \" ,batch_idx)\n",
    "#             print(f\"predicted : {y_pred}, actual : {target}\")\n",
    "\n",
    "#     print(x_train_fold.shape)\n",
    "#     train_stacked = torch.from_numpy(np.c_[(x_train_fold.numpy(),y_train_fold.numpy())])\n",
    "#     test_stacked = torch.from_numpy(np.c_[(x_test_fold.numpy(),y_test_fold.numpy())])\n",
    "#     print(test_stacked.shape)\n",
    "\n",
    "#         dataloader_iterator = iter(testloader)\n",
    "#             try:\n",
    "#                 valdata, expectedOut = next(dataloader_iterator)\n",
    "#             except StopIteration:\n",
    "#                 dataloader_iterator = iter(testloader)\n",
    "#                 valdata, expectedOut = next(dataloader_iterator)\n",
    "\n",
    "\n",
    "#  print(\"out of mlp \", y_out.shape)\n",
    "#             print(\"expected out: \" , val_target[val_batch_idx])\n",
    "#             print(\"predicted output: \", y_out[batch_idx].argmax())\n",
    "#             print(\"entire batch target : \", val_target.shape)\n",
    "\n",
    "#  print(\"batch idx: \", val_batch_idx)"
   ]
  },
  {
   "cell_type": "markdown",
   "id": "1b71c1d6",
   "metadata": {},
   "source": [
    "#### Mean Training Loss per fold "
   ]
  },
  {
   "cell_type": "code",
   "execution_count": 21,
   "id": "ddd1dbda",
   "metadata": {},
   "outputs": [
    {
     "data": {
      "image/png": "[encoded data removed]",
      "text/plain": [
       "<Figure size 432x288 with 1 Axes>"
      ]
     },
     "metadata": {
      "needs_background": "light"
     },
     "output_type": "display_data"
    }
   ],
   "source": [
    "# splits=KFold(n_splits=10,shuffle=True,random_state=42)\n",
    "# for fold, (train_idx,val_idx) in enumerate(splits.split(np.arange(len(trainloader)))):\n",
    "with torch.no_grad():\n",
    "    y_axis  = training_loss.values()\n",
    "    plt.plot(range(10), y_axis)\n",
    "    plt.ylabel('Mean Loss per fold')\n",
    "    plt.xlabel('Folds')  \n",
    "    "
   ]
  },
  {
   "cell_type": "markdown",
   "id": "20cf0bee",
   "metadata": {},
   "source": [
    "### Evaluation of MLP "
   ]
  },
  {
   "cell_type": "markdown",
   "id": "720a4acc",
   "metadata": {},
   "source": [
    "#### Running the model on unseen, test data set"
   ]
  },
  {
   "cell_type": "code",
   "execution_count": 22,
   "id": "b6b3f0b9",
   "metadata": {},
   "outputs": [
    {
     "name": "stdout",
     "output_type": "stream",
     "text": [
      "--- 0.02405095100402832 execution time in seconds ---\n",
      "Loss with test set : 1.51632404\n"
     ]
    }
   ],
   "source": [
    "# TO EVALUATE THE ENTIRE TEST SET\n",
    "with torch.no_grad():\n",
    "    start_time = time.time()\n",
    "    y_val = mlp.forward(X_test)\n",
    "    print(\"--- %s execution time in seconds ---\" % (time.time() - start_time))\n",
    "    loss = criterion(y_val, y_test)\n",
    "    print(f'Loss with test set : {loss:.8f}')"
   ]
  },
  {
   "cell_type": "code",
   "execution_count": 23,
   "id": "6050acf8",
   "metadata": {},
   "outputs": [
    {
     "name": "stdout",
     "output_type": "stream",
     "text": [
      "\n",
      "2866 out of 3162 = 90.64% correct\n"
     ]
    }
   ],
   "source": [
    "with torch.no_grad():\n",
    "    preds = []\n",
    "    correct = 0\n",
    "    for i,data in enumerate(X_test):\n",
    "        y_val = mlp.forward(data)\n",
    "#         print(f'{i+1:2}. {str(y_val):38}  {y_test[i]}')\n",
    "#         print(y_val.argmax().item(),y_test[i], y_val.argmax() )\n",
    "        preds.append(y_val.argmax().item())\n",
    "        if y_val.argmax().item() == y_test[i]:\n",
    "            correct += 1\n",
    "    print(f'\\n{correct} out of {len(y_test)} = {100*correct/len(y_test):.2f}% correct')\n",
    "    y_preds = torch.tensor(preds, dtype = torch.int64)\n",
    "    stacked = torch.stack((y_test,y_preds),dim=1)\n",
    "#     print(stacked.shape)\n",
    "#     print(stacked)\n",
    "    cmt = torch.zeros(12,12, dtype=torch.int64)\n",
    "    for p in stacked:\n",
    "        tl, pl = p.tolist()\n",
    "#         print(tl,pl)\n",
    "        cmt[tl, pl] = cmt[tl, pl] + 1   \n",
    "#     print(cmt)"
   ]
  },
  {
   "cell_type": "code",
   "execution_count": 24,
   "id": "0043bb85",
   "metadata": {},
   "outputs": [
    {
     "name": "stdout",
     "output_type": "stream",
     "text": [
      "Confusion matrix, without normalization\n",
      "tensor([[487,   3,   5,   0,   0,   0,   0,   0,   0,   0,   1,   0],\n",
      "        [ 51, 409,  10,   0,   0,   0,   1,   0,   0,   0,   0,   0],\n",
      "        [  9,  26, 385,   0,   0,   0,   0,   0,   0,   0,   0,   0],\n",
      "        [  0,   0,   0, 438,  69,   0,   0,   1,   0,   0,   0,   0],\n",
      "        [  2,   0,   0,  58, 495,   0,   0,   1,   0,   0,   0,   0],\n",
      "        [  0,   0,   0,   0,   0, 542,   0,   0,   0,   1,   2,   0],\n",
      "        [  2,   2,   0,   1,   0,   0,  13,   4,   1,   0,   0,   0],\n",
      "        [  0,   0,   0,   0,   1,   0,   0,   9,   0,   0,   0,   0],\n",
      "        [  0,   0,   0,   1,   0,   0,   0,   0,  24,   0,   7,   0],\n",
      "        [  0,   0,   0,   1,   0,   0,   0,   0,   0,  14,   1,   9],\n",
      "        [  3,   0,   0,   2,   0,   1,   1,   1,  10,   1,  30,   0],\n",
      "        [  0,   0,   0,   0,   0,   0,   0,   0,   1,   4,   2,  20]])\n"
     ]
    },
    {
     "data": {
      "image/png": "[encoded data removed]",
      "text/plain": [
       "<Figure size 864x864 with 2 Axes>"
      ]
     },
     "metadata": {
      "needs_background": "light"
     },
     "output_type": "display_data"
    }
   ],
   "source": [
    "plt.figure(figsize=(12,12))\n",
    "plot_confusion_matrix(cmt, labels)"
   ]
  },
  {
   "cell_type": "code",
   "execution_count": 25,
   "id": "e9079f3b",
   "metadata": {
    "scrolled": true
   },
   "outputs": [
    {
     "name": "stdout",
     "output_type": "stream",
     "text": [
      "Classification Report for MLP :\n",
      "              precision    recall  f1-score   support\n",
      "\n",
      "           0       0.88      0.98      0.93       496\n",
      "           1       0.93      0.87      0.90       471\n",
      "           2       0.96      0.92      0.94       420\n",
      "           3       0.87      0.86      0.87       508\n",
      "           4       0.88      0.89      0.88       556\n",
      "           5       1.00      0.99      1.00       545\n",
      "           6       0.87      0.57      0.68        23\n",
      "           7       0.56      0.90      0.69        10\n",
      "           8       0.67      0.75      0.71        32\n",
      "           9       0.70      0.56      0.62        25\n",
      "          10       0.70      0.61      0.65        49\n",
      "          11       0.69      0.74      0.71        27\n",
      "\n",
      "    accuracy                           0.91      3162\n",
      "   macro avg       0.81      0.80      0.80      3162\n",
      "weighted avg       0.91      0.91      0.91      3162\n",
      "\n"
     ]
    }
   ],
   "source": [
    "print(\"Classification Report for MLP :\")\n",
    "print(classification_report(y_test, y_preds))"
   ]
  },
  {
   "cell_type": "code",
   "execution_count": 26,
   "id": "71b91a19",
   "metadata": {},
   "outputs": [
    {
     "name": "stdout",
     "output_type": "stream",
     "text": [
      "dict_keys(['fc1.weight', 'fc1.bias', 'fc2.weight', 'fc2.bias', 'out.weight', 'out.bias'])\n",
      "fc1.weight : 80 neurons in fc1.weight layer\n",
      " number of connections  : 80 * 136 = 10880 \n",
      "fc1.bias : 80 neurons in fc1.bias layer\n",
      " number of connections  : 80 * 1 = 80 \n",
      "fc2.weight : 40 neurons in fc2.weight layer\n",
      " number of connections  : 40 * 80 = 3200 \n",
      "fc2.bias : 40 neurons in fc2.bias layer\n",
      " number of connections  : 40 * 1 = 40 \n",
      "out.weight : 12 neurons in out.weight layer\n",
      " number of connections  : 12 * 40 = 480 \n",
      "out.bias : 12 neurons in out.bias layer\n",
      " number of connections  : 12 * 1 = 12 \n"
     ]
    }
   ],
   "source": [
    "# model weights \n",
    "with torch.no_grad():\n",
    "    mlp_params = {}\n",
    "    for name, param in mlp.named_parameters():\n",
    "#         print(name,param)\n",
    "        mlp_params[name] = param.numpy().copy().tolist()\n",
    "print(mlp_params.keys())\n",
    "for key in mlp_params.keys(): \n",
    "    print(f\"{key} : {len(mlp_params[key])} neurons in {key} layer\")\n",
    "    print(f\" number of connections  : {len(mlp_params[key])} * {np.asarray(mlp_params[key][len(mlp_params[key]) -1]).size} = {len(mlp_params[key]) * np.asarray(mlp_params[key][len(mlp_params[key]) -1]).size } \")\n",
    " "
   ]
  },
  {
   "cell_type": "markdown",
   "id": "27e18642",
   "metadata": {},
   "source": [
    "### Save MLP model "
   ]
  },
  {
   "cell_type": "code",
   "execution_count": 27,
   "id": "4dde1b05",
   "metadata": {},
   "outputs": [],
   "source": [
    "torch.save(mlp.state_dict(), 'MLPW7.pt')"
   ]
  },
  {
   "cell_type": "markdown",
   "id": "489d0bb2",
   "metadata": {},
   "source": [
    "### Load MLP model and run on test set  "
   ]
  },
  {
   "cell_type": "code",
   "execution_count": 28,
   "id": "c75f4a1f",
   "metadata": {},
   "outputs": [
    {
     "data": {
      "text/plain": [
       "Model(\n",
       "  (fc1): Linear(in_features=136, out_features=80, bias=True)\n",
       "  (fc2): Linear(in_features=80, out_features=40, bias=True)\n",
       "  (out): Linear(in_features=40, out_features=12, bias=True)\n",
       ")"
      ]
     },
     "execution_count": 28,
     "metadata": {},
     "output_type": "execute_result"
    }
   ],
   "source": [
    "loaded_model = Model(in_features=len(X_important_test[0]),h1=80, h2=40)\n",
    "loaded_model.load_state_dict(torch.load('MLPW7.pt'))\n",
    "loaded_model.eval()"
   ]
  },
  {
   "cell_type": "code",
   "execution_count": 29,
   "id": "de102d30",
   "metadata": {},
   "outputs": [
    {
     "name": "stdout",
     "output_type": "stream",
     "text": [
      "1.51632404\n"
     ]
    }
   ],
   "source": [
    "with torch.no_grad():\n",
    "    y_val = loaded_model.forward(X_test)\n",
    "    loss = criterion(y_val, y_test)\n",
    "print(f'{loss:.8f}')"
   ]
  },
  {
   "cell_type": "markdown",
   "id": "af6278a3",
   "metadata": {},
   "source": [
    "### Applying model on a random sample in the test dataset"
   ]
  },
  {
   "cell_type": "code",
   "execution_count": 30,
   "id": "771d307c",
   "metadata": {},
   "outputs": [
    {
     "data": {
      "text/plain": [
       "tensor([-0.9898, -0.9899, -0.7945, -0.9999, -0.6993,  0.0367, -0.4355, -0.4319,\n",
       "         0.9593,  0.2223, -0.9844, -0.9854, -0.4919,  0.9092,  0.2206, -0.3906,\n",
       "         0.9658,  0.2201, -0.4497, -0.9981,  0.8420, -0.9073, -0.5317, -0.4323,\n",
       "        -0.9366,  0.9386, -0.9406,  0.9427, -0.8492,  0.8599, -0.8710,  0.8818,\n",
       "        -0.5186,  0.5171, -0.5155,  0.5129, -0.2644, -0.9931, -0.9931, -0.9844,\n",
       "        -0.9930, -0.9937, -0.9999, -0.9915, -0.9829, -0.7378, -0.9747, -0.9754,\n",
       "        -0.9719, -0.8905,  0.8516, -0.9808, -0.9712,  0.0870, -0.1575, -0.9916,\n",
       "        -0.9959, -0.9922, -0.9961, -0.9951, -0.9925, -0.9954, -0.9964, -0.7931,\n",
       "        -0.9874, -0.9894, -0.9915, -0.9830,  0.0033,  0.0151, -0.9894, -0.9915,\n",
       "        -0.9830, -0.9874,  0.0033,  0.0151, -0.9941, -0.9941, -0.9999, -0.9951,\n",
       "        -0.9951, -0.9951, -0.6766, -0.9926, -0.9882, -0.9864, -0.9907, -0.9999,\n",
       "        -0.0713, -0.9999, -0.9999, -0.9999, -0.9999, -0.9936, -0.9931, -0.9872,\n",
       "        -0.9909, -0.9939, -0.9956, -0.9933, -0.9999, -0.9998, -0.9901, -1.0000,\n",
       "        -0.3200, -1.0000, -1.0000, -1.0000, -0.9999, -0.9999, -0.9998, -0.9998,\n",
       "        -0.9722, -0.9755, -0.9732, -0.9627, -0.9996, -0.6020, -1.0000, -1.0000,\n",
       "        -1.0000, -0.0737, -0.9996, -0.9996, -0.9996, -0.9971, -0.9887, -0.9895,\n",
       "        -0.9855, -0.9887, -0.9999, -0.9878,  0.0385,  0.5565, -0.8528, -0.1313])"
      ]
     },
     "execution_count": 30,
     "metadata": {},
     "output_type": "execute_result"
    }
   ],
   "source": [
    "random.seed(22)\n",
    "random_int = random.randint(0, len(X_important_test))\n",
    "random_input = torch.FloatTensor(X_important_test[random_int])\n",
    "random_input"
   ]
  },
  {
   "cell_type": "code",
   "execution_count": 31,
   "id": "8f5ebd1c",
   "metadata": {},
   "outputs": [
    {
     "name": "stdout",
     "output_type": "stream",
     "text": [
      "tensor([-246.5458, -551.3735, -305.7671,  -38.1000, -146.0035,  219.7245,\n",
      "        -195.9030, -471.0799,  -85.1350,   -3.7989, -281.5716,   47.2917])\n",
      "\n",
      "tensor(219.7245)\n",
      "5\n",
      "Predicted Output: LAYING\n",
      "Actual Output: LAYING\n"
     ]
    }
   ],
   "source": [
    "with torch.no_grad():\n",
    "    print(loaded_model(random_input))\n",
    "    print()\n",
    "    print(loaded_model(random_input).max())\n",
    "    print(loaded_model(random_input).argmax().item())\n",
    "    print(f\"Predicted Output: {map_num_to_activity[loaded_model(random_input).argmax().item()]}\")\n",
    "    print(f\"Actual Output: {map_num_to_activity[y_test[random_int].item()]}\")"
   ]
  },
  {
   "cell_type": "code",
   "execution_count": 32,
   "id": "645712e2",
   "metadata": {},
   "outputs": [],
   "source": [
    "with open('mlp.csv', 'w') as csv_file:  \n",
    "    writer = csv.writer(csv_file)\n",
    "    for key, value in mlp_params.items():\n",
    "       writer.writerow([key, value])"
   ]
  }
 ],
 "metadata": {
  "kernelspec": {
   "display_name": "pytorch_env",
   "language": "python",
   "name": "pytorch_env"
  },
  "language_info": {
   "codemirror_mode": {
    "name": "ipython",
    "version": 3
   },
   "file_extension": ".py",
   "mimetype": "text/x-python",
   "name": "python",
   "nbconvert_exporter": "python",
   "pygments_lexer": "ipython3",
   "version": "3.9.6"
  }
 },
 "nbformat": 4,
 "nbformat_minor": 5
}
