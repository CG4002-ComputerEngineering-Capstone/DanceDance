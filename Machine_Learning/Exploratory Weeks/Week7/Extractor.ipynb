{
 "cells": [
  {
   "cell_type": "code",
   "execution_count": 28,
   "id": "ddc87f76",
   "metadata": {},
   "outputs": [],
   "source": [
    "import numpy as np\n",
    "import scipy as sp\n",
    "import pandas as pd\n",
    "from glob import glob\n",
    "import matplotlib.pyplot as plt\n",
    "from scipy import stats\n",
    "%matplotlib inline\n",
    "plt.style.use('ggplot') \n",
    "from IPython.display import display, HTML\n",
    "\n",
    "from sklearn import metrics\n",
    "from sklearn.metrics import classification_report\n",
    "from sklearn import preprocessing"
   ]
  },
  {
   "cell_type": "code",
   "execution_count": 29,
   "id": "45973cf1",
   "metadata": {},
   "outputs": [],
   "source": [
    "def loadDataFiles(folderPath):\n",
    "    \"\"\"Takes folderPath as a param. \n",
    "       Returns all files inside as a list.\n",
    "    \"\"\"\n",
    "    dataFiles = sorted(glob(folderPath))\n",
    "    return dataFiles"
   ]
  },
  {
   "cell_type": "code",
   "execution_count": 30,
   "id": "14b74502",
   "metadata": {},
   "outputs": [],
   "source": [
    "def lookUp(dframe,sub,trialNum, dance):\n",
    "    \"\"\"Takes dataframe, subject, trialNumber and danceMove.\n",
    "       Returns the dataframe under consideration.\n",
    "    \"\"\"\n",
    "    df_considered = dframe[(dframe[\"subject\"] == sub) & (dframe[\"trial\"] == trialNum) & (dframe[\"target\"] == dance)]\n",
    "    return df_considered\n"
   ]
  },
  {
   "cell_type": "code",
   "execution_count": 31,
   "id": "075aa412",
   "metadata": {},
   "outputs": [],
   "source": [
    "def encodeActivityName(df, activityColumnName, label):\n",
    "    \"\"\"Takes dframe, activityColumnName \n",
    "       and desired label for encoded activityName.\n",
    "       Function adds a new column as per label to the dframe.\n",
    "       No return value. \n",
    "    \"\"\"\n",
    "    le = preprocessing.LabelEncoder()\n",
    "    df[label] = le.fit_transform(df[activityColumnName].values.ravel())\n",
    "    print(le.classes_.size)\n",
    "    print(list(le.classes_))\n",
    "    "
   ]
  },
  {
   "cell_type": "code",
   "execution_count": 32,
   "id": "d83a6f4b",
   "metadata": {},
   "outputs": [],
   "source": [
    "def normaliseData(dframe, columnNames):\n",
    "    \"\"\"\n",
    "    Takes in dframe and list of columns to be normalised. \n",
    "    Normalize features for training data set (values between 0 and 1).\n",
    "    Columns rounded to 4dp after normalisation. \n",
    "    No return value\n",
    "    \"\"\"\n",
    "    pd.options.mode.chained_assignment = None  # default='warn'\n",
    "    for col in columnNames:\n",
    "        dframe[col] = dframe[col] / dframe[col].max()\n",
    "        dframe[col] = dframe[col].round(4)"
   ]
  },
  {
   "cell_type": "code",
   "execution_count": 33,
   "id": "0b9c6414",
   "metadata": {},
   "outputs": [],
   "source": [
    "def segmentation(df,samplingFreq,window,overlap,encodedTargetColumn):\n",
    "    \"\"\"\n",
    "    Takes df, samplingFreq, window,overlap, encodedTargetColumn,where\n",
    "    samplingFreq in Hz\n",
    "    window = the time interval of one window in seconds,\n",
    "    overlap = num of steps to take from one segment/window to the next\n",
    "    \"\"\"\n",
    "#     window size = nrows = Sampling freq(Hz) * window(secs)\n",
    "#     if overlap = nrows, then there is no overlap bewteen segments,\n",
    "#     if accx,y,z and gyrox,y,z => 6 as numOfAxis. \n",
    "\n",
    "    numOfAxis = 6\n",
    "    segments = []\n",
    "    labels = []\n",
    "    nrows = samplingFreq * window\n",
    "    for i in range(0, len(df) - nrows, overlap):\n",
    "        ax = df[\"ax\"].values[i:i+nrows]\n",
    "        ay = df[\"ay\"].values[i:i+nrows]\n",
    "        az = df[\"az\"].values[i:i+nrows]\n",
    "        gx = df[\"gx\"].values[i:i+nrows]\n",
    "        gy = df[\"gy\"].values[i:i+nrows]\n",
    "        gz = df[\"gz\"].values[i:i+nrows]\n",
    "        \n",
    "        # retrieve the most used label in this segment \n",
    "        label = stats.mode(df[encodedTargetColumn][i:i+nrows])[0][0]\n",
    "        # each segment appended represents a window's values for each of \n",
    "        # the axial values\n",
    "        segments.append([ax,ay,az,gx,gy,gz])\n",
    "        labels.append(label)\n",
    "    \n",
    "    reshaped_segments = np.asarray(segments,dtype =np.float32).reshape(-1,nrows,numOfAxis)\n",
    "    labels = np.asarray(labels)\n",
    "    \n",
    "    # reshaped_segments will be x and labels will be y \n",
    "    return reshaped_segments, labels"
   ]
  },
  {
   "cell_type": "code",
   "execution_count": 34,
   "id": "8a029418",
   "metadata": {},
   "outputs": [],
   "source": [
    "def getInputVector(reshapedSegments, samplingFreq, window, numOfAxis):\n",
    "    input_features = samplingFreq * window * numOfAxis\n",
    "    inputVector = reshapedSegments.reshape(reshapedSegments.shape[0], input_features)\n",
    "    return inputVector.astype(\"float32\")\n",
    "    "
   ]
  },
  {
   "cell_type": "code",
   "execution_count": 35,
   "id": "6d0b4253",
   "metadata": {},
   "outputs": [],
   "source": [
    "def oneHotTarget(y_train,num_classes):\n",
    "    y_train_hot = np.utils.to_categorical(y_train,num_classes)\n",
    "    return y_train_hot"
   ]
  },
  {
   "cell_type": "code",
   "execution_count": null,
   "id": "db47295e",
   "metadata": {},
   "outputs": [],
   "source": []
  }
 ],
 "metadata": {
  "kernelspec": {
   "display_name": "pytorch_env",
   "language": "python",
   "name": "pytorch_env"
  },
  "language_info": {
   "codemirror_mode": {
    "name": "ipython",
    "version": 3
   },
   "file_extension": ".py",
   "mimetype": "text/x-python",
   "name": "python",
   "nbconvert_exporter": "python",
   "pygments_lexer": "ipython3",
   "version": "3.9.6"
  }
 },
 "nbformat": 4,
 "nbformat_minor": 5
}
