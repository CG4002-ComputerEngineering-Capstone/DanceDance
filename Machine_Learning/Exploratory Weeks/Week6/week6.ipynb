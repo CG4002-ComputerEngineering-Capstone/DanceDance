{
 "cells": [
  {
   "cell_type": "markdown",
   "id": "9530ceac",
   "metadata": {},
   "source": [
    "## Individual Subcomponent Test for ML - Week 6\n",
    "\n",
    "#### Dataset : https://archive.ics.uci.edu/ml/datasets/Smartphone-Based+Recognition+of+Human+Activities+and+Postural+Transitions\n",
    "\n",
    "`30` subjects & `12` activities.\n",
    "3-axial linear acceleration and 3-axial angular velocity at a constant rate of `50Hz` using the embedded accelerometer and gyroscope of the device. \n",
    "\n",
    "The obtained dataset was randomly partitioned into two sets, where `70%` of the volunteers was selected for generating the `training data` and `30%` the `test data`.\n",
    "\n",
    "- The sensor signals (accelerometer and gyroscope) were pre-processed by applying noise filters and then sampled in fixed-width `sliding windows of 2.56 sec` and `50% overlap (128 readings/window)`. \n",
    "- The sensor acceleration signal, which has gravitational and body motion components, was separated using a Butterworth low-pass filter into body acceleration and gravity. \n",
    "- The gravitational force is assumed to have only low frequency components, therefore a filter with 0.3 Hz cutoff frequency was used. \n",
    "- From `each window`, a vector of `561 features` was obtained by calculating variables from the time and frequency domain. \n",
    "\n",
    "#### Libraries used : \n",
    "- scikit-learn\n",
    "- pytorch\n",
    "\n",
    "#### References : \n",
    "- https://www.analyticsvidhya.com/blog/2020/10/a-comprehensive-guide-to-feature-selection-using-wrapper-methods-in-python/\n",
    "- https://chrisalbon.com/code/machine_learning/trees_and_forests/feature_selection_using_random_forest/\n",
    "- https://deeplizard.com/learn/video/0LhiS6yu2qQ\n",
    "- https://towardsdatascience.com/pytorch-tabular-multiclass-classification-9f8211a123ab\n",
    "- https://towardsdatascience.com/multiclass-classification-using-k-nearest-neighbours-ca5281a9ef76\n",
    "\n",
    "\n",
    "\n"
   ]
  },
  {
   "cell_type": "code",
   "execution_count": 1,
   "id": "36692c9f",
   "metadata": {},
   "outputs": [],
   "source": [
    "import torch\n",
    "import torch.nn as nn\n",
    "import torch.nn.functional as F\n",
    "from torch.utils.data import Dataset, DataLoader\n",
    "from sklearn.model_selection import train_test_split\n",
    "from sklearn.ensemble import RandomForestClassifier\n",
    "from sklearn import svm\n",
    "from sklearn.neighbors import KNeighborsClassifier\n",
    "from sklearn.feature_selection import SelectFromModel\n",
    "from sklearn.metrics import confusion_matrix,classification_report\n",
    "from sklearn.metrics import accuracy_score, precision_score, recall_score, f1_score\n",
    "import random\n",
    "import csv\n",
    "\n",
    "import numpy as np\n",
    "import pandas as pd\n",
    "import matplotlib.pyplot as plt\n",
    "import itertools\n",
    "import seaborn as sn\n",
    "plt.style.use('ggplot')\n",
    "sn.set_style(\"whitegrid\")\n",
    "%matplotlib inline"
   ]
  },
  {
   "cell_type": "code",
   "execution_count": 2,
   "id": "957c8921",
   "metadata": {},
   "outputs": [
    {
     "name": "stdout",
     "output_type": "stream",
     "text": [
      "labels : ['WALKING' 'WALKING_UPSTAIRS' 'WALKING_DOWNSTAIRS' 'SITTING' 'STANDING'\n",
      " 'LAYING' 'STAND_TO_SIT' 'SIT_TO_STAND' 'SIT_TO_LIE' 'LIE_TO_SIT'\n",
      " 'STAND_TO_LIE' 'LIE_TO_STAND']\n",
      "activity_num : [ 0  1  2  3  4  5  6  7  8  9 10 11]\n",
      "Total number of training feature columns : 561\n"
     ]
    },
    {
     "data": {
      "text/plain": [
       "{0: 'WALKING',\n",
       " 1: 'WALKING_UPSTAIRS',\n",
       " 2: 'WALKING_DOWNSTAIRS',\n",
       " 3: 'SITTING',\n",
       " 4: 'STANDING',\n",
       " 5: 'LAYING',\n",
       " 6: 'STAND_TO_SIT',\n",
       " 7: 'SIT_TO_STAND',\n",
       " 8: 'SIT_TO_LIE',\n",
       " 9: 'LIE_TO_SIT',\n",
       " 10: 'STAND_TO_LIE',\n",
       " 11: 'LIE_TO_STAND'}"
      ]
     },
     "execution_count": 2,
     "metadata": {},
     "output_type": "execute_result"
    }
   ],
   "source": [
    "# Read in activity num & labels as a df\n",
    "activity_label_df = pd.read_csv('../data2/HAPT Data Set/activity_labels.txt',delim_whitespace=True, header=None)\n",
    "activity_num = np.arange(0,12)\n",
    "labels = np.array(activity_label_df[1])\n",
    "print(f\"labels : {labels}\")\n",
    "print(f\"activity_num : {activity_num}\")\n",
    "\n",
    "# Read in features extracted as a df \n",
    "features_df = pd.read_csv('../data2/HAPT Data Set/features.txt',delim_whitespace=True, header=None)\n",
    "features = np.array(features_df[0])\n",
    "# print(f\"features : {features}\")\n",
    "print(f\"Total number of training feature columns : {features.size}\")\n",
    "\n",
    "# create map of activity num to activity name \n",
    "map_num_to_activity = {}\n",
    "for i,num in enumerate(activity_num):\n",
    "    map_num_to_activity[num] = labels[i]\n",
    "map_num_to_activity"
   ]
  },
  {
   "cell_type": "markdown",
   "id": "e2d55a53",
   "metadata": {},
   "source": [
    "### Load Training Set "
   ]
  },
  {
   "cell_type": "code",
   "execution_count": 3,
   "id": "44ebe705",
   "metadata": {},
   "outputs": [
    {
     "name": "stdout",
     "output_type": "stream",
     "text": [
      "X shape when loaded from txt: (7767, 561)\n",
      "X shape after including subject number: (7767, 562)\n",
      "X shape after including activity and activity name: (7767, 564)\n",
      "No of duplicates in X: 0\n",
      "We have 0 NaN/Null values in X\n"
     ]
    },
    {
     "data": {
      "text/html": [
       "<div>\n",
       "<style scoped>\n",
       "    .dataframe tbody tr th:only-of-type {\n",
       "        vertical-align: middle;\n",
       "    }\n",
       "\n",
       "    .dataframe tbody tr th {\n",
       "        vertical-align: top;\n",
       "    }\n",
       "\n",
       "    .dataframe thead th {\n",
       "        text-align: right;\n",
       "    }\n",
       "</style>\n",
       "<table border=\"1\" class=\"dataframe\">\n",
       "  <thead>\n",
       "    <tr style=\"text-align: right;\">\n",
       "      <th></th>\n",
       "      <th>tBodyAcc-Mean-1</th>\n",
       "      <th>tBodyAcc-Mean-2</th>\n",
       "      <th>tBodyAcc-Mean-3</th>\n",
       "      <th>tBodyAcc-STD-1</th>\n",
       "      <th>tBodyAcc-STD-2</th>\n",
       "      <th>tBodyAcc-STD-3</th>\n",
       "      <th>tBodyAcc-Mad-1</th>\n",
       "      <th>tBodyAcc-Mad-2</th>\n",
       "      <th>tBodyAcc-Mad-3</th>\n",
       "      <th>tBodyAcc-Max-1</th>\n",
       "      <th>...</th>\n",
       "      <th>tBodyAcc-AngleWRTGravity-1</th>\n",
       "      <th>tBodyAccJerk-AngleWRTGravity-1</th>\n",
       "      <th>tBodyGyro-AngleWRTGravity-1</th>\n",
       "      <th>tBodyGyroJerk-AngleWRTGravity-1</th>\n",
       "      <th>tXAxisAcc-AngleWRTGravity-1</th>\n",
       "      <th>tYAxisAcc-AngleWRTGravity-1</th>\n",
       "      <th>tZAxisAcc-AngleWRTGravity-1</th>\n",
       "      <th>Subject</th>\n",
       "      <th>Activity</th>\n",
       "      <th>ActivityName</th>\n",
       "    </tr>\n",
       "  </thead>\n",
       "  <tbody>\n",
       "    <tr>\n",
       "      <th>348</th>\n",
       "      <td>0.031025</td>\n",
       "      <td>-0.028761</td>\n",
       "      <td>-0.024875</td>\n",
       "      <td>-0.292001</td>\n",
       "      <td>-0.276156</td>\n",
       "      <td>-0.232296</td>\n",
       "      <td>-0.327874</td>\n",
       "      <td>-0.288299</td>\n",
       "      <td>-0.313702</td>\n",
       "      <td>-0.013412</td>\n",
       "      <td>...</td>\n",
       "      <td>-0.044016</td>\n",
       "      <td>-0.657371</td>\n",
       "      <td>0.36503</td>\n",
       "      <td>0.886895</td>\n",
       "      <td>-0.632271</td>\n",
       "      <td>0.345782</td>\n",
       "      <td>0.082535</td>\n",
       "      <td>1</td>\n",
       "      <td>1</td>\n",
       "      <td>WALKING_UPSTAIRS</td>\n",
       "    </tr>\n",
       "  </tbody>\n",
       "</table>\n",
       "<p>1 rows × 564 columns</p>\n",
       "</div>"
      ],
      "text/plain": [
       "     tBodyAcc-Mean-1  tBodyAcc-Mean-2  tBodyAcc-Mean-3  tBodyAcc-STD-1  \\\n",
       "348         0.031025        -0.028761        -0.024875       -0.292001   \n",
       "\n",
       "     tBodyAcc-STD-2  tBodyAcc-STD-3  tBodyAcc-Mad-1  tBodyAcc-Mad-2  \\\n",
       "348       -0.276156       -0.232296       -0.327874       -0.288299   \n",
       "\n",
       "     tBodyAcc-Mad-3  tBodyAcc-Max-1  ...  tBodyAcc-AngleWRTGravity-1  \\\n",
       "348       -0.313702       -0.013412  ...                   -0.044016   \n",
       "\n",
       "     tBodyAccJerk-AngleWRTGravity-1  tBodyGyro-AngleWRTGravity-1  \\\n",
       "348                       -0.657371                      0.36503   \n",
       "\n",
       "     tBodyGyroJerk-AngleWRTGravity-1  tXAxisAcc-AngleWRTGravity-1  \\\n",
       "348                         0.886895                    -0.632271   \n",
       "\n",
       "     tYAxisAcc-AngleWRTGravity-1  tZAxisAcc-AngleWRTGravity-1  Subject  \\\n",
       "348                     0.345782                     0.082535        1   \n",
       "\n",
       "     Activity      ActivityName  \n",
       "348         1  WALKING_UPSTAIRS  \n",
       "\n",
       "[1 rows x 564 columns]"
      ]
     },
     "execution_count": 3,
     "metadata": {},
     "output_type": "execute_result"
    }
   ],
   "source": [
    "X = pd.read_csv('../data2/HAPT Data Set/Train/X_train.txt',delim_whitespace=True, header=None)\n",
    "print(f\"X shape when loaded from txt: {X.shape}\")\n",
    "X.columns = features\n",
    "X['Subject'] = pd.read_csv('../data2/HAPT Data Set/Train/subject_id_train.txt', header=None, squeeze=True)\n",
    "print(f\"X shape after including subject number: {X.shape}\")\n",
    "\n",
    "y = pd.read_csv('../data2/HAPT Data Set/Train/y_train.txt', names=['Activity'], squeeze=True)\n",
    "y = y-1\n",
    "X['Activity'] = y\n",
    "X['ActivityName'] = X[\"Activity\"].map(map_num_to_activity)\n",
    "\n",
    "print(f\"X shape after including activity and activity name: {X.shape}\")\n",
    "print('No of duplicates in X: {}'.format(sum(X.duplicated())))\n",
    "print('We have {} NaN/Null values in X'.format(X.isnull().values.sum()))\n",
    "\n",
    "X_vals = X.drop([\"Subject\", \"Activity\", \"ActivityName\"], axis = 1).values\n",
    "X.sample()"
   ]
  },
  {
   "cell_type": "markdown",
   "id": "3b60fa50",
   "metadata": {},
   "source": [
    "### Load Test Set "
   ]
  },
  {
   "cell_type": "code",
   "execution_count": 4,
   "id": "b5bfb12d",
   "metadata": {},
   "outputs": [
    {
     "name": "stdout",
     "output_type": "stream",
     "text": [
      "x_t shape when loaded from txt: (3162, 561)\n",
      "x_t shape after including subject number: (3162, 562)\n",
      "x_t shape after including activity and activity name: (3162, 564)\n",
      "No of duplicates in x_t: 0\n",
      "We have 0 NaN/Null values in x_t\n"
     ]
    },
    {
     "data": {
      "text/html": [
       "<div>\n",
       "<style scoped>\n",
       "    .dataframe tbody tr th:only-of-type {\n",
       "        vertical-align: middle;\n",
       "    }\n",
       "\n",
       "    .dataframe tbody tr th {\n",
       "        vertical-align: top;\n",
       "    }\n",
       "\n",
       "    .dataframe thead th {\n",
       "        text-align: right;\n",
       "    }\n",
       "</style>\n",
       "<table border=\"1\" class=\"dataframe\">\n",
       "  <thead>\n",
       "    <tr style=\"text-align: right;\">\n",
       "      <th></th>\n",
       "      <th>tBodyAcc-Mean-1</th>\n",
       "      <th>tBodyAcc-Mean-2</th>\n",
       "      <th>tBodyAcc-Mean-3</th>\n",
       "      <th>tBodyAcc-STD-1</th>\n",
       "      <th>tBodyAcc-STD-2</th>\n",
       "      <th>tBodyAcc-STD-3</th>\n",
       "      <th>tBodyAcc-Mad-1</th>\n",
       "      <th>tBodyAcc-Mad-2</th>\n",
       "      <th>tBodyAcc-Mad-3</th>\n",
       "      <th>tBodyAcc-Max-1</th>\n",
       "      <th>...</th>\n",
       "      <th>tBodyAcc-AngleWRTGravity-1</th>\n",
       "      <th>tBodyAccJerk-AngleWRTGravity-1</th>\n",
       "      <th>tBodyGyro-AngleWRTGravity-1</th>\n",
       "      <th>tBodyGyroJerk-AngleWRTGravity-1</th>\n",
       "      <th>tXAxisAcc-AngleWRTGravity-1</th>\n",
       "      <th>tYAxisAcc-AngleWRTGravity-1</th>\n",
       "      <th>tZAxisAcc-AngleWRTGravity-1</th>\n",
       "      <th>Subject</th>\n",
       "      <th>Activity</th>\n",
       "      <th>ActivityName</th>\n",
       "    </tr>\n",
       "  </thead>\n",
       "  <tbody>\n",
       "    <tr>\n",
       "      <th>950</th>\n",
       "      <td>-0.001969</td>\n",
       "      <td>-0.022559</td>\n",
       "      <td>-0.002119</td>\n",
       "      <td>-0.181805</td>\n",
       "      <td>-0.638696</td>\n",
       "      <td>-0.360771</td>\n",
       "      <td>-0.194134</td>\n",
       "      <td>-0.656156</td>\n",
       "      <td>-0.426653</td>\n",
       "      <td>0.03241</td>\n",
       "      <td>...</td>\n",
       "      <td>0.817442</td>\n",
       "      <td>0.655058</td>\n",
       "      <td>0.867462</td>\n",
       "      <td>-0.579845</td>\n",
       "      <td>-0.603468</td>\n",
       "      <td>0.00906</td>\n",
       "      <td>0.293504</td>\n",
       "      <td>9</td>\n",
       "      <td>1</td>\n",
       "      <td>WALKING_UPSTAIRS</td>\n",
       "    </tr>\n",
       "  </tbody>\n",
       "</table>\n",
       "<p>1 rows × 564 columns</p>\n",
       "</div>"
      ],
      "text/plain": [
       "     tBodyAcc-Mean-1  tBodyAcc-Mean-2  tBodyAcc-Mean-3  tBodyAcc-STD-1  \\\n",
       "950        -0.001969        -0.022559        -0.002119       -0.181805   \n",
       "\n",
       "     tBodyAcc-STD-2  tBodyAcc-STD-3  tBodyAcc-Mad-1  tBodyAcc-Mad-2  \\\n",
       "950       -0.638696       -0.360771       -0.194134       -0.656156   \n",
       "\n",
       "     tBodyAcc-Mad-3  tBodyAcc-Max-1  ...  tBodyAcc-AngleWRTGravity-1  \\\n",
       "950       -0.426653         0.03241  ...                    0.817442   \n",
       "\n",
       "     tBodyAccJerk-AngleWRTGravity-1  tBodyGyro-AngleWRTGravity-1  \\\n",
       "950                        0.655058                     0.867462   \n",
       "\n",
       "     tBodyGyroJerk-AngleWRTGravity-1  tXAxisAcc-AngleWRTGravity-1  \\\n",
       "950                        -0.579845                    -0.603468   \n",
       "\n",
       "     tYAxisAcc-AngleWRTGravity-1  tZAxisAcc-AngleWRTGravity-1  Subject  \\\n",
       "950                      0.00906                     0.293504        9   \n",
       "\n",
       "     Activity      ActivityName  \n",
       "950         1  WALKING_UPSTAIRS  \n",
       "\n",
       "[1 rows x 564 columns]"
      ]
     },
     "execution_count": 4,
     "metadata": {},
     "output_type": "execute_result"
    }
   ],
   "source": [
    "# get the data from txt files to pandas dataffame\n",
    "x_t = pd.read_csv('../data2/HAPT Data Set/Test/X_test.txt', delim_whitespace=True, header=None)\n",
    "print(f\"x_t shape when loaded from txt: {x_t.shape}\")\n",
    "x_t.columns = features\n",
    "\n",
    "# add subject column to the dataframe\n",
    "x_t['Subject'] = pd.read_csv('../data2/HAPT Data Set/Test/subject_id_test.txt', header=None, squeeze=True)\n",
    "print(f\"x_t shape after including subject number: {x_t.shape}\")\n",
    "\n",
    "# get y labels from the txt file\n",
    "y_t = pd.read_csv('../data2/HAPT Data Set/Test/y_test.txt', names=['Activity'], squeeze=True)\n",
    "y_t = y_t -1\n",
    "x_t['Activity'] = y_t\n",
    "x_t['ActivityName'] = x_t[\"Activity\"].map(map_num_to_activity)\n",
    "\n",
    "print(f\"x_t shape after including activity and activity name: {x_t.shape}\")\n",
    "print('No of duplicates in x_t: {}'.format(sum(x_t.duplicated())))\n",
    "print('We have {} NaN/Null values in x_t'.format(x_t.isnull().values.sum()))\n",
    "\n",
    "x_tvals = x_t.drop([\"Subject\", \"Activity\", \"ActivityName\"], axis = 1).values\n",
    "x_t.sample()"
   ]
  },
  {
   "cell_type": "markdown",
   "id": "66b97603",
   "metadata": {},
   "source": [
    "### Data Visualisation"
   ]
  },
  {
   "cell_type": "code",
   "execution_count": 5,
   "id": "508fa3ec",
   "metadata": {},
   "outputs": [],
   "source": [
    "def plot_confusion_matrix(cm, classes, normalize=False, title='Confusion matrix', cmap=plt.cm.Blues):\n",
    "    if normalize:\n",
    "        cm = cm.astype('float') / cm.sum(axis=1)[:, np.newaxis]\n",
    "        print(\"Normalized confusion matrix\")\n",
    "    else:\n",
    "        print('Confusion matrix, without normalization')\n",
    "\n",
    "    print(cm)\n",
    "    plt.imshow(cm, interpolation='nearest', cmap=cmap)\n",
    "    plt.title(title)\n",
    "    plt.grid(False)\n",
    "    plt.colorbar()\n",
    "    tick_marks = np.arange(len(classes))\n",
    "    plt.xticks(tick_marks, classes, rotation=90)\n",
    "    plt.yticks(tick_marks, classes)\n",
    "\n",
    "    fmt = '.2f' if normalize else 'd'\n",
    "    thresh = cm.max() / 2.\n",
    "    for i, j in itertools.product(range(cm.shape[0]), range(cm.shape[1])):\n",
    "        plt.text(j, i, format(cm[i, j], fmt), horizontalalignment=\"center\", color=\"white\" if cm[i, j] > thresh else \"black\")\n",
    "\n",
    "    plt.tight_layout()\n",
    "    plt.ylabel('True label')\n",
    "    plt.xlabel('Predicted label')\n"
   ]
  },
  {
   "cell_type": "code",
   "execution_count": 6,
   "id": "cf05646e",
   "metadata": {},
   "outputs": [
    {
     "data": {
      "image/png": "[encoded data removed]",
      "text/plain": [
       "<Figure size 1152x576 with 1 Axes>"
      ]
     },
     "metadata": {
      "needs_background": "light"
     },
     "output_type": "display_data"
    },
    {
     "data": {
      "image/png": "[encoded data removed]",
      "text/plain": [
       "<Figure size 1152x576 with 1 Axes>"
      ]
     },
     "metadata": {
      "needs_background": "light"
     },
     "output_type": "display_data"
    }
   ],
   "source": [
    "plt.figure(figsize = (16,8))\n",
    "plt.title(\"Data provided by each user in Training Set\", fontsize = 20)\n",
    "sn.countplot(x =\"Subject\", hue =\"ActivityName\", data =X)\n",
    "plt.show()\n",
    "\n",
    "plt.figure(figsize = (16,8))\n",
    "plt.title('No of Datapoints per Activity in Training Set ', fontsize=15)\n",
    "sn.countplot(x = X[\"ActivityName\"])\n",
    "plt.xticks(rotation=90)\n",
    "plt.show()"
   ]
  },
  {
   "cell_type": "markdown",
   "id": "ebf81de6",
   "metadata": {},
   "source": [
    "### Feature Selection\n",
    "Feature selection using Random forest is parked under the category of Embedded methods. \n",
    "Benefits of embedded methods:\n",
    "- Highly accurate.\n",
    "- Generalize better.\n",
    "- Interpretable\n",
    "\n",
    "We select features using the training set. "
   ]
  },
  {
   "cell_type": "code",
   "execution_count": 7,
   "id": "175e6815",
   "metadata": {},
   "outputs": [
    {
     "name": "stdout",
     "output_type": "stream",
     "text": [
      "Number of selected features : 135\n"
     ]
    }
   ],
   "source": [
    "rf = RandomForestClassifier(n_estimators=100)\n",
    "rf.fit(X_vals, y)\n",
    "# for feature in zip(features, rf.feature_importances_):\n",
    "#     print(feature)\n",
    "sfm = SelectFromModel(rf)\n",
    "sfm.fit(X_vals, y)\n",
    "\n",
    "# for feature_list_index in sfm.get_support(indices=True):\n",
    "#     print(features[feature_list_index])\n",
    "X_important_train = sfm.transform(X_vals)\n",
    "X_important_test = sfm.transform(x_tvals)\n",
    "print(f\"Number of selected features : {len(sfm.get_support(indices=True))}\")"
   ]
  },
  {
   "cell_type": "code",
   "execution_count": 8,
   "id": "db95b676",
   "metadata": {},
   "outputs": [
    {
     "name": "stdout",
     "output_type": "stream",
     "text": [
      "Number of columns in transformed training set: 135\n"
     ]
    }
   ],
   "source": [
    "print(f\"Number of columns in transformed training set: {len(X_important_train[0])}\")"
   ]
  },
  {
   "cell_type": "markdown",
   "id": "dfc3b749",
   "metadata": {},
   "source": [
    "### SVM Classifier "
   ]
  },
  {
   "cell_type": "code",
   "execution_count": 9,
   "id": "1f3bd19b",
   "metadata": {},
   "outputs": [],
   "source": [
    "linear = svm.SVC(kernel='linear', C=1, decision_function_shape='ovo').fit(X_important_train, y)\n",
    "rbf = svm.SVC(kernel='rbf', gamma=1, C=1, decision_function_shape='ovo').fit(X_important_train, y)\n",
    "poly = svm.SVC(kernel='poly', degree=3, C=1, decision_function_shape='ovo').fit(X_important_train, y)\n",
    "sig = svm.SVC(kernel='sigmoid', C=1, decision_function_shape='ovo').fit(X_important_train, y)"
   ]
  },
  {
   "cell_type": "code",
   "execution_count": 10,
   "id": "5498a7b3",
   "metadata": {},
   "outputs": [],
   "source": [
    "linear_pred = linear.predict(X_important_test)\n",
    "poly_pred = poly.predict(X_important_test)\n",
    "rbf_pred = rbf.predict(X_important_test)\n",
    "sig_pred = sig.predict(X_important_test)"
   ]
  },
  {
   "cell_type": "code",
   "execution_count": 11,
   "id": "59f30eaf",
   "metadata": {},
   "outputs": [
    {
     "name": "stdout",
     "output_type": "stream",
     "text": [
      "Accuracy Linear Kernel: 0.9161922833649588\n",
      "Accuracy Polynomial Kernel: 0.9168247944339026\n",
      "Accuracy Radial Basis Kernel: 0.7947501581277673\n",
      "Accuracy Sigmoid Kernel: 0.7169512966476913\n"
     ]
    }
   ],
   "source": [
    "accuracy_lin = linear.score(X_important_test, y_t)\n",
    "accuracy_poly = poly.score(X_important_test, y_t)\n",
    "accuracy_rbf = rbf.score(X_important_test, y_t)\n",
    "accuracy_sig = sig.score(X_important_test, y_t)\n",
    "print(\"Accuracy Linear Kernel:\" , accuracy_lin)\n",
    "print(\"Accuracy Polynomial Kernel:\" , accuracy_poly)\n",
    "print(\"Accuracy Radial Basis Kernel:\" , accuracy_rbf)\n",
    "print(\"Accuracy Sigmoid Kernel:\" , accuracy_sig)"
   ]
  },
  {
   "cell_type": "markdown",
   "id": "2855f2a0",
   "metadata": {},
   "source": [
    "#### Evaluation of Linear Kernel"
   ]
  },
  {
   "cell_type": "code",
   "execution_count": 12,
   "id": "a575c1c3",
   "metadata": {},
   "outputs": [
    {
     "name": "stdout",
     "output_type": "stream",
     "text": [
      "Linear Kernel Confusion Matrix:\n",
      "\n",
      "\n",
      "[[484   4   8   0   0   0   0   0   0   0   0   0]\n",
      " [ 30 439   1   0   0   0   0   0   0   0   1   0]\n",
      " [  5  24 391   0   0   0   0   0   0   0   0   0]\n",
      " [  0   1   0 409  94   0   0   0   0   0   4   0]\n",
      " [  0   0   0  41 515   0   0   0   0   0   0   0]\n",
      " [  0   0   0   0   0 545   0   0   0   0   0   0]\n",
      " [  0   1   0   1   1   0  19   0   1   0   0   0]\n",
      " [  0   0   0   0   0   0   1   9   0   0   0   0]\n",
      " [  0   0   0   0   0   0   0   0  28   0   4   0]\n",
      " [  0   0   0   0   0   0   0   0   1  15   0   9]\n",
      " [  2   0   0   2   0   1   2   0  14   1  27   0]\n",
      " [  0   0   0   0   0   0   0   0   1   9   1  16]]\n",
      "\n",
      "\n",
      "Linear Kernel Classification Report:\n",
      "\n",
      "\n",
      "              precision    recall  f1-score   support\n",
      "\n",
      "           0       0.93      0.98      0.95       496\n",
      "           1       0.94      0.93      0.93       471\n",
      "           2       0.98      0.93      0.95       420\n",
      "           3       0.90      0.81      0.85       508\n",
      "           4       0.84      0.93      0.88       556\n",
      "           5       1.00      1.00      1.00       545\n",
      "           6       0.86      0.83      0.84        23\n",
      "           7       1.00      0.90      0.95        10\n",
      "           8       0.62      0.88      0.73        32\n",
      "           9       0.60      0.60      0.60        25\n",
      "          10       0.73      0.55      0.63        49\n",
      "          11       0.64      0.59      0.62        27\n",
      "\n",
      "    accuracy                           0.92      3162\n",
      "   macro avg       0.84      0.83      0.83      3162\n",
      "weighted avg       0.92      0.92      0.92      3162\n",
      "\n",
      "\n",
      "\n",
      "Linear Kernel Accuracy : 0.9161922833649588\n",
      "\n",
      "\n"
     ]
    }
   ],
   "source": [
    "print(\"Linear Kernel Confusion Matrix:\")\n",
    "print(\"\\n\")\n",
    "print(confusion_matrix(y_t, linear_pred))\n",
    "print(\"\\n\")\n",
    "print(\"Linear Kernel Classification Report:\",)\n",
    "print(\"\\n\")\n",
    "print (classification_report(y_t, linear_pred))\n",
    "print(\"\\n\")\n",
    "print(\"Linear Kernel Accuracy :\", accuracy_score(y_t,linear_pred))\n",
    "print(\"\\n\")"
   ]
  },
  {
   "cell_type": "markdown",
   "id": "d499f45c",
   "metadata": {},
   "source": [
    "#### Evaluation of Polynomial Kernel"
   ]
  },
  {
   "cell_type": "code",
   "execution_count": 13,
   "id": "fae7aea7",
   "metadata": {},
   "outputs": [
    {
     "name": "stdout",
     "output_type": "stream",
     "text": [
      "Polynomial Kernel Confusion Matrix:\n",
      "\n",
      "\n",
      "[[490   2   4   0   0   0   0   0   0   0   0   0]\n",
      " [ 31 439   1   0   0   0   0   0   0   0   0   0]\n",
      " [  9  26 385   0   0   0   0   0   0   0   0   0]\n",
      " [  0   1   0 415  88   0   2   0   0   0   2   0]\n",
      " [  0   0   0  43 513   0   0   0   0   0   0   0]\n",
      " [  0   0   0   0   0 545   0   0   0   0   0   0]\n",
      " [  0   1   0   2   0   0  19   0   1   0   0   0]\n",
      " [  0   0   0   0   0   0   1   9   0   0   0   0]\n",
      " [  0   0   0   0   0   0   0   0  29   0   3   0]\n",
      " [  0   0   0   0   0   0   0   0   1  15   0   9]\n",
      " [  2   1   0   2   0   1   1   0  13   2  27   0]\n",
      " [  0   0   1   0   0   0   0   0   0  10   3  13]]\n",
      "\n",
      "\n",
      "Polynomial Kernel Classification Report:\n",
      "\n",
      "\n",
      "              precision    recall  f1-score   support\n",
      "\n",
      "           0       0.92      0.99      0.95       496\n",
      "           1       0.93      0.93      0.93       471\n",
      "           2       0.98      0.92      0.95       420\n",
      "           3       0.90      0.82      0.86       508\n",
      "           4       0.85      0.92      0.89       556\n",
      "           5       1.00      1.00      1.00       545\n",
      "           6       0.83      0.83      0.83        23\n",
      "           7       1.00      0.90      0.95        10\n",
      "           8       0.66      0.91      0.76        32\n",
      "           9       0.56      0.60      0.58        25\n",
      "          10       0.77      0.55      0.64        49\n",
      "          11       0.59      0.48      0.53        27\n",
      "\n",
      "    accuracy                           0.92      3162\n",
      "   macro avg       0.83      0.82      0.82      3162\n",
      "weighted avg       0.92      0.92      0.92      3162\n",
      "\n",
      "\n",
      "\n",
      "Polynomial Kernel Accuracy : 0.9168247944339026\n",
      "\n",
      "\n"
     ]
    }
   ],
   "source": [
    "print(\"Polynomial Kernel Confusion Matrix:\")\n",
    "print(\"\\n\")\n",
    "print(confusion_matrix(y_t, poly_pred))\n",
    "print(\"\\n\")\n",
    "print(\"Polynomial Kernel Classification Report:\",)\n",
    "print(\"\\n\")\n",
    "print (classification_report(y_t, poly_pred))\n",
    "print(\"\\n\")\n",
    "print(\"Polynomial Kernel Accuracy :\", accuracy_score(y_t,poly_pred))\n",
    "print(\"\\n\")"
   ]
  },
  {
   "cell_type": "markdown",
   "id": "eb3e1628",
   "metadata": {},
   "source": [
    "### KNN classifier \n",
    "\n",
    "KNN believes that similar things are in close proximity of each other. Hence, if a datapoint is near to another datapoint, KNN assumes that they both belong to the same class."
   ]
  },
  {
   "cell_type": "code",
   "execution_count": 14,
   "id": "6b35c77e",
   "metadata": {},
   "outputs": [],
   "source": [
    "knn_clf=KNeighborsClassifier()\n",
    "knn_clf.fit(X_important_train,y)\n",
    "#These are the predicted output values\n",
    "ypred=knn_clf.predict(X_important_test) "
   ]
  },
  {
   "cell_type": "markdown",
   "id": "b3d41cc3",
   "metadata": {},
   "source": [
    "#### Evaluation of KNN"
   ]
  },
  {
   "cell_type": "code",
   "execution_count": 15,
   "id": "36f9b849",
   "metadata": {},
   "outputs": [
    {
     "name": "stdout",
     "output_type": "stream",
     "text": [
      "KNN Confusion Matrix:\n",
      "\n",
      "\n",
      "[[472  13  11   0   0   0   0   0   0   0   0   0]\n",
      " [ 47 415   9   0   0   0   0   0   0   0   0   0]\n",
      " [ 28  53 339   0   0   0   0   0   0   0   0   0]\n",
      " [  0   1   0 394 113   0   0   0   0   0   0   0]\n",
      " [  1   0   0  44 511   0   0   0   0   0   0   0]\n",
      " [  0   0   0   0   0 543   1   0   0   1   0   0]\n",
      " [  1   1   0   2   2   0  14   2   1   0   0   0]\n",
      " [  0   0   0   0   0   0   2   8   0   0   0   0]\n",
      " [  0   0   0   1   0   0   0   0  29   0   2   0]\n",
      " [  0   0   0   0   0   0   0   0   1  17   0   7]\n",
      " [  2   3   0   2   0   2   3   0  18   0  19   0]\n",
      " [  1   0   0   0   0   0   0   0   1  12   1  12]]\n",
      "\n",
      "\n",
      "KNN Classification Report:\n",
      "\n",
      "\n",
      "              precision    recall  f1-score   support\n",
      "\n",
      "           0       0.86      0.95      0.90       496\n",
      "           1       0.85      0.88      0.87       471\n",
      "           2       0.94      0.81      0.87       420\n",
      "           3       0.89      0.78      0.83       508\n",
      "           4       0.82      0.92      0.86       556\n",
      "           5       1.00      1.00      1.00       545\n",
      "           6       0.70      0.61      0.65        23\n",
      "           7       0.80      0.80      0.80        10\n",
      "           8       0.58      0.91      0.71        32\n",
      "           9       0.57      0.68      0.62        25\n",
      "          10       0.86      0.39      0.54        49\n",
      "          11       0.63      0.44      0.52        27\n",
      "\n",
      "    accuracy                           0.88      3162\n",
      "   macro avg       0.79      0.76      0.76      3162\n",
      "weighted avg       0.88      0.88      0.88      3162\n",
      "\n",
      "\n",
      "\n",
      "KNN Accuracy: 0.8769765970904491\n",
      "\n",
      "\n"
     ]
    }
   ],
   "source": [
    "print(\"KNN Confusion Matrix:\")\n",
    "print(\"\\n\")\n",
    "print(confusion_matrix(y_t, ypred))\n",
    "print(\"\\n\")\n",
    "print(\"KNN Classification Report:\",)\n",
    "print(\"\\n\")\n",
    "print (classification_report(y_t, ypred))\n",
    "print(\"\\n\")\n",
    "print(\"KNN Accuracy:\", accuracy_score(y_t,ypred))\n",
    "print(\"\\n\")"
   ]
  },
  {
   "cell_type": "markdown",
   "id": "69e11e29",
   "metadata": {},
   "source": [
    "### Multi Layer Perceptron Model"
   ]
  },
  {
   "cell_type": "markdown",
   "id": "ab295d05",
   "metadata": {},
   "source": [
    "#### Defining the MLP model"
   ]
  },
  {
   "cell_type": "code",
   "execution_count": 16,
   "id": "baf30bba",
   "metadata": {},
   "outputs": [],
   "source": [
    "class Model(nn.Module):\n",
    "    def __init__(self, in_features, h1, h2, out_features=12):\n",
    "        super().__init__()\n",
    "        self.fc1 = nn.Linear(in_features,h1)    # input layer\n",
    "        self.fc2 = nn.Linear(h1, h2)            # hidden layer\n",
    "        self.out = nn.Linear(h2, out_features)  # output layer\n",
    "        \n",
    "    def forward(self, x):\n",
    "        x = F.relu(self.fc1(x))\n",
    "        x = F.relu(self.fc2(x))\n",
    "        x = self.out(x)\n",
    "        return x"
   ]
  },
  {
   "cell_type": "markdown",
   "id": "d12c79a3",
   "metadata": {},
   "source": [
    "#### Model Instantiation"
   ]
  },
  {
   "cell_type": "code",
   "execution_count": 17,
   "id": "e07a74d1",
   "metadata": {},
   "outputs": [],
   "source": [
    "# Instantiate the Model class using parameter defaults:\n",
    "torch.manual_seed(32)\n",
    "# ann model without feature selection \n",
    "mlp = Model(in_features = 561, h1=80, h2=40)\n",
    "X_train = torch.FloatTensor(X_vals)\n",
    "X_test = torch.FloatTensor(x_tvals)\n",
    "y_train = torch.LongTensor(y)\n",
    "y_test = torch.LongTensor(y_t)\n",
    "trainloader = DataLoader(X_train, batch_size=60, shuffle=True)\n",
    "testloader = DataLoader(X_test, batch_size=60, shuffle=False)\n",
    "criterion = nn.CrossEntropyLoss()\n",
    "optimizer = torch.optim.Adam(mlp.parameters(), lr=0.01)"
   ]
  },
  {
   "cell_type": "markdown",
   "id": "1b71c1d6",
   "metadata": {},
   "source": [
    "#### Training the MLP model"
   ]
  },
  {
   "cell_type": "code",
   "execution_count": 18,
   "id": "e214f993",
   "metadata": {},
   "outputs": [
    {
     "name": "stdout",
     "output_type": "stream",
     "text": [
      "epoch:  1  loss: 2.48869991\n",
      "epoch: 11  loss: 1.19311988\n",
      "epoch: 21  loss: 0.79846728\n",
      "epoch: 31  loss: 0.46066093\n",
      "epoch: 41  loss: 0.29247734\n",
      "epoch: 51  loss: 0.21583569\n",
      "epoch: 61  loss: 0.17582256\n",
      "epoch: 71  loss: 0.13889690\n",
      "epoch: 81  loss: 0.11627175\n",
      "epoch: 91  loss: 0.09755000\n"
     ]
    },
    {
     "data": {
      "image/png": "[encoded data removed]",
      "text/plain": [
       "<Figure size 432x288 with 1 Axes>"
      ]
     },
     "metadata": {
      "needs_background": "light"
     },
     "output_type": "display_data"
    }
   ],
   "source": [
    "epochs = 100\n",
    "losses = []\n",
    "\n",
    "for i in range(epochs):\n",
    "    i+=1\n",
    "    y_pred = mlp.forward(X_train)\n",
    "    loss = criterion(y_pred, y_train)\n",
    "    losses.append(loss)\n",
    "    \n",
    "    # a neat trick to save screen space:\n",
    "    if i%10 == 1:\n",
    "        print(f'epoch: {i:2}  loss: {loss.item():10.8f}')\n",
    "\n",
    "    optimizer.zero_grad()\n",
    "    loss.backward()\n",
    "    optimizer.step()\n",
    "    \n",
    "with torch.no_grad():\n",
    "    plt.plot(range(epochs), losses)\n",
    "    plt.ylabel('Loss')\n",
    "    plt.xlabel('epoch')   "
   ]
  },
  {
   "cell_type": "markdown",
   "id": "20cf0bee",
   "metadata": {},
   "source": [
    "### Evaluation of MLP"
   ]
  },
  {
   "cell_type": "code",
   "execution_count": 19,
   "id": "b6b3f0b9",
   "metadata": {},
   "outputs": [
    {
     "name": "stdout",
     "output_type": "stream",
     "text": [
      "Loss with test set : 0.20512597\n"
     ]
    }
   ],
   "source": [
    "# TO EVALUATE THE ENTIRE TEST SET\n",
    "with torch.no_grad():\n",
    "    y_val = mlp.forward(X_test)\n",
    "    loss = criterion(y_val, y_test)\n",
    "    print(f'Loss with test set : {loss:.8f}')\n",
    "    \n",
    "    "
   ]
  },
  {
   "cell_type": "code",
   "execution_count": 20,
   "id": "6050acf8",
   "metadata": {},
   "outputs": [
    {
     "name": "stdout",
     "output_type": "stream",
     "text": [
      "\n",
      "2916 out of 3162 = 92.22% correct\n"
     ]
    }
   ],
   "source": [
    "with torch.no_grad():\n",
    "    preds = []\n",
    "    correct = 0\n",
    "    for i,data in enumerate(X_test):\n",
    "        y_val = mlp.forward(data)\n",
    "#         print(f'{i+1:2}. {str(y_val):38}  {y_test[i]}')\n",
    "#         print(y_val.argmax().item(),y_test[i], y_val.argmax() )\n",
    "        preds.append(y_val.argmax().item())\n",
    "        if y_val.argmax().item() == y_test[i]:\n",
    "            correct += 1\n",
    "    print(f'\\n{correct} out of {len(y_test)} = {100*correct/len(y_test):.2f}% correct')\n",
    "    y_preds = torch.tensor(preds, dtype = torch.int64)\n",
    "    stacked = torch.stack((y_test,y_preds),dim=1)\n",
    "#     print(stacked.shape)\n",
    "#     print(stacked)\n",
    "    cmt = torch.zeros(12,12, dtype=torch.int64)\n",
    "    for p in stacked:\n",
    "        tl, pl = p.tolist()\n",
    "#         print(tl,pl)\n",
    "        cmt[tl, pl] = cmt[tl, pl] + 1   \n",
    "#     print(cmt)"
   ]
  },
  {
   "cell_type": "code",
   "execution_count": 21,
   "id": "0043bb85",
   "metadata": {},
   "outputs": [
    {
     "name": "stdout",
     "output_type": "stream",
     "text": [
      "Confusion matrix, without normalization\n",
      "tensor([[483,   4,   9,   0,   0,   0,   0,   0,   0,   0,   0,   0],\n",
      "        [ 25, 433,  11,   0,   0,   0,   2,   0,   0,   0,   0,   0],\n",
      "        [ 11,  27, 382,   0,   0,   0,   0,   0,   0,   0,   0,   0],\n",
      "        [  0,   1,   0, 458,  46,   0,   1,   2,   0,   0,   0,   0],\n",
      "        [  0,   0,   0,  34, 522,   0,   0,   0,   0,   0,   0,   0],\n",
      "        [  2,   0,   0,   0,   0, 543,   0,   0,   0,   0,   0,   0],\n",
      "        [  0,   1,   0,   2,   1,   0,  18,   0,   1,   0,   0,   0],\n",
      "        [  0,   0,   0,   0,   0,   0,   2,   8,   0,   0,   0,   0],\n",
      "        [  0,   0,   0,   0,   0,   0,   3,   0,  20,   0,   9,   0],\n",
      "        [  0,   0,   0,   0,   0,   0,   0,   1,   0,  15,   0,   9],\n",
      "        [  0,   2,   0,   4,   2,   0,   4,   0,  13,   0,  23,   1],\n",
      "        [  0,   0,   0,   0,   0,   0,   2,   1,   1,  12,   0,  11]])\n"
     ]
    },
    {
     "data": {
      "image/png": "[encoded data removed]",
      "text/plain": [
       "<Figure size 864x864 with 2 Axes>"
      ]
     },
     "metadata": {
      "needs_background": "light"
     },
     "output_type": "display_data"
    }
   ],
   "source": [
    "plt.figure(figsize=(12,12))\n",
    "plot_confusion_matrix(cmt, labels)"
   ]
  },
  {
   "cell_type": "code",
   "execution_count": 22,
   "id": "e9079f3b",
   "metadata": {
    "scrolled": true
   },
   "outputs": [
    {
     "name": "stdout",
     "output_type": "stream",
     "text": [
      "Report for ann without feature selection:\n",
      "              precision    recall  f1-score   support\n",
      "\n",
      "           0       0.93      0.97      0.95       496\n",
      "           1       0.93      0.92      0.92       471\n",
      "           2       0.95      0.91      0.93       420\n",
      "           3       0.92      0.90      0.91       508\n",
      "           4       0.91      0.94      0.93       556\n",
      "           5       1.00      1.00      1.00       545\n",
      "           6       0.56      0.78      0.65        23\n",
      "           7       0.67      0.80      0.73        10\n",
      "           8       0.57      0.62      0.60        32\n",
      "           9       0.56      0.60      0.58        25\n",
      "          10       0.72      0.47      0.57        49\n",
      "          11       0.52      0.41      0.46        27\n",
      "\n",
      "    accuracy                           0.92      3162\n",
      "   macro avg       0.77      0.78      0.77      3162\n",
      "weighted avg       0.92      0.92      0.92      3162\n",
      "\n"
     ]
    }
   ],
   "source": [
    "print(\"Report for ann without feature selection:\")\n",
    "print(classification_report(y_test, y_preds))"
   ]
  },
  {
   "cell_type": "code",
   "execution_count": 23,
   "id": "71b91a19",
   "metadata": {},
   "outputs": [
    {
     "name": "stdout",
     "output_type": "stream",
     "text": [
      "dict_keys(['fc1.weight', 'fc1.bias', 'fc2.weight', 'fc2.bias', 'out.weight', 'out.bias'])\n",
      "fc1.weight : 80\n",
      "fc1.bias : 80\n",
      "fc2.weight : 40\n",
      "fc2.bias : 40\n",
      "out.weight : 12\n",
      "out.bias : 12\n"
     ]
    }
   ],
   "source": [
    "# model weights \n",
    "with torch.no_grad():\n",
    "    mlp_params = {}\n",
    "    for name, param in mlp.named_parameters():\n",
    "#         print(name,param)\n",
    "        mlp_params[name] = param.numpy().copy().tolist()\n",
    "print(mlp_params.keys())\n",
    "for key in mlp_params.keys(): \n",
    "    print(f\"{key} : {len(mlp_params[key])}\")\n"
   ]
  },
  {
   "cell_type": "markdown",
   "id": "27e18642",
   "metadata": {},
   "source": [
    "### Save MLP model "
   ]
  },
  {
   "cell_type": "code",
   "execution_count": 24,
   "id": "4dde1b05",
   "metadata": {},
   "outputs": [],
   "source": [
    "torch.save(mlp.state_dict(), 'nn.pt')"
   ]
  },
  {
   "cell_type": "markdown",
   "id": "489d0bb2",
   "metadata": {},
   "source": [
    "### Load MLP model and run on test set  "
   ]
  },
  {
   "cell_type": "code",
   "execution_count": 25,
   "id": "c75f4a1f",
   "metadata": {},
   "outputs": [
    {
     "data": {
      "text/plain": [
       "Model(\n",
       "  (fc1): Linear(in_features=561, out_features=80, bias=True)\n",
       "  (fc2): Linear(in_features=80, out_features=40, bias=True)\n",
       "  (out): Linear(in_features=40, out_features=12, bias=True)\n",
       ")"
      ]
     },
     "execution_count": 25,
     "metadata": {},
     "output_type": "execute_result"
    }
   ],
   "source": [
    "loaded_model = Model(in_features=561,h1=80, h2=40)\n",
    "loaded_model.load_state_dict(torch.load('nn.pt'))\n",
    "loaded_model.eval()"
   ]
  },
  {
   "cell_type": "code",
   "execution_count": 26,
   "id": "de102d30",
   "metadata": {},
   "outputs": [
    {
     "name": "stdout",
     "output_type": "stream",
     "text": [
      "0.20512597\n"
     ]
    }
   ],
   "source": [
    "with torch.no_grad():\n",
    "    y_val = loaded_model.forward(X_test)\n",
    "    loss = criterion(y_val, y_test)\n",
    "print(f'{loss:.8f}')"
   ]
  },
  {
   "cell_type": "markdown",
   "id": "af6278a3",
   "metadata": {},
   "source": [
    "### Applying model on a random sample in the test dataset"
   ]
  },
  {
   "cell_type": "code",
   "execution_count": 27,
   "id": "771d307c",
   "metadata": {},
   "outputs": [
    {
     "data": {
      "text/plain": [
       "tensor([ 0.0352,  0.0032, -0.0249, -0.9898, -0.9886, -0.9832, -0.9899, -0.9884,\n",
       "        -0.9840, -0.7945, -0.7412, -0.7143,  0.8342,  0.7139,  0.6694, -0.9873,\n",
       "        -0.9999, -0.9999, -0.9997, -0.9893, -0.9895, -0.9830, -0.6993, -0.4307,\n",
       "        -0.6040, -0.1228,  0.1558, -0.1098, -0.1547,  0.2438, -0.1922,  0.1546,\n",
       "        -0.0463,  0.0781,  0.0578, -0.0350, -0.1934,  0.0367, -0.6277, -0.4355,\n",
       "        -0.4319,  0.9593,  0.2223, -0.9844, -0.9822, -0.9815, -0.9854, -0.9817,\n",
       "        -0.9820, -0.4919,  0.9092,  0.2206, -0.3906,  0.9658,  0.2201, -0.4497,\n",
       "        -0.9981,  0.8420, -0.9073, -0.9871, -0.9816, -0.9846, -0.5317, -0.4323,\n",
       "        -0.4237, -0.9366,  0.9386, -0.9406,  0.9427, -0.8492,  0.8599, -0.8710,\n",
       "         0.8818, -0.5186,  0.5171, -0.5155,  0.5129, -0.2644, -0.3150, -0.8306,\n",
       "         0.0766,  0.0013, -0.0368, -0.9931, -0.9866, -0.9947, -0.9931, -0.9844,\n",
       "        -0.9957, -0.9930, -0.9903, -0.9912,  0.9917,  0.9913,  0.9872, -0.9937,\n",
       "        -0.9999, -0.9998, -0.9999, -0.9915, -0.9829, -0.9972, -0.7483, -0.7378,\n",
       "        -0.7973,  0.0188,  0.2384,  0.2021,  0.2913,  0.3217, -0.0269,  0.3312,\n",
       "         0.2163,  0.0747,  0.1837,  0.1859,  0.1454,  0.1321,  0.0013, -0.2877,\n",
       "        -0.0099, -0.0545,  0.0315, -0.9747, -0.9736, -0.9242, -0.9754, -0.9719,\n",
       "        -0.9211, -0.8905, -0.9564, -0.6624,  0.8516,  0.8763,  0.8406, -0.9201,\n",
       "        -0.9995, -0.9992, -0.9885, -0.9808, -0.9712, -0.9145,  0.0870, -0.7183,\n",
       "         0.5679,  0.1176, -0.1892,  0.0870,  0.0813, -0.1018, -0.0643,  0.0497,\n",
       "         0.3546,  0.0531, -0.1165,  0.0315,  0.1289, -0.3929,  0.9318, -0.1575,\n",
       "        -0.1144, -0.0284, -0.1119, -0.9916, -0.9951, -0.9959, -0.9922, -0.9953,\n",
       "        -0.9961, -0.9898, -0.9953, -0.9948,  0.9882,  0.9970,  0.9947, -0.9951,\n",
       "        -0.9999, -1.0000, -1.0000, -0.9925, -0.9954, -0.9964, -0.6672, -0.5814,\n",
       "        -0.7931,  0.1066,  0.0596, -0.1466,  0.3143, -0.0445, -0.0720, -0.1318,\n",
       "         0.2943,  0.2377, -0.2900,  0.3288, -0.2930,  0.0228,  0.1387, -0.1004,\n",
       "        -0.9874, -0.9894, -0.9915, -0.9830, -0.9968, -0.9874, -0.9998, -0.9937,\n",
       "        -0.5803,  0.0033,  0.0151,  0.1678, -0.2561, -0.9874, -0.9894, -0.9915,\n",
       "        -0.9830, -0.9968, -0.9874, -0.9998, -0.9937, -0.5803,  0.0033,  0.0151,\n",
       "         0.1678, -0.2561, -0.9941, -0.9944, -0.9949, -0.9916, -0.9799, -0.9941,\n",
       "        -0.9999, -0.9951, -0.8691,  0.2202, -0.2369, -0.3668,  0.3182, -0.9155,\n",
       "        -0.9156, -0.9089, -0.9412, -0.9584, -0.9155, -0.9957, -0.9218,  0.4277,\n",
       "        -0.1221, -0.1169, -0.0180,  0.4046, -0.9951, -0.9952, -0.9955, -0.9953,\n",
       "        -0.9906, -0.9951, -1.0000, -0.9960, -0.6766,  0.6115, -0.3879,  0.0148,\n",
       "        -0.2518, -0.9926, -0.9833, -0.9897, -0.9882, -0.9901, -0.9816, -0.9913,\n",
       "        -0.9858, -0.9855, -0.9864, -0.9893, -0.9777, -0.9998, -0.9986, -0.9987,\n",
       "        -0.9907, -0.9999, -0.9999, -0.9997, -0.9922, -0.9841, -0.9898, -0.9073,\n",
       "        -0.9449, -0.9442, -1.0000, -1.0000, -1.0000, -0.2049,  0.2307, -0.0713,\n",
       "         0.3546,  0.0899, -0.0985, -0.3447,  0.5067,  0.3679, -0.9999, -1.0000,\n",
       "        -0.9999, -0.9999, -0.9999, -0.9999, -1.0000, -1.0000, -0.9999, -0.9999,\n",
       "        -0.9999, -1.0000, -0.9999, -0.9999, -0.9999, -0.9999, -0.9998, -0.9997,\n",
       "        -0.9996, -0.9995, -0.9999, -0.9998, -0.9999, -0.9998, -0.9996, -0.9999,\n",
       "        -0.9999, -0.9997, -0.9997, -0.9999, -0.9999, -0.9999, -0.9998, -0.9999,\n",
       "        -0.9999, -1.0000, -0.9997, -0.9999, -0.9999, -0.9999, -0.9997, -0.9999,\n",
       "        -0.9936, -0.9869, -0.9944, -0.9931, -0.9872, -0.9928, -0.9909, -0.9868,\n",
       "        -0.9939, -0.9956, -0.9892, -0.9924, -0.9966, -0.9977, -0.9966, -0.9933,\n",
       "        -0.9999, -0.9998, -0.9999, -0.9901, -0.9875, -0.9932, -1.0000, -1.0000,\n",
       "        -1.0000, -0.3200,  0.1200, -0.4000,  0.0111,  0.1454,  0.0473, -0.5075,\n",
       "        -0.9047, -0.6450, -0.9218, -0.3986, -0.8020, -1.0000, -1.0000, -0.9999,\n",
       "        -0.9999, -0.9999, -0.9999, -1.0000, -1.0000, -1.0000, -0.9999, -0.9999,\n",
       "        -1.0000, -0.9999, -0.9999, -1.0000, -0.9999, -0.9998, -0.9997, -0.9997,\n",
       "        -0.9996, -0.9998, -1.0000, -0.9999, -0.9997, -0.9996, -0.9998, -0.9998,\n",
       "        -0.9997, -0.9998, -0.9998, -0.9998, -0.9999, -0.9998, -0.9999, -0.9998,\n",
       "        -1.0000, -0.9998, -0.9999, -0.9998, -0.9998, -0.9999, -0.9999, -0.9722,\n",
       "        -0.9826, -0.9161, -0.9755, -0.9693, -0.9308, -0.9759, -0.9814, -0.9246,\n",
       "        -0.9732, -0.9657, -0.9270, -0.9794, -0.9852, -0.8558, -0.9627, -0.9996,\n",
       "        -0.9996, -0.9969, -0.9881, -0.9927, -0.9683, -0.6020, -0.6631, -0.3464,\n",
       "        -1.0000, -1.0000, -1.0000, -0.0737, -0.3196, -0.0541,  0.1145, -0.2066,\n",
       "         0.4304,  0.1682,  0.2534, -0.0507, -0.9996, -0.9999, -0.9999, -0.9999,\n",
       "        -0.9998, -0.9998, -0.9997, -0.9997, -0.9996, -0.9999, -0.9998, -0.9997,\n",
       "        -0.9996, -0.9998, -0.9994, -1.0000, -1.0000, -1.0000, -1.0000, -0.9999,\n",
       "        -0.9999, -0.9998, -0.9995, -1.0000, -1.0000, -0.9998, -0.9995, -1.0000,\n",
       "        -0.9971, -0.9996, -0.9996, -0.9994, -0.9991, -0.9979, -0.9949, -0.9940,\n",
       "        -0.9970, -0.9993, -0.9988, -0.9945, -0.9969, -0.9992, -0.9887, -0.9895,\n",
       "        -0.9855, -0.9910, -0.9961, -0.9887, -0.9999, -0.9878, -0.9070, -1.0000,\n",
       "         0.0385, -0.2504, -0.5414, -0.9948, -0.9928, -0.9910, -0.9965, -0.9926,\n",
       "        -0.9948, -0.9999, -0.9927, -1.0000, -0.8413,  0.2420, -0.5985, -0.9241,\n",
       "        -0.9403, -0.9148, -0.9324, -0.9093, -0.8904, -0.9403, -0.9962, -0.9704,\n",
       "        -0.3644, -1.0000, -0.1930,  0.2945,  0.0197, -0.9947, -0.9962, -0.9962,\n",
       "        -0.9964, -0.9984, -0.9947, -1.0000, -0.9963, -1.0000, -0.9683,  0.3823,\n",
       "        -0.5014, -0.7561, -0.3407,  0.7251,  0.0436, -0.0597,  0.5565, -0.8528,\n",
       "        -0.1313])"
      ]
     },
     "execution_count": 27,
     "metadata": {},
     "output_type": "execute_result"
    }
   ],
   "source": [
    "random.seed(22)\n",
    "random_int = random.randint(0, len(X_test))\n",
    "random_input = torch.FloatTensor(X_test[random_int])\n",
    "random_input"
   ]
  },
  {
   "cell_type": "code",
   "execution_count": 28,
   "id": "8f5ebd1c",
   "metadata": {},
   "outputs": [
    {
     "name": "stdout",
     "output_type": "stream",
     "text": [
      "tensor([ -6.7260, -13.8283, -21.1184,   7.8432,  -2.9900,  18.0840, -27.0362,\n",
      "         -2.7546, -20.4678,   6.7380,  -2.5566,   2.8103])\n",
      "\n",
      "tensor(18.0840)\n",
      "5\n",
      "Predicted Output: LAYING\n",
      "Actual Output: LAYING\n"
     ]
    }
   ],
   "source": [
    "with torch.no_grad():\n",
    "    print(loaded_model(random_input))\n",
    "    print()\n",
    "    print(loaded_model(random_input).max())\n",
    "    print(loaded_model(random_input).argmax().item())\n",
    "    print(f\"Predicted Output: {map_num_to_activity[loaded_model(random_input).argmax().item()]}\")\n",
    "    print(f\"Actual Output: {map_num_to_activity[y_test[random_int].item()]}\")"
   ]
  },
  {
   "cell_type": "code",
   "execution_count": 29,
   "id": "ede61179",
   "metadata": {},
   "outputs": [],
   "source": [
    "with open('mlp.csv', 'w') as csv_file:  \n",
    "    writer = csv.writer(csv_file)\n",
    "    for key, value in mlp_params.items():\n",
    "       writer.writerow([key, value])"
   ]
  },
  {
   "cell_type": "code",
   "execution_count": null,
   "id": "052b178f",
   "metadata": {},
   "outputs": [],
   "source": []
  }
 ],
 "metadata": {
  "kernelspec": {
   "display_name": "pytorch_env",
   "language": "python",
   "name": "pytorch_env"
  },
  "language_info": {
   "codemirror_mode": {
    "name": "ipython",
    "version": 3
   },
   "file_extension": ".py",
   "mimetype": "text/x-python",
   "name": "python",
   "nbconvert_exporter": "python",
   "pygments_lexer": "ipython3",
   "version": "3.9.6"
  }
 },
 "nbformat": 4,
 "nbformat_minor": 5
}
