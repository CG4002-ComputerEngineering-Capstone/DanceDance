{
 "cells": [
  {
   "cell_type": "code",
   "execution_count": 1,
   "id": "b55b834e",
   "metadata": {},
   "outputs": [],
   "source": [
    "import numpy as np\n",
    "from scipy.signal import medfilt\n",
    "import pandas as pd\n",
    "from scipy import stats "
   ]
  },
  {
   "cell_type": "code",
   "execution_count": 2,
   "id": "c2c28bb1",
   "metadata": {},
   "outputs": [],
   "source": [
    "FREQ = 20 \n",
    "WINDOW = 2\n",
    "SEGMENT_SIZE = FREQ * WINDOW\n",
    "OVERLAP = 20\n",
    "\n",
    "SENSOR_COLS = [\"ax\", \"ay\", \"az\", \"p\", \"r\"]\n",
    "MAX_VALUE = 32768 # 32768\n",
    "TARGET_COL = \"target\""
   ]
  },
  {
   "cell_type": "code",
   "execution_count": 3,
   "id": "bf5d9c3a",
   "metadata": {},
   "outputs": [],
   "source": [
    "def median_filter(arr):\n",
    "    values = np.asarray(arr)\n",
    "    med_filtered = medfilt(values, kernel_size=3)\n",
    "    return np.asarray(med_filtered)"
   ]
  },
  {
   "cell_type": "code",
   "execution_count": 4,
   "id": "d004ddf1",
   "metadata": {},
   "outputs": [],
   "source": [
    "def normalise(arr): \n",
    "    global MAX_VALUE\n",
    "    final_vals = np.round(arr / MAX_VALUE, 16)\n",
    "    return np.asarray(final_vals, dtype=np.float64)"
   ]
  },
  {
   "cell_type": "code",
   "execution_count": 5,
   "id": "e3e630c1",
   "metadata": {},
   "outputs": [],
   "source": [
    "def segmentation(df): \n",
    "    global SEGMENT_SIZE, OVERLAP, SENSOR_COLS, FREQ, WINDOW, TARGET_COL\n",
    "    ncols = FREQ * WINDOW * len(SENSOR_COLS)\n",
    "    segments = []\n",
    "    labels = []\n",
    "    # In each iteration, the row jumps by the overlap size\n",
    "    # grab all rows of feature column values corresponding to length of segment \n",
    "    # grab corresponding mode of targetCol\n",
    "    for row in range(0, len(df) - SEGMENT_SIZE, OVERLAP):\n",
    "        window = []\n",
    "        for col in SENSOR_COLS: \n",
    "            vals = np.asarray(df[row:row+SEGMENT_SIZE][col]) # each col's raw sensor values\n",
    "            filtered_vals = median_filter(vals) # filtered \n",
    "            normalised_vals = normalise(filtered_vals) # normalised \n",
    "            window.append(normalised_vals) # each window extracted \n",
    "        segments.append(window) # 3d list of windows \n",
    "        label = stats.mode(df[row:row+SEGMENT_SIZE][TARGET_COL])[0][0]\n",
    "        labels.append(label)\n",
    "    \n",
    "    segments = np.asarray(segments).reshape(-1,ncols) # reshaped \n",
    "    labels = np.asarray(labels)\n",
    "    return segments, labels"
   ]
  }
 ],
 "metadata": {
  "kernelspec": {
   "display_name": "pytorch_env",
   "language": "python",
   "name": "pytorch_env"
  },
  "language_info": {
   "codemirror_mode": {
    "name": "ipython",
    "version": 3
   },
   "file_extension": ".py",
   "mimetype": "text/x-python",
   "name": "python",
   "nbconvert_exporter": "python",
   "pygments_lexer": "ipython3",
   "version": "3.9.7"
  }
 },
 "nbformat": 4,
 "nbformat_minor": 5
}
