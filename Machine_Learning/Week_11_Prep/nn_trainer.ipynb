{
 "cells": [
  {
   "cell_type": "code",
   "execution_count": 1,
   "id": "9186abc2",
   "metadata": {},
   "outputs": [],
   "source": [
    "import numpy as np\n",
    "\n",
    "import torch\n",
    "import torch.nn as nn\n",
    "import torch.nn.functional as F\n",
    "from torch.utils.data import DataLoader, TensorDataset\n",
    "\n",
    "from sklearn.metrics import confusion_matrix,classification_report, accuracy_score\n",
    "from sklearn.model_selection import StratifiedKFold\n",
    "\n",
    "from statistics import mean\n",
    "import random\n",
    "import csv\n",
    "import time\n",
    "\n",
    "import matplotlib.pyplot as plt\n",
    "\n",
    "from loadData import getTrainAndTestData\n",
    "from preprocess import segmentation\n",
    "from utility import plot_confusion_matrix, plot_loss"
   ]
  },
  {
   "cell_type": "markdown",
   "id": "614ecae0",
   "metadata": {},
   "source": [
    "## Constants "
   ]
  },
  {
   "cell_type": "code",
   "execution_count": 2,
   "id": "861f0262",
   "metadata": {},
   "outputs": [],
   "source": [
    "DANCE_MOVES = [\"jamesbond\", \"dab\", \"mermaid\"]\n",
    "\n",
    "IN_FEATURES = 200\n",
    "OUT_FEATURES = 3\n",
    "HIDDEN_LAYER_1_NODES = 100\n",
    "HIDDEN_LAYER_2_NODES = 20\n",
    "\n",
    "K = 12\n",
    "EPOCHS = 50\n",
    "TRAIN_BATCH_SIZE = 108\n",
    "TEST_BATCH_SIZE = 40\n",
    "LEARNING_RATE = 0.01\n",
    "\n",
    "NUM_TO_DANCE_MAP = {0: 'dab', 1: 'jamesbond', 2: 'mermaid'}"
   ]
  },
  {
   "cell_type": "markdown",
   "id": "2a9c02a4",
   "metadata": {},
   "source": [
    "## Load Dataset"
   ]
  },
  {
   "cell_type": "code",
   "execution_count": 3,
   "id": "d637cb17",
   "metadata": {},
   "outputs": [
    {
     "name": "stdout",
     "output_type": "stream",
     "text": [
      "Input Training vector shape : (2399, 200)\n",
      "Input Training label shape : (2399,)\n",
      "Testing vector shape : (599, 200)\n",
      "Testing label shape : (599,)\n"
     ]
    }
   ],
   "source": [
    "raw_train_df, raw_test_df = getTrainAndTestData()\n",
    "training_X, lbl_train = segmentation(raw_train_df)\n",
    "testing_X, lbl_test = segmentation(raw_test_df)\n",
    "\n",
    "print(\"Input Training vector shape :\", training_X.shape)\n",
    "print(\"Input Training label shape :\", lbl_train.shape)\n",
    "print(\"Testing vector shape :\", testing_X.shape)\n",
    "print(\"Testing label shape :\", lbl_test.shape)\n",
    "\n",
    "X_train = torch.FloatTensor(training_X)\n",
    "X_test = torch.FloatTensor(testing_X)\n",
    "y_train = torch.LongTensor(lbl_train)\n",
    "y_test = torch.LongTensor(lbl_test)"
   ]
  },
  {
   "cell_type": "markdown",
   "id": "f3431321",
   "metadata": {},
   "source": [
    "## Multi-Layer Perceptron Model"
   ]
  },
  {
   "cell_type": "code",
   "execution_count": 4,
   "id": "209383b1",
   "metadata": {},
   "outputs": [],
   "source": [
    "class Model(nn.Module):\n",
    "    def __init__(self, in_features, h1, h2, out_features):\n",
    "        super().__init__()\n",
    "        self.fc1 = nn.Linear(in_features,h1)    # input layer\n",
    "        self.fc2 = nn.Linear(h1, h2)            # hidden layer\n",
    "        self.out = nn.Linear(h2, out_features)  # output layer\n",
    "        \n",
    "    def forward(self, x):\n",
    "        x = F.relu(self.fc1(x))\n",
    "        x = F.relu(self.fc2(x))\n",
    "        x = self.out(x)\n",
    "        return x"
   ]
  },
  {
   "cell_type": "markdown",
   "id": "acc28a4c",
   "metadata": {},
   "source": [
    "#### Instantiate Model class using default parameters"
   ]
  },
  {
   "cell_type": "code",
   "execution_count": 5,
   "id": "2ed47fa4",
   "metadata": {},
   "outputs": [],
   "source": [
    "torch.manual_seed(32)\n",
    "mlp = Model(in_features=IN_FEATURES, h1=HIDDEN_LAYER_1_NODES, h2=HIDDEN_LAYER_2_NODES, out_features=OUT_FEATURES)\n",
    "criterion = nn.CrossEntropyLoss()\n",
    "optimizer = torch.optim.Adam(mlp.parameters(), lr=LEARNING_RATE)"
   ]
  },
  {
   "cell_type": "markdown",
   "id": "430acd4d",
   "metadata": {},
   "source": [
    "#### 10-fold Stratified Cross Validation "
   ]
  },
  {
   "cell_type": "code",
   "execution_count": 6,
   "id": "53ded229",
   "metadata": {},
   "outputs": [
    {
     "name": "stdout",
     "output_type": "stream",
     "text": [
      "-----------------------\n",
      "fold: 0 , training_loss: 0.00020804264931939542\n",
      "fold: 0, 198 out of 200 = 99.00% correct\n",
      "-----------------------\n",
      "-----------------------\n",
      "fold: 1 , training_loss: 3.548536915332079e-05\n",
      "fold: 1, 199 out of 200 = 99.50% correct\n",
      "-----------------------\n",
      "-----------------------\n",
      "fold: 2 , training_loss: 1.591316868143622e-05\n",
      "fold: 2, 200 out of 200 = 100.00% correct\n",
      "-----------------------\n",
      "-----------------------\n",
      "fold: 3 , training_loss: 6.522729108837666e-06\n",
      "fold: 3, 200 out of 200 = 100.00% correct\n",
      "-----------------------\n",
      "-----------------------\n",
      "fold: 4 , training_loss: 3.0415158107643947e-06\n",
      "fold: 4, 200 out of 200 = 100.00% correct\n",
      "-----------------------\n",
      "-----------------------\n",
      "fold: 5 , training_loss: 1.6664662325638346e-06\n",
      "fold: 5, 200 out of 200 = 100.00% correct\n",
      "-----------------------\n",
      "-----------------------\n",
      "fold: 6 , training_loss: 8.918109415390063e-07\n",
      "fold: 6, 200 out of 200 = 100.00% correct\n",
      "-----------------------\n",
      "-----------------------\n",
      "fold: 7 , training_loss: 4.9176838956555e-07\n",
      "fold: 7, 200 out of 200 = 100.00% correct\n",
      "-----------------------\n",
      "-----------------------\n",
      "fold: 8 , training_loss: 2.4582055857536034e-07\n",
      "fold: 8, 200 out of 200 = 100.00% correct\n",
      "-----------------------\n",
      "-----------------------\n",
      "fold: 9 , training_loss: 1.32292711896298e-07\n",
      "fold: 9, 200 out of 200 = 100.00% correct\n",
      "-----------------------\n",
      "-----------------------\n",
      "fold: 10 , training_loss: 7.230822518522473e-08\n",
      "fold: 10, 200 out of 200 = 100.00% correct\n",
      "-----------------------\n",
      "-----------------------\n",
      "fold: 11 , training_loss: 3.760240474548482e-08\n",
      "fold: 11, 199 out of 199 = 100.00% correct\n",
      "-----------------------\n",
      "\n",
      "Done Training\n",
      "Max Validation Accuracy:  100.0\n"
     ]
    }
   ],
   "source": [
    "skfcv = StratifiedKFold(n_splits=K, shuffle=True, random_state=1)\n",
    "training_loss = {}\n",
    "val_acc = []\n",
    "\n",
    "# per fold \n",
    "for fold, (train_index, test_index) in enumerate(skfcv.split(X_train, y_train)):\n",
    "    x_train_fold, x_test_fold = X_train[train_index], X_train[test_index]\n",
    "    y_train_fold, y_test_fold = y_train[train_index], y_train[test_index]\n",
    "    train_combined = TensorDataset(x_train_fold, y_train_fold)\n",
    "    test_combined = TensorDataset(x_test_fold, y_test_fold)\n",
    "    trainloader = DataLoader(train_combined, batch_size=TRAIN_BATCH_SIZE, shuffle=True)\n",
    "    testloader = DataLoader(test_combined, batch_size=TEST_BATCH_SIZE, shuffle=False)\n",
    "    # per epoch\n",
    "    for i in range(EPOCHS): \n",
    "        i+=1\n",
    "        # per batch \n",
    "        losses = [] \n",
    "        val_correct_preds = 0\n",
    "        count = 0 \n",
    "        for batch_idx, (data, target) in enumerate(trainloader):\n",
    "            mlp.train()\n",
    "             \n",
    "            # training \n",
    "            y_pred = mlp.forward(data)\n",
    "            loss = criterion(y_pred, target)\n",
    "            losses.append(loss)\n",
    "            \n",
    "            # backtracking \n",
    "            optimizer.zero_grad()\n",
    "            loss.backward()\n",
    "            optimizer.step() \n",
    "        \n",
    "        # validating \n",
    "        with torch.no_grad():\n",
    "            mlp.eval()\n",
    "            for val_batch_idx, (val_data, val_target) in enumerate(testloader):\n",
    "                y_out = mlp.forward(val_data)\n",
    "                for row in range(y_out.shape[0]):\n",
    "                    if y_out[row].argmax() == val_target[row]:\n",
    "                        val_correct_preds += 1\n",
    "                    count += 1\n",
    "                    \n",
    "    # per fold         \n",
    "    with torch.no_grad():\n",
    "        training_loss[fold] = np.array(losses).mean()\n",
    "        print(\"-----------------------\")\n",
    "        print(f\"fold: {fold} , training_loss: {training_loss[fold]}\")\n",
    "        print(f\"fold: {fold}, {val_correct_preds} out of {count} = {100*val_correct_preds/count:.2f}% correct\")\n",
    "        print(\"-----------------------\")\n",
    "        val_acc.append(100*val_correct_preds/count)\n",
    "        count = 0\n",
    "\n",
    "print()\n",
    "print(\"Done Training\")\n",
    "print(\"Max Validation Accuracy: \",  np.array(val_acc).max())"
   ]
  },
  {
   "cell_type": "markdown",
   "id": "ce2b52e3",
   "metadata": {},
   "source": [
    "#### Mean Loss per fold "
   ]
  },
  {
   "cell_type": "code",
   "execution_count": 7,
   "id": "bf240080",
   "metadata": {},
   "outputs": [
    {
     "data": {
      "image/png": "[encoded data removed]",
      "text/plain": [
       "<Figure size 432x288 with 1 Axes>"
      ]
     },
     "metadata": {
      "needs_background": "light"
     },
     "output_type": "display_data"
    }
   ],
   "source": [
    "with torch.no_grad():\n",
    "    y_axis  = training_loss.values()\n",
    "    plot_loss(K,y_axis)"
   ]
  },
  {
   "cell_type": "markdown",
   "id": "d3bc32f7",
   "metadata": {},
   "source": [
    "## Evaluation "
   ]
  },
  {
   "cell_type": "code",
   "execution_count": 8,
   "id": "1b883d3c",
   "metadata": {},
   "outputs": [
    {
     "name": "stdout",
     "output_type": "stream",
     "text": [
      "--- 0.0070629119873046875 execution time in seconds ---\n",
      "Loss with test set : 0.44518965\n"
     ]
    }
   ],
   "source": [
    "# TO EVALUATE THE ENTIRE TEST SET\n",
    "with torch.no_grad():\n",
    "    start_time = time.time()\n",
    "    y_val = mlp.forward(X_test)\n",
    "    print(\"--- %s execution time in seconds ---\" % (time.time() - start_time))\n",
    "    loss = criterion(y_val, y_test)\n",
    "    print(f'Loss with test set : {loss:.8f}')"
   ]
  },
  {
   "cell_type": "code",
   "execution_count": 9,
   "id": "b9ab0404",
   "metadata": {},
   "outputs": [
    {
     "name": "stdout",
     "output_type": "stream",
     "text": [
      "\n",
      "557 out of 599 = 92.99% correct\n",
      "Confusion matrix, without normalization\n",
      "tensor([[171,   1,  28],\n",
      "        [  0, 200,   0],\n",
      "        [ 13,   0, 186]])\n",
      "Classification Report for MLP :\n",
      "              precision    recall  f1-score   support\n",
      "\n",
      "           0       0.93      0.85      0.89       200\n",
      "           1       1.00      1.00      1.00       200\n",
      "           2       0.87      0.93      0.90       199\n",
      "\n",
      "    accuracy                           0.93       599\n",
      "   macro avg       0.93      0.93      0.93       599\n",
      "weighted avg       0.93      0.93      0.93       599\n",
      "\n"
     ]
    },
    {
     "data": {
      "image/png": "[encoded data removed]",
      "text/plain": [
       "<Figure size 864x864 with 2 Axes>"
      ]
     },
     "metadata": {
      "needs_background": "light"
     },
     "output_type": "display_data"
    }
   ],
   "source": [
    "with torch.no_grad():\n",
    "    # checking accuracy on test dataset \n",
    "    preds = []\n",
    "    correct = 0\n",
    "    for i,data in enumerate(X_test):\n",
    "        y_val = mlp.forward(data)\n",
    "        preds.append(y_val.argmax().item())\n",
    "        if y_val.argmax().item() == y_test[i]:\n",
    "            correct += 1\n",
    "    print(f'\\n{correct} out of {len(y_test)} = {100*correct/len(y_test):.2f}% correct')\n",
    "    y_preds = torch.tensor(preds, dtype = torch.int64)\n",
    "    stacked = torch.stack((y_test,y_preds),dim=1)\n",
    "\n",
    "    # confusion matrix generation \n",
    "    cmt = torch.zeros(OUT_FEATURES,OUT_FEATURES, dtype=torch.int64)\n",
    "    for p in stacked:\n",
    "        tl, pl = p.tolist()\n",
    "        cmt[tl, pl] = cmt[tl, pl] + 1  \n",
    "    \n",
    "    plt.figure(figsize=(12,12))\n",
    "    plot_confusion_matrix(cmt, DANCE_MOVES)\n",
    "    \n",
    "    print(\"Classification Report for MLP :\")\n",
    "    print(classification_report(y_test, y_preds))"
   ]
  },
  {
   "cell_type": "code",
   "execution_count": 10,
   "id": "af4da898",
   "metadata": {},
   "outputs": [
    {
     "name": "stdout",
     "output_type": "stream",
     "text": [
      "dict_keys(['fc1.weight', 'fc1.bias', 'fc2.weight', 'fc2.bias', 'out.weight', 'out.bias'])\n",
      "fc1.weight : 100 neurons in fc1.weight layer\n",
      " number of connections  : 100 * 200 = 20000 \n",
      "fc1.bias : 100 neurons in fc1.bias layer\n",
      " number of connections  : 100 * 1 = 100 \n",
      "fc2.weight : 20 neurons in fc2.weight layer\n",
      " number of connections  : 20 * 100 = 2000 \n",
      "fc2.bias : 20 neurons in fc2.bias layer\n",
      " number of connections  : 20 * 1 = 20 \n",
      "out.weight : 3 neurons in out.weight layer\n",
      " number of connections  : 3 * 20 = 60 \n",
      "out.bias : 3 neurons in out.bias layer\n",
      " number of connections  : 3 * 1 = 3 \n"
     ]
    }
   ],
   "source": [
    "# model weights \n",
    "with torch.no_grad():\n",
    "    mlp_params = {}\n",
    "    for name, param in mlp.named_parameters():\n",
    "        mlp_params[name] = param.numpy().copy().tolist()\n",
    "        \n",
    "    print(mlp_params.keys())\n",
    "    for key in mlp_params.keys(): \n",
    "        print(f\"{key} : {len(mlp_params[key])} neurons in {key} layer\")\n",
    "        print(f\" number of connections  : {len(mlp_params[key])} * {np.asarray(mlp_params[key][len(mlp_params[key]) -1]).size} = {len(mlp_params[key]) * np.asarray(mlp_params[key][len(mlp_params[key]) -1]).size } \")\n",
    "\n",
    "    # save model weights \n",
    "    with open('mlp.csv', 'w') as csv_file:  \n",
    "        writer = csv.writer(csv_file)\n",
    "        for key, value in mlp_params.items():\n",
    "           writer.writerow([key, value])"
   ]
  },
  {
   "cell_type": "markdown",
   "id": "0940b253",
   "metadata": {},
   "source": [
    "## Save & Load Model"
   ]
  },
  {
   "cell_type": "code",
   "execution_count": 11,
   "id": "308d3de1",
   "metadata": {},
   "outputs": [
    {
     "data": {
      "text/plain": [
       "Model(\n",
       "  (fc1): Linear(in_features=200, out_features=100, bias=True)\n",
       "  (fc2): Linear(in_features=100, out_features=20, bias=True)\n",
       "  (out): Linear(in_features=20, out_features=3, bias=True)\n",
       ")"
      ]
     },
     "execution_count": 11,
     "metadata": {},
     "output_type": "execute_result"
    }
   ],
   "source": [
    "torch.save(mlp.state_dict(), 'MLPW9.pt')\n",
    "loaded_model = Model(in_features=IN_FEATURES,h1=HIDDEN_LAYER_1_NODES, h2=HIDDEN_LAYER_2_NODES, out_features=OUT_FEATURES) \n",
    "loaded_model.load_state_dict(torch.load('MLPW9.pt'))\n",
    "loaded_model.eval()"
   ]
  },
  {
   "cell_type": "code",
   "execution_count": 12,
   "id": "11d6d14b",
   "metadata": {},
   "outputs": [
    {
     "name": "stdout",
     "output_type": "stream",
     "text": [
      "0.44518965\n"
     ]
    }
   ],
   "source": [
    "# loss when loaded model is run on test dataset \n",
    "with torch.no_grad():\n",
    "    y_val = loaded_model.forward(X_test)\n",
    "    loss = criterion(y_val, y_test)\n",
    "    print(f'{loss:.8f}')"
   ]
  },
  {
   "cell_type": "code",
   "execution_count": 13,
   "id": "c71a3207",
   "metadata": {},
   "outputs": [
    {
     "name": "stdout",
     "output_type": "stream",
     "text": [
      "tensor([-2.1362e-03, -2.8381e-03, -2.1362e-03, -2.1667e-03, -5.1880e-04,\n",
      "        -2.1667e-03, -2.1973e-03, -2.2583e-03, -2.2583e-03, -2.0447e-03,\n",
      "        -2.0447e-03, -2.7161e-03, -2.7161e-03, -2.6245e-03, -2.4109e-03,\n",
      "        -2.4109e-03, -2.3193e-03, -2.1973e-03, -2.0142e-03, -1.9226e-03,\n",
      "        -1.5869e-03, -1.4954e-03, -9.7656e-04, -9.7656e-04, -1.9226e-03,\n",
      "        -2.5330e-03, -2.7771e-03, -3.0518e-03, -3.4180e-03, -3.4180e-03,\n",
      "        -3.1128e-03, -2.9297e-03, -3.1128e-03, -2.2583e-03, -1.9226e-03,\n",
      "        -1.9226e-03, -1.5564e-03, -6.4087e-04,  1.8311e-04,  1.8311e-04,\n",
      "        -6.4087e-04, -6.4087e-04, -2.7466e-04,  1.2207e-03,  2.1057e-03,\n",
      "         2.1057e-03,  1.5869e-03,  1.1597e-03,  7.3242e-04,  3.0518e-04,\n",
      "         3.0518e-04,  4.8828e-04,  4.8828e-04,  5.4932e-04,  5.1880e-04,\n",
      "         6.1035e-04,  5.4932e-04,  6.7139e-04,  6.7139e-04,  7.0190e-04,\n",
      "         1.0376e-03,  1.1902e-03,  1.1902e-03,  1.0071e-03,  7.0190e-04,\n",
      "         7.0190e-04,  1.5259e-04,  9.1553e-05,  1.5259e-04,  1.5259e-04,\n",
      "         3.6621e-04,  8.5449e-04,  1.0071e-03,  8.5449e-04,  4.5776e-04,\n",
      "         4.5776e-04,  5.1880e-04,  1.0986e-03,  1.7090e-03,  1.7090e-03,\n",
      "        -1.8616e-03, -1.8616e-03, -1.3428e-03, -7.0190e-04, -7.0190e-04,\n",
      "        -1.4954e-03, -1.4954e-03, -1.4954e-03, -1.4954e-03, -1.5259e-03,\n",
      "        -1.7090e-03, -1.7090e-03, -1.8616e-03, -1.9836e-03, -1.9836e-03,\n",
      "        -1.8005e-03, -1.7395e-03, -1.7395e-03, -1.7090e-03, -1.7090e-03,\n",
      "        -1.7090e-03, -1.5259e-03, -1.5259e-03, -1.6785e-03, -2.3193e-03,\n",
      "        -2.4109e-03, -3.2654e-03, -3.8147e-03, -3.8147e-03, -3.8147e-03,\n",
      "        -3.3569e-03, -2.7161e-03, -2.7161e-03, -2.7161e-03, -2.5024e-03,\n",
      "        -2.2583e-03, -2.1667e-03, -2.1057e-03, -2.0752e-03, -2.0752e-03,\n",
      "         0.0000e+00,  9.2773e-03,  9.2773e-03,  3.8757e-03,  7.0190e-04,\n",
      "         1.6785e-03,  1.6785e-03,  1.6785e-03,  3.4180e-03, -8.2397e-04,\n",
      "         3.4180e-03,  3.5095e-03,  3.5095e-03,  1.4648e-03,  1.4648e-03,\n",
      "         2.6245e-03,  2.6245e-03, -2.8992e-03, -4.7607e-03, -2.8992e-03,\n",
      "         1.2207e-03,  2.8076e-03,  8.8196e-03,  1.8799e-02,  1.8799e-02,\n",
      "         1.4130e-02,  8.6975e-03,  8.6975e-03,  1.1444e-02,  1.1444e-02,\n",
      "         5.8594e-03,  3.5400e-03,  3.5400e-03,  2.1362e-03,  7.0190e-03,\n",
      "         2.4719e-03,  2.4719e-03, -1.0742e-02, -1.0742e-02, -4.2419e-03,\n",
      "         1.9440e-02,  1.9440e-02,  1.3214e-02,  1.1627e-02,  5.6763e-03,\n",
      "         5.6763e-03,  8.7280e-03,  1.2726e-02,  1.2726e-02,  5.3711e-03,\n",
      "         5.3711e-03,  7.2327e-03,  7.2632e-03,  7.2327e-03,  7.6294e-03,\n",
      "         9.2773e-03,  9.2773e-03,  9.5215e-03,  6.9275e-03,  9.6436e-03,\n",
      "         1.4465e-02,  1.7761e-02,  1.4465e-02,  7.0801e-03,  6.8359e-03,\n",
      "        -1.1597e-03, -1.5533e-02, -1.5533e-02, -8.3618e-03, -4.6387e-03,\n",
      "         6.3477e-03,  7.2632e-03,  7.2632e-03,  5.2795e-03,  4.6082e-03,\n",
      "         5.1880e-04, -2.1057e-03, -2.9297e-03, -2.1057e-03, -3.0518e-05])\n",
      "torch.Size([200])\n",
      "tensor([ -2.5163,  24.3066, -24.2985])\n",
      "\n",
      "tensor(24.3066)\n",
      "1\n",
      "Predicted Output: jamesbond\n",
      "Actual Output: jamesbond\n"
     ]
    }
   ],
   "source": [
    "# run model on a random sample row of the test dataset \n",
    "random.seed(899)\n",
    "random_int = random.randint(0, len(testing_X))\n",
    "random_input = torch.FloatTensor(testing_X[random_int])\n",
    "print(random_input)\n",
    "print(random_input.shape)\n",
    "\n",
    "# random_input = torch.FloatTensor([])\n",
    "\n",
    "with torch.no_grad():\n",
    "    print(loaded_model(random_input))\n",
    "    print()\n",
    "    print(loaded_model(random_input).max())\n",
    "    print(loaded_model(random_input).argmax().item())\n",
    "    print(f\"Predicted Output: {NUM_TO_DANCE_MAP[loaded_model(random_input).argmax().item()]}\")\n",
    "    print(f\"Actual Output: {NUM_TO_DANCE_MAP[y_test[random_int].item()]}\")"
   ]
  },
  {
   "cell_type": "code",
   "execution_count": 14,
   "id": "3bd7ff14",
   "metadata": {},
   "outputs": [],
   "source": [
    "# save test dataset\n",
    "with torch.no_grad(): \n",
    "    x = X_test.numpy().copy().tolist()\n",
    "    np.savetxt(\"X_test.csv\", x, delimiter=\",\")\n",
    "    y = y_test.numpy().copy().tolist()\n",
    "    np.savetxt(\"y_test.csv\", y, delimiter=\",\")"
   ]
  }
 ],
 "metadata": {
  "kernelspec": {
   "display_name": "pytorch_env",
   "language": "python",
   "name": "pytorch_env"
  },
  "language_info": {
   "codemirror_mode": {
    "name": "ipython",
    "version": 3
   },
   "file_extension": ".py",
   "mimetype": "text/x-python",
   "name": "python",
   "nbconvert_exporter": "python",
   "pygments_lexer": "ipython3",
   "version": "3.9.7"
  }
 },
 "nbformat": 4,
 "nbformat_minor": 5
}
