{
 "cells": [
  {
   "cell_type": "code",
   "execution_count": 1,
   "id": "9e261139",
   "metadata": {},
   "outputs": [],
   "source": [
    "import pandas as pd\n",
    "import glob"
   ]
  },
  {
   "cell_type": "code",
   "execution_count": 2,
   "id": "839592b3",
   "metadata": {},
   "outputs": [],
   "source": [
    "TRAIN_FILEPATH = \"../capstone_data/train2/*.csv\"\n",
    "TEST_FILEPATH = \"../capstone_data/test2/*.csv\"\n",
    "\n",
    "SENSOR_COLS = [\"ax\", \"ay\", \"az\", \"y\", \"p\", \"r\", \"start_move\", \"checksum\"]\n",
    "\n",
    "DANCE_TO_NUM_MAP = {'dab': 0, 'jamesbond': 1, 'mermaid': 2}"
   ]
  },
  {
   "cell_type": "code",
   "execution_count": 3,
   "id": "8c7135eb",
   "metadata": {},
   "outputs": [],
   "source": [
    "def load_data_paths(location):\n",
    "    \"\"\"\n",
    "    Gets file path to each csv data file packaged into an array.\n",
    "    Input: filepath to csv files i.e. string\n",
    "    Return: 1D array of filepaths to each csv \n",
    "    \"\"\"\n",
    "    data_paths = []\n",
    "    for name in glob.glob(location):\n",
    "        data_paths.append(name)\n",
    "    return data_paths"
   ]
  },
  {
   "cell_type": "code",
   "execution_count": 4,
   "id": "9f5d1e4c",
   "metadata": {},
   "outputs": [],
   "source": [
    "def gen_rawData(given_filepaths):\n",
    "    \"\"\"\n",
    "    Data from each csv packaged into a dict. Ensure that filenames are like \"dab_sean_1.csv\"\n",
    "    Input: given_filepaths i.e. filepaths 1D array\n",
    "    Return: dictionary of raw dfs, with key being {subjectName}_{dance}_{trialNum}\n",
    "    \"\"\"\n",
    "    global SENSOR_COLS\n",
    "    \n",
    "    frames = {}\n",
    "    for filepath in given_filepaths:\n",
    "        _, s, subjectName, ext = filepath.split(\"_\")\n",
    "        _, _, dance = s.split(\"/\")\n",
    "        trialNum, _ = ext.split(\".\")\n",
    "        raw_df = pd.read_csv(filepath, names=SENSOR_COLS, header=None, index_col=None)\n",
    "        raw_df.dropna(inplace= True)\n",
    "        raw_df.drop(columns=[\"y\", \"start_move\", \"checksum\"], axis=1,inplace=True)\n",
    "        raw_df.reset_index(drop=True,inplace=True)\n",
    "        raw_df[\"subject\"] = subjectName\n",
    "        raw_df[\"trialNum\"] = int(trialNum)\n",
    "        raw_df[\"dance\"] = dance\n",
    "        frames[f\"{subjectName}_{dance}_{trialNum}\"] = raw_df\n",
    "        \n",
    "    return frames "
   ]
  },
  {
   "cell_type": "code",
   "execution_count": 5,
   "id": "858409ad",
   "metadata": {},
   "outputs": [],
   "source": [
    "def concatenator(raw_dic):\n",
    "    \"\"\"\n",
    "    Concatenate raw dict along the rows to generate a concatenated df.\n",
    "    Input: raw_dic\n",
    "    Return: concatenated_df i.e. dframe \n",
    "    \"\"\"\n",
    "    concatenated_df = pd.concat(raw_dic.values(), axis = 0, ignore_index=True)\n",
    "    return concatenated_df"
   ]
  },
  {
   "cell_type": "code",
   "execution_count": 6,
   "id": "8470eef7",
   "metadata": {},
   "outputs": [],
   "source": [
    "def getTrainAndTestData():\n",
    "    \"\"\"\n",
    "    Map the dance moves to target and get the full training & test data frames.\n",
    "    \"\"\"\n",
    "    \n",
    "    global TRAIN_FILEPATH, TEST_FILEPATH, DANCE_TO_NUM_MAP\n",
    "    \n",
    "    raw_train_df = concatenator(gen_rawData(load_data_paths(TRAIN_FILEPATH)))\n",
    "    raw_test_df = concatenator(gen_rawData(load_data_paths(TEST_FILEPATH)))\n",
    "    raw_train_df[\"target\"] = raw_train_df[\"dance\"].map(DANCE_TO_NUM_MAP)\n",
    "    raw_test_df[\"target\"] = raw_test_df[\"dance\"].map(DANCE_TO_NUM_MAP)\n",
    "    \n",
    "    \n",
    "    return raw_train_df, raw_test_df"
   ]
  },
  {
   "cell_type": "code",
   "execution_count": 7,
   "id": "4dd888a0",
   "metadata": {},
   "outputs": [],
   "source": [
    "# raw_train_df, raw_test_df = getTrainAndTestData()"
   ]
  },
  {
   "cell_type": "code",
   "execution_count": 8,
   "id": "29fb10f2",
   "metadata": {},
   "outputs": [],
   "source": [
    "# raw_train_df.describe()"
   ]
  },
  {
   "cell_type": "code",
   "execution_count": 9,
   "id": "326695f0",
   "metadata": {},
   "outputs": [],
   "source": [
    "# raw_test_df.describe()"
   ]
  },
  {
   "cell_type": "code",
   "execution_count": 10,
   "id": "6cc93a4a",
   "metadata": {},
   "outputs": [],
   "source": [
    "# raw_test_df"
   ]
  },
  {
   "cell_type": "code",
   "execution_count": 11,
   "id": "7fe70894",
   "metadata": {},
   "outputs": [],
   "source": [
    "# raw_train_df"
   ]
  }
 ],
 "metadata": {
  "kernelspec": {
   "display_name": "pytorch_env",
   "language": "python",
   "name": "pytorch_env"
  },
  "language_info": {
   "codemirror_mode": {
    "name": "ipython",
    "version": 3
   },
   "file_extension": ".py",
   "mimetype": "text/x-python",
   "name": "python",
   "nbconvert_exporter": "python",
   "pygments_lexer": "ipython3",
   "version": "3.9.7"
  }
 },
 "nbformat": 4,
 "nbformat_minor": 5
}
