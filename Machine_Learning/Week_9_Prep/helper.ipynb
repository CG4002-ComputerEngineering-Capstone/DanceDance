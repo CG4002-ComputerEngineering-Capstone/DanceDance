{
 "cells": [
  {
   "cell_type": "code",
   "execution_count": 1,
   "id": "ef8ea48a",
   "metadata": {},
   "outputs": [],
   "source": [
    "import numpy as np\n",
    "import pandas as pd\n",
    "import matplotlib.pyplot as plt \n",
    "import seaborn as sn\n",
    "\n",
    "plt.style.use('ggplot')\n",
    "sn.set_style(\"whitegrid\")\n",
    "%matplotlib inline"
   ]
  },
  {
   "cell_type": "code",
   "execution_count": 4,
   "id": "94b0918e",
   "metadata": {},
   "outputs": [],
   "source": [
    "def plot_each_axial_change(y_values,timeAxis, heading):\n",
    "    \"\"\"\n",
    "    Input: y_values i.e. 2D Numpy array containing - originalVals, afterFilterAndNormalisation\n",
    "    Input: timeAxis i.e. 1D Numpy time array for axis in seconds \n",
    "    Input: heading i.e. string for the title of the subplots \n",
    "    Return: fig \n",
    "    \"\"\"\n",
    "    titles = [\"Raw Sensor values\" ,\"Upon Filter and Normalisation\"]\n",
    "    \n",
    "    fig, ax = plt.subplots(1, 2)\n",
    "    for i in range(1):\n",
    "        for j in range(3):\n",
    "            ax[i, j].plot(timeAxis,y_values[j])\n",
    "            ax.title(titles[j])\n",
    "            \n",
    "    fig.suptitle(heading)\n",
    "    fig.show()"
   ]
  },
  {
   "cell_type": "code",
   "execution_count": null,
   "id": "81fb350c",
   "metadata": {},
   "outputs": [],
   "source": []
  }
 ],
 "metadata": {
  "kernelspec": {
   "display_name": "pytorch_env",
   "language": "python",
   "name": "pytorch_env"
  },
  "language_info": {
   "codemirror_mode": {
    "name": "ipython",
    "version": 3
   },
   "file_extension": ".py",
   "mimetype": "text/x-python",
   "name": "python",
   "nbconvert_exporter": "python",
   "pygments_lexer": "ipython3",
   "version": "3.9.6"
  }
 },
 "nbformat": 4,
 "nbformat_minor": 5
}
