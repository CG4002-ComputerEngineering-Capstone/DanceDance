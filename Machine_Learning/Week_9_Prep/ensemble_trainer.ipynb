{
 "cells": [
  {
   "cell_type": "code",
   "execution_count": 1,
   "id": "cd94b76e",
   "metadata": {},
   "outputs": [
    {
     "name": "stdout",
     "output_type": "stream",
     "text": [
      "TrainingVector shape (3058, 360)\n",
      "Label Train shape (3058,)\n",
      "TestingVector shape (538, 360)\n",
      "Label Test shape (538,)\n"
     ]
    }
   ],
   "source": [
    "import numpy as np\n",
    "\n",
    "from sklearn.metrics import confusion_matrix,classification_report, accuracy_score\n",
    "from sklearn.model_selection import StratifiedKFold\n",
    "from sklearn.ensemble import ExtraTreesClassifier, VotingClassifier\n",
    "from sklearn import svm\n",
    "from sklearn.neighbors import KNeighborsClassifier\n",
    "\n",
    "\n",
    "from statistics import mean, stdev\n",
    "import random\n",
    "import pickle\n",
    "\n",
    "\n",
    "import matplotlib.pyplot as plt\n",
    "import seaborn as sn\n",
    "plt.style.use('ggplot')\n",
    "sn.set_style(\"whitegrid\")\n",
    "%matplotlib inline\n",
    "\n",
    "from confused import make_confusion_matrix\n",
    "from processV2 import concatenator, load_data_paths, gen_rawData\n",
    "from processV2 import normaliseTestData, normaliseTrainData, segment_df, getInputVector"
   ]
  },
  {
   "cell_type": "code",
   "execution_count": 2,
   "id": "aca8c1d8",
   "metadata": {},
   "outputs": [
    {
     "name": "stdout",
     "output_type": "stream",
     "text": [
      "TrainingVector shape (3058, 360)\n",
      "Label Train shape (3058,)\n",
      "TestingVector shape (538, 360)\n",
      "Label Test shape (538,)\n"
     ]
    }
   ],
   "source": [
    "TRAIN_FILEPATH = \"./capstone_data/train/*.csv\"\n",
    "TEST_FILEPATH = \"./capstone_data/test/*.csv\"\n",
    "\n",
    "DANCE_TO_NUM_MAP = {'dab': 0, 'jamesbond': 1, 'mermaid': 2}\n",
    "NUM_TO_DANCE_MAP = {0: 'dab', 1: 'jamesbond', 2: 'mermaid'}\n",
    "\n",
    "DANCE_MOVES = [\"jamesbond\", \"dab\", \"mermaid\"]\n",
    "\n",
    "\n",
    "raw_train_df = concatenator(gen_rawData(load_data_paths(TRAIN_FILEPATH)))\n",
    "raw_test_df = concatenator(gen_rawData(load_data_paths(TEST_FILEPATH)))\n",
    "TRAIN_MAX = normaliseTrainData(raw_train_df)\n",
    "normaliseTestData(raw_test_df, TRAIN_MAX)\n",
    "raw_test_df[\"target\"] = raw_test_df[\"dance\"].map(DANCE_TO_NUM_MAP)\n",
    "raw_train_df[\"target\"] = raw_train_df[\"dance\"].map(DANCE_TO_NUM_MAP)\n",
    "test_segs, lbl_test = segment_df(raw_test_df, \"target\")\n",
    "train_segs, lbl_train = segment_df(raw_train_df, \"target\")\n",
    "training_X = getInputVector(train_segs)\n",
    "testing_X = getInputVector(test_segs)\n",
    "print(\"TrainingVector shape\", training_X.shape)\n",
    "print(\"Label Train shape\", lbl_train.shape )\n",
    "print(\"TestingVector shape\", testing_X.shape)\n",
    "print(\"Label Test shape\", lbl_test.shape )\n",
    "\n",
    "\n",
    "X_train = np.asarray(training_X)\n",
    "X_test = np.asarray(testing_X)\n",
    "y_train = np.asarray(lbl_train)\n",
    "y_test = np.asarray(lbl_test)"
   ]
  },
  {
   "cell_type": "code",
   "execution_count": 3,
   "id": "8067b9ad",
   "metadata": {},
   "outputs": [],
   "source": [
    "def fold_trainer(model, x,y, name):\n",
    "    skf = StratifiedKFold(n_splits=10, shuffle=True, random_state=1)\n",
    "    scores = []\n",
    "    for train_index, test_index in skf.split(x, y):\n",
    "        x_train_fold, x_test_fold = x[train_index], x[test_index]\n",
    "        y_train_fold, y_test_fold = y[train_index], y[test_index]\n",
    "        model.fit(x_train_fold, y_train_fold)\n",
    "        scores.append(model.score(x_test_fold, y_test_fold))\n",
    "    print(f\"-------------------------{name}--------------------------------\")\n",
    "    print()\n",
    "    print('List of possible accuracy:', scores)\n",
    "    print(f\"\\nMaximum Accuracy That can be obtained from {name} is:\", max(scores)*100, '%')\n",
    "    print('\\nMinimum Accuracy:',min(scores)*100, '%')\n",
    "    print('\\nOverall Accuracy:',mean(scores)*100, '%')\n",
    "    print('\\nStandard Deviation is:', stdev(scores))\n",
    "    print(f\"---------------------------------------------------------------\")\n",
    "    print()"
   ]
  },
  {
   "cell_type": "code",
   "execution_count": 4,
   "id": "ccc52283",
   "metadata": {},
   "outputs": [],
   "source": [
    "exClf = ExtraTreesClassifier(n_estimators=300, random_state=0)\n",
    "poly = svm.SVC(kernel='poly', degree=3, C=1, decision_function_shape='ovo')\n",
    "knn = KNeighborsClassifier()"
   ]
  },
  {
   "cell_type": "code",
   "execution_count": 5,
   "id": "d6814d94",
   "metadata": {},
   "outputs": [
    {
     "name": "stdout",
     "output_type": "stream",
     "text": [
      "-------------------------Voting-Classifier--------------------------------\n",
      "\n",
      "List of possible accuracy: [0.9967320261437909, 0.9934640522875817, 0.9934640522875817, 0.9967320261437909, 0.9967320261437909, 0.9967320261437909, 0.9836601307189542, 0.9836601307189542, 1.0, 0.9901639344262295]\n",
      "\n",
      "Maximum Accuracy That can be obtained from Voting-Classifier is: 100.0 %\n",
      "\n",
      "Minimum Accuracy: 98.36601307189542 %\n",
      "\n",
      "Overall Accuracy: 99.31340405014465 %\n",
      "\n",
      "Standard Deviation is: 0.005651673118599145\n",
      "---------------------------------------------------------------\n",
      "\n"
     ]
    }
   ],
   "source": [
    "vc = VotingClassifier(estimators = [('svm',poly),('exClf',exClf), ('knn', knn)], voting='hard')\n",
    "fold_trainer(vc,X_train,y_train,\"Voting-Classifier\")"
   ]
  },
  {
   "cell_type": "code",
   "execution_count": 6,
   "id": "07f0e813",
   "metadata": {},
   "outputs": [
    {
     "name": "stdout",
     "output_type": "stream",
     "text": [
      "              precision    recall  f1-score   support\n",
      "\n",
      "           0       0.97      0.86      0.91       182\n",
      "           1       0.88      0.98      0.93       180\n",
      "           2       0.99      0.99      0.99       176\n",
      "\n",
      "    accuracy                           0.94       538\n",
      "   macro avg       0.95      0.94      0.94       538\n",
      "weighted avg       0.95      0.94      0.94       538\n",
      "\n"
     ]
    },
    {
     "data": {
      "image/png": "[encoded data removed]",
      "text/plain": [
       "<Figure size 576x432 with 2 Axes>"
      ]
     },
     "metadata": {
      "needs_background": "light"
     },
     "output_type": "display_data"
    }
   ],
   "source": [
    "y_preds = vc.predict(X_test)\n",
    "print(classification_report(lbl_test, y_preds))\n",
    "cmt = confusion_matrix(lbl_test, y_preds)\n",
    "make_confusion_matrix(cmt,categories=DANCE_MOVES, figsize=(8,6))"
   ]
  },
  {
   "cell_type": "code",
   "execution_count": 7,
   "id": "cdf5b61c",
   "metadata": {},
   "outputs": [
    {
     "name": "stdout",
     "output_type": "stream",
     "text": [
      "actual output : dab\n",
      "(1, 360)\n"
     ]
    }
   ],
   "source": [
    "random.seed(89)\n",
    "random_int = random.randint(0, len(testing_X))\n",
    "print(\"actual output :\", NUM_TO_DANCE_MAP[lbl_test[random_int]])\n",
    "random_input = np.asarray(testing_X[random_int]).reshape(-1,360)\n",
    "print(random_input.shape)"
   ]
  },
  {
   "cell_type": "code",
   "execution_count": 8,
   "id": "23967f92",
   "metadata": {},
   "outputs": [
    {
     "name": "stdout",
     "output_type": "stream",
     "text": [
      "[1]\n"
     ]
    },
    {
     "data": {
      "text/plain": [
       "'jamesbond'"
      ]
     },
     "execution_count": 8,
     "metadata": {},
     "output_type": "execute_result"
    }
   ],
   "source": [
    "def getPrediction(arr):\n",
    "    out = vc.predict(arr)\n",
    "    print(out)\n",
    "    return NUM_TO_DANCE_MAP[out[0]]\n",
    "\n",
    "getPrediction(random_input)"
   ]
  },
  {
   "cell_type": "code",
   "execution_count": 9,
   "id": "3fa2f311",
   "metadata": {},
   "outputs": [],
   "source": [
    "# saving\n",
    "with open('testEnsemble.pkl', 'wb') as f:\n",
    "    pickle.dump(vc, f)"
   ]
  }
 ],
 "metadata": {
  "kernelspec": {
   "display_name": "pytorch_env",
   "language": "python",
   "name": "pytorch_env"
  },
  "language_info": {
   "codemirror_mode": {
    "name": "ipython",
    "version": 3
   },
   "file_extension": ".py",
   "mimetype": "text/x-python",
   "name": "python",
   "nbconvert_exporter": "python",
   "pygments_lexer": "ipython3",
   "version": "3.9.6"
  }
 },
 "nbformat": 4,
 "nbformat_minor": 5
}
