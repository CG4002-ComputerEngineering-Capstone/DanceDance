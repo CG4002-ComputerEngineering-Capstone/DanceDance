{
 "cells": [
  {
   "cell_type": "code",
   "execution_count": 1,
   "id": "9186abc2",
   "metadata": {},
   "outputs": [],
   "source": [
    "import numpy as np\n",
    "import torch\n",
    "import torch.nn as nn\n",
    "import torch.nn.functional as F\n",
    "from torch.utils.data import DataLoader, TensorDataset\n",
    "\n",
    "from sklearn.metrics import confusion_matrix,classification_report, accuracy_score, precision_score, recall_score, f1_score\n",
    "from sklearn.model_selection import StratifiedKFold\n",
    "\n",
    "from statistics import mean\n",
    "import random\n",
    "import csv\n",
    "import time\n",
    "\n",
    "import matplotlib.pyplot as plt\n",
    "import seaborn as sn\n",
    "plt.style.use('ggplot')\n",
    "sn.set_style(\"whitegrid\")\n",
    "%matplotlib inline\n",
    "\n",
    "\n",
    "from features import generate_final_dataset, gen_rawData, load_data_paths, getInputVector, segment_df, concatenator, plot_confusion_matrix"
   ]
  },
  {
   "cell_type": "markdown",
   "id": "614ecae0",
   "metadata": {},
   "source": [
    "## Constants "
   ]
  },
  {
   "cell_type": "code",
   "execution_count": 2,
   "id": "861f0262",
   "metadata": {},
   "outputs": [],
   "source": [
    "TRAIN_FILEPATH = \"./capstone_data/train/*.csv\"\n",
    "TEST_FILEPATH = \"./capstone_data/test/*.csv\"\n",
    "\n",
    "DANCE_MOVES = [\"jamesbond\", \"dab\", \"mermaid\"]\n",
    "IN_FEATURES = 480\n",
    "OUT_FEATURES = 3\n",
    "HIDDEN_LAYER_1_NODES = 80\n",
    "HIDDEN_LAYER_2_NODES = 40\n",
    "K = 10   \n",
    "EPOCHS = 100\n",
    "TRAIN_BATCH_SIZE = 108\n",
    "TEST_BATCH_SIZE = 72\n",
    "LEARNING_RATE = 0.01\n",
    "NUM_TO_DANCE_MAP = {0: 'dab', 1: 'jamesbond', 2: 'mermaid'}"
   ]
  },
  {
   "cell_type": "markdown",
   "id": "2a9c02a4",
   "metadata": {},
   "source": [
    "## Load Dataset"
   ]
  },
  {
   "cell_type": "code",
   "execution_count": 3,
   "id": "d637cb17",
   "metadata": {},
   "outputs": [
    {
     "name": "stdout",
     "output_type": "stream",
     "text": [
      "testing_X input vector shape : (538, 480)\n",
      "labels for test shape: (538,)\n",
      "training_X input vector shape : (2698, 480)\n",
      "labels for train shape: (2698,)\n"
     ]
    }
   ],
   "source": [
    "# test\n",
    "test_dic = generate_final_dataset(gen_rawData(load_data_paths(TEST_FILEPATH)))\n",
    "data_test, lbl_test = segment_df(concatenator(test_dic), \"target\")\n",
    "testing_X = getInputVector(data_test)\n",
    "print(f\"testing_X input vector shape : {testing_X.shape}\")\n",
    "print(f\"labels for test shape: {lbl_test.shape}\")\n",
    "\n",
    "# train\n",
    "train_dic = generate_final_dataset(gen_rawData(load_data_paths(TRAIN_FILEPATH)))\n",
    "data_train, lbl_train = segment_df(concatenator(train_dic), \"target\")\n",
    "training_X = getInputVector(data_train)\n",
    "print(f\"training_X input vector shape : {training_X.shape}\")\n",
    "print(f\"labels for train shape: {lbl_train.shape}\")\n",
    "\n",
    "X_train = torch.FloatTensor(training_X)\n",
    "X_test = torch.FloatTensor(testing_X)\n",
    "y_train = torch.LongTensor(lbl_train)\n",
    "y_test = torch.LongTensor(lbl_test)"
   ]
  },
  {
   "cell_type": "markdown",
   "id": "f3431321",
   "metadata": {},
   "source": [
    "## Multi-Layer Perceptron Model"
   ]
  },
  {
   "cell_type": "code",
   "execution_count": 4,
   "id": "209383b1",
   "metadata": {},
   "outputs": [],
   "source": [
    "class Model(nn.Module):\n",
    "    def __init__(self, in_features, h1, h2, out_features):\n",
    "        super().__init__()\n",
    "        self.fc1 = nn.Linear(in_features,h1)    # input layer\n",
    "        self.fc2 = nn.Linear(h1, h2)            # hidden layer\n",
    "        self.out = nn.Linear(h2, out_features)  # output layer\n",
    "        \n",
    "    def forward(self, x):\n",
    "        x = F.relu(self.fc1(x))\n",
    "        x = F.relu(self.fc2(x))\n",
    "        x = self.out(x)\n",
    "        return x"
   ]
  },
  {
   "cell_type": "markdown",
   "id": "acc28a4c",
   "metadata": {},
   "source": [
    "#### Instantiate Model class using default parameters"
   ]
  },
  {
   "cell_type": "code",
   "execution_count": 5,
   "id": "2ed47fa4",
   "metadata": {},
   "outputs": [],
   "source": [
    "torch.manual_seed(32)\n",
    "mlp = Model(in_features=IN_FEATURES, h1=HIDDEN_LAYER_1_NODES, h2=HIDDEN_LAYER_2_NODES, out_features=OUT_FEATURES)\n",
    "criterion = nn.CrossEntropyLoss()\n",
    "optimizer = torch.optim.Adam(mlp.parameters(), lr=LEARNING_RATE)"
   ]
  },
  {
   "cell_type": "markdown",
   "id": "430acd4d",
   "metadata": {},
   "source": [
    "#### 10-fold Stratified Cross Validation "
   ]
  },
  {
   "cell_type": "code",
   "execution_count": 6,
   "id": "53ded229",
   "metadata": {},
   "outputs": [
    {
     "name": "stdout",
     "output_type": "stream",
     "text": [
      "-----------------------\n",
      "fold: 0 , training_loss: 3.7776148928969633e-06\n",
      "fold: 0, 266 out of 270 = 98.52% correct\n",
      "-----------------------\n",
      "-----------------------\n",
      "fold: 1 , training_loss: 7.673599611734971e-06\n",
      "fold: 1, 267 out of 270 = 98.89% correct\n",
      "-----------------------\n",
      "-----------------------\n",
      "fold: 2 , training_loss: 4.406187144923024e-06\n",
      "fold: 2, 268 out of 270 = 99.26% correct\n",
      "-----------------------\n",
      "-----------------------\n",
      "fold: 3 , training_loss: 2.9104517125233542e-06\n",
      "fold: 3, 268 out of 270 = 99.26% correct\n",
      "-----------------------\n",
      "-----------------------\n",
      "fold: 4 , training_loss: 2.229790652563679e-06\n",
      "fold: 4, 270 out of 270 = 100.00% correct\n",
      "-----------------------\n",
      "-----------------------\n",
      "fold: 5 , training_loss: 4.502440162923449e-07\n",
      "fold: 5, 270 out of 270 = 100.00% correct\n",
      "-----------------------\n",
      "-----------------------\n",
      "fold: 6 , training_loss: 1.1776293717957742e-07\n",
      "fold: 6, 270 out of 270 = 100.00% correct\n",
      "-----------------------\n",
      "-----------------------\n",
      "fold: 7 , training_loss: 3.3914524522060674e-08\n",
      "fold: 7, 270 out of 270 = 100.00% correct\n",
      "-----------------------\n",
      "-----------------------\n",
      "fold: 8 , training_loss: 9.022265601288382e-09\n",
      "fold: 8, 269 out of 269 = 100.00% correct\n",
      "-----------------------\n",
      "-----------------------\n",
      "fold: 9 , training_loss: 2.3035600094090114e-09\n",
      "fold: 9, 269 out of 269 = 100.00% correct\n",
      "-----------------------\n",
      "\n",
      "Done Training\n",
      "Max Validation Accuracy:  100.0\n"
     ]
    }
   ],
   "source": [
    "skfcv = StratifiedKFold(n_splits=K, shuffle=True, random_state=1)\n",
    "training_loss = {}\n",
    "val_acc = []\n",
    "\n",
    "# per fold \n",
    "for fold, (train_index, test_index) in enumerate(skfcv.split(X_train, y_train)):\n",
    "    x_train_fold, x_test_fold = X_train[train_index], X_train[test_index]\n",
    "    y_train_fold, y_test_fold = y_train[train_index], y_train[test_index]\n",
    "    train_combined = TensorDataset(x_train_fold, y_train_fold)\n",
    "    test_combined = TensorDataset(x_test_fold, y_test_fold)\n",
    "    trainloader = DataLoader(train_combined, batch_size=TRAIN_BATCH_SIZE, shuffle=True)\n",
    "    testloader = DataLoader(test_combined, batch_size=TEST_BATCH_SIZE, shuffle=False)\n",
    "    # per epoch\n",
    "    for i in range(EPOCHS): \n",
    "        i+=1\n",
    "        # per batch \n",
    "        losses = [] \n",
    "        val_correct_preds = 0\n",
    "        count = 0 \n",
    "        for batch_idx, (data, target) in enumerate(trainloader):\n",
    "            mlp.train()\n",
    "             \n",
    "            # training \n",
    "            y_pred = mlp.forward(data)\n",
    "            loss = criterion(y_pred, target)\n",
    "            losses.append(loss)\n",
    "            \n",
    "            # backtracking \n",
    "            optimizer.zero_grad()\n",
    "            loss.backward()\n",
    "            optimizer.step() \n",
    "        \n",
    "        # validating \n",
    "        with torch.no_grad():\n",
    "            mlp.eval()\n",
    "            for val_batch_idx, (val_data, val_target) in enumerate(testloader):\n",
    "                y_out = mlp.forward(val_data)\n",
    "                for row in range(y_out.shape[0]):\n",
    "                    if y_out[row].argmax() == val_target[row]:\n",
    "                        val_correct_preds += 1\n",
    "                    count += 1\n",
    "                    \n",
    "    # per fold         \n",
    "    with torch.no_grad():\n",
    "        training_loss[fold] = np.array(losses).mean()\n",
    "        print(\"-----------------------\")\n",
    "        print(f\"fold: {fold} , training_loss: {training_loss[fold]}\")\n",
    "        print(f\"fold: {fold}, {val_correct_preds} out of {count} = {100*val_correct_preds/count:.2f}% correct\")\n",
    "        print(\"-----------------------\")\n",
    "        val_acc.append(100*val_correct_preds/count)\n",
    "        count = 0\n",
    "\n",
    "print()\n",
    "print(\"Done Training\")\n",
    "print(\"Max Validation Accuracy: \",  np.array(val_acc).max())"
   ]
  },
  {
   "cell_type": "markdown",
   "id": "ce2b52e3",
   "metadata": {},
   "source": [
    "#### Mean Loss per fold "
   ]
  },
  {
   "cell_type": "code",
   "execution_count": 7,
   "id": "bf240080",
   "metadata": {},
   "outputs": [
    {
     "data": {
      "image/png": "[encoded data removed]",
      "text/plain": [
       "<Figure size 432x288 with 1 Axes>"
      ]
     },
     "metadata": {
      "needs_background": "light"
     },
     "output_type": "display_data"
    }
   ],
   "source": [
    "with torch.no_grad():\n",
    "    y_axis  = training_loss.values()\n",
    "    plt.plot(range(10), y_axis)\n",
    "    plt.ylabel('Mean Loss per fold')\n",
    "    plt.xlabel('Folds')"
   ]
  },
  {
   "cell_type": "markdown",
   "id": "d3bc32f7",
   "metadata": {},
   "source": [
    "## Evaluation "
   ]
  },
  {
   "cell_type": "code",
   "execution_count": 8,
   "id": "1b883d3c",
   "metadata": {},
   "outputs": [
    {
     "name": "stdout",
     "output_type": "stream",
     "text": [
      "--- 0.02705693244934082 execution time in seconds ---\n",
      "Loss with test set : 1.58633745\n"
     ]
    }
   ],
   "source": [
    "# TO EVALUATE THE ENTIRE TEST SET\n",
    "with torch.no_grad():\n",
    "    start_time = time.time()\n",
    "    y_val = mlp.forward(X_test)\n",
    "    print(\"--- %s execution time in seconds ---\" % (time.time() - start_time))\n",
    "    loss = criterion(y_val, y_test)\n",
    "    print(f'Loss with test set : {loss:.8f}')"
   ]
  },
  {
   "cell_type": "code",
   "execution_count": 9,
   "id": "b9ab0404",
   "metadata": {},
   "outputs": [
    {
     "name": "stdout",
     "output_type": "stream",
     "text": [
      "\n",
      "469 out of 538 = 87.17% correct\n",
      "Confusion matrix, without normalization\n",
      "tensor([[170,  11,   1],\n",
      "        [ 38, 141,   1],\n",
      "        [ 17,   1, 158]])\n",
      "Classification Report for MLP :\n",
      "              precision    recall  f1-score   support\n",
      "\n",
      "           0       0.76      0.93      0.84       182\n",
      "           1       0.92      0.78      0.85       180\n",
      "           2       0.99      0.90      0.94       176\n",
      "\n",
      "    accuracy                           0.87       538\n",
      "   macro avg       0.89      0.87      0.87       538\n",
      "weighted avg       0.89      0.87      0.87       538\n",
      "\n"
     ]
    },
    {
     "data": {
      "image/png": "[encoded data removed]",
      "text/plain": [
       "<Figure size 864x864 with 2 Axes>"
      ]
     },
     "metadata": {
      "needs_background": "light"
     },
     "output_type": "display_data"
    }
   ],
   "source": [
    "with torch.no_grad():\n",
    "    # checking accuracy on test dataset \n",
    "    preds = []\n",
    "    correct = 0\n",
    "    for i,data in enumerate(X_test):\n",
    "        y_val = mlp.forward(data)\n",
    "        preds.append(y_val.argmax().item())\n",
    "        if y_val.argmax().item() == y_test[i]:\n",
    "            correct += 1\n",
    "    print(f'\\n{correct} out of {len(y_test)} = {100*correct/len(y_test):.2f}% correct')\n",
    "    y_preds = torch.tensor(preds, dtype = torch.int64)\n",
    "    stacked = torch.stack((y_test,y_preds),dim=1)\n",
    "\n",
    "    # confusion matrix generation \n",
    "    cmt = torch.zeros(OUT_FEATURES,OUT_FEATURES, dtype=torch.int64)\n",
    "    for p in stacked:\n",
    "        tl, pl = p.tolist()\n",
    "        cmt[tl, pl] = cmt[tl, pl] + 1  \n",
    "    \n",
    "    plt.figure(figsize=(12,12))\n",
    "    plot_confusion_matrix(cmt, DANCE_MOVES)\n",
    "    \n",
    "    print(\"Classification Report for MLP :\")\n",
    "    print(classification_report(y_test, y_preds))"
   ]
  },
  {
   "cell_type": "code",
   "execution_count": 10,
   "id": "af4da898",
   "metadata": {},
   "outputs": [
    {
     "name": "stdout",
     "output_type": "stream",
     "text": [
      "dict_keys(['fc1.weight', 'fc1.bias', 'fc2.weight', 'fc2.bias', 'out.weight', 'out.bias'])\n",
      "fc1.weight : 80 neurons in fc1.weight layer\n",
      " number of connections  : 80 * 480 = 38400 \n",
      "fc1.bias : 80 neurons in fc1.bias layer\n",
      " number of connections  : 80 * 1 = 80 \n",
      "fc2.weight : 40 neurons in fc2.weight layer\n",
      " number of connections  : 40 * 80 = 3200 \n",
      "fc2.bias : 40 neurons in fc2.bias layer\n",
      " number of connections  : 40 * 1 = 40 \n",
      "out.weight : 3 neurons in out.weight layer\n",
      " number of connections  : 3 * 40 = 120 \n",
      "out.bias : 3 neurons in out.bias layer\n",
      " number of connections  : 3 * 1 = 3 \n"
     ]
    }
   ],
   "source": [
    "# model weights \n",
    "with torch.no_grad():\n",
    "    mlp_params = {}\n",
    "    for name, param in mlp.named_parameters():\n",
    "        mlp_params[name] = param.numpy().copy().tolist()\n",
    "        \n",
    "    print(mlp_params.keys())\n",
    "    for key in mlp_params.keys(): \n",
    "        print(f\"{key} : {len(mlp_params[key])} neurons in {key} layer\")\n",
    "        print(f\" number of connections  : {len(mlp_params[key])} * {np.asarray(mlp_params[key][len(mlp_params[key]) -1]).size} = {len(mlp_params[key]) * np.asarray(mlp_params[key][len(mlp_params[key]) -1]).size } \")\n",
    "\n",
    "    # save model weights \n",
    "    with open('mlp.csv', 'w') as csv_file:  \n",
    "        writer = csv.writer(csv_file)\n",
    "        for key, value in mlp_params.items():\n",
    "           writer.writerow([key, value])"
   ]
  },
  {
   "cell_type": "markdown",
   "id": "0940b253",
   "metadata": {},
   "source": [
    "## Save & Load Model"
   ]
  },
  {
   "cell_type": "code",
   "execution_count": 11,
   "id": "308d3de1",
   "metadata": {},
   "outputs": [
    {
     "data": {
      "text/plain": [
       "Model(\n",
       "  (fc1): Linear(in_features=480, out_features=80, bias=True)\n",
       "  (fc2): Linear(in_features=80, out_features=40, bias=True)\n",
       "  (out): Linear(in_features=40, out_features=3, bias=True)\n",
       ")"
      ]
     },
     "execution_count": 11,
     "metadata": {},
     "output_type": "execute_result"
    }
   ],
   "source": [
    "torch.save(mlp.state_dict(), 'MLPW9.pt')\n",
    "loaded_model = Model(in_features=IN_FEATURES,h1=HIDDEN_LAYER_1_NODES, h2=HIDDEN_LAYER_2_NODES, out_features=OUT_FEATURES) \n",
    "loaded_model.load_state_dict(torch.load('MLPW9.pt'))\n",
    "loaded_model.eval()"
   ]
  },
  {
   "cell_type": "code",
   "execution_count": 12,
   "id": "11d6d14b",
   "metadata": {},
   "outputs": [
    {
     "name": "stdout",
     "output_type": "stream",
     "text": [
      "1.58633745\n"
     ]
    }
   ],
   "source": [
    "# loss when loaded model is run on test dataset \n",
    "with torch.no_grad():\n",
    "    y_val = loaded_model.forward(X_test)\n",
    "    loss = criterion(y_val, y_test)\n",
    "    print(f'{loss:.8f}')"
   ]
  },
  {
   "cell_type": "code",
   "execution_count": 13,
   "id": "c71a3207",
   "metadata": {},
   "outputs": [
    {
     "name": "stdout",
     "output_type": "stream",
     "text": [
      "tensor([-1.2538e-01, -1.9726e-02,  5.4461e-02,  7.3766e-02,  1.1677e-01,\n",
      "         1.5197e-01,  2.5803e-01,  3.7995e-01,  5.1770e-01,  5.2157e-01,\n",
      "         5.1755e-01,  3.7180e-01,  2.4962e-01, -5.3709e-02, -2.9411e-01,\n",
      "        -4.0858e-01, -6.1766e-01, -6.3785e-01, -6.3456e-01, -4.8181e-01,\n",
      "        -4.3941e-01, -1.9247e-01, -1.6606e-02,  4.8882e-02,  1.2208e-01,\n",
      "         2.1869e-01,  2.2840e-01,  3.7190e-01,  4.3640e-01,  6.3450e-01,\n",
      "         6.3558e-01,  4.7116e-01,  3.2223e-01, -3.9594e-02, -3.0702e-01,\n",
      "        -3.3844e-01, -4.7234e-01, -5.6713e-01, -4.7309e-01, -4.1860e-01,\n",
      "        -1.6730e-01, -3.2786e-01, -3.8579e-01, -5.3799e-01, -5.4032e-01,\n",
      "         6.4653e-01,  6.4477e-01,  3.8351e-01,  1.5395e-01, -4.3696e-02,\n",
      "        -4.4234e-02, -2.8768e-02,  1.3669e-01,  2.6304e-01,  4.2116e-01,\n",
      "         5.4013e-01,  5.9633e-01,  6.1335e-01,  6.1485e-01, -4.4650e-01,\n",
      "        -4.6041e-01, -4.5853e-01, -5.3529e-01, -6.1211e-01, -6.1014e-01,\n",
      "         6.1229e-01,  6.1414e-01,  4.0329e-01,  2.4739e-01,  5.2014e-02,\n",
      "        -5.7071e-02, -5.6096e-02,  1.1001e-01,  2.1272e-01,  3.8612e-01,\n",
      "         3.8588e-01,  4.7977e-01,  4.7880e-01, -6.8005e-01, -6.8180e-01,\n",
      "         7.1682e-02,  7.7520e-02, -1.1171e-02,  2.4860e-03,  2.6877e-04,\n",
      "        -2.0429e-03, -2.8068e-02, -1.2503e-01, -3.1673e-01, -4.8490e-01,\n",
      "        -4.8005e-01, -2.3128e-01,  1.0389e-01,  4.1525e-01,  7.4210e-01,\n",
      "         7.4594e-01, -9.2764e-01, -9.2424e-01, -9.2106e-01, -8.6289e-01,\n",
      "         5.3358e-01,  5.3614e-01,  2.8650e-01,  2.6508e-01,  1.8049e-01,\n",
      "         1.5864e-01,  3.4330e-02, -3.4130e-03, -1.1228e-01, -3.5506e-01,\n",
      "        -3.5383e-01, -2.8968e-01,  8.9404e-02,  4.4473e-01,  8.4732e-01,\n",
      "         8.4829e-01, -7.9647e-01, -7.9552e-01, -6.8428e-01, -6.5971e-01,\n",
      "        -2.4472e-01, -2.4797e-01, -2.5136e-01, -2.5487e-01, -2.5847e-01,\n",
      "        -2.6217e-01, -2.6593e-01, -2.6975e-01, -2.7360e-01, -2.7747e-01,\n",
      "        -2.8135e-01, -2.8520e-01, -2.8902e-01, -2.9279e-01, -2.9649e-01,\n",
      "        -3.0012e-01, -3.0364e-01, -3.0705e-01, -3.1034e-01, -3.1349e-01,\n",
      "        -3.1649e-01, -3.1933e-01, -3.2199e-01, -3.2448e-01, -3.2678e-01,\n",
      "        -3.2889e-01, -3.3080e-01, -3.3250e-01, -3.3400e-01, -3.3530e-01,\n",
      "        -3.3638e-01, -3.3726e-01, -3.3793e-01, -3.3841e-01, -3.3868e-01,\n",
      "        -3.3876e-01, -3.3866e-01, -3.3837e-01, -3.3791e-01, -3.3730e-01,\n",
      "        -9.2503e-02, -8.9444e-02, -8.6607e-02, -8.4013e-02, -8.1682e-02,\n",
      "        -7.9629e-02, -7.7867e-02, -7.6405e-02, -7.5250e-02, -7.4404e-02,\n",
      "        -7.3866e-02, -7.3632e-02, -7.3694e-02, -7.4040e-02, -7.4658e-02,\n",
      "        -7.5529e-02, -7.6633e-02, -7.7948e-02, -7.9448e-02, -8.1105e-02,\n",
      "        -8.2889e-02, -8.4770e-02, -8.6715e-02, -8.8689e-02, -9.0659e-02,\n",
      "        -9.2588e-02, -9.4443e-02, -9.6188e-02, -9.7790e-02, -9.9214e-02,\n",
      "        -1.0043e-01, -1.0140e-01, -1.0211e-01, -1.0252e-01, -1.0262e-01,\n",
      "        -1.0238e-01, -1.0177e-01, -1.0080e-01, -9.9446e-02, -9.7699e-02,\n",
      "         8.5818e-02,  7.9980e-02,  7.4171e-02,  6.8414e-02,  6.2731e-02,\n",
      "         5.7143e-02,  5.1668e-02,  4.6326e-02,  4.1131e-02,  3.6100e-02,\n",
      "         3.1246e-02,  2.6579e-02,  2.2111e-02,  1.7847e-02,  1.3796e-02,\n",
      "         9.9596e-03,  6.3412e-03,  2.9408e-03, -2.4308e-04, -3.2137e-03,\n",
      "        -5.9759e-03, -8.5361e-03, -1.0902e-02, -1.3084e-02, -1.5091e-02,\n",
      "        -1.6936e-02, -1.8630e-02, -2.0187e-02, -2.1621e-02, -2.2945e-02,\n",
      "        -2.4174e-02, -2.5323e-02, -2.6404e-02, -2.7434e-02, -2.8423e-02,\n",
      "        -2.9386e-02, -3.0333e-02, -3.1277e-02, -3.2225e-02, -3.3186e-02,\n",
      "        -6.1816e-01, -6.6287e-01, -9.3934e-01, -9.4118e-01, -9.4307e-01,\n",
      "        -9.4502e-01, -9.4700e-01, -9.4902e-01, -9.5106e-01, -7.4762e-01,\n",
      "        -7.8286e-02,  3.8275e-01,  6.8800e-01,  9.0918e-01,  9.0719e-01,\n",
      "         9.5614e-01,  9.5775e-01,  1.0129e+00,  1.0112e+00,  1.0095e+00,\n",
      "         4.0067e-01, -2.8648e-01, -6.5001e-01, -9.2911e-01, -9.7899e-01,\n",
      "        -9.7991e-01, -9.8070e-01, -9.8132e-01, -9.8179e-01, -9.3929e-01,\n",
      "        -3.5483e-01,  1.6810e-01,  5.7980e-01,  8.6537e-01,  8.7361e-01,\n",
      "         9.6581e-01,  9.8518e-01,  1.0034e+00,  1.0046e+00,  5.6991e-01,\n",
      "        -4.3626e-01, -4.3660e-01, -4.3693e-01, -2.9785e-01, -1.5435e-01,\n",
      "        -2.7125e-02,  2.2492e-01,  2.6591e-01,  4.1033e-01,  4.1018e-01,\n",
      "         2.5139e-01,  2.0104e-01,  8.3542e-02,  8.3597e-02,  8.3709e-02,\n",
      "        -6.8923e-02, -1.4920e-01, -2.1621e-01, -2.1587e-01, -1.5077e-01,\n",
      "        -1.5031e-01, -2.9351e-01, -2.9294e-01, -2.9234e-01, -2.4538e-01,\n",
      "        -1.5389e-01,  3.0734e-02,  5.2989e-02,  3.3757e-01,  3.3837e-01,\n",
      "         3.3427e-01,  3.2128e-01,  2.9959e-01,  1.2829e-01,  7.4771e-02,\n",
      "        -1.5157e-01, -1.5355e-01, -2.6356e-01, -2.6292e-01, -2.1832e-02,\n",
      "        -4.2494e-01, -4.7875e-01, -4.7841e-01, -5.8372e-01, -6.4490e-01,\n",
      "        -6.9822e-01, -7.8770e-01, -7.8764e-01, -6.8992e-01, -4.7975e-01,\n",
      "        -1.0372e-01,  2.3937e-01,  4.7162e-01,  6.8234e-01,  7.5283e-01,\n",
      "         7.5260e-01,  7.4325e-01,  6.3839e-01,  4.8661e-01,  4.4984e-01,\n",
      "         3.0736e-01, -3.1304e-02, -3.3046e-01, -4.4920e-01, -5.8062e-01,\n",
      "        -6.7891e-01, -7.3467e-01, -7.4100e-01, -7.4109e-01, -6.5864e-01,\n",
      "        -1.7284e-01,  1.9400e-01,  4.7670e-01,  6.6294e-01,  6.8564e-01,\n",
      "         6.8590e-01,  6.6851e-01,  5.9108e-01,  5.1130e-01,  1.7678e-01,\n",
      "         2.2101e-01,  3.3747e-01,  3.8978e-01,  5.4303e-01,  5.5279e-01,\n",
      "         6.6415e-01,  6.9505e-01,  5.5414e-01,  6.2613e-01,  7.1350e-01,\n",
      "         7.0729e-01,  4.3881e-01,  3.0297e-01,  4.9448e-01,  9.0255e-01,\n",
      "         1.0075e+00,  1.2640e+00,  1.2796e+00,  1.2763e+00,  1.0845e+00,\n",
      "         8.3052e-01,  7.3126e-01,  6.0736e-01,  6.6883e-01,  6.4788e-01,\n",
      "         6.6924e-01,  6.5614e-01,  5.4860e-01,  5.1406e-01,  7.2894e-01,\n",
      "         7.2967e-01,  5.5593e-01,  3.5204e-01,  4.9458e-01,  9.8046e-01,\n",
      "         9.9148e-01,  1.0429e+00,  1.0880e+00,  1.0745e+00,  1.0370e+00,\n",
      "         2.7534e-01,  2.7548e-01,  2.7602e-01,  2.7694e-01,  2.7824e-01,\n",
      "         2.7989e-01,  2.8188e-01,  2.8416e-01,  2.8673e-01,  2.8954e-01,\n",
      "         2.9255e-01,  2.9575e-01,  2.9909e-01,  3.0253e-01,  3.0606e-01,\n",
      "         3.0963e-01,  3.1323e-01,  3.1681e-01,  3.2035e-01,  3.2383e-01,\n",
      "         3.2722e-01,  3.3050e-01,  3.3364e-01,  3.3664e-01,  3.3946e-01,\n",
      "         3.4209e-01,  3.4452e-01,  3.4673e-01,  3.4870e-01,  3.5042e-01,\n",
      "         3.5189e-01,  3.5309e-01,  3.5401e-01,  3.5466e-01,  3.5503e-01,\n",
      "         3.5511e-01,  3.5492e-01,  3.5445e-01,  3.5372e-01,  3.5273e-01,\n",
      "         8.6777e-01,  9.2694e-01,  1.1411e+00,  1.1469e+00,  1.1529e+00,\n",
      "         1.1753e+00,  1.2521e+00,  1.2616e+00,  1.2445e+00,  9.7844e-01,\n",
      "         2.8299e-01,  4.9418e-01,  8.3830e-01,  1.1398e+00,  1.1818e+00,\n",
      "         1.2188e+00,  1.2215e+00,  1.2167e+00,  1.1428e+00,  1.1155e+00,\n",
      "         5.2688e-01,  4.1133e-01,  7.8583e-01,  1.0726e+00,  1.1644e+00,\n",
      "         1.2020e+00,  1.2257e+00,  1.2308e+00,  1.2756e+00,  1.1961e+00,\n",
      "         5.1722e-01,  4.1124e-01,  8.0818e-01,  1.0976e+00,  1.1131e+00,\n",
      "         1.1942e+00,  1.2004e+00,  1.1940e+00,  1.1575e+00,  5.9710e-01])\n",
      "tensor([ -6.3061, -25.6215,  11.1264])\n",
      "\n",
      "tensor(11.1264)\n",
      "2\n",
      "Predicted Output: mermaid\n",
      "Actual Output: mermaid\n"
     ]
    }
   ],
   "source": [
    "# run model on a random sample row of the test dataset \n",
    "random.seed(69)\n",
    "random_int = random.randint(0, len(testing_X))\n",
    "random_input = torch.FloatTensor(testing_X[random_int])\n",
    "print(random_input)\n",
    "\n",
    "with torch.no_grad():\n",
    "    print(loaded_model(random_input))\n",
    "    print()\n",
    "    print(loaded_model(random_input).max())\n",
    "    print(loaded_model(random_input).argmax().item())\n",
    "    print(f\"Predicted Output: {NUM_TO_DANCE_MAP[loaded_model(random_input).argmax().item()]}\")\n",
    "    print(f\"Actual Output: {NUM_TO_DANCE_MAP[y_test[random_int].item()]}\")"
   ]
  },
  {
   "cell_type": "code",
   "execution_count": 14,
   "id": "3bd7ff14",
   "metadata": {},
   "outputs": [],
   "source": [
    "# save test dataset\n",
    "with torch.no_grad(): \n",
    "    x = X_test.numpy().copy().tolist()\n",
    "    np.savetxt(\"X_test.csv\", x, delimiter=\",\")\n",
    "    y = y_test.numpy().copy().tolist()\n",
    "    np.savetxt(\"y_test.csv\", y, delimiter=\",\")"
   ]
  }
 ],
 "metadata": {
  "kernelspec": {
   "display_name": "pytorch_env",
   "language": "python",
   "name": "pytorch_env"
  },
  "language_info": {
   "codemirror_mode": {
    "name": "ipython",
    "version": 3
   },
   "file_extension": ".py",
   "mimetype": "text/x-python",
   "name": "python",
   "nbconvert_exporter": "python",
   "pygments_lexer": "ipython3",
   "version": "3.9.6"
  }
 },
 "nbformat": 4,
 "nbformat_minor": 5
}
