{
 "cells": [
  {
   "cell_type": "code",
   "execution_count": 1,
   "id": "9186abc2",
   "metadata": {},
   "outputs": [
    {
     "name": "stdout",
     "output_type": "stream",
     "text": [
      "TrainingVector shape (2698, 360)\n",
      "Label Train shape (2698,)\n",
      "TestingVector shape (538, 360)\n",
      "Label Test shape (538,)\n"
     ]
    }
   ],
   "source": [
    "import numpy as np\n",
    "import torch\n",
    "import torch.nn as nn\n",
    "import torch.nn.functional as F\n",
    "from torch.utils.data import DataLoader, TensorDataset\n",
    "\n",
    "from sklearn.metrics import confusion_matrix,classification_report, accuracy_score\n",
    "from sklearn.model_selection import StratifiedKFold\n",
    "\n",
    "from statistics import mean\n",
    "import random\n",
    "import csv\n",
    "import time\n",
    "\n",
    "import matplotlib.pyplot as plt\n",
    "import seaborn as sn\n",
    "plt.style.use('ggplot')\n",
    "sn.set_style(\"whitegrid\")\n",
    "%matplotlib inline\n",
    "\n",
    "\n",
    "from process import concatenator, load_data_paths, gen_rawData, filter_signal\n",
    "from process import normaliseTestData, normaliseTrainData, plot_confusion_matrix, segment_df, getInputVector"
   ]
  },
  {
   "cell_type": "markdown",
   "id": "614ecae0",
   "metadata": {},
   "source": [
    "## Constants "
   ]
  },
  {
   "cell_type": "code",
   "execution_count": 2,
   "id": "861f0262",
   "metadata": {},
   "outputs": [],
   "source": [
    "TRAIN_FILEPATH = \"./capstone_data/train/*.csv\"\n",
    "TEST_FILEPATH = \"./capstone_data/test/*.csv\"\n",
    "\n",
    "DANCE_TO_NUM_MAP = {'dab': 0, 'jamesbond': 1, 'mermaid': 2}\n",
    "RAW_COLS = [\"acc_X\", \"acc_Y\", \"acc_Z\", \"gyro_X\", \"gyro_Y\", \"gyro_Z\",\"subject\", \"trialNum\", \"dance\"]\n",
    "\n",
    "DANCE_MOVES = [\"jamesbond\", \"dab\", \"mermaid\"]\n",
    "IN_FEATURES = 360\n",
    "OUT_FEATURES = 3\n",
    "HIDDEN_LAYER_1_NODES = 100\n",
    "HIDDEN_LAYER_2_NODES = 60\n",
    "K = 10   \n",
    "EPOCHS = 100\n",
    "TRAIN_BATCH_SIZE = 108\n",
    "TEST_BATCH_SIZE = 72\n",
    "LEARNING_RATE = 0.01\n",
    "NUM_TO_DANCE_MAP = {0: 'dab', 1: 'jamesbond', 2: 'mermaid'}"
   ]
  },
  {
   "cell_type": "markdown",
   "id": "2a9c02a4",
   "metadata": {},
   "source": [
    "## Load Dataset"
   ]
  },
  {
   "cell_type": "code",
   "execution_count": 3,
   "id": "d637cb17",
   "metadata": {},
   "outputs": [
    {
     "name": "stdout",
     "output_type": "stream",
     "text": [
      "TrainingVector shape (2698, 360)\n",
      "Label Train shape (2698,)\n",
      "TestingVector shape (538, 360)\n",
      "Label Test shape (538,)\n"
     ]
    }
   ],
   "source": [
    "raw_train_df = concatenator(gen_rawData(load_data_paths(TRAIN_FILEPATH)))\n",
    "raw_test_df = concatenator(gen_rawData(load_data_paths(TEST_FILEPATH)))\n",
    "filter_signal(raw_train_df)\n",
    "filter_signal(raw_test_df)\n",
    "TRAIN_MAX = normaliseTrainData(raw_train_df)\n",
    "normaliseTestData(raw_test_df, TRAIN_MAX)\n",
    "raw_test_df[\"target\"] = raw_test_df[\"dance\"].map(DANCE_TO_NUM_MAP)\n",
    "raw_train_df[\"target\"] = raw_train_df[\"dance\"].map(DANCE_TO_NUM_MAP)\n",
    "test_segs, lbl_test = segment_df(raw_test_df, \"target\")\n",
    "train_segs, lbl_train = segment_df(raw_train_df, \"target\")\n",
    "training_X = getInputVector(train_segs)\n",
    "testing_X = getInputVector(test_segs)\n",
    "print(\"TrainingVector shape\", training_X.shape)\n",
    "print(\"Label Train shape\", lbl_train.shape )\n",
    "print(\"TestingVector shape\", testing_X.shape)\n",
    "print(\"Label Test shape\", lbl_test.shape )\n",
    "\n",
    "X_train = torch.FloatTensor(training_X)\n",
    "X_test = torch.FloatTensor(testing_X)\n",
    "y_train = torch.LongTensor(lbl_train)\n",
    "y_test = torch.LongTensor(lbl_test)"
   ]
  },
  {
   "cell_type": "markdown",
   "id": "f3431321",
   "metadata": {},
   "source": [
    "## Multi-Layer Perceptron Model"
   ]
  },
  {
   "cell_type": "code",
   "execution_count": 4,
   "id": "209383b1",
   "metadata": {},
   "outputs": [],
   "source": [
    "class Model(nn.Module):\n",
    "    def __init__(self, in_features, h1, h2, out_features):\n",
    "        super().__init__()\n",
    "        self.fc1 = nn.Linear(in_features,h1)    # input layer\n",
    "        self.fc2 = nn.Linear(h1, h2)            # hidden layer\n",
    "        self.out = nn.Linear(h2, out_features)  # output layer\n",
    "        \n",
    "    def forward(self, x):\n",
    "        x = F.relu(self.fc1(x))\n",
    "        x = F.relu(self.fc2(x))\n",
    "        x = self.out(x)\n",
    "        return x"
   ]
  },
  {
   "cell_type": "markdown",
   "id": "acc28a4c",
   "metadata": {},
   "source": [
    "#### Instantiate Model class using default parameters"
   ]
  },
  {
   "cell_type": "code",
   "execution_count": 5,
   "id": "2ed47fa4",
   "metadata": {},
   "outputs": [],
   "source": [
    "torch.manual_seed(32)\n",
    "mlp = Model(in_features=IN_FEATURES, h1=HIDDEN_LAYER_1_NODES, h2=HIDDEN_LAYER_2_NODES, out_features=OUT_FEATURES)\n",
    "criterion = nn.CrossEntropyLoss()\n",
    "optimizer = torch.optim.Adam(mlp.parameters(), lr=LEARNING_RATE)"
   ]
  },
  {
   "cell_type": "markdown",
   "id": "430acd4d",
   "metadata": {},
   "source": [
    "#### 10-fold Stratified Cross Validation "
   ]
  },
  {
   "cell_type": "code",
   "execution_count": 6,
   "id": "53ded229",
   "metadata": {},
   "outputs": [
    {
     "name": "stdout",
     "output_type": "stream",
     "text": [
      "-----------------------\n",
      "fold: 0 , training_loss: 1.1298116078251041e-06\n",
      "fold: 0, 267 out of 270 = 98.89% correct\n",
      "-----------------------\n",
      "-----------------------\n",
      "fold: 1 , training_loss: 1.7096951978601282e-06\n",
      "fold: 1, 268 out of 270 = 99.26% correct\n",
      "-----------------------\n",
      "-----------------------\n",
      "fold: 2 , training_loss: 9.389014508087712e-07\n",
      "fold: 2, 267 out of 270 = 98.89% correct\n",
      "-----------------------\n",
      "-----------------------\n",
      "fold: 3 , training_loss: 0.0006195898749865592\n",
      "fold: 3, 270 out of 270 = 100.00% correct\n",
      "-----------------------\n",
      "-----------------------\n",
      "fold: 4 , training_loss: 0.0005829317378811538\n",
      "fold: 4, 270 out of 270 = 100.00% correct\n",
      "-----------------------\n",
      "-----------------------\n",
      "fold: 5 , training_loss: 0.0005710900877602398\n",
      "fold: 5, 270 out of 270 = 100.00% correct\n",
      "-----------------------\n",
      "-----------------------\n",
      "fold: 6 , training_loss: 1.908211561385542e-05\n",
      "fold: 6, 269 out of 270 = 99.63% correct\n",
      "-----------------------\n",
      "-----------------------\n",
      "fold: 7 , training_loss: 0.0005656026187352836\n",
      "fold: 7, 270 out of 270 = 100.00% correct\n",
      "-----------------------\n",
      "-----------------------\n",
      "fold: 8 , training_loss: 0.0005680335452780128\n",
      "fold: 8, 269 out of 269 = 100.00% correct\n",
      "-----------------------\n",
      "-----------------------\n",
      "fold: 9 , training_loss: 1.894519846246112e-05\n",
      "fold: 9, 268 out of 269 = 99.63% correct\n",
      "-----------------------\n",
      "\n",
      "Done Training\n",
      "Max Validation Accuracy:  100.0\n"
     ]
    }
   ],
   "source": [
    "skfcv = StratifiedKFold(n_splits=K, shuffle=True, random_state=1)\n",
    "training_loss = {}\n",
    "val_acc = []\n",
    "\n",
    "# per fold \n",
    "for fold, (train_index, test_index) in enumerate(skfcv.split(X_train, y_train)):\n",
    "    x_train_fold, x_test_fold = X_train[train_index], X_train[test_index]\n",
    "    y_train_fold, y_test_fold = y_train[train_index], y_train[test_index]\n",
    "    train_combined = TensorDataset(x_train_fold, y_train_fold)\n",
    "    test_combined = TensorDataset(x_test_fold, y_test_fold)\n",
    "    trainloader = DataLoader(train_combined, batch_size=TRAIN_BATCH_SIZE, shuffle=True)\n",
    "    testloader = DataLoader(test_combined, batch_size=TEST_BATCH_SIZE, shuffle=False)\n",
    "    # per epoch\n",
    "    for i in range(EPOCHS): \n",
    "        i+=1\n",
    "        # per batch \n",
    "        losses = [] \n",
    "        val_correct_preds = 0\n",
    "        count = 0 \n",
    "        for batch_idx, (data, target) in enumerate(trainloader):\n",
    "            mlp.train()\n",
    "             \n",
    "            # training \n",
    "            y_pred = mlp.forward(data)\n",
    "            loss = criterion(y_pred, target)\n",
    "            losses.append(loss)\n",
    "            \n",
    "            # backtracking \n",
    "            optimizer.zero_grad()\n",
    "            loss.backward()\n",
    "            optimizer.step() \n",
    "        \n",
    "        # validating \n",
    "        with torch.no_grad():\n",
    "            mlp.eval()\n",
    "            for val_batch_idx, (val_data, val_target) in enumerate(testloader):\n",
    "                y_out = mlp.forward(val_data)\n",
    "                for row in range(y_out.shape[0]):\n",
    "                    if y_out[row].argmax() == val_target[row]:\n",
    "                        val_correct_preds += 1\n",
    "                    count += 1\n",
    "                    \n",
    "    # per fold         \n",
    "    with torch.no_grad():\n",
    "        training_loss[fold] = np.array(losses).mean()\n",
    "        print(\"-----------------------\")\n",
    "        print(f\"fold: {fold} , training_loss: {training_loss[fold]}\")\n",
    "        print(f\"fold: {fold}, {val_correct_preds} out of {count} = {100*val_correct_preds/count:.2f}% correct\")\n",
    "        print(\"-----------------------\")\n",
    "        val_acc.append(100*val_correct_preds/count)\n",
    "        count = 0\n",
    "\n",
    "print()\n",
    "print(\"Done Training\")\n",
    "print(\"Max Validation Accuracy: \",  np.array(val_acc).max())"
   ]
  },
  {
   "cell_type": "markdown",
   "id": "ce2b52e3",
   "metadata": {},
   "source": [
    "#### Mean Loss per fold "
   ]
  },
  {
   "cell_type": "code",
   "execution_count": 7,
   "id": "bf240080",
   "metadata": {},
   "outputs": [
    {
     "data": {
      "image/png": "[encoded data removed]",
      "text/plain": [
       "<Figure size 432x288 with 1 Axes>"
      ]
     },
     "metadata": {
      "needs_background": "light"
     },
     "output_type": "display_data"
    }
   ],
   "source": [
    "with torch.no_grad():\n",
    "    y_axis  = training_loss.values()\n",
    "    plt.plot(range(10), y_axis)\n",
    "    plt.ylabel('Mean Loss per fold')\n",
    "    plt.xlabel('Folds')"
   ]
  },
  {
   "cell_type": "markdown",
   "id": "d3bc32f7",
   "metadata": {},
   "source": [
    "## Evaluation "
   ]
  },
  {
   "cell_type": "code",
   "execution_count": 8,
   "id": "1b883d3c",
   "metadata": {},
   "outputs": [
    {
     "name": "stdout",
     "output_type": "stream",
     "text": [
      "--- 0.031327009201049805 execution time in seconds ---\n",
      "Loss with test set : 0.56904650\n"
     ]
    }
   ],
   "source": [
    "# TO EVALUATE THE ENTIRE TEST SET\n",
    "with torch.no_grad():\n",
    "    start_time = time.time()\n",
    "    y_val = mlp.forward(X_test)\n",
    "    print(\"--- %s execution time in seconds ---\" % (time.time() - start_time))\n",
    "    loss = criterion(y_val, y_test)\n",
    "    print(f'Loss with test set : {loss:.8f}')"
   ]
  },
  {
   "cell_type": "code",
   "execution_count": 9,
   "id": "b9ab0404",
   "metadata": {},
   "outputs": [
    {
     "name": "stdout",
     "output_type": "stream",
     "text": [
      "\n",
      "522 out of 538 = 97.03% correct\n",
      "Confusion matrix, without normalization\n",
      "tensor([[174,   4,   4],\n",
      "        [  2, 173,   5],\n",
      "        [  1,   0, 175]])\n",
      "Classification Report for MLP :\n",
      "              precision    recall  f1-score   support\n",
      "\n",
      "           0       0.98      0.96      0.97       182\n",
      "           1       0.98      0.96      0.97       180\n",
      "           2       0.95      0.99      0.97       176\n",
      "\n",
      "    accuracy                           0.97       538\n",
      "   macro avg       0.97      0.97      0.97       538\n",
      "weighted avg       0.97      0.97      0.97       538\n",
      "\n"
     ]
    },
    {
     "data": {
      "image/png": "[encoded data removed]",
      "text/plain": [
       "<Figure size 864x864 with 2 Axes>"
      ]
     },
     "metadata": {
      "needs_background": "light"
     },
     "output_type": "display_data"
    }
   ],
   "source": [
    "with torch.no_grad():\n",
    "    # checking accuracy on test dataset \n",
    "    preds = []\n",
    "    correct = 0\n",
    "    for i,data in enumerate(X_test):\n",
    "        y_val = mlp.forward(data)\n",
    "        preds.append(y_val.argmax().item())\n",
    "        if y_val.argmax().item() == y_test[i]:\n",
    "            correct += 1\n",
    "    print(f'\\n{correct} out of {len(y_test)} = {100*correct/len(y_test):.2f}% correct')\n",
    "    y_preds = torch.tensor(preds, dtype = torch.int64)\n",
    "    stacked = torch.stack((y_test,y_preds),dim=1)\n",
    "\n",
    "    # confusion matrix generation \n",
    "    cmt = torch.zeros(OUT_FEATURES,OUT_FEATURES, dtype=torch.int64)\n",
    "    for p in stacked:\n",
    "        tl, pl = p.tolist()\n",
    "        cmt[tl, pl] = cmt[tl, pl] + 1  \n",
    "    \n",
    "    plt.figure(figsize=(12,12))\n",
    "    plot_confusion_matrix(cmt, DANCE_MOVES)\n",
    "    \n",
    "    print(\"Classification Report for MLP :\")\n",
    "    print(classification_report(y_test, y_preds))"
   ]
  },
  {
   "cell_type": "code",
   "execution_count": 10,
   "id": "af4da898",
   "metadata": {},
   "outputs": [
    {
     "name": "stdout",
     "output_type": "stream",
     "text": [
      "dict_keys(['fc1.weight', 'fc1.bias', 'fc2.weight', 'fc2.bias', 'out.weight', 'out.bias'])\n",
      "fc1.weight : 100 neurons in fc1.weight layer\n",
      " number of connections  : 100 * 360 = 36000 \n",
      "fc1.bias : 100 neurons in fc1.bias layer\n",
      " number of connections  : 100 * 1 = 100 \n",
      "fc2.weight : 60 neurons in fc2.weight layer\n",
      " number of connections  : 60 * 100 = 6000 \n",
      "fc2.bias : 60 neurons in fc2.bias layer\n",
      " number of connections  : 60 * 1 = 60 \n",
      "out.weight : 3 neurons in out.weight layer\n",
      " number of connections  : 3 * 60 = 180 \n",
      "out.bias : 3 neurons in out.bias layer\n",
      " number of connections  : 3 * 1 = 3 \n"
     ]
    }
   ],
   "source": [
    "# model weights \n",
    "with torch.no_grad():\n",
    "    mlp_params = {}\n",
    "    for name, param in mlp.named_parameters():\n",
    "        mlp_params[name] = param.numpy().copy().tolist()\n",
    "        \n",
    "    print(mlp_params.keys())\n",
    "    for key in mlp_params.keys(): \n",
    "        print(f\"{key} : {len(mlp_params[key])} neurons in {key} layer\")\n",
    "        print(f\" number of connections  : {len(mlp_params[key])} * {np.asarray(mlp_params[key][len(mlp_params[key]) -1]).size} = {len(mlp_params[key]) * np.asarray(mlp_params[key][len(mlp_params[key]) -1]).size } \")\n",
    "\n",
    "    # save model weights \n",
    "    with open('mlp.csv', 'w') as csv_file:  \n",
    "        writer = csv.writer(csv_file)\n",
    "        for key, value in mlp_params.items():\n",
    "           writer.writerow([key, value])"
   ]
  },
  {
   "cell_type": "markdown",
   "id": "0940b253",
   "metadata": {},
   "source": [
    "## Save & Load Model"
   ]
  },
  {
   "cell_type": "code",
   "execution_count": 11,
   "id": "308d3de1",
   "metadata": {},
   "outputs": [
    {
     "data": {
      "text/plain": [
       "Model(\n",
       "  (fc1): Linear(in_features=360, out_features=100, bias=True)\n",
       "  (fc2): Linear(in_features=100, out_features=60, bias=True)\n",
       "  (out): Linear(in_features=60, out_features=3, bias=True)\n",
       ")"
      ]
     },
     "execution_count": 11,
     "metadata": {},
     "output_type": "execute_result"
    }
   ],
   "source": [
    "torch.save(mlp.state_dict(), 'MLPW9.pt')\n",
    "loaded_model = Model(in_features=IN_FEATURES,h1=HIDDEN_LAYER_1_NODES, h2=HIDDEN_LAYER_2_NODES, out_features=OUT_FEATURES) \n",
    "loaded_model.load_state_dict(torch.load('MLPW9.pt'))\n",
    "loaded_model.eval()"
   ]
  },
  {
   "cell_type": "code",
   "execution_count": 12,
   "id": "11d6d14b",
   "metadata": {},
   "outputs": [
    {
     "name": "stdout",
     "output_type": "stream",
     "text": [
      "0.56904650\n"
     ]
    }
   ],
   "source": [
    "# loss when loaded model is run on test dataset \n",
    "with torch.no_grad():\n",
    "    y_val = loaded_model.forward(X_test)\n",
    "    loss = criterion(y_val, y_test)\n",
    "    print(f'{loss:.8f}')"
   ]
  },
  {
   "cell_type": "code",
   "execution_count": 13,
   "id": "c71a3207",
   "metadata": {},
   "outputs": [
    {
     "name": "stdout",
     "output_type": "stream",
     "text": [
      "tensor([-3.7010e-01, -2.6770e-01, -1.9690e-01, -1.8110e-01, -1.4170e-01,\n",
      "        -1.1020e-01, -7.9000e-03,  1.1020e-01,  2.4410e-01,  2.4410e-01,\n",
      "         2.3620e-01,  8.6600e-02, -3.9400e-02, -3.4650e-01, -5.9060e-01,\n",
      "        -7.0870e-01, -9.2130e-01, -9.4490e-01, -9.4490e-01, -7.9530e-01,\n",
      "        -7.5590e-01, -5.1180e-01, -3.3860e-01, -2.7560e-01, -2.0470e-01,\n",
      "        -1.1020e-01, -1.0240e-01,  3.9400e-02,  1.0240e-01,  2.9920e-01,\n",
      "         2.9920e-01,  1.3390e-01, -1.5700e-02, -3.7800e-01, -6.4570e-01,\n",
      "        -6.7720e-01, -8.1100e-01, -9.0550e-01, -8.1100e-01, -7.5590e-01,\n",
      "        -2.5980e-01, -4.1730e-01, -4.7240e-01, -6.2200e-01, -6.2200e-01,\n",
      "         5.6690e-01,  5.6690e-01,  3.0710e-01,  7.8700e-02, -1.1810e-01,\n",
      "        -1.1810e-01, -1.0240e-01,  6.3000e-02,  1.8900e-01,  3.4650e-01,\n",
      "         4.6460e-01,  5.1970e-01,  5.3540e-01,  5.3540e-01, -5.2760e-01,\n",
      "        -5.4330e-01, -5.4330e-01, -6.2200e-01, -7.0080e-01, -7.0080e-01,\n",
      "         5.1970e-01,  5.1970e-01,  3.0710e-01,  1.4960e-01, -4.7200e-02,\n",
      "        -1.5750e-01, -1.5750e-01,  7.9000e-03,  1.1020e-01,  2.8350e-01,\n",
      "         2.8350e-01,  3.7800e-01,  3.7800e-01, -7.7950e-01, -7.7950e-01,\n",
      "         1.5750e-01,  1.5750e-01,  6.3000e-02,  7.0900e-02,  6.3000e-02,\n",
      "         5.5100e-02,  2.3600e-02, -7.8700e-02, -2.7560e-01, -4.4880e-01,\n",
      "        -4.4880e-01, -2.0470e-01,  1.2600e-01,  4.3310e-01,  7.5590e-01,\n",
      "         7.5590e-01, -9.2130e-01, -9.2130e-01, -9.2130e-01, -8.6610e-01,\n",
      "         5.2760e-01,  5.2760e-01,  2.7560e-01,  2.5200e-01,  1.6540e-01,\n",
      "         1.4170e-01,  1.5700e-02, -2.3600e-02, -1.3390e-01, -3.7800e-01,\n",
      "        -3.7800e-01, -3.1500e-01,  6.3000e-02,  4.1730e-01,  8.1890e-01,\n",
      "         8.1890e-01, -8.2680e-01, -8.2680e-01, -7.1650e-01, -6.9290e-01,\n",
      "        -6.0680e-01, -6.4610e-01, -8.9710e-01, -8.9710e-01, -8.9710e-01,\n",
      "        -8.9710e-01, -8.9710e-01, -8.9710e-01, -8.9710e-01, -7.0930e-01,\n",
      "        -9.5900e-02,  3.2710e-01,  6.0790e-01,  8.1180e-01,  8.1180e-01,\n",
      "         8.5840e-01,  8.6150e-01,  9.1360e-01,  9.1360e-01,  9.1360e-01,\n",
      "         3.5880e-01, -2.6770e-01, -5.9860e-01, -8.5250e-01, -8.9710e-01,\n",
      "        -8.9710e-01, -8.9710e-01, -8.9710e-01, -8.9710e-01, -8.5800e-01,\n",
      "        -3.2390e-01,  1.5390e-01,  5.2980e-01,  7.9030e-01,  7.9740e-01,\n",
      "         8.8100e-01,  8.9790e-01,  9.1360e-01,  9.1360e-01,  5.1530e-01,\n",
      "        -2.0280e-01, -2.0280e-01, -2.0280e-01, -1.3870e-01, -7.2500e-02,\n",
      "        -1.3900e-02,  1.0220e-01,  1.2110e-01,  1.8760e-01,  1.8760e-01,\n",
      "         1.1460e-01,  9.1500e-02,  3.7400e-02,  3.7400e-02,  3.7400e-02,\n",
      "        -3.2800e-02, -6.9800e-02, -1.0080e-01, -1.0080e-01, -7.1000e-02,\n",
      "        -7.1000e-02, -1.3710e-01, -1.3710e-01, -1.3710e-01, -1.1590e-01,\n",
      "        -7.4100e-02,  1.0500e-02,  2.0400e-02,  1.5090e-01,  1.5090e-01,\n",
      "         1.4860e-01,  1.4230e-01,  1.3200e-01,  5.2800e-02,  2.7800e-02,\n",
      "        -7.6600e-02, -7.7800e-02, -1.2880e-01, -1.2880e-01, -1.8200e-02,\n",
      "        -3.3620e-01, -3.8590e-01, -3.8590e-01, -4.8250e-01, -5.3880e-01,\n",
      "        -5.8770e-01, -6.6980e-01, -6.6980e-01, -5.8040e-01, -3.8790e-01,\n",
      "        -4.3500e-02,  2.7090e-01,  4.8380e-01,  6.7690e-01,  7.4160e-01,\n",
      "         7.4160e-01,  7.3330e-01,  6.3750e-01,  4.9880e-01,  4.6530e-01,\n",
      "         3.3510e-01,  2.5200e-02, -2.4860e-01, -3.5710e-01, -4.7730e-01,\n",
      "        -5.6710e-01, -6.1800e-01, -6.2370e-01, -6.2370e-01, -5.4810e-01,\n",
      "        -1.0320e-01,  2.3270e-01,  4.9150e-01,  6.6200e-01,  6.8250e-01,\n",
      "         6.8250e-01,  6.6630e-01,  5.9510e-01,  5.2170e-01,  2.1480e-01,\n",
      "        -2.5800e-02, -4.0600e-02, -5.7600e-02, -7.9200e-02, -1.0290e-01,\n",
      "        -1.2880e-01, -1.5850e-01, -1.8860e-01, -2.1410e-01, -2.3120e-01,\n",
      "        -2.3120e-01, -2.2110e-01, -1.9940e-01, -1.6960e-01, -1.3640e-01,\n",
      "        -1.0380e-01, -7.0900e-02, -4.2800e-02, -2.0900e-02, -4.0000e-04,\n",
      "         1.4600e-02,  1.4600e-02,  4.8000e-03, -1.0900e-02, -3.2300e-02,\n",
      "        -5.7300e-02, -8.4500e-02, -1.1190e-01, -1.4060e-01, -1.6470e-01,\n",
      "        -1.6470e-01, -1.5900e-01, -1.3690e-01, -1.0780e-01, -7.7500e-02,\n",
      "        -4.7500e-02, -1.7600e-02,  8.6000e-03,  3.1600e-02,  4.1000e-02,\n",
      "        -1.7640e-01, -1.7640e-01, -1.7640e-01, -1.1290e-01, -5.5800e-02,\n",
      "        -1.4800e-02,  4.0400e-02,  5.2000e-02,  5.2000e-02,  5.2000e-02,\n",
      "         2.5700e-02,  2.5700e-02,  3.3400e-02,  1.0780e-01,  1.0780e-01,\n",
      "         3.9800e-02,  1.8000e-02, -9.0000e-03, -9.0000e-03, -1.6700e-02,\n",
      "        -1.6700e-02, -1.0260e-01, -1.0260e-01, -1.0260e-01, -8.9200e-02,\n",
      "        -5.3200e-02, -2.1800e-02, -2.1800e-02,  4.3000e-02,  4.3000e-02,\n",
      "         4.3000e-02,  5.0000e-02,  1.3340e-01,  1.3340e-01,  1.0010e-01,\n",
      "         3.8000e-03, -6.0000e-04, -5.4500e-02, -5.4500e-02,  2.4400e-02,\n",
      "        -5.4360e-01, -5.6470e-01, -8.0980e-01, -8.0980e-01, -8.0710e-01,\n",
      "        -7.9790e-01, -8.0710e-01, -8.5670e-01, -8.7380e-01, -8.7380e-01,\n",
      "        -3.3420e-01,  5.3500e-02,  4.5710e-01,  6.1960e-01,  6.2020e-01,\n",
      "         6.6580e-01,  6.8490e-01,  7.1800e-01,  7.4770e-01,  7.4770e-01,\n",
      "         2.9460e-01, -2.6490e-01, -5.4820e-01, -7.7940e-01, -8.1110e-01,\n",
      "        -8.1110e-01, -8.0980e-01, -8.0980e-01, -9.2340e-01, -9.2340e-01,\n",
      "        -5.4360e-01, -1.0700e-01,  3.3750e-01,  5.7930e-01,  5.9640e-01,\n",
      "         6.6840e-01,  7.0610e-01,  7.1140e-01,  7.0610e-01,  3.9760e-01])\n",
      "tensor([-8.0055, -3.5967,  3.5729])\n",
      "\n",
      "tensor(3.5729)\n",
      "2\n",
      "Predicted Output: mermaid\n",
      "Actual Output: mermaid\n"
     ]
    }
   ],
   "source": [
    "# run model on a random sample row of the test dataset \n",
    "random.seed(69)\n",
    "random_int = random.randint(0, len(testing_X))\n",
    "random_input = torch.FloatTensor(testing_X[random_int])\n",
    "print(random_input)\n",
    "\n",
    "with torch.no_grad():\n",
    "    print(loaded_model(random_input))\n",
    "    print()\n",
    "    print(loaded_model(random_input).max())\n",
    "    print(loaded_model(random_input).argmax().item())\n",
    "    print(f\"Predicted Output: {NUM_TO_DANCE_MAP[loaded_model(random_input).argmax().item()]}\")\n",
    "    print(f\"Actual Output: {NUM_TO_DANCE_MAP[y_test[random_int].item()]}\")"
   ]
  },
  {
   "cell_type": "code",
   "execution_count": 14,
   "id": "3bd7ff14",
   "metadata": {},
   "outputs": [],
   "source": [
    "# save test dataset\n",
    "with torch.no_grad(): \n",
    "    x = X_test.numpy().copy().tolist()\n",
    "    np.savetxt(\"X_test.csv\", x, delimiter=\",\")\n",
    "    y = y_test.numpy().copy().tolist()\n",
    "    np.savetxt(\"y_test.csv\", y, delimiter=\",\")"
   ]
  },
  {
   "cell_type": "code",
   "execution_count": 15,
   "id": "b8f8dd9c",
   "metadata": {},
   "outputs": [
    {
     "data": {
      "text/plain": [
       "{'acc_X': 1.27,\n",
       " 'acc_Y': 1.27,\n",
       " 'acc_Z': 1.27,\n",
       " 'gyro_X': 276.28,\n",
       " 'gyro_Y': 266.44,\n",
       " 'gyro_Z': 271.8,\n",
       " 'yaw': 327.28,\n",
       " 'pitch': 15.59,\n",
       " 'roll': 15.14}"
      ]
     },
     "execution_count": 15,
     "metadata": {},
     "output_type": "execute_result"
    }
   ],
   "source": [
    "TRAIN_MAX"
   ]
  }
 ],
 "metadata": {
  "kernelspec": {
   "display_name": "pytorch_env",
   "language": "python",
   "name": "pytorch_env"
  },
  "language_info": {
   "codemirror_mode": {
    "name": "ipython",
    "version": 3
   },
   "file_extension": ".py",
   "mimetype": "text/x-python",
   "name": "python",
   "nbconvert_exporter": "python",
   "pygments_lexer": "ipython3",
   "version": "3.9.6"
  }
 },
 "nbformat": 4,
 "nbformat_minor": 5
}
