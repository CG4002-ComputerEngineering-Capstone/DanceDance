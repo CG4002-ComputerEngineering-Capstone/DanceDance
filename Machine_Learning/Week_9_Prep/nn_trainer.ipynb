{
 "cells": [
  {
   "cell_type": "code",
   "execution_count": 1,
   "id": "9186abc2",
   "metadata": {},
   "outputs": [
    {
     "name": "stdout",
     "output_type": "stream",
     "text": [
      "TrainingVector shape (3598, 360)\n",
      "Label Train shape (3598,)\n",
      "TestingVector shape (538, 360)\n",
      "Label Test shape (538,)\n"
     ]
    }
   ],
   "source": [
    "import numpy as np\n",
    "import torch\n",
    "import torch.nn as nn\n",
    "import torch.nn.functional as F\n",
    "from torch.utils.data import DataLoader, TensorDataset\n",
    "\n",
    "from sklearn.metrics import confusion_matrix,classification_report, accuracy_score\n",
    "from sklearn.model_selection import StratifiedKFold\n",
    "\n",
    "from statistics import mean\n",
    "import random\n",
    "import csv\n",
    "import time\n",
    "\n",
    "import matplotlib.pyplot as plt\n",
    "import seaborn as sn\n",
    "plt.style.use('ggplot')\n",
    "sn.set_style(\"whitegrid\")\n",
    "%matplotlib inline\n",
    "\n",
    "\n",
    "from processV3 import concatenator, load_data_paths, gen_rawData\n",
    "from processV3 import normaliseTestData, normaliseTrainData, plot_confusion_matrix, segment_df, getInputVector"
   ]
  },
  {
   "cell_type": "markdown",
   "id": "614ecae0",
   "metadata": {},
   "source": [
    "## Constants "
   ]
  },
  {
   "cell_type": "code",
   "execution_count": 2,
   "id": "861f0262",
   "metadata": {},
   "outputs": [],
   "source": [
    "TRAIN_FILEPATH = \"./capstone_data/train/*.csv\"\n",
    "TEST_FILEPATH = \"./capstone_data/test/*.csv\"\n",
    "\n",
    "DANCE_TO_NUM_MAP = {'dab': 0, 'jamesbond': 1, 'mermaid': 2}\n",
    "RAW_COLS = [\"acc_X\", \"acc_Y\", \"acc_Z\", \"gyro_X\", \"gyro_Y\", \"gyro_Z\",\"subject\", \"trialNum\", \"dance\"]\n",
    "\n",
    "DANCE_MOVES = [\"jamesbond\", \"dab\", \"mermaid\"]\n",
    "IN_FEATURES = 360\n",
    "OUT_FEATURES = 3\n",
    "HIDDEN_LAYER_1_NODES = 200\n",
    "HIDDEN_LAYER_2_NODES = 80\n",
    "K = 12\n",
    "EPOCHS = 50\n",
    "TRAIN_BATCH_SIZE = 108\n",
    "TEST_BATCH_SIZE = 40\n",
    "LEARNING_RATE = 0.01\n",
    "NUM_TO_DANCE_MAP = {0: 'dab', 1: 'jamesbond', 2: 'mermaid'}"
   ]
  },
  {
   "cell_type": "markdown",
   "id": "2a9c02a4",
   "metadata": {},
   "source": [
    "## Load Dataset"
   ]
  },
  {
   "cell_type": "code",
   "execution_count": 3,
   "id": "d637cb17",
   "metadata": {},
   "outputs": [
    {
     "name": "stdout",
     "output_type": "stream",
     "text": [
      "TrainingVector shape (3598, 360)\n",
      "Label Train shape (3598,)\n",
      "TestingVector shape (538, 360)\n",
      "Label Test shape (538,)\n"
     ]
    }
   ],
   "source": [
    "raw_train_df = concatenator(gen_rawData(load_data_paths(TRAIN_FILEPATH)))\n",
    "raw_test_df = concatenator(gen_rawData(load_data_paths(TEST_FILEPATH)))\n",
    "# filter_signal(raw_train_df)\n",
    "# filter_signal(raw_test_df)\n",
    "TRAIN_MAX = normaliseTrainData(raw_train_df)\n",
    "normaliseTestData(raw_test_df, TRAIN_MAX)\n",
    "raw_test_df[\"target\"] = raw_test_df[\"dance\"].map(DANCE_TO_NUM_MAP)\n",
    "raw_train_df[\"target\"] = raw_train_df[\"dance\"].map(DANCE_TO_NUM_MAP)\n",
    "test_segs, lbl_test = segment_df(raw_test_df, \"target\")\n",
    "train_segs, lbl_train = segment_df(raw_train_df, \"target\")\n",
    "training_X = getInputVector(train_segs)\n",
    "testing_X = getInputVector(test_segs)\n",
    "print(\"TrainingVector shape\", training_X.shape)\n",
    "print(\"Label Train shape\", lbl_train.shape )\n",
    "print(\"TestingVector shape\", testing_X.shape)\n",
    "print(\"Label Test shape\", lbl_test.shape )\n",
    "\n",
    "X_train = torch.FloatTensor(training_X)\n",
    "X_test = torch.FloatTensor(testing_X)\n",
    "y_train = torch.LongTensor(lbl_train)\n",
    "y_test = torch.LongTensor(lbl_test)\n",
    "# X_test"
   ]
  },
  {
   "cell_type": "markdown",
   "id": "f3431321",
   "metadata": {},
   "source": [
    "## Multi-Layer Perceptron Model"
   ]
  },
  {
   "cell_type": "code",
   "execution_count": 4,
   "id": "209383b1",
   "metadata": {},
   "outputs": [],
   "source": [
    "class Model(nn.Module):\n",
    "    def __init__(self, in_features, h1, h2, out_features):\n",
    "        super().__init__()\n",
    "        self.fc1 = nn.Linear(in_features,h1)    # input layer\n",
    "        self.fc2 = nn.Linear(h1, h2)            # hidden layer\n",
    "        self.out = nn.Linear(h2, out_features)  # output layer\n",
    "        \n",
    "    def forward(self, x):\n",
    "        x = F.relu(self.fc1(x))\n",
    "        x = F.relu(self.fc2(x))\n",
    "        x = self.out(x)\n",
    "        return x"
   ]
  },
  {
   "cell_type": "markdown",
   "id": "acc28a4c",
   "metadata": {},
   "source": [
    "#### Instantiate Model class using default parameters"
   ]
  },
  {
   "cell_type": "code",
   "execution_count": 5,
   "id": "2ed47fa4",
   "metadata": {},
   "outputs": [],
   "source": [
    "torch.manual_seed(32)\n",
    "mlp = Model(in_features=IN_FEATURES, h1=HIDDEN_LAYER_1_NODES, h2=HIDDEN_LAYER_2_NODES, out_features=OUT_FEATURES)\n",
    "criterion = nn.CrossEntropyLoss()\n",
    "optimizer = torch.optim.Adam(mlp.parameters(), lr=LEARNING_RATE)"
   ]
  },
  {
   "cell_type": "markdown",
   "id": "430acd4d",
   "metadata": {},
   "source": [
    "#### 10-fold Stratified Cross Validation "
   ]
  },
  {
   "cell_type": "code",
   "execution_count": 6,
   "id": "53ded229",
   "metadata": {},
   "outputs": [
    {
     "name": "stdout",
     "output_type": "stream",
     "text": [
      "-----------------------\n",
      "fold: 0 , training_loss: 3.011841954503325e-06\n",
      "fold: 0, 298 out of 300 = 99.33% correct\n",
      "-----------------------\n",
      "-----------------------\n",
      "fold: 1 , training_loss: 0.0002579570864327252\n",
      "fold: 1, 299 out of 300 = 99.67% correct\n",
      "-----------------------\n",
      "-----------------------\n",
      "fold: 2 , training_loss: 6.198282790137455e-05\n",
      "fold: 2, 297 out of 300 = 99.00% correct\n",
      "-----------------------\n",
      "-----------------------\n",
      "fold: 3 , training_loss: 0.0019189229933544993\n",
      "fold: 3, 298 out of 300 = 99.33% correct\n",
      "-----------------------\n",
      "-----------------------\n",
      "fold: 4 , training_loss: 0.0010914469603449106\n",
      "fold: 4, 299 out of 300 = 99.67% correct\n",
      "-----------------------\n",
      "-----------------------\n",
      "fold: 5 , training_loss: 0.0008406282868236303\n",
      "fold: 5, 300 out of 300 = 100.00% correct\n",
      "-----------------------\n",
      "-----------------------\n",
      "fold: 6 , training_loss: 0.00082861800910905\n",
      "fold: 6, 300 out of 300 = 100.00% correct\n",
      "-----------------------\n",
      "-----------------------\n",
      "fold: 7 , training_loss: 0.0008248953963629901\n",
      "fold: 7, 300 out of 300 = 100.00% correct\n",
      "-----------------------\n",
      "-----------------------\n",
      "fold: 8 , training_loss: 0.0008668176014907658\n",
      "fold: 8, 300 out of 300 = 100.00% correct\n",
      "-----------------------\n",
      "-----------------------\n",
      "fold: 9 , training_loss: 0.0008176362025551498\n",
      "fold: 9, 300 out of 300 = 100.00% correct\n",
      "-----------------------\n",
      "-----------------------\n",
      "fold: 10 , training_loss: 0.000814426748547703\n",
      "fold: 10, 299 out of 299 = 100.00% correct\n",
      "-----------------------\n",
      "-----------------------\n",
      "fold: 11 , training_loss: 0.0007524016546085477\n",
      "fold: 11, 299 out of 299 = 100.00% correct\n",
      "-----------------------\n",
      "\n",
      "Done Training\n",
      "Max Validation Accuracy:  100.0\n"
     ]
    }
   ],
   "source": [
    "skfcv = StratifiedKFold(n_splits=K, shuffle=True, random_state=1)\n",
    "training_loss = {}\n",
    "val_acc = []\n",
    "\n",
    "# per fold \n",
    "for fold, (train_index, test_index) in enumerate(skfcv.split(X_train, y_train)):\n",
    "    x_train_fold, x_test_fold = X_train[train_index], X_train[test_index]\n",
    "    y_train_fold, y_test_fold = y_train[train_index], y_train[test_index]\n",
    "    train_combined = TensorDataset(x_train_fold, y_train_fold)\n",
    "    test_combined = TensorDataset(x_test_fold, y_test_fold)\n",
    "    trainloader = DataLoader(train_combined, batch_size=TRAIN_BATCH_SIZE, shuffle=True)\n",
    "    testloader = DataLoader(test_combined, batch_size=TEST_BATCH_SIZE, shuffle=False)\n",
    "    # per epoch\n",
    "    for i in range(EPOCHS): \n",
    "        i+=1\n",
    "        # per batch \n",
    "        losses = [] \n",
    "        val_correct_preds = 0\n",
    "        count = 0 \n",
    "        for batch_idx, (data, target) in enumerate(trainloader):\n",
    "            mlp.train()\n",
    "             \n",
    "            # training \n",
    "            y_pred = mlp.forward(data)\n",
    "            loss = criterion(y_pred, target)\n",
    "            losses.append(loss)\n",
    "            \n",
    "            # backtracking \n",
    "            optimizer.zero_grad()\n",
    "            loss.backward()\n",
    "            optimizer.step() \n",
    "        \n",
    "        # validating \n",
    "        with torch.no_grad():\n",
    "            mlp.eval()\n",
    "            for val_batch_idx, (val_data, val_target) in enumerate(testloader):\n",
    "                y_out = mlp.forward(val_data)\n",
    "                for row in range(y_out.shape[0]):\n",
    "                    if y_out[row].argmax() == val_target[row]:\n",
    "                        val_correct_preds += 1\n",
    "                    count += 1\n",
    "                    \n",
    "    # per fold         \n",
    "    with torch.no_grad():\n",
    "        training_loss[fold] = np.array(losses).mean()\n",
    "        print(\"-----------------------\")\n",
    "        print(f\"fold: {fold} , training_loss: {training_loss[fold]}\")\n",
    "        print(f\"fold: {fold}, {val_correct_preds} out of {count} = {100*val_correct_preds/count:.2f}% correct\")\n",
    "        print(\"-----------------------\")\n",
    "        val_acc.append(100*val_correct_preds/count)\n",
    "        count = 0\n",
    "\n",
    "print()\n",
    "print(\"Done Training\")\n",
    "print(\"Max Validation Accuracy: \",  np.array(val_acc).max())"
   ]
  },
  {
   "cell_type": "markdown",
   "id": "ce2b52e3",
   "metadata": {},
   "source": [
    "#### Mean Loss per fold "
   ]
  },
  {
   "cell_type": "code",
   "execution_count": 7,
   "id": "bf240080",
   "metadata": {},
   "outputs": [
    {
     "data": {
      "image/png": "[encoded data removed]",
      "text/plain": [
       "<Figure size 432x288 with 1 Axes>"
      ]
     },
     "metadata": {
      "needs_background": "light"
     },
     "output_type": "display_data"
    }
   ],
   "source": [
    "with torch.no_grad():\n",
    "    y_axis  = training_loss.values()\n",
    "    plt.plot(range(K), y_axis)\n",
    "    plt.ylabel('Mean Loss per fold')\n",
    "    plt.xlabel('Folds')"
   ]
  },
  {
   "cell_type": "markdown",
   "id": "d3bc32f7",
   "metadata": {},
   "source": [
    "## Evaluation "
   ]
  },
  {
   "cell_type": "code",
   "execution_count": 8,
   "id": "1b883d3c",
   "metadata": {},
   "outputs": [
    {
     "name": "stdout",
     "output_type": "stream",
     "text": [
      "--- 0.012330055236816406 execution time in seconds ---\n",
      "Loss with test set : 0.77847534\n"
     ]
    }
   ],
   "source": [
    "# TO EVALUATE THE ENTIRE TEST SET\n",
    "with torch.no_grad():\n",
    "    start_time = time.time()\n",
    "    y_val = mlp.forward(X_test)\n",
    "    print(\"--- %s execution time in seconds ---\" % (time.time() - start_time))\n",
    "    loss = criterion(y_val, y_test)\n",
    "    print(f'Loss with test set : {loss:.8f}')"
   ]
  },
  {
   "cell_type": "code",
   "execution_count": 9,
   "id": "b9ab0404",
   "metadata": {},
   "outputs": [
    {
     "name": "stdout",
     "output_type": "stream",
     "text": [
      "\n",
      "510 out of 538 = 94.80% correct\n",
      "Confusion matrix, without normalization\n",
      "tensor([[162,  19,   1],\n",
      "        [  0, 179,   0],\n",
      "        [  2,   6, 169]])\n",
      "Classification Report for MLP :\n",
      "              precision    recall  f1-score   support\n",
      "\n",
      "           0       0.99      0.89      0.94       182\n",
      "           1       0.88      1.00      0.93       179\n",
      "           2       0.99      0.95      0.97       177\n",
      "\n",
      "    accuracy                           0.95       538\n",
      "   macro avg       0.95      0.95      0.95       538\n",
      "weighted avg       0.95      0.95      0.95       538\n",
      "\n"
     ]
    },
    {
     "data": {
      "image/png": "[encoded data removed]",
      "text/plain": [
       "<Figure size 864x864 with 2 Axes>"
      ]
     },
     "metadata": {
      "needs_background": "light"
     },
     "output_type": "display_data"
    }
   ],
   "source": [
    "with torch.no_grad():\n",
    "    # checking accuracy on test dataset \n",
    "    preds = []\n",
    "    correct = 0\n",
    "    for i,data in enumerate(X_test):\n",
    "        y_val = mlp.forward(data)\n",
    "        preds.append(y_val.argmax().item())\n",
    "        if y_val.argmax().item() == y_test[i]:\n",
    "            correct += 1\n",
    "    print(f'\\n{correct} out of {len(y_test)} = {100*correct/len(y_test):.2f}% correct')\n",
    "    y_preds = torch.tensor(preds, dtype = torch.int64)\n",
    "    stacked = torch.stack((y_test,y_preds),dim=1)\n",
    "\n",
    "    # confusion matrix generation \n",
    "    cmt = torch.zeros(OUT_FEATURES,OUT_FEATURES, dtype=torch.int64)\n",
    "    for p in stacked:\n",
    "        tl, pl = p.tolist()\n",
    "        cmt[tl, pl] = cmt[tl, pl] + 1  \n",
    "    \n",
    "    plt.figure(figsize=(12,12))\n",
    "    plot_confusion_matrix(cmt, DANCE_MOVES)\n",
    "    \n",
    "    print(\"Classification Report for MLP :\")\n",
    "    print(classification_report(y_test, y_preds))"
   ]
  },
  {
   "cell_type": "code",
   "execution_count": 10,
   "id": "af4da898",
   "metadata": {},
   "outputs": [
    {
     "name": "stdout",
     "output_type": "stream",
     "text": [
      "dict_keys(['fc1.weight', 'fc1.bias', 'fc2.weight', 'fc2.bias', 'out.weight', 'out.bias'])\n",
      "fc1.weight : 200 neurons in fc1.weight layer\n",
      " number of connections  : 200 * 360 = 72000 \n",
      "fc1.bias : 200 neurons in fc1.bias layer\n",
      " number of connections  : 200 * 1 = 200 \n",
      "fc2.weight : 80 neurons in fc2.weight layer\n",
      " number of connections  : 80 * 200 = 16000 \n",
      "fc2.bias : 80 neurons in fc2.bias layer\n",
      " number of connections  : 80 * 1 = 80 \n",
      "out.weight : 3 neurons in out.weight layer\n",
      " number of connections  : 3 * 80 = 240 \n",
      "out.bias : 3 neurons in out.bias layer\n",
      " number of connections  : 3 * 1 = 3 \n"
     ]
    }
   ],
   "source": [
    "# model weights \n",
    "with torch.no_grad():\n",
    "    mlp_params = {}\n",
    "    for name, param in mlp.named_parameters():\n",
    "        mlp_params[name] = param.numpy().copy().tolist()\n",
    "        \n",
    "    print(mlp_params.keys())\n",
    "    for key in mlp_params.keys(): \n",
    "        print(f\"{key} : {len(mlp_params[key])} neurons in {key} layer\")\n",
    "        print(f\" number of connections  : {len(mlp_params[key])} * {np.asarray(mlp_params[key][len(mlp_params[key]) -1]).size} = {len(mlp_params[key]) * np.asarray(mlp_params[key][len(mlp_params[key]) -1]).size } \")\n",
    "\n",
    "    # save model weights \n",
    "    with open('mlp.csv', 'w') as csv_file:  \n",
    "        writer = csv.writer(csv_file)\n",
    "        for key, value in mlp_params.items():\n",
    "           writer.writerow([key, value])"
   ]
  },
  {
   "cell_type": "markdown",
   "id": "0940b253",
   "metadata": {},
   "source": [
    "## Save & Load Model"
   ]
  },
  {
   "cell_type": "code",
   "execution_count": 11,
   "id": "308d3de1",
   "metadata": {},
   "outputs": [
    {
     "data": {
      "text/plain": [
       "Model(\n",
       "  (fc1): Linear(in_features=360, out_features=200, bias=True)\n",
       "  (fc2): Linear(in_features=200, out_features=80, bias=True)\n",
       "  (out): Linear(in_features=80, out_features=3, bias=True)\n",
       ")"
      ]
     },
     "execution_count": 11,
     "metadata": {},
     "output_type": "execute_result"
    }
   ],
   "source": [
    "torch.save(mlp.state_dict(), 'MLPW9.pt')\n",
    "loaded_model = Model(in_features=IN_FEATURES,h1=HIDDEN_LAYER_1_NODES, h2=HIDDEN_LAYER_2_NODES, out_features=OUT_FEATURES) \n",
    "loaded_model.load_state_dict(torch.load('MLPW9.pt'))\n",
    "loaded_model.eval()"
   ]
  },
  {
   "cell_type": "code",
   "execution_count": 12,
   "id": "11d6d14b",
   "metadata": {},
   "outputs": [
    {
     "name": "stdout",
     "output_type": "stream",
     "text": [
      "0.77847534\n"
     ]
    }
   ],
   "source": [
    "# loss when loaded model is run on test dataset \n",
    "with torch.no_grad():\n",
    "    y_val = loaded_model.forward(X_test)\n",
    "    loss = criterion(y_val, y_test)\n",
    "    print(f'{loss:.8f}')"
   ]
  },
  {
   "cell_type": "code",
   "execution_count": 13,
   "id": "c71a3207",
   "metadata": {},
   "outputs": [
    {
     "name": "stdout",
     "output_type": "stream",
     "text": [
      "tensor([-4.2520e-01, -5.2760e-01, -3.7010e-01, -4.3310e-01, -5.0390e-01,\n",
      "        -7.4020e-01, -8.4250e-01, -8.6610e-01, -7.8740e-01, -8.4250e-01,\n",
      "        -7.3230e-01, -7.6380e-01, -8.8190e-01, -8.8980e-01, -8.0310e-01,\n",
      "        -9.2910e-01, -1.0079e+00,  9.5280e-01, -8.5830e-01, -7.1650e-01,\n",
      "        -5.8270e-01, -5.2760e-01, -4.9610e-01, -2.8350e-01, -2.9130e-01,\n",
      "        -1.1810e-01, -8.6600e-02, -7.8700e-02, -1.7320e-01, -2.6770e-01,\n",
      "        -2.2050e-01, -1.8900e-01, -1.1020e-01, -2.0470e-01, -2.5980e-01,\n",
      "        -4.1730e-01, -6.6930e-01, -9.2910e-01,  1.0000e+00,  8.4250e-01,\n",
      "         1.1810e-01,  1.6540e-01,  9.4500e-02,  1.8900e-01,  1.8900e-01,\n",
      "         1.7320e-01,  2.3620e-01,  1.7320e-01,  1.2600e-01, -2.3600e-02,\n",
      "         7.9000e-03, -1.0240e-01, -1.4170e-01,  7.8700e-02,  1.4960e-01,\n",
      "         2.4410e-01,  2.3620e-01,  1.4170e-01,  1.8900e-01,  1.7320e-01,\n",
      "         5.5100e-02,  7.9000e-03, -1.1020e-01, -1.8900e-01, -2.5980e-01,\n",
      "        -3.4650e-01, -3.9370e-01, -4.3310e-01, -4.3310e-01, -4.5670e-01,\n",
      "        -4.8030e-01, -4.8820e-01, -4.0940e-01, -3.6220e-01, -2.1260e-01,\n",
      "        -9.4500e-02,  7.0900e-02,  7.0900e-02,  3.3860e-01,  1.6540e-01,\n",
      "         1.3390e-01,  2.5200e-01,  2.2830e-01,  1.9690e-01, -1.5700e-02,\n",
      "        -2.5980e-01, -5.5120e-01, -7.7950e-01, -8.5830e-01, -8.5040e-01,\n",
      "        -8.4250e-01, -7.4020e-01, -6.6140e-01, -5.8270e-01, -5.5120e-01,\n",
      "        -5.9060e-01, -6.6140e-01, -7.8740e-01, -7.0080e-01, -5.9060e-01,\n",
      "        -4.8820e-01, -5.5910e-01, -4.8030e-01, -5.1970e-01, -4.3310e-01,\n",
      "        -3.4650e-01, -2.7560e-01, -2.3620e-01, -2.6770e-01, -2.8350e-01,\n",
      "        -3.0710e-01, -3.0710e-01, -3.5430e-01, -4.3310e-01, -4.1730e-01,\n",
      "        -4.0160e-01, -3.9370e-01, -4.6460e-01, -4.4090e-01, -5.3540e-01,\n",
      "        -6.1400e-02, -5.7900e-02, -5.5600e-02, -2.2470e-01, -2.9530e-01,\n",
      "        -4.3650e-01, -4.6130e-01, -5.0090e-01, -5.3620e-01, -3.9310e-01,\n",
      "        -3.8670e-01, -3.2340e-01, -2.0130e-01, -9.7000e-02, -9.0000e-02,\n",
      "        -4.5000e-02,  5.4300e-02,  1.5020e-01,  2.2290e-01,  2.3420e-01,\n",
      "         1.7860e-01,  7.4200e-02,  1.3910e-01,  8.4200e-02,  4.5400e-02,\n",
      "         9.0000e-03, -5.1000e-02, -5.6400e-02, -6.1700e-02, -2.8900e-02,\n",
      "         1.2400e-02, -1.5000e-03,  7.0700e-02,  1.0060e-01,  1.3170e-01,\n",
      "         7.1800e-02,  2.3800e-02, -4.4100e-02, -5.1500e-02,  2.5600e-02,\n",
      "         8.7000e-03,  1.7000e-03,  1.4980e-01,  2.3280e-01,  3.7100e-01,\n",
      "         4.1840e-01,  5.1770e-01,  4.1130e-01,  3.8960e-01,  3.1640e-01,\n",
      "         2.5380e-01,  2.6300e-01,  2.4640e-01,  1.6860e-01,  1.2550e-01,\n",
      "         1.5790e-01,  8.7600e-02, -3.1200e-02, -1.7730e-01, -1.8710e-01,\n",
      "        -1.3740e-01, -9.4200e-02, -2.1910e-01, -4.3300e-02, -2.5830e-01,\n",
      "        -1.3780e-01, -1.7070e-01, -7.9200e-02, -5.4700e-02, -3.6100e-02,\n",
      "        -4.2500e-02, -1.1880e-01,  6.0000e-03, -2.2300e-02,  5.7700e-02,\n",
      "         1.6310e-01,  2.8700e-01,  3.3230e-01,  3.6010e-01,  2.2900e-01,\n",
      "        -3.2000e-02, -8.0000e-04,  1.2300e-02,  2.5400e-02,  4.9200e-02,\n",
      "         9.3300e-02,  7.4800e-02,  3.7000e-02, -3.4400e-02, -5.5500e-02,\n",
      "        -3.8800e-02, -8.3300e-02, -1.0000e-01, -1.2070e-01, -2.3050e-01,\n",
      "        -3.0980e-01, -4.6430e-01, -5.7720e-01, -6.1210e-01, -6.0990e-01,\n",
      "        -5.3940e-01, -4.7770e-01, -3.4640e-01, -3.1650e-01, -1.4660e-01,\n",
      "        -8.8600e-02, -5.3000e-03,  2.3200e-02,  2.2500e-02,  1.5300e-02,\n",
      "         4.9500e-02,  1.1010e-01,  1.7830e-01,  2.8680e-01,  3.9560e-01,\n",
      "         4.2330e-01,  4.4810e-01,  4.8650e-01,  4.4840e-01,  4.7960e-01,\n",
      "        -7.6200e-02, -7.6300e-02, -7.5700e-02, -7.4600e-02, -7.2500e-02,\n",
      "        -6.8400e-02, -6.5100e-02, -6.3500e-02, -6.5000e-02, -6.7400e-02,\n",
      "        -6.9100e-02, -7.2700e-02, -7.7100e-02, -8.2400e-02, -9.2600e-02,\n",
      "        -1.0610e-01, -1.2630e-01, -1.5150e-01, -1.7870e-01, -2.0520e-01,\n",
      "        -2.2880e-01, -2.4960e-01, -2.6490e-01, -2.7870e-01, -2.8520e-01,\n",
      "        -2.8900e-01, -2.8920e-01, -2.8820e-01, -2.8730e-01, -2.8660e-01,\n",
      "        -2.8440e-01, -2.7960e-01, -2.7180e-01, -2.5950e-01, -2.4200e-01,\n",
      "        -2.2350e-01, -2.0400e-01, -1.8280e-01, -1.6290e-01, -1.4200e-01,\n",
      "         1.7910e-01,  1.5560e-01,  2.7750e-01,  3.5000e-01,  4.9850e-01,\n",
      "         5.3390e-01,  5.9930e-01,  4.8140e-01,  4.5140e-01,  3.9300e-01,\n",
      "         3.3410e-01,  3.4830e-01,  3.5000e-01,  2.9230e-01,  2.5280e-01,\n",
      "         2.8110e-01,  2.1860e-01,  1.1080e-01, -2.5900e-02, -3.2400e-02,\n",
      "         1.1200e-02,  3.4200e-02, -7.3700e-02,  4.0100e-02, -1.4020e-01,\n",
      "        -7.3700e-02, -1.1310e-01, -3.1800e-02,  1.0000e-02,  4.4200e-02,\n",
      "         2.4700e-02, -4.5400e-02,  4.6000e-02,  4.1800e-02,  1.3200e-01,\n",
      "         2.6100e-01,  4.0130e-01,  4.5020e-01,  4.7610e-01,  3.6420e-01,\n",
      "        -1.3170e-01, -1.2600e-01, -1.3420e-01, -2.6720e-01, -3.3650e-01,\n",
      "        -4.8960e-01, -5.1860e-01, -5.5950e-01, -5.9800e-01, -4.8330e-01,\n",
      "        -4.7890e-01, -4.2910e-01, -3.1950e-01, -1.9160e-01, -1.7520e-01,\n",
      "        -1.2290e-01, -3.3400e-02,  4.3500e-02,  1.2410e-01,  1.3360e-01,\n",
      "         6.6200e-02, -4.1000e-02, -3.2000e-03, -7.8100e-02, -1.3740e-01,\n",
      "        -2.1360e-01, -2.9620e-01, -3.1570e-01, -3.0500e-01, -2.6400e-01,\n",
      "        -2.3130e-01, -2.4760e-01, -1.6700e-01, -1.1280e-01, -4.6600e-02,\n",
      "        -6.8100e-02, -7.6200e-02, -1.4300e-01, -1.1850e-01, -6.9900e-02])\n",
      "tensor([-45.7570,  98.2586, -15.5177])\n",
      "\n",
      "tensor(98.2586)\n",
      "1\n",
      "Predicted Output: jamesbond\n"
     ]
    }
   ],
   "source": [
    "# run model on a random sample row of the test dataset \n",
    "random.seed(899)\n",
    "random_int = random.randint(0, len(testing_X))\n",
    "random_input = torch.FloatTensor(testing_X[random_int])\n",
    "print(random_input)\n",
    "\n",
    "# random_input = torch.FloatTensor([])\n",
    "with torch.no_grad():\n",
    "    print(loaded_model(random_input))\n",
    "    print()\n",
    "    print(loaded_model(random_input).max())\n",
    "    print(loaded_model(random_input).argmax().item())\n",
    "    print(f\"Predicted Output: {NUM_TO_DANCE_MAP[loaded_model(random_input).argmax().item()]}\")\n",
    "#     print(f\"Actual Output: {NUM_TO_DANCE_MAP[y_test[random_int].item()]}\")"
   ]
  },
  {
   "cell_type": "code",
   "execution_count": 14,
   "id": "3bd7ff14",
   "metadata": {},
   "outputs": [],
   "source": [
    "# save test dataset\n",
    "with torch.no_grad(): \n",
    "    x = X_test.numpy().copy().tolist()\n",
    "    np.savetxt(\"X_test.csv\", x, delimiter=\",\")\n",
    "    y = y_test.numpy().copy().tolist()\n",
    "    np.savetxt(\"y_test.csv\", y, delimiter=\",\")"
   ]
  },
  {
   "cell_type": "code",
   "execution_count": 15,
   "id": "b8f8dd9c",
   "metadata": {},
   "outputs": [
    {
     "data": {
      "text/plain": [
       "{'acc_X': 1.27,\n",
       " 'acc_Y': 1.27,\n",
       " 'acc_Z': 1.27,\n",
       " 'gyro_X': 292.05,\n",
       " 'gyro_Y': 289.32,\n",
       " 'gyro_Z': 269.42,\n",
       " 'yaw': 327.65,\n",
       " 'pitch': 16.97,\n",
       " 'roll': 15.87}"
      ]
     },
     "execution_count": 15,
     "metadata": {},
     "output_type": "execute_result"
    }
   ],
   "source": [
    "TRAIN_MAX"
   ]
  }
 ],
 "metadata": {
  "kernelspec": {
   "display_name": "pytorch_env",
   "language": "python",
   "name": "pytorch_env"
  },
  "language_info": {
   "codemirror_mode": {
    "name": "ipython",
    "version": 3
   },
   "file_extension": ".py",
   "mimetype": "text/x-python",
   "name": "python",
   "nbconvert_exporter": "python",
   "pygments_lexer": "ipython3",
   "version": "3.9.6"
  }
 },
 "nbformat": 4,
 "nbformat_minor": 5
}
