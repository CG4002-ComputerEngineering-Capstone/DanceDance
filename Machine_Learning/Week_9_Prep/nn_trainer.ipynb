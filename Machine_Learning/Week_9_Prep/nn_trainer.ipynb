{
 "cells": [
  {
   "cell_type": "code",
   "execution_count": 1,
   "id": "9186abc2",
   "metadata": {},
   "outputs": [
    {
     "name": "stdout",
     "output_type": "stream",
     "text": [
      "TrainingVector shape (3598, 360)\n",
      "Label Train shape (3598,)\n",
      "TestingVector shape (538, 360)\n",
      "Label Test shape (538,)\n"
     ]
    }
   ],
   "source": [
    "import numpy as np\n",
    "import torch\n",
    "import torch.nn as nn\n",
    "import torch.nn.functional as F\n",
    "from torch.utils.data import DataLoader, TensorDataset\n",
    "\n",
    "from sklearn.metrics import confusion_matrix,classification_report, accuracy_score\n",
    "from sklearn.model_selection import StratifiedKFold\n",
    "\n",
    "from statistics import mean\n",
    "import random\n",
    "import csv\n",
    "import time\n",
    "\n",
    "import matplotlib.pyplot as plt\n",
    "import seaborn as sn\n",
    "plt.style.use('ggplot')\n",
    "sn.set_style(\"whitegrid\")\n",
    "%matplotlib inline\n",
    "\n",
    "\n",
    "from process import concatenator, load_data_paths, gen_rawData\n",
    "from process import normaliseTestData, normaliseTrainData, plot_confusion_matrix, segment_df, getInputVector"
   ]
  },
  {
   "cell_type": "markdown",
   "id": "614ecae0",
   "metadata": {},
   "source": [
    "## Constants "
   ]
  },
  {
   "cell_type": "code",
   "execution_count": 2,
   "id": "861f0262",
   "metadata": {},
   "outputs": [],
   "source": [
    "TRAIN_FILEPATH = \"./capstone_data/train/*.csv\"\n",
    "TEST_FILEPATH = \"./capstone_data/test/*.csv\"\n",
    "\n",
    "DANCE_TO_NUM_MAP = {'dab': 0, 'jamesbond': 1, 'mermaid': 2}\n",
    "\n",
    "DANCE_MOVES = [\"jamesbond\", \"dab\", \"mermaid\"]\n",
    "IN_FEATURES = 360\n",
    "OUT_FEATURES = 3\n",
    "HIDDEN_LAYER_1_NODES = 200\n",
    "HIDDEN_LAYER_2_NODES = 80\n",
    "K = 12\n",
    "EPOCHS = 50\n",
    "TRAIN_BATCH_SIZE = 108\n",
    "TEST_BATCH_SIZE = 40\n",
    "LEARNING_RATE = 0.01\n",
    "\n",
    "NUM_TO_DANCE_MAP = {0: 'dab', 1: 'jamesbond', 2: 'mermaid'}"
   ]
  },
  {
   "cell_type": "markdown",
   "id": "2a9c02a4",
   "metadata": {},
   "source": [
    "## Load Dataset"
   ]
  },
  {
   "cell_type": "code",
   "execution_count": 3,
   "id": "d637cb17",
   "metadata": {},
   "outputs": [
    {
     "name": "stdout",
     "output_type": "stream",
     "text": [
      "TrainingVector shape (3598, 360)\n",
      "Label Train shape (3598,)\n",
      "TestingVector shape (538, 360)\n",
      "Label Test shape (538,)\n"
     ]
    }
   ],
   "source": [
    "raw_train_df = concatenator(gen_rawData(load_data_paths(TRAIN_FILEPATH)))\n",
    "raw_test_df = concatenator(gen_rawData(load_data_paths(TEST_FILEPATH)))\n",
    "# filter_signal(raw_train_df)\n",
    "# filter_signal(raw_test_df)\n",
    "TRAIN_MAX = normaliseTrainData(raw_train_df)\n",
    "normaliseTestData(raw_test_df, TRAIN_MAX)\n",
    "raw_test_df[\"target\"] = raw_test_df[\"dance\"].map(DANCE_TO_NUM_MAP)\n",
    "raw_train_df[\"target\"] = raw_train_df[\"dance\"].map(DANCE_TO_NUM_MAP)\n",
    "test_segs, lbl_test = segment_df(raw_test_df, \"target\")\n",
    "train_segs, lbl_train = segment_df(raw_train_df, \"target\")\n",
    "training_X = getInputVector(train_segs)\n",
    "testing_X = getInputVector(test_segs)\n",
    "print(\"TrainingVector shape\", training_X.shape)\n",
    "print(\"Label Train shape\", lbl_train.shape )\n",
    "print(\"TestingVector shape\", testing_X.shape)\n",
    "print(\"Label Test shape\", lbl_test.shape )\n",
    "\n",
    "X_train = torch.FloatTensor(training_X)\n",
    "X_test = torch.FloatTensor(testing_X)\n",
    "y_train = torch.LongTensor(lbl_train)\n",
    "y_test = torch.LongTensor(lbl_test)\n",
    "# X_test"
   ]
  },
  {
   "cell_type": "markdown",
   "id": "f3431321",
   "metadata": {},
   "source": [
    "## Multi-Layer Perceptron Model"
   ]
  },
  {
   "cell_type": "code",
   "execution_count": 4,
   "id": "209383b1",
   "metadata": {},
   "outputs": [],
   "source": [
    "class Model(nn.Module):\n",
    "    def __init__(self, in_features, h1, h2, out_features):\n",
    "        super().__init__()\n",
    "        self.fc1 = nn.Linear(in_features,h1)    # input layer\n",
    "        self.fc2 = nn.Linear(h1, h2)            # hidden layer\n",
    "        self.out = nn.Linear(h2, out_features)  # output layer\n",
    "        \n",
    "    def forward(self, x):\n",
    "        x = F.relu(self.fc1(x))\n",
    "        x = F.relu(self.fc2(x))\n",
    "        x = self.out(x)\n",
    "        return x"
   ]
  },
  {
   "cell_type": "markdown",
   "id": "acc28a4c",
   "metadata": {},
   "source": [
    "#### Instantiate Model class using default parameters"
   ]
  },
  {
   "cell_type": "code",
   "execution_count": 5,
   "id": "2ed47fa4",
   "metadata": {},
   "outputs": [],
   "source": [
    "torch.manual_seed(32)\n",
    "mlp = Model(in_features=IN_FEATURES, h1=HIDDEN_LAYER_1_NODES, h2=HIDDEN_LAYER_2_NODES, out_features=OUT_FEATURES)\n",
    "criterion = nn.CrossEntropyLoss()\n",
    "optimizer = torch.optim.Adam(mlp.parameters(), lr=LEARNING_RATE)"
   ]
  },
  {
   "cell_type": "markdown",
   "id": "430acd4d",
   "metadata": {},
   "source": [
    "#### 10-fold Stratified Cross Validation "
   ]
  },
  {
   "cell_type": "code",
   "execution_count": 6,
   "id": "53ded229",
   "metadata": {},
   "outputs": [
    {
     "name": "stdout",
     "output_type": "stream",
     "text": [
      "-----------------------\n",
      "fold: 0 , training_loss: 4.842136149818543e-06\n",
      "fold: 0, 299 out of 300 = 99.67% correct\n",
      "-----------------------\n",
      "-----------------------\n",
      "fold: 1 , training_loss: 4.761248874274315e-06\n",
      "fold: 1, 298 out of 300 = 99.33% correct\n",
      "-----------------------\n",
      "-----------------------\n",
      "fold: 2 , training_loss: 0.0001461943465983495\n",
      "fold: 2, 299 out of 300 = 99.67% correct\n",
      "-----------------------\n",
      "-----------------------\n",
      "fold: 3 , training_loss: 4.353653275757097e-05\n",
      "fold: 3, 300 out of 300 = 100.00% correct\n",
      "-----------------------\n",
      "-----------------------\n",
      "fold: 4 , training_loss: 1.6949064956861548e-05\n",
      "fold: 4, 300 out of 300 = 100.00% correct\n",
      "-----------------------\n",
      "-----------------------\n",
      "fold: 5 , training_loss: 7.241239472932648e-06\n",
      "fold: 5, 300 out of 300 = 100.00% correct\n",
      "-----------------------\n",
      "-----------------------\n",
      "fold: 6 , training_loss: 3.3928681659745052e-06\n",
      "fold: 6, 300 out of 300 = 100.00% correct\n",
      "-----------------------\n",
      "-----------------------\n",
      "fold: 7 , training_loss: 1.6440837953268783e-06\n",
      "fold: 7, 300 out of 300 = 100.00% correct\n",
      "-----------------------\n",
      "-----------------------\n",
      "fold: 8 , training_loss: 7.09309517787915e-07\n",
      "fold: 8, 300 out of 300 = 100.00% correct\n",
      "-----------------------\n",
      "-----------------------\n",
      "fold: 9 , training_loss: 3.1716089665678737e-07\n",
      "fold: 9, 300 out of 300 = 100.00% correct\n",
      "-----------------------\n",
      "-----------------------\n",
      "fold: 10 , training_loss: 1.2689640982443962e-07\n",
      "fold: 10, 299 out of 299 = 100.00% correct\n",
      "-----------------------\n",
      "-----------------------\n",
      "fold: 11 , training_loss: 6.615526615405543e-08\n",
      "fold: 11, 299 out of 299 = 100.00% correct\n",
      "-----------------------\n",
      "\n",
      "Done Training\n",
      "Max Validation Accuracy:  100.0\n"
     ]
    }
   ],
   "source": [
    "skfcv = StratifiedKFold(n_splits=K, shuffle=True, random_state=1)\n",
    "training_loss = {}\n",
    "val_acc = []\n",
    "\n",
    "# per fold \n",
    "for fold, (train_index, test_index) in enumerate(skfcv.split(X_train, y_train)):\n",
    "    x_train_fold, x_test_fold = X_train[train_index], X_train[test_index]\n",
    "    y_train_fold, y_test_fold = y_train[train_index], y_train[test_index]\n",
    "    train_combined = TensorDataset(x_train_fold, y_train_fold)\n",
    "    test_combined = TensorDataset(x_test_fold, y_test_fold)\n",
    "    trainloader = DataLoader(train_combined, batch_size=TRAIN_BATCH_SIZE, shuffle=True)\n",
    "    testloader = DataLoader(test_combined, batch_size=TEST_BATCH_SIZE, shuffle=False)\n",
    "    # per epoch\n",
    "    for i in range(EPOCHS): \n",
    "        i+=1\n",
    "        # per batch \n",
    "        losses = [] \n",
    "        val_correct_preds = 0\n",
    "        count = 0 \n",
    "        for batch_idx, (data, target) in enumerate(trainloader):\n",
    "            mlp.train()\n",
    "             \n",
    "            # training \n",
    "            y_pred = mlp.forward(data)\n",
    "            loss = criterion(y_pred, target)\n",
    "            losses.append(loss)\n",
    "            \n",
    "            # backtracking \n",
    "            optimizer.zero_grad()\n",
    "            loss.backward()\n",
    "            optimizer.step() \n",
    "        \n",
    "        # validating \n",
    "        with torch.no_grad():\n",
    "            mlp.eval()\n",
    "            for val_batch_idx, (val_data, val_target) in enumerate(testloader):\n",
    "                y_out = mlp.forward(val_data)\n",
    "                for row in range(y_out.shape[0]):\n",
    "                    if y_out[row].argmax() == val_target[row]:\n",
    "                        val_correct_preds += 1\n",
    "                    count += 1\n",
    "                    \n",
    "    # per fold         \n",
    "    with torch.no_grad():\n",
    "        training_loss[fold] = np.array(losses).mean()\n",
    "        print(\"-----------------------\")\n",
    "        print(f\"fold: {fold} , training_loss: {training_loss[fold]}\")\n",
    "        print(f\"fold: {fold}, {val_correct_preds} out of {count} = {100*val_correct_preds/count:.2f}% correct\")\n",
    "        print(\"-----------------------\")\n",
    "        val_acc.append(100*val_correct_preds/count)\n",
    "        count = 0\n",
    "\n",
    "print()\n",
    "print(\"Done Training\")\n",
    "print(\"Max Validation Accuracy: \",  np.array(val_acc).max())"
   ]
  },
  {
   "cell_type": "markdown",
   "id": "ce2b52e3",
   "metadata": {},
   "source": [
    "#### Mean Loss per fold "
   ]
  },
  {
   "cell_type": "code",
   "execution_count": 7,
   "id": "bf240080",
   "metadata": {},
   "outputs": [
    {
     "data": {
      "image/png": "[encoded data removed]",
      "text/plain": [
       "<Figure size 432x288 with 1 Axes>"
      ]
     },
     "metadata": {
      "needs_background": "light"
     },
     "output_type": "display_data"
    }
   ],
   "source": [
    "with torch.no_grad():\n",
    "    y_axis  = training_loss.values()\n",
    "    plt.plot(range(K), y_axis)\n",
    "    plt.ylabel('Mean Loss per fold')\n",
    "    plt.xlabel('Folds')"
   ]
  },
  {
   "cell_type": "markdown",
   "id": "d3bc32f7",
   "metadata": {},
   "source": [
    "## Evaluation "
   ]
  },
  {
   "cell_type": "code",
   "execution_count": 8,
   "id": "1b883d3c",
   "metadata": {},
   "outputs": [
    {
     "name": "stdout",
     "output_type": "stream",
     "text": [
      "--- 0.03625607490539551 execution time in seconds ---\n",
      "Loss with test set : 0.80680746\n"
     ]
    }
   ],
   "source": [
    "# TO EVALUATE THE ENTIRE TEST SET\n",
    "with torch.no_grad():\n",
    "    start_time = time.time()\n",
    "    y_val = mlp.forward(X_test)\n",
    "    print(\"--- %s execution time in seconds ---\" % (time.time() - start_time))\n",
    "    loss = criterion(y_val, y_test)\n",
    "    print(f'Loss with test set : {loss:.8f}')"
   ]
  },
  {
   "cell_type": "code",
   "execution_count": 9,
   "id": "b9ab0404",
   "metadata": {},
   "outputs": [
    {
     "name": "stdout",
     "output_type": "stream",
     "text": [
      "\n",
      "513 out of 538 = 95.35% correct\n",
      "Confusion matrix, without normalization\n",
      "tensor([[160,  22,   0],\n",
      "        [  0, 179,   0],\n",
      "        [  2,   1, 174]])\n",
      "Classification Report for MLP :\n",
      "              precision    recall  f1-score   support\n",
      "\n",
      "           0       0.99      0.88      0.93       182\n",
      "           1       0.89      1.00      0.94       179\n",
      "           2       1.00      0.98      0.99       177\n",
      "\n",
      "    accuracy                           0.95       538\n",
      "   macro avg       0.96      0.95      0.95       538\n",
      "weighted avg       0.96      0.95      0.95       538\n",
      "\n"
     ]
    },
    {
     "data": {
      "image/png": "[encoded data removed]",
      "text/plain": [
       "<Figure size 864x864 with 2 Axes>"
      ]
     },
     "metadata": {
      "needs_background": "light"
     },
     "output_type": "display_data"
    }
   ],
   "source": [
    "with torch.no_grad():\n",
    "    # checking accuracy on test dataset \n",
    "    preds = []\n",
    "    correct = 0\n",
    "    for i,data in enumerate(X_test):\n",
    "        y_val = mlp.forward(data)\n",
    "        preds.append(y_val.argmax().item())\n",
    "        if y_val.argmax().item() == y_test[i]:\n",
    "            correct += 1\n",
    "    print(f'\\n{correct} out of {len(y_test)} = {100*correct/len(y_test):.2f}% correct')\n",
    "    y_preds = torch.tensor(preds, dtype = torch.int64)\n",
    "    stacked = torch.stack((y_test,y_preds),dim=1)\n",
    "\n",
    "    # confusion matrix generation \n",
    "    cmt = torch.zeros(OUT_FEATURES,OUT_FEATURES, dtype=torch.int64)\n",
    "    for p in stacked:\n",
    "        tl, pl = p.tolist()\n",
    "        cmt[tl, pl] = cmt[tl, pl] + 1  \n",
    "    \n",
    "    plt.figure(figsize=(12,12))\n",
    "    plot_confusion_matrix(cmt, DANCE_MOVES)\n",
    "    \n",
    "    print(\"Classification Report for MLP :\")\n",
    "    print(classification_report(y_test, y_preds))"
   ]
  },
  {
   "cell_type": "code",
   "execution_count": 10,
   "id": "af4da898",
   "metadata": {},
   "outputs": [
    {
     "name": "stdout",
     "output_type": "stream",
     "text": [
      "dict_keys(['fc1.weight', 'fc1.bias', 'fc2.weight', 'fc2.bias', 'out.weight', 'out.bias'])\n",
      "fc1.weight : 200 neurons in fc1.weight layer\n",
      " number of connections  : 200 * 360 = 72000 \n",
      "fc1.bias : 200 neurons in fc1.bias layer\n",
      " number of connections  : 200 * 1 = 200 \n",
      "fc2.weight : 80 neurons in fc2.weight layer\n",
      " number of connections  : 80 * 200 = 16000 \n",
      "fc2.bias : 80 neurons in fc2.bias layer\n",
      " number of connections  : 80 * 1 = 80 \n",
      "out.weight : 3 neurons in out.weight layer\n",
      " number of connections  : 3 * 80 = 240 \n",
      "out.bias : 3 neurons in out.bias layer\n",
      " number of connections  : 3 * 1 = 3 \n"
     ]
    }
   ],
   "source": [
    "# model weights \n",
    "with torch.no_grad():\n",
    "    mlp_params = {}\n",
    "    for name, param in mlp.named_parameters():\n",
    "        mlp_params[name] = param.numpy().copy().tolist()\n",
    "        \n",
    "    print(mlp_params.keys())\n",
    "    for key in mlp_params.keys(): \n",
    "        print(f\"{key} : {len(mlp_params[key])} neurons in {key} layer\")\n",
    "        print(f\" number of connections  : {len(mlp_params[key])} * {np.asarray(mlp_params[key][len(mlp_params[key]) -1]).size} = {len(mlp_params[key]) * np.asarray(mlp_params[key][len(mlp_params[key]) -1]).size } \")\n",
    "\n",
    "    # save model weights \n",
    "    with open('mlp.csv', 'w') as csv_file:  \n",
    "        writer = csv.writer(csv_file)\n",
    "        for key, value in mlp_params.items():\n",
    "           writer.writerow([key, value])"
   ]
  },
  {
   "cell_type": "markdown",
   "id": "0940b253",
   "metadata": {},
   "source": [
    "## Save & Load Model"
   ]
  },
  {
   "cell_type": "code",
   "execution_count": 11,
   "id": "308d3de1",
   "metadata": {},
   "outputs": [
    {
     "data": {
      "text/plain": [
       "Model(\n",
       "  (fc1): Linear(in_features=360, out_features=200, bias=True)\n",
       "  (fc2): Linear(in_features=200, out_features=80, bias=True)\n",
       "  (out): Linear(in_features=80, out_features=3, bias=True)\n",
       ")"
      ]
     },
     "execution_count": 11,
     "metadata": {},
     "output_type": "execute_result"
    }
   ],
   "source": [
    "torch.save(mlp.state_dict(), 'MLPW9.pt')\n",
    "loaded_model = Model(in_features=IN_FEATURES,h1=HIDDEN_LAYER_1_NODES, h2=HIDDEN_LAYER_2_NODES, out_features=OUT_FEATURES) \n",
    "loaded_model.load_state_dict(torch.load('MLPW9.pt'))\n",
    "loaded_model.eval()"
   ]
  },
  {
   "cell_type": "code",
   "execution_count": 12,
   "id": "11d6d14b",
   "metadata": {},
   "outputs": [
    {
     "name": "stdout",
     "output_type": "stream",
     "text": [
      "0.80680746\n"
     ]
    }
   ],
   "source": [
    "# loss when loaded model is run on test dataset \n",
    "with torch.no_grad():\n",
    "    y_val = loaded_model.forward(X_test)\n",
    "    loss = criterion(y_val, y_test)\n",
    "    print(f'{loss:.8f}')"
   ]
  },
  {
   "cell_type": "code",
   "execution_count": 24,
   "id": "c71a3207",
   "metadata": {},
   "outputs": [
    {
     "name": "stdout",
     "output_type": "stream",
     "text": [
      "tensor([[ 244.0130, -833.7693,  -39.2507]])\n",
      "\n",
      "tensor(244.0130)\n",
      "0\n",
      "Predicted Output: dab\n"
     ]
    }
   ],
   "source": [
    "# # run model on a random sample row of the test dataset \n",
    "# random.seed(899)\n",
    "# random_int = random.randint(0, len(testing_X))\n",
    "# random_input = torch.FloatTensor(testing_X[random_int])\n",
    "# print(random_input)\n",
    "# print(random_input.shape)\n",
    "\n",
    "random_input = torch.FloatTensor([[-1.654000e-01, -1.654000e-01, -1.732000e-01, -8.000000e-04,\n",
    "       -8.000000e-04, -9.000000e-04, -7.000000e-04, -1.320000e-02,\n",
    "       -1.410000e-02, -1.654000e-01, -1.654000e-01, -1.654000e-01,\n",
    "       -7.000000e-04, -7.000000e-04, -8.000000e-04, -7.000000e-04,\n",
    "       -1.320000e-02, -1.600000e-02, -2.756000e-01, -3.071000e-01,\n",
    "       -4.331000e-01, -1.900000e-03, -1.200000e-03, -1.000000e-03,\n",
    "       -8.000000e-04, -1.920000e-02, -2.120000e-02, -2.598000e-01,\n",
    "       -1.575000e-01, -9.450000e-02,  3.000000e-04,  8.000000e-04,\n",
    "        9.000000e-04,  8.000000e-04,  1.200000e-02,  5.800000e-03,\n",
    "       -2.598000e-01, -2.598000e-01, -2.835000e-01, -1.100000e-03,\n",
    "        3.500000e-03,  3.700000e-03,  3.100000e-03,  5.990000e-02,\n",
    "        6.480000e-02,  7.953000e-01,  7.953000e-01,  7.874000e-01,\n",
    "        3.400000e-03,  3.500000e-03,  3.700000e-03,  3.100000e-03,\n",
    "        5.990000e-02,  6.410000e-02,  7.874000e-01,  7.874000e-01,\n",
    "        7.874000e-01,  3.400000e-03,  3.500000e-03, -3.300000e-03,\n",
    "       -2.700000e-03, -4.970000e-02, -5.320000e-02, -7.795000e-01,\n",
    "       -8.504000e-01, -8.504000e-01,  3.400000e-03,  3.500000e-03,\n",
    "        2.700000e-03,  1.300000e-03,  1.800000e-03, -1.220000e-02,\n",
    "       -2.283000e-01, -2.283000e-01, -1.654000e-01,  7.000000e-04,\n",
    "        1.900000e-03,  2.000000e-03, -1.900000e-03, -3.770000e-02,\n",
    "        1.300000e-03,  2.360000e-02,  2.360000e-02,  2.360000e-02,\n",
    "        1.000000e-04,  1.000000e-04,  1.000000e-04,  1.000000e-04,\n",
    "        1.200000e-03,  1.300000e-03,  1.570000e-02,  1.570000e-02,\n",
    "        0.000000e+00,  0.000000e+00,  0.000000e+00,  0.000000e+00,\n",
    "        0.000000e+00,  0.000000e+00,  1.030000e-02,  4.173000e-01,\n",
    "        4.567000e-01,  4.567000e-01,  9.000000e-04,  9.000000e-04,\n",
    "        1.300000e-03,  1.400000e-03,  2.750000e-02,  2.820000e-02,\n",
    "        2.520000e-01,  1.732000e-01,  1.570000e-02,  0.000000e+00,\n",
    "       -2.000000e-04, -2.000000e-04, -2.000000e-04,  3.000000e-03,\n",
    "        1.350000e-02,  2.362000e-01,  3.543000e-01,  3.543000e-01,\n",
    "        9.000000e-04,  1.100000e-03,  1.000000e-03, -1.100000e-03,\n",
    "       -4.070000e-02, -4.490000e-02, -7.559000e-01, -7.559000e-01,\n",
    "       -6.378000e-01, -2.800000e-03, -3.000000e-03, -3.200000e-03,\n",
    "       -1.800000e-03,  1.437000e-01,  1.738000e-01,  2.236200e+00,\n",
    "        5.354300e+00,  9.378000e+00,  1.488000e-01,  1.534000e-01,\n",
    "       -3.640000e-02, -4.494000e-01, -1.083710e+01, -1.160870e+01,\n",
    "       -1.397559e+02, -1.397559e+02, -1.492835e+02, -6.937000e-01,\n",
    "       -7.556000e-01, -7.945000e-01, -4.906000e-01, -6.517400e+00,\n",
    "       -3.595900e+00,  1.440160e+01,  6.677170e+01,  1.343622e+02,\n",
    "        7.879000e-01,  8.897000e-01,  9.356000e-01,  7.702000e-01,\n",
    "        1.320000e-02,  1.410000e-02, -2.677000e-01, -2.677000e-01,\n",
    "       -1.811000e-01, -5.000000e-04,  2.300000e-03,  2.400000e-03,\n",
    "        2.200000e-03,  3.000000e-03,  3.200000e-03, -1.811000e-01,\n",
    "       -2.126000e-01, -6.929000e-01, -3.000000e-03,  5.300000e-03,\n",
    "        5.500000e-03, -3.870000e-02, -6.665300e+00, -7.139800e+00,\n",
    "       -5.653540e+01, -2.659060e+01, -4.094500e+00, -1.780000e-02,\n",
    "       -9.580000e-02, -1.051000e-01, -8.650000e-02, -2.808000e-01,\n",
    "        9.551000e-01,  1.172440e+01, -9.755900e+00, -9.755900e+00,\n",
    "       -4.240000e-02,  4.510000e-02,  1.881000e-01,  1.752000e-01,\n",
    "        3.433500e+00,  3.344500e+00,  4.105510e+01,  2.451180e+01,\n",
    "        5.039000e-01,  8.100000e-03,  1.340000e-02,  1.410000e-02,\n",
    "        1.120000e-02,  1.257000e-01,  2.120000e-02, -9.450000e-02,\n",
    "       -9.450000e-02,  4.724000e-01,  2.600000e-03,  6.400000e-03,\n",
    "        7.300000e-03,  5.800000e-03,  1.138000e-01,  1.219000e-01,\n",
    "        1.866100e+00,  9.669300e+00,  3.952760e+01,  2.224000e-01,\n",
    "        2.292000e-01, -1.457000e-01, -3.178000e-01, -6.227500e+00,\n",
    "       -6.403500e+00, -6.586610e+01, -6.586610e+01, -9.364570e+01,\n",
    "       -5.172000e-01, -5.331000e-01, -5.234000e-01, -3.139000e-01,\n",
    "       -2.965900e+00,  2.226000e-01,  4.067720e+01,  9.529920e+01,\n",
    "        1.373937e+02,  6.602000e-01,  7.612000e-01,  8.004000e-01,\n",
    "        4.000000e-04,  1.620000e-02,  3.010000e-02,  5.354000e-01,\n",
    "        6.929000e-01,  7.795000e-01,  3.400000e-03,  3.400000e-03,\n",
    "        3.500000e-03,  3.000000e-03,  6.110000e-02,  7.180000e-02,\n",
    "        9.606000e-01,  1.055100e+00,  1.133900e+00,  5.100000e-03,\n",
    "        5.600000e-03,  8.400000e-03,  1.510000e-02,  5.772000e-01,\n",
    "        7.030000e-01,  8.629900e+00,  4.291300e+00, -5.197000e-01,\n",
    "       -2.040000e-02, -3.580000e-02, -5.450000e-02, -6.410000e-02,\n",
    "       -1.735300e+00, -2.436200e+00, -3.589760e+01, -4.018900e+01,\n",
    "       -4.211020e+01, -1.831000e-01, -1.789000e-01, -1.643000e-01,\n",
    "       -1.070000e-01, -1.485600e+00, -8.326000e-01, -1.220500e+00,\n",
    "       -7.900000e-03, -7.900000e-03, -0.000000e+00, -0.000000e+00,\n",
    "        0.000000e+00,  1.000000e-04,  2.400000e-03,  2.600000e-03,\n",
    "        2.360000e-02, -1.570000e-02, -1.570000e-02, -1.000000e-04,\n",
    "       -1.000000e-04, -2.000000e-04, -2.000000e-04,  3.600000e-03,\n",
    "        3.800000e-03, -4.488000e-01, -4.181100e+00, -4.181100e+00,\n",
    "       -1.200000e-02, -5.700000e-03, -1.400000e-03, -1.200000e-03,\n",
    "       -8.860000e-02, -9.490000e-02, -1.055100e+00, -3.940000e-02,\n",
    "        6.614000e-01,  2.900000e-03, -1.130000e-02, -1.180000e-02,\n",
    "       -9.700000e-03, -7.540000e-02,  2.820000e-02,  2.535400e+00,\n",
    "        2.535400e+00,  2.338600e+00,  1.020000e-02,  5.400000e-03,\n",
    "        1.000000e-04,  1.000000e-04,  1.200000e-03, -1.300000e-03,\n",
    "       -3.940000e-02, -4.720000e-02, -4.720000e-02, -1.000000e-04,\n",
    "       -1.000000e-04, -0.000000e+00, -1.000000e-04, -6.000000e-04,\n",
    "       -6.000000e-04,  1.181000e-01,  1.181000e-01,  1.339000e-01,\n",
    "        1.200000e-03,  1.900000e-03,  6.600000e-03,  5.500000e-03,\n",
    "       -7.070000e-02, -5.164000e-01, -7.220500e+00, -7.220500e+00,\n",
    "       -7.220500e+00, -3.230000e-02, -3.690000e-02, -4.070000e-02,\n",
    "       -3.510000e-02, -6.874000e-01, -6.806000e-01, -7.992100e+00,\n",
    "       -6.189000e+00, -3.236200e+00, -1.800000e-03,  2.820000e-02,\n",
    "        4.000000e-02,  3.740000e-02,  7.437000e-01,  7.967000e-01]])\n",
    "with torch.no_grad():\n",
    "    print(loaded_model(random_input))\n",
    "    print()\n",
    "    print(loaded_model(random_input).max())\n",
    "    print(loaded_model(random_input).argmax().item())\n",
    "    print(f\"Predicted Output: {NUM_TO_DANCE_MAP[loaded_model(random_input).argmax().item()]}\")\n",
    "#     print(f\"Actual Output: {NUM_TO_DANCE_MAP[y_test[random_int].item()]}\")"
   ]
  },
  {
   "cell_type": "code",
   "execution_count": 14,
   "id": "3bd7ff14",
   "metadata": {},
   "outputs": [],
   "source": [
    "# save test dataset\n",
    "with torch.no_grad(): \n",
    "    x = X_test.numpy().copy().tolist()\n",
    "    np.savetxt(\"X_test.csv\", x, delimiter=\",\")\n",
    "    y = y_test.numpy().copy().tolist()\n",
    "    np.savetxt(\"y_test.csv\", y, delimiter=\",\")"
   ]
  },
  {
   "cell_type": "code",
   "execution_count": 15,
   "id": "b8f8dd9c",
   "metadata": {},
   "outputs": [
    {
     "data": {
      "text/plain": [
       "{'acc_X': 1.27,\n",
       " 'acc_Y': 1.27,\n",
       " 'acc_Z': 1.27,\n",
       " 'gyro_X': 292.05,\n",
       " 'gyro_Y': 283.31,\n",
       " 'gyro_Z': 269.42,\n",
       " 'yaw': 327.28,\n",
       " 'pitch': 16.7,\n",
       " 'roll': 15.59}"
      ]
     },
     "execution_count": 15,
     "metadata": {},
     "output_type": "execute_result"
    }
   ],
   "source": [
    "TRAIN_MAX"
   ]
  }
 ],
 "metadata": {
  "kernelspec": {
   "display_name": "pytorch_env",
   "language": "python",
   "name": "pytorch_env"
  },
  "language_info": {
   "codemirror_mode": {
    "name": "ipython",
    "version": 3
   },
   "file_extension": ".py",
   "mimetype": "text/x-python",
   "name": "python",
   "nbconvert_exporter": "python",
   "pygments_lexer": "ipython3",
   "version": "3.9.7"
  }
 },
 "nbformat": 4,
 "nbformat_minor": 5
}
