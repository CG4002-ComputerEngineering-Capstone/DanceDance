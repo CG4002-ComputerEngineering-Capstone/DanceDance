{
 "cells": [
  {
   "cell_type": "code",
   "execution_count": 1,
   "id": "b6510158",
   "metadata": {},
   "outputs": [],
   "source": [
    "import numpy as np\n",
    "# import torch\n",
    "# import torch.nn as nn\n",
    "# import torch.nn.functional as F\n",
    "\n",
    "from sklearn.metrics import confusion_matrix,classification_report, accuracy_score\n",
    "from sklearn.model_selection import StratifiedKFold\n",
    "from sklearn.ensemble import ExtraTreesClassifier, VotingClassifier\n",
    "from sklearn import svm\n",
    "from sklearn.neighbors import KNeighborsClassifier\n",
    "# from skorch import NeuralNetClassifier\n",
    "from confused import make_confusion_matrix\n",
    "\n",
    "from statistics import mean, stdev\n",
    "import random\n",
    "import pickle\n",
    "\n",
    "from features import generate_final_dataset, gen_rawData, load_data_paths, getInputVector, segment_df, concatenator, plot_confusion_matrix"
   ]
  },
  {
   "cell_type": "code",
   "execution_count": 2,
   "id": "2d0e2dd4",
   "metadata": {},
   "outputs": [],
   "source": [
    "TRAIN_FILEPATH = \"./capstone_data/train/*.csv\"\n",
    "TEST_FILEPATH = \"./capstone_data/test/*.csv\"\n",
    "\n",
    "DANCE_MOVES = [\"jamesbond\", \"dab\", \"mermaid\"]\n",
    "IN_FEATURES = 480\n",
    "OUT_FEATURES = 3\n",
    "HIDDEN_LAYER_1_NODES = 80\n",
    "HIDDEN_LAYER_2_NODES = 40\n",
    "K = 3   \n",
    "EPOCHS = 50\n",
    "TRAIN_BATCH_SIZE = 108\n",
    "LEARNING_RATE = 0.01\n",
    "NUM_TO_DANCE_MAP = {0: 'dab', 1: 'jamesbond', 2: 'mermaid'}"
   ]
  },
  {
   "cell_type": "code",
   "execution_count": 3,
   "id": "036286aa",
   "metadata": {},
   "outputs": [
    {
     "name": "stdout",
     "output_type": "stream",
     "text": [
      "testing_X input vector shape : (538, 480)\n",
      "labels for test shape: (538,)\n",
      "training_X input vector shape : (2698, 480)\n",
      "labels for train shape: (2698,)\n"
     ]
    }
   ],
   "source": [
    "# test\n",
    "test_dic = generate_final_dataset(gen_rawData(load_data_paths(TEST_FILEPATH)))\n",
    "data_test, lbl_test = segment_df(concatenator(test_dic), \"target\")\n",
    "testing_X = getInputVector(data_test)\n",
    "print(f\"testing_X input vector shape : {testing_X.shape}\")\n",
    "print(f\"labels for test shape: {lbl_test.shape}\")\n",
    "\n",
    "# train\n",
    "train_dic = generate_final_dataset(gen_rawData(load_data_paths(TRAIN_FILEPATH)))\n",
    "data_train, lbl_train = segment_df(concatenator(train_dic), \"target\")\n",
    "training_X = getInputVector(data_train)\n",
    "print(f\"training_X input vector shape : {training_X.shape}\")\n",
    "print(f\"labels for train shape: {lbl_train.shape}\")\n",
    "\n",
    "# X_train = torch.FloatTensor(training_X)\n",
    "# X_test = torch.FloatTensor(testing_X)\n",
    "# y_train = torch.LongTensor(lbl_train)\n",
    "# y_test = torch.LongTensor(lbl_test)\n",
    "X_train = np.asarray(training_X)\n",
    "X_test = np.asarray(testing_X)\n",
    "y_train = np.asarray(lbl_train)\n",
    "y_test = np.asarray(lbl_test)"
   ]
  },
  {
   "cell_type": "code",
   "execution_count": 4,
   "id": "4fe6b045",
   "metadata": {},
   "outputs": [],
   "source": [
    "def fold_trainer(model, x,y, name):\n",
    "    skf = StratifiedKFold(n_splits=10, shuffle=True, random_state=1)\n",
    "    scores = []\n",
    "    for train_index, test_index in skf.split(x, y):\n",
    "        x_train_fold, x_test_fold = x[train_index], x[test_index]\n",
    "        y_train_fold, y_test_fold = y[train_index], y[test_index]\n",
    "        model.fit(x_train_fold, y_train_fold)\n",
    "        scores.append(model.score(x_test_fold, y_test_fold))\n",
    "    print(f\"-------------------------{name}--------------------------------\")\n",
    "    print()\n",
    "    print('List of possible accuracy:', scores)\n",
    "    print(f\"\\nMaximum Accuracy That can be obtained from {name} is:\", max(scores)*100, '%')\n",
    "    print('\\nMinimum Accuracy:',min(scores)*100, '%')\n",
    "    print('\\nOverall Accuracy:',mean(scores)*100, '%')\n",
    "    print('\\nStandard Deviation is:', stdev(scores))\n",
    "    print(f\"---------------------------------------------------------------\")\n",
    "    print()"
   ]
  },
  {
   "cell_type": "code",
   "execution_count": 5,
   "id": "fc866e61",
   "metadata": {},
   "outputs": [],
   "source": [
    "# class NeuralNet(nn.Module):\n",
    "#     def __init__(self, in_features = IN_FEATURES, h1= HIDDEN_LAYER_1_NODES, h2 = HIDDEN_LAYER_2_NODES, out_features = OUT_FEATURES):\n",
    "#         super().__init__()\n",
    "#         self.fc1 = nn.Linear(in_features,h1)    # input layer\n",
    "#         self.fc2 = nn.Linear(h1, h2)            # hidden layer\n",
    "#         self.out = nn.Linear(h2, out_features)  # output layer\n",
    "        \n",
    "#     def forward(self, x):\n",
    "#         x = F.relu(self.fc1(x))\n",
    "#         x = F.relu(self.fc2(x))\n",
    "#         x = self.out(x)\n",
    "#         return x"
   ]
  },
  {
   "cell_type": "code",
   "execution_count": 6,
   "id": "964b7d06",
   "metadata": {},
   "outputs": [],
   "source": [
    "# torch.manual_seed(0)\n",
    "# net = NeuralNetClassifier(\n",
    "#     NeuralNet,\n",
    "#     max_epochs=EPOCHS,\n",
    "#     lr=LEARNING_RATE,\n",
    "#     batch_size=TRAIN_BATCH_SIZE,\n",
    "#     optimizer=torch.optim.Adam,\n",
    "#     criterion=nn.CrossEntropyLoss,\n",
    "#     train_split=None\n",
    "# )\n",
    "exClf = ExtraTreesClassifier(n_estimators=100, random_state=0)\n",
    "poly = svm.SVC(kernel='poly', degree=3, C=1, decision_function_shape='ovo')\n",
    "knn = KNeighborsClassifier()"
   ]
  },
  {
   "cell_type": "code",
   "execution_count": 7,
   "id": "9e5f2894",
   "metadata": {},
   "outputs": [
    {
     "name": "stdout",
     "output_type": "stream",
     "text": [
      "-------------------------Voting-Classifier--------------------------------\n",
      "\n",
      "List of possible accuracy: [0.9851851851851852, 0.9851851851851852, 0.9851851851851852, 0.9888888888888889, 1.0, 0.9962962962962963, 0.9962962962962963, 0.9814814814814815, 0.9888475836431226, 0.9851301115241635]\n",
      "\n",
      "Maximum Accuracy That can be obtained from Voting-Classifier is: 100.0 %\n",
      "\n",
      "Minimum Accuracy: 98.14814814814815 %\n",
      "\n",
      "Overall Accuracy: 98.92496213685806 %\n",
      "\n",
      "Standard Deviation is: 0.006164837036484883\n",
      "---------------------------------------------------------------\n",
      "\n"
     ]
    }
   ],
   "source": [
    "vc = VotingClassifier(estimators = [('svm',poly),('exClf',exClf), ('knn', knn)], voting='hard')\n",
    "fold_trainer(vc,X_train,y_train,\"Voting-Classifier\")"
   ]
  },
  {
   "cell_type": "code",
   "execution_count": 8,
   "id": "28d12fe3",
   "metadata": {},
   "outputs": [
    {
     "name": "stdout",
     "output_type": "stream",
     "text": [
      "              precision    recall  f1-score   support\n",
      "\n",
      "           0       0.82      0.98      0.89       182\n",
      "           1       0.98      0.94      0.96       180\n",
      "           2       0.98      0.82      0.89       176\n",
      "\n",
      "    accuracy                           0.91       538\n",
      "   macro avg       0.92      0.91      0.91       538\n",
      "weighted avg       0.92      0.91      0.91       538\n",
      "\n"
     ]
    },
    {
     "data": {
      "image/png": "[encoded data removed]",
      "text/plain": [
       "<Figure size 576x432 with 2 Axes>"
      ]
     },
     "metadata": {
      "needs_background": "light"
     },
     "output_type": "display_data"
    }
   ],
   "source": [
    "y_preds = vc.predict(X_test)\n",
    "print(classification_report(lbl_test, y_preds))\n",
    "cmt = confusion_matrix(lbl_test, y_preds)\n",
    "make_confusion_matrix(cmt,categories=DANCE_MOVES, figsize=(8,6))\n",
    "# print(X_test.shape)"
   ]
  },
  {
   "cell_type": "code",
   "execution_count": 9,
   "id": "31793a07",
   "metadata": {},
   "outputs": [
    {
     "name": "stdout",
     "output_type": "stream",
     "text": [
      "(1, 480)\n"
     ]
    }
   ],
   "source": [
    "# testing with a random sample from test set \n",
    "random.seed(69)\n",
    "random_int = random.randint(0, len(testing_X))\n",
    "random_input = np.asarray(testing_X[random_int]).reshape(-1,480)\n",
    "print(random_input.shape)"
   ]
  },
  {
   "cell_type": "code",
   "execution_count": 10,
   "id": "d76cd88f",
   "metadata": {},
   "outputs": [],
   "source": [
    "def getPrediction(arr):\n",
    "    out = vc.predict(arr)\n",
    "    return NUM_TO_DANCE_MAP[out[0]]"
   ]
  },
  {
   "cell_type": "code",
   "execution_count": 11,
   "id": "52780f02",
   "metadata": {},
   "outputs": [
    {
     "data": {
      "text/plain": [
       "'mermaid'"
      ]
     },
     "execution_count": 11,
     "metadata": {},
     "output_type": "execute_result"
    }
   ],
   "source": [
    "getPrediction(random_input)"
   ]
  },
  {
   "cell_type": "code",
   "execution_count": 12,
   "id": "55c10156",
   "metadata": {},
   "outputs": [],
   "source": [
    "# saving\n",
    "with open('ensemble.pkl', 'wb') as f:\n",
    "    pickle.dump(vc, f)"
   ]
  },
  {
   "cell_type": "code",
   "execution_count": null,
   "id": "e4f3c2dc",
   "metadata": {},
   "outputs": [],
   "source": []
  }
 ],
 "metadata": {
  "kernelspec": {
   "display_name": "pytorch_env",
   "language": "python",
   "name": "pytorch_env"
  },
  "language_info": {
   "codemirror_mode": {
    "name": "ipython",
    "version": 3
   },
   "file_extension": ".py",
   "mimetype": "text/x-python",
   "name": "python",
   "nbconvert_exporter": "python",
   "pygments_lexer": "ipython3",
   "version": "3.9.6"
  }
 },
 "nbformat": 4,
 "nbformat_minor": 5
}
