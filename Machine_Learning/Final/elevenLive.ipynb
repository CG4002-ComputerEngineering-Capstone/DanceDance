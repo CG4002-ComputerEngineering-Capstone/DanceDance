{
 "cells": [
  {
   "cell_type": "code",
   "execution_count": 1,
   "id": "c8f95000",
   "metadata": {},
   "outputs": [],
   "source": [
    "import numpy as np\n",
    "from scipy.signal import medfilt\n",
    "import pandas as pd"
   ]
  },
  {
   "cell_type": "code",
   "execution_count": 2,
   "id": "95b2bcd0",
   "metadata": {},
   "outputs": [],
   "source": [
    "FREQ = 20 \n",
    "WINDOW = 2\n",
    "SEGMENT_SIZE = FREQ * WINDOW\n",
    "OVERLAP = 20\n",
    "\n",
    "SENSOR_COLS = [\"ax\", \"ay\", \"az\", \"p\", \"r\"]\n",
    "MAX_VALUE = 32768 # 32768\n",
    "\n",
    "DATA = np.zeros((1,len(SENSOR_COLS)),dtype=np.float64)\n",
    "# DATA = np.delete(DATA, 0,axis=0)"
   ]
  },
  {
   "cell_type": "code",
   "execution_count": 3,
   "id": "3285a45c",
   "metadata": {},
   "outputs": [],
   "source": [
    "def segmentation(): \n",
    "    global DATA, SEGMENT_SIZE, OVERLAP, SENSOR_COLS, FREQ, WINDOW\n",
    "    ncols = FREQ * WINDOW * len(SENSOR_COLS)\n",
    "    segments = []\n",
    "    for row in range(0, len(DATA) - SEGMENT_SIZE, OVERLAP):\n",
    "        window = []\n",
    "        for col in range(0, len(SENSOR_COLS)): \n",
    "            vals = DATA[row:row+SEGMENT_SIZE, col] # each col's raw sensor values\n",
    "            filtered_vals = median_filter(vals) # filtered \n",
    "            normalised_vals = normalise(filtered_vals) # normalised \n",
    "            window.append(normalised_vals) # each window extracted \n",
    "        segments.append(window) # 3d list of windows \n",
    "    \n",
    "    segments = np.asarray(segments).reshape(-1,ncols) # reshaped \n",
    "    DATA = np.delete(DATA, np.s_[0:OVERLAP], axis = 0) # pop first 50% overlap rows\n",
    "    return segments"
   ]
  },
  {
   "cell_type": "code",
   "execution_count": 4,
   "id": "1d3ff37a",
   "metadata": {},
   "outputs": [],
   "source": [
    "def median_filter(arr):\n",
    "    values = np.asarray(arr)\n",
    "    med_filtered = medfilt(values, kernel_size=3)\n",
    "    return np.asarray(med_filtered)"
   ]
  },
  {
   "cell_type": "code",
   "execution_count": 5,
   "id": "80a032b4",
   "metadata": {},
   "outputs": [],
   "source": [
    "def normalise(arr): \n",
    "    global MAX_VALUE\n",
    "    final_vals = np.round(arr / MAX_VALUE, 16)\n",
    "    return np.asarray(final_vals, dtype=np.float64)"
   ]
  },
  {
   "cell_type": "code",
   "execution_count": 6,
   "id": "c3299f2c",
   "metadata": {},
   "outputs": [],
   "source": [
    "def append(inputArr):\n",
    "    \"\"\"\n",
    "    Function returns inputVector to be fed into the nn.\n",
    "    \"\"\"\n",
    "    \n",
    "    global DATA , SEGMENT_SIZE, SENSOR_COLS\n",
    "    arr = np.asarray(inputArr, dtype=np.float64)\n",
    "\n",
    "    # padding \n",
    "    if len(arr) < SEGMENT_SIZE:\n",
    "        leftover = SEGMENT_SIZE - len(arr)\n",
    "        padding = np.zeros((leftover, len(SENSOR_COLS)),dtype=np.float64, order='C')\n",
    "        arr = np.concatenate((arr,padding))\n",
    "        \n",
    "    DATA = np.concatenate((DATA, arr))\n",
    "    print(\"GLOBAL ARRAY SHAPE BEFORE SEGMENTATION: \",DATA.shape)\n",
    "    segs = segmentation()\n",
    "    print(\"GLOBAL ARRAY SHAPE AFTER SEGMENTATION:  \",DATA.shape)\n",
    "    return segs"
   ]
  },
  {
   "cell_type": "code",
   "execution_count": 7,
   "id": "59b31b49",
   "metadata": {},
   "outputs": [],
   "source": [
    "def resetCumData(): \n",
    "    \"\"\"\n",
    "    Function to be called before the start of every dance move.\n",
    "    \"\"\"\n",
    "    global SENSOR_COLS, DATA\n",
    "    \n",
    "    DATA = np.zeros((1,len(SENSOR_COLS)),dtype=np.float64)"
   ]
  },
  {
   "cell_type": "code",
   "execution_count": 8,
   "id": "e8d41c34",
   "metadata": {},
   "outputs": [
    {
     "name": "stdout",
     "output_type": "stream",
     "text": [
      "GLOBAL ARRAY SHAPE BEFORE SEGMENTATION:  (41, 5)\n",
      "GLOBAL ARRAY SHAPE AFTER SEGMENTATION:   (21, 5)\n"
     ]
    }
   ],
   "source": [
    "# usage\n",
    "resetCumData()\n",
    "df = pd.read_csv(\"../capstone_data/test3/jamesbond_matthew_6.csv\", names= [\"ax\", \"ay\", \"az\", \"y\", \"p\", \"r\", \"start_move\", \"checksum\"], header=None, index_col=None)\n",
    "df.drop(columns=[\"y\", \"start_move\", \"checksum\"], axis=1,inplace=True)\n",
    "df.reset_index(drop=True,inplace=True)\n",
    "iv = append(np.asarray(df[0:40]))"
   ]
  },
  {
   "cell_type": "code",
   "execution_count": 9,
   "id": "ff913734",
   "metadata": {},
   "outputs": [
    {
     "data": {
      "text/plain": [
       "array([ 0.00000000e+00,  1.52587891e-04,  1.52587891e-04,  1.52587891e-04,\n",
       "        1.52587891e-04,  1.52587891e-04,  1.52587891e-04,  1.52587891e-04,\n",
       "        1.52587891e-04,  1.52587891e-04,  1.22070312e-04,  1.22070312e-04,\n",
       "        1.22070312e-04,  9.15527344e-05, -3.05175781e-05, -3.05175781e-05,\n",
       "       -2.13623047e-04, -3.96728516e-04, -3.96728516e-04, -2.74658203e-04,\n",
       "       -2.44140625e-04, -2.44140625e-04, -2.44140625e-04, -3.66210938e-04,\n",
       "       -7.93457031e-04, -7.93457031e-04, -1.15966797e-03, -7.93457031e-04,\n",
       "       -1.06811523e-03, -7.01904297e-04, -1.06811523e-03, -1.06811523e-03,\n",
       "       -1.52587891e-03, -1.52587891e-03, -1.58691406e-03, -2.04467773e-03,\n",
       "       -2.04467773e-03, -1.61743164e-03, -1.28173828e-03, -7.62939453e-04,\n",
       "        0.00000000e+00, -2.44140625e-04, -2.44140625e-04, -2.44140625e-04,\n",
       "       -2.44140625e-04, -2.44140625e-04, -2.44140625e-04, -2.44140625e-04,\n",
       "       -2.44140625e-04, -2.44140625e-04, -2.13623047e-04, -1.83105469e-04,\n",
       "       -6.10351562e-05,  0.00000000e+00,  3.05175781e-05,  6.40869141e-04,\n",
       "        7.62939453e-04,  9.46044922e-04,  7.62939453e-04,  6.40869141e-04,\n",
       "        6.10351562e-05, -3.66210938e-04, -3.66210938e-04, -3.05175781e-04,\n",
       "       -9.15527344e-05,  9.46044922e-04,  1.98364258e-03,  2.83813477e-03,\n",
       "        3.08227539e-03,  3.08227539e-03,  3.02124023e-03,  2.86865234e-03,\n",
       "        2.92968750e-03,  2.86865234e-03,  2.92968750e-03,  2.96020508e-03,\n",
       "        2.96020508e-03,  2.89916992e-03,  2.50244141e-03,  2.01416016e-03,\n",
       "        0.00000000e+00,  2.68554688e-03,  2.68554688e-03,  2.68554688e-03,\n",
       "        2.68554688e-03,  2.68554688e-03,  2.68554688e-03,  2.68554688e-03,\n",
       "        2.68554688e-03,  2.68554688e-03,  2.71606445e-03,  2.71606445e-03,\n",
       "        2.68554688e-03,  2.68554688e-03,  2.77709961e-03,  2.80761719e-03,\n",
       "        2.80761719e-03,  2.80761719e-03,  2.77709961e-03,  2.77709961e-03,\n",
       "        2.10571289e-03,  1.80053711e-03,  1.77001953e-03,  1.61743164e-03,\n",
       "        1.61743164e-03,  2.07519531e-03,  2.41088867e-03,  2.41088867e-03,\n",
       "        2.25830078e-03,  2.04467773e-03,  1.15966797e-03,  9.46044922e-04,\n",
       "        5.18798828e-04,  4.88281250e-04,  3.35693359e-04,  1.83105469e-04,\n",
       "       -1.22070312e-04, -4.88281250e-04, -4.88281250e-04, -4.57763672e-04,\n",
       "        0.00000000e+00,  0.00000000e+00,  0.00000000e+00,  0.00000000e+00,\n",
       "        0.00000000e+00,  0.00000000e+00,  0.00000000e+00,  0.00000000e+00,\n",
       "        0.00000000e+00,  0.00000000e+00,  3.05175781e-05,  9.15527344e-05,\n",
       "        9.15527344e-05,  1.83105469e-04,  6.10351562e-04,  6.10351562e-04,\n",
       "        1.12915039e-03,  1.46484375e-03,  1.46484375e-03,  1.61743164e-03,\n",
       "        1.70898438e-03,  1.70898438e-03,  1.70898438e-03,  3.20434570e-03,\n",
       "        4.18090820e-03,  4.18090820e-03,  2.99072266e-03,  2.44140625e-03,\n",
       "        2.65502930e-03,  2.38037109e-03,  2.65502930e-03,  3.29589844e-03,\n",
       "        4.36401367e-03,  4.36401367e-03,  4.66918945e-03,  5.82885742e-03,\n",
       "        5.82885742e-03,  5.31005859e-03,  4.27246094e-03,  3.08227539e-03,\n",
       "        0.00000000e+00,  0.00000000e+00,  0.00000000e+00,  0.00000000e+00,\n",
       "        0.00000000e+00,  0.00000000e+00,  0.00000000e+00,  0.00000000e+00,\n",
       "        0.00000000e+00,  3.05175781e-05,  6.10351562e-05,  4.57763672e-04,\n",
       "        7.62939453e-04,  9.76562500e-04,  1.06811523e-03,  2.62451172e-03,\n",
       "        2.77709961e-03,  3.14331055e-03,  2.77709961e-03,  1.86157227e-03,\n",
       "        4.57763672e-04, -6.10351562e-04, -6.10351562e-04,  2.44140625e-04,\n",
       "        1.34277344e-03,  4.97436523e-03,  6.50024414e-03,  6.77490234e-03,\n",
       "        7.84301758e-03,  7.84301758e-03,  8.60595703e-03,  9.06372070e-03,\n",
       "        8.60595703e-03,  8.51440430e-03,  8.45336914e-03,  7.59887695e-03,\n",
       "        7.59887695e-03,  7.65991211e-03,  7.81250000e-03,  7.81250000e-03])"
      ]
     },
     "execution_count": 9,
     "metadata": {},
     "output_type": "execute_result"
    }
   ],
   "source": [
    "iv[0]"
   ]
  },
  {
   "cell_type": "code",
   "execution_count": 10,
   "id": "5e33e505",
   "metadata": {},
   "outputs": [],
   "source": [
    "# iv.shape"
   ]
  }
 ],
 "metadata": {
  "kernelspec": {
   "display_name": "pytorch_env",
   "language": "python",
   "name": "pytorch_env"
  },
  "language_info": {
   "codemirror_mode": {
    "name": "ipython",
    "version": 3
   },
   "file_extension": ".py",
   "mimetype": "text/x-python",
   "name": "python",
   "nbconvert_exporter": "python",
   "pygments_lexer": "ipython3",
   "version": "3.9.7"
  }
 },
 "nbformat": 4,
 "nbformat_minor": 5
}
