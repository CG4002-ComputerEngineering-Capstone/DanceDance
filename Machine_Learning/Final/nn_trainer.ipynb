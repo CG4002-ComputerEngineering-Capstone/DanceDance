{
 "cells": [
  {
   "cell_type": "code",
   "execution_count": 1,
   "id": "9186abc2",
   "metadata": {},
   "outputs": [],
   "source": [
    "import numpy as np\n",
    "\n",
    "import torch\n",
    "import torch.nn as nn\n",
    "import torch.nn.functional as F\n",
    "from torch.utils.data import DataLoader, TensorDataset\n",
    "\n",
    "from sklearn.metrics import confusion_matrix,classification_report, accuracy_score\n",
    "from sklearn.model_selection import StratifiedKFold\n",
    "\n",
    "from statistics import mean\n",
    "import random\n",
    "import csv\n",
    "import time\n",
    "\n",
    "import matplotlib.pyplot as plt\n",
    "\n",
    "from loadData import getTrainAndTestData\n",
    "from preprocess import segmentation\n",
    "from utility import plot_confusion_matrix, plot_loss"
   ]
  },
  {
   "cell_type": "markdown",
   "id": "614ecae0",
   "metadata": {},
   "source": [
    "## Constants "
   ]
  },
  {
   "cell_type": "code",
   "execution_count": 2,
   "id": "861f0262",
   "metadata": {},
   "outputs": [],
   "source": [
    "DANCE_MOVES = ['dab', 'jamesbond', 'mermaid','scarecrow', 'pushback', 'cowboy', 'window360', 'snake', 'logout2']\n",
    "\n",
    "IN_FEATURES = 210 \n",
    "OUT_FEATURES = 9\n",
    "HIDDEN_LAYER_1_NODES = 150 #100 , 150\n",
    "HIDDEN_LAYER_2_NODES = 60 # 20\n",
    "\n",
    "K = 5 # 12\n",
    "EPOCHS = 100\n",
    "TRAIN_BATCH_SIZE = 108\n",
    "TEST_BATCH_SIZE = 40\n",
    "LEARNING_RATE = 0.01\n",
    "\n",
    "NUM_TO_DANCE_MAP = {0: 'dab', 1: 'jamesbond', 2: 'mermaid', \n",
    "                    3: 'scarecrow', 4:'pushback',  5: 'cowboy', \n",
    "                    6: 'window360', 7: 'snake', 8:'logout2'}\n"
   ]
  },
  {
   "cell_type": "markdown",
   "id": "2a9c02a4",
   "metadata": {},
   "source": [
    "## Load Dataset"
   ]
  },
  {
   "cell_type": "code",
   "execution_count": 3,
   "id": "d637cb17",
   "metadata": {},
   "outputs": [
    {
     "name": "stdout",
     "output_type": "stream",
     "text": [
      "Input Training vector shape : (18159, 210)\n",
      "Input Training label shape : (18159,)\n",
      "Testing vector shape : (1799, 210)\n",
      "Testing label shape : (1799,)\n"
     ]
    }
   ],
   "source": [
    "raw_train_df, raw_test_df = getTrainAndTestData()\n",
    "training_X, lbl_train = segmentation(raw_train_df)\n",
    "testing_X, lbl_test = segmentation(raw_test_df)\n",
    "\n",
    "print(\"Input Training vector shape :\", training_X.shape)\n",
    "print(\"Input Training label shape :\", lbl_train.shape)\n",
    "print(\"Testing vector shape :\", testing_X.shape)\n",
    "print(\"Testing label shape :\", lbl_test.shape)\n",
    "\n",
    "X_train = torch.FloatTensor(training_X)\n",
    "X_test = torch.FloatTensor(testing_X)\n",
    "y_train = torch.LongTensor(lbl_train)\n",
    "y_test = torch.LongTensor(lbl_test)"
   ]
  },
  {
   "cell_type": "markdown",
   "id": "f3431321",
   "metadata": {},
   "source": [
    "## Multi-Layer Perceptron Model"
   ]
  },
  {
   "cell_type": "code",
   "execution_count": 4,
   "id": "209383b1",
   "metadata": {},
   "outputs": [],
   "source": [
    "class Model(nn.Module):\n",
    "    def __init__(self, in_features, h1, h2, out_features):\n",
    "        super().__init__()\n",
    "        self.fc1 = nn.Linear(in_features,h1)    # input layer\n",
    "        self.fc2 = nn.Linear(h1, h2)            # hidden layer\n",
    "        self.out = nn.Linear(h2, out_features)  # output layer\n",
    "        \n",
    "    def forward(self, x):\n",
    "        x = F.relu(self.fc1(x))\n",
    "        x = F.relu(self.fc2(x))\n",
    "        x = self.out(x)\n",
    "        return x"
   ]
  },
  {
   "cell_type": "markdown",
   "id": "acc28a4c",
   "metadata": {},
   "source": [
    "#### Instantiate Model class using default parameters"
   ]
  },
  {
   "cell_type": "code",
   "execution_count": 5,
   "id": "2ed47fa4",
   "metadata": {},
   "outputs": [],
   "source": [
    "torch.manual_seed(32)\n",
    "mlp = Model(in_features=IN_FEATURES, h1=HIDDEN_LAYER_1_NODES, h2=HIDDEN_LAYER_2_NODES, out_features=OUT_FEATURES)\n",
    "criterion = nn.CrossEntropyLoss()\n",
    "optimizer = torch.optim.Adam(mlp.parameters(), lr=LEARNING_RATE)"
   ]
  },
  {
   "cell_type": "markdown",
   "id": "430acd4d",
   "metadata": {},
   "source": [
    "#### 10-fold Stratified Cross Validation "
   ]
  },
  {
   "cell_type": "code",
   "execution_count": 6,
   "id": "53ded229",
   "metadata": {},
   "outputs": [
    {
     "name": "stdout",
     "output_type": "stream",
     "text": [
      "-----------------------\n",
      "fold: 0 , training_loss: 0.00020142801804468036\n",
      "fold: 0, 3596 out of 3632 = 99.01% correct\n",
      "-----------------------\n",
      "-----------------------\n",
      "fold: 1 , training_loss: 2.849272459570784e-05\n",
      "fold: 1, 3623 out of 3632 = 99.75% correct\n",
      "-----------------------\n",
      "-----------------------\n",
      "fold: 2 , training_loss: 6.840802143415203e-06\n",
      "fold: 2, 3626 out of 3632 = 99.83% correct\n",
      "-----------------------\n",
      "-----------------------\n",
      "fold: 3 , training_loss: 4.225395969115198e-06\n",
      "fold: 3, 3632 out of 3632 = 100.00% correct\n",
      "-----------------------\n",
      "-----------------------\n",
      "fold: 4 , training_loss: 3.6810448023061326e-07\n",
      "fold: 4, 3627 out of 3631 = 99.89% correct\n",
      "-----------------------\n",
      "\n",
      "Done Training\n",
      "Max Validation Accuracy:  100.0\n"
     ]
    }
   ],
   "source": [
    "skfcv = StratifiedKFold(n_splits=K, shuffle=True, random_state=1)\n",
    "training_loss = {}\n",
    "val_acc = []\n",
    "\n",
    "# per fold \n",
    "for fold, (train_index, test_index) in enumerate(skfcv.split(X_train, y_train)):\n",
    "    x_train_fold, x_test_fold = X_train[train_index], X_train[test_index]\n",
    "    y_train_fold, y_test_fold = y_train[train_index], y_train[test_index]\n",
    "    train_combined = TensorDataset(x_train_fold, y_train_fold)\n",
    "    test_combined = TensorDataset(x_test_fold, y_test_fold)\n",
    "    trainloader = DataLoader(train_combined, batch_size=TRAIN_BATCH_SIZE, shuffle=True)\n",
    "    testloader = DataLoader(test_combined, batch_size=TEST_BATCH_SIZE, shuffle=False)\n",
    "    # per epoch\n",
    "    for i in range(EPOCHS): \n",
    "        i+=1\n",
    "        # per batch \n",
    "        losses = [] \n",
    "        val_correct_preds = 0\n",
    "        count = 0 \n",
    "        for batch_idx, (data, target) in enumerate(trainloader):\n",
    "            mlp.train()\n",
    "             \n",
    "            # training \n",
    "            y_pred = mlp.forward(data)\n",
    "            loss = criterion(y_pred, target)\n",
    "            losses.append(loss)\n",
    "            \n",
    "            # backtracking \n",
    "            optimizer.zero_grad()\n",
    "            loss.backward()\n",
    "            optimizer.step() \n",
    "        \n",
    "        # validating \n",
    "        with torch.no_grad():\n",
    "            mlp.eval()\n",
    "            for val_batch_idx, (val_data, val_target) in enumerate(testloader):\n",
    "                y_out = mlp.forward(val_data)\n",
    "                for row in range(y_out.shape[0]):\n",
    "                    if y_out[row].argmax() == val_target[row]:\n",
    "                        val_correct_preds += 1\n",
    "                    count += 1\n",
    "                    \n",
    "    # per fold         \n",
    "    with torch.no_grad():\n",
    "        training_loss[fold] = np.array(losses).mean()\n",
    "        print(\"-----------------------\")\n",
    "        print(f\"fold: {fold} , training_loss: {training_loss[fold]}\")\n",
    "        print(f\"fold: {fold}, {val_correct_preds} out of {count} = {100*val_correct_preds/count:.2f}% correct\")\n",
    "        print(\"-----------------------\")\n",
    "        val_acc.append(100*val_correct_preds/count)\n",
    "        count = 0\n",
    "\n",
    "print()\n",
    "print(\"Done Training\")\n",
    "print(\"Max Validation Accuracy: \",  np.array(val_acc).max())"
   ]
  },
  {
   "cell_type": "markdown",
   "id": "ce2b52e3",
   "metadata": {},
   "source": [
    "#### Mean Loss per fold "
   ]
  },
  {
   "cell_type": "code",
   "execution_count": 7,
   "id": "bf240080",
   "metadata": {},
   "outputs": [
    {
     "data": {
      "image/png": "[encoded data removed]",
      "text/plain": [
       "<Figure size 432x288 with 1 Axes>"
      ]
     },
     "metadata": {
      "needs_background": "light"
     },
     "output_type": "display_data"
    }
   ],
   "source": [
    "with torch.no_grad():\n",
    "    y_axis  = training_loss.values()\n",
    "    plot_loss(K,y_axis)"
   ]
  },
  {
   "cell_type": "markdown",
   "id": "d3bc32f7",
   "metadata": {},
   "source": [
    "## Evaluation "
   ]
  },
  {
   "cell_type": "code",
   "execution_count": 8,
   "id": "1b883d3c",
   "metadata": {},
   "outputs": [
    {
     "name": "stdout",
     "output_type": "stream",
     "text": [
      "--- 0.027563095092773438 execution time in seconds ---\n",
      "Loss with test set : 0.43523523\n"
     ]
    }
   ],
   "source": [
    "# TO EVALUATE THE ENTIRE TEST SET\n",
    "with torch.no_grad():\n",
    "    start_time = time.time()\n",
    "    y_val = mlp.forward(X_test)\n",
    "    print(\"--- %s execution time in seconds ---\" % (time.time() - start_time))\n",
    "    loss = criterion(y_val, y_test)\n",
    "    print(f'Loss with test set : {loss:.8f}')"
   ]
  },
  {
   "cell_type": "code",
   "execution_count": 9,
   "id": "b9ab0404",
   "metadata": {},
   "outputs": [
    {
     "name": "stdout",
     "output_type": "stream",
     "text": [
      "\n",
      "1720 out of 1799 = 95.61% correct\n",
      "Confusion matrix, without normalization\n",
      "tensor([[200,   0,   0,   0,   0,   0,   0,   0,   0],\n",
      "        [  0, 200,   0,   0,   0,   0,   0,   0,   0],\n",
      "        [  2,   0, 198,   0,   0,   0,   0,   0,   0],\n",
      "        [  1,   0,   0, 199,   0,   0,   0,   0,   0],\n",
      "        [  0,   2,   0,   0, 198,   0,   0,   0,   0],\n",
      "        [  0,   0,   0,   0,   0, 196,   4,   0,   0],\n",
      "        [  0,  18,   0,   0,   0,   0, 152,   0,  29],\n",
      "        [  0,   8,   0,   1,   1,   0,   8, 181,   1],\n",
      "        [  0,   0,   3,   0,   0,   1,   0,   0, 196]])\n",
      "Classification Report for MLP :\n",
      "              precision    recall  f1-score   support\n",
      "\n",
      "           0       0.99      1.00      0.99       200\n",
      "           1       0.88      1.00      0.93       200\n",
      "           2       0.99      0.99      0.99       200\n",
      "           3       0.99      0.99      0.99       200\n",
      "           4       0.99      0.99      0.99       200\n",
      "           5       0.99      0.98      0.99       200\n",
      "           6       0.93      0.76      0.84       199\n",
      "           7       1.00      0.91      0.95       200\n",
      "           8       0.87      0.98      0.92       200\n",
      "\n",
      "    accuracy                           0.96      1799\n",
      "   macro avg       0.96      0.96      0.96      1799\n",
      "weighted avg       0.96      0.96      0.96      1799\n",
      "\n"
     ]
    },
    {
     "data": {
      "image/png": "[encoded data removed]",
      "text/plain": [
       "<Figure size 864x864 with 2 Axes>"
      ]
     },
     "metadata": {
      "needs_background": "light"
     },
     "output_type": "display_data"
    }
   ],
   "source": [
    "with torch.no_grad():\n",
    "    # checking accuracy on test dataset \n",
    "    preds = []\n",
    "    correct = 0\n",
    "    for i,data in enumerate(X_test):\n",
    "        y_val = mlp.forward(data)\n",
    "        preds.append(y_val.argmax().item())\n",
    "        if y_val.argmax().item() == y_test[i]:\n",
    "            correct += 1\n",
    "    print(f'\\n{correct} out of {len(y_test)} = {100*correct/len(y_test):.2f}% correct')\n",
    "    y_preds = torch.tensor(preds, dtype = torch.int64)\n",
    "    stacked = torch.stack((y_test,y_preds),dim=1)\n",
    "\n",
    "    # confusion matrix generation \n",
    "    cmt = torch.zeros(OUT_FEATURES,OUT_FEATURES, dtype=torch.int64)\n",
    "    for p in stacked:\n",
    "        tl, pl = p.tolist()\n",
    "        cmt[tl, pl] = cmt[tl, pl] + 1  \n",
    "    \n",
    "    plt.figure(figsize=(12,12))\n",
    "    plot_confusion_matrix(cmt, DANCE_MOVES)\n",
    "    \n",
    "    print(\"Classification Report for MLP :\")\n",
    "    print(classification_report(y_test, y_preds))"
   ]
  },
  {
   "cell_type": "code",
   "execution_count": 10,
   "id": "af4da898",
   "metadata": {},
   "outputs": [
    {
     "name": "stdout",
     "output_type": "stream",
     "text": [
      "dict_keys(['fc1.weight', 'fc1.bias', 'fc2.weight', 'fc2.bias', 'out.weight', 'out.bias'])\n",
      "fc1.weight : 150 neurons in fc1.weight layer\n",
      " number of connections  : 150 * 210 = 31500 \n",
      "fc1.bias : 150 neurons in fc1.bias layer\n",
      " number of connections  : 150 * 1 = 150 \n",
      "fc2.weight : 60 neurons in fc2.weight layer\n",
      " number of connections  : 60 * 150 = 9000 \n",
      "fc2.bias : 60 neurons in fc2.bias layer\n",
      " number of connections  : 60 * 1 = 60 \n",
      "out.weight : 9 neurons in out.weight layer\n",
      " number of connections  : 9 * 60 = 540 \n",
      "out.bias : 9 neurons in out.bias layer\n",
      " number of connections  : 9 * 1 = 9 \n"
     ]
    }
   ],
   "source": [
    "# model weights \n",
    "with torch.no_grad():\n",
    "    mlp_params = {}\n",
    "    for name, param in mlp.named_parameters():\n",
    "        mlp_params[name] = param.numpy().copy().tolist()\n",
    "        \n",
    "    print(mlp_params.keys())\n",
    "    for key in mlp_params.keys(): \n",
    "        print(f\"{key} : {len(mlp_params[key])} neurons in {key} layer\")\n",
    "        print(f\" number of connections  : {len(mlp_params[key])} * {np.asarray(mlp_params[key][len(mlp_params[key]) -1]).size} = {len(mlp_params[key]) * np.asarray(mlp_params[key][len(mlp_params[key]) -1]).size } \")\n",
    "\n",
    "    # save model weights \n",
    "    with open('mlp.csv', 'w') as csv_file:  \n",
    "        writer = csv.writer(csv_file)\n",
    "        for key, value in mlp_params.items():\n",
    "           writer.writerow([key, value])"
   ]
  },
  {
   "cell_type": "markdown",
   "id": "0940b253",
   "metadata": {},
   "source": [
    "## Save & Load Model"
   ]
  },
  {
   "cell_type": "code",
   "execution_count": 11,
   "id": "308d3de1",
   "metadata": {},
   "outputs": [
    {
     "data": {
      "text/plain": [
       "Model(\n",
       "  (fc1): Linear(in_features=210, out_features=150, bias=True)\n",
       "  (fc2): Linear(in_features=150, out_features=60, bias=True)\n",
       "  (out): Linear(in_features=60, out_features=9, bias=True)\n",
       ")"
      ]
     },
     "execution_count": 11,
     "metadata": {},
     "output_type": "execute_result"
    }
   ],
   "source": [
    "torch.save(mlp.state_dict(), 'MLPW9.pt')\n",
    "loaded_model = Model(in_features=IN_FEATURES,h1=HIDDEN_LAYER_1_NODES, h2=HIDDEN_LAYER_2_NODES, out_features=OUT_FEATURES) \n",
    "loaded_model.load_state_dict(torch.load('MLPW9.pt'))\n",
    "loaded_model.eval()"
   ]
  },
  {
   "cell_type": "code",
   "execution_count": 12,
   "id": "11d6d14b",
   "metadata": {},
   "outputs": [
    {
     "name": "stdout",
     "output_type": "stream",
     "text": [
      "0.43523523\n"
     ]
    }
   ],
   "source": [
    "# loss when loaded model is run on test dataset \n",
    "with torch.no_grad():\n",
    "    y_val = loaded_model.forward(X_test)\n",
    "    loss = criterion(y_val, y_test)\n",
    "    print(f'{loss:.8f}')"
   ]
  },
  {
   "cell_type": "code",
   "execution_count": 13,
   "id": "c71a3207",
   "metadata": {},
   "outputs": [
    {
     "name": "stdout",
     "output_type": "stream",
     "text": [
      "tensor([-1.5259e-04, -1.5259e-04,  8.8501e-04,  2.1973e-03,  2.5024e-03,\n",
      "         2.7771e-03,  3.2959e-03,  3.2959e-03,  1.4648e-03, -1.4343e-03,\n",
      "        -2.9297e-03, -4.1504e-03, -5.0049e-03, -5.0049e-03, -3.0823e-03,\n",
      "        -9.1553e-04,  4.8828e-04,  1.4648e-03,  1.7395e-03,  1.7395e-03,\n",
      "         1.7090e-03,  1.7090e-03,  1.6479e-03,  1.4038e-03,  6.7139e-04,\n",
      "         3.9673e-04, -2.4414e-04, -3.3569e-04, -3.3569e-04,  7.6294e-04,\n",
      "         1.7395e-03,  1.7395e-03,  1.1902e-03, -2.7161e-03, -6.1340e-03,\n",
      "        -6.1340e-03, -4.2725e-03, -1.9836e-03,  1.2207e-04,  1.4038e-03,\n",
      "         1.5564e-03,  1.4038e-03, -9.7656e-04, -9.7656e-04, -6.4087e-04,\n",
      "        -3.6621e-04, -3.6621e-04, -6.1035e-04, -1.1597e-03, -2.0752e-03,\n",
      "        -2.7771e-03, -3.1738e-03, -3.1738e-03, -3.0212e-03, -2.1057e-03,\n",
      "        -1.7395e-03, -8.8501e-04, -6.1035e-04, -4.2725e-04, -9.1553e-05,\n",
      "        -6.1035e-05, -6.1035e-05, -6.1035e-04, -1.3123e-03, -2.5024e-03,\n",
      "        -3.2043e-03, -3.5706e-03, -3.5706e-03, -3.3569e-03, -2.9907e-03,\n",
      "        -2.2583e-03, -1.7090e-03, -1.7090e-03, -1.8311e-03, -2.7466e-03,\n",
      "        -2.7771e-03, -2.7771e-03, -2.5330e-03, -1.9836e-03, -1.6785e-03,\n",
      "        -7.6294e-04, -6.7139e-04, -6.4087e-04, -5.4932e-04,  4.7913e-03,\n",
      "         4.7913e-03,  4.4250e-03,  3.4790e-03,  2.1362e-03,  5.7983e-04,\n",
      "        -1.3123e-03, -3.4790e-03, -5.0964e-03, -5.0964e-03, -3.7537e-03,\n",
      "        -1.9531e-03,  1.2207e-04,  2.0142e-03,  3.6926e-03,  4.4861e-03,\n",
      "         5.0354e-03,  5.0354e-03,  4.5166e-03,  3.0212e-03,  1.2207e-03,\n",
      "        -9.1553e-04, -2.4414e-03, -2.4414e-03, -1.9531e-03, -1.1597e-03,\n",
      "        -2.7466e-04,  4.5776e-04,  1.2817e-03,  1.4038e-03,  1.4038e-03,\n",
      "        -5.7983e-04, -3.0823e-03, -3.0823e-03, -1.1292e-03,  2.5330e-03,\n",
      "         4.6692e-03,  4.8828e-03,  4.8828e-03,  3.5400e-03,  1.9531e-03,\n",
      "         9.1553e-05,  0.0000e+00, -1.7395e-03, -3.2349e-03, -6.2866e-03,\n",
      "        -7.9041e-03, -1.0132e-02, -1.0132e-02, -7.1716e-03, -3.3569e-03,\n",
      "         2.7466e-04,  2.6550e-03,  4.8523e-03,  6.2256e-03,  6.2256e-03,\n",
      "         3.0823e-03, -7.6294e-04, -2.5940e-03, -3.9062e-03, -4.3945e-03,\n",
      "        -5.6458e-03, -8.0872e-03, -8.0872e-03, -6.4697e-03, -4.6692e-03,\n",
      "        -3.5095e-03, -2.8381e-03, -1.2512e-03, -9.7656e-04, -9.7656e-04,\n",
      "        -3.6011e-03, -7.6599e-03, -7.6599e-03, -4.3640e-03,  2.4414e-03,\n",
      "         6.5308e-03,  6.5308e-03,  3.6316e-03,  1.1597e-03, -2.1973e-03,\n",
      "        -4.8218e-03, -6.6528e-03, -6.6528e-03, -8.8196e-03, -9.4910e-03,\n",
      "        -9.5215e-03, -9.6436e-03, -1.0529e-02, -1.1169e-02, -1.1841e-02,\n",
      "        -1.1871e-02, -1.1841e-02, -1.1841e-02, -1.1444e-02, -1.1169e-02,\n",
      "        -8.7280e-03, -8.6060e-03, -8.5449e-03, -8.5449e-03, -8.6365e-03,\n",
      "        -8.9417e-03, -9.1553e-03, -1.0132e-02, -1.1444e-02, -1.3611e-02,\n",
      "        -1.4282e-02, -1.4526e-02, -1.5472e-02, -1.6541e-02, -1.7120e-02,\n",
      "        -1.7120e-02, -1.5137e-02, -1.3123e-02, -1.2970e-02, -1.2970e-02,\n",
      "        -1.2970e-02, -1.1902e-02, -9.9182e-03, -9.2773e-03, -9.2773e-03,\n",
      "        -9.6741e-03, -9.7046e-03, -1.0468e-02, -1.1444e-02, -1.1444e-02])\n",
      "torch.Size([210])\n",
      "tensor([-164.4437,    1.6820,  -93.9839,  -89.8787,  -33.3033,   89.7727,\n",
      "          34.2666,  -52.7651, -152.7239])\n",
      "\n",
      "tensor(89.7727)\n",
      "5\n",
      "Predicted Output: cowboy\n",
      "Actual Output: cowboy\n"
     ]
    }
   ],
   "source": [
    "# run model on a random sample row of the test dataset \n",
    "random.seed(299)\n",
    "random_int = random.randint(0, len(testing_X))\n",
    "random_input = torch.FloatTensor(testing_X[random_int])\n",
    "print(random_input)\n",
    "print(random_input.shape)\n",
    "\n",
    "# random_input = torch.FloatTensor([])\n",
    "\n",
    "with torch.no_grad():\n",
    "    print(loaded_model(random_input))\n",
    "    print()\n",
    "    print(loaded_model(random_input).max())\n",
    "    print(loaded_model(random_input).argmax().item())\n",
    "    print(f\"Predicted Output: {NUM_TO_DANCE_MAP[loaded_model(random_input).argmax().item()]}\")\n",
    "    print(f\"Actual Output: {NUM_TO_DANCE_MAP[y_test[random_int].item()]}\")"
   ]
  },
  {
   "cell_type": "code",
   "execution_count": 14,
   "id": "3bd7ff14",
   "metadata": {},
   "outputs": [],
   "source": [
    "# save test dataset\n",
    "with torch.no_grad(): \n",
    "    x = X_test.numpy().copy().tolist()\n",
    "    np.savetxt(\"X_test.csv\", x, delimiter=\",\")\n",
    "    y = y_test.numpy().copy().tolist()\n",
    "    np.savetxt(\"y_test.csv\", y, delimiter=\",\")"
   ]
  }
 ],
 "metadata": {
  "kernelspec": {
   "display_name": "pytorch_env",
   "language": "python",
   "name": "pytorch_env"
  },
  "language_info": {
   "codemirror_mode": {
    "name": "ipython",
    "version": 3
   },
   "file_extension": ".py",
   "mimetype": "text/x-python",
   "name": "python",
   "nbconvert_exporter": "python",
   "pygments_lexer": "ipython3",
   "version": "3.9.7"
  }
 },
 "nbformat": 4,
 "nbformat_minor": 5
}
