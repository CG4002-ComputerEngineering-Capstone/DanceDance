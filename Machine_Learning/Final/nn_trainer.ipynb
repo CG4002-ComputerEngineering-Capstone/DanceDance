{
 "cells": [
  {
   "cell_type": "code",
   "execution_count": 1,
   "id": "9186abc2",
   "metadata": {},
   "outputs": [],
   "source": [
    "import numpy as np\n",
    "\n",
    "import torch\n",
    "import torch.nn as nn\n",
    "import torch.nn.functional as F\n",
    "from torch.utils.data import DataLoader, TensorDataset\n",
    "\n",
    "from sklearn.metrics import confusion_matrix,classification_report, accuracy_score\n",
    "from sklearn.model_selection import StratifiedKFold\n",
    "\n",
    "from statistics import mean\n",
    "import random\n",
    "import csv\n",
    "import time\n",
    "\n",
    "import matplotlib.pyplot as plt\n",
    "\n",
    "from loadData import getTrainAndTestData\n",
    "from preprocess import segmentation\n",
    "from utility import plot_confusion_matrix, plot_loss"
   ]
  },
  {
   "cell_type": "markdown",
   "id": "614ecae0",
   "metadata": {},
   "source": [
    "## Constants "
   ]
  },
  {
   "cell_type": "code",
   "execution_count": 2,
   "id": "861f0262",
   "metadata": {},
   "outputs": [],
   "source": [
    "DANCE_MOVES = ['snake','mermaid', 'cowboy', 'jamesbond', 'logout2',\n",
    "               'dab', 'window360', 'scarecrow', 'pushback']\n",
    "\n",
    "IN_FEATURES = 300\n",
    "OUT_FEATURES = 9\n",
    "HIDDEN_LAYER_1_NODES = 150 #100\n",
    "HIDDEN_LAYER_2_NODES = 60 # 20\n",
    "\n",
    "K = 3 # 12\n",
    "EPOCHS = 100\n",
    "TRAIN_BATCH_SIZE = 108\n",
    "TEST_BATCH_SIZE = 40\n",
    "LEARNING_RATE = 0.01\n",
    "\n",
    "NUM_TO_DANCE_MAP = {0: 'dab', 1: 'jamesbond', 2: 'mermaid', \n",
    "                    3: 'scarecrow', 4:'pushback',  5: 'cowboy', \n",
    "                    6: 'window360', 7: 'snake', 8: 'logout', 9: 'logout2'}\n"
   ]
  },
  {
   "cell_type": "markdown",
   "id": "2a9c02a4",
   "metadata": {},
   "source": [
    "## Load Dataset"
   ]
  },
  {
   "cell_type": "code",
   "execution_count": 3,
   "id": "d637cb17",
   "metadata": {},
   "outputs": [
    {
     "name": "stdout",
     "output_type": "stream",
     "text": [
      "Input Training vector shape : (4463, 300)\n",
      "Input Training label shape : (4463,)\n",
      "Testing vector shape : (1079, 300)\n",
      "Testing label shape : (1079,)\n"
     ]
    }
   ],
   "source": [
    "raw_train_df, raw_test_df = getTrainAndTestData()\n",
    "training_X, lbl_train = segmentation(raw_train_df)\n",
    "testing_X, lbl_test = segmentation(raw_test_df)\n",
    "\n",
    "print(\"Input Training vector shape :\", training_X.shape)\n",
    "print(\"Input Training label shape :\", lbl_train.shape)\n",
    "print(\"Testing vector shape :\", testing_X.shape)\n",
    "print(\"Testing label shape :\", lbl_test.shape)\n",
    "\n",
    "X_train = torch.FloatTensor(training_X)\n",
    "X_test = torch.FloatTensor(testing_X)\n",
    "y_train = torch.LongTensor(lbl_train)\n",
    "y_test = torch.LongTensor(lbl_test)"
   ]
  },
  {
   "cell_type": "markdown",
   "id": "f3431321",
   "metadata": {},
   "source": [
    "## Multi-Layer Perceptron Model"
   ]
  },
  {
   "cell_type": "code",
   "execution_count": 4,
   "id": "209383b1",
   "metadata": {},
   "outputs": [],
   "source": [
    "class Model(nn.Module):\n",
    "    def __init__(self, in_features, h1, h2, out_features):\n",
    "        super().__init__()\n",
    "        self.fc1 = nn.Linear(in_features,h1)    # input layer\n",
    "        self.fc2 = nn.Linear(h1, h2)            # hidden layer\n",
    "        self.out = nn.Linear(h2, out_features)  # output layer\n",
    "        \n",
    "    def forward(self, x):\n",
    "        x = F.relu(self.fc1(x))\n",
    "        x = F.relu(self.fc2(x))\n",
    "        x = self.out(x)\n",
    "        return x"
   ]
  },
  {
   "cell_type": "markdown",
   "id": "acc28a4c",
   "metadata": {},
   "source": [
    "#### Instantiate Model class using default parameters"
   ]
  },
  {
   "cell_type": "code",
   "execution_count": 5,
   "id": "2ed47fa4",
   "metadata": {},
   "outputs": [],
   "source": [
    "torch.manual_seed(32)\n",
    "mlp = Model(in_features=IN_FEATURES, h1=HIDDEN_LAYER_1_NODES, h2=HIDDEN_LAYER_2_NODES, out_features=OUT_FEATURES)\n",
    "criterion = nn.CrossEntropyLoss()\n",
    "optimizer = torch.optim.Adam(mlp.parameters(), lr=LEARNING_RATE)"
   ]
  },
  {
   "cell_type": "markdown",
   "id": "430acd4d",
   "metadata": {},
   "source": [
    "#### 10-fold Stratified Cross Validation "
   ]
  },
  {
   "cell_type": "code",
   "execution_count": 6,
   "id": "53ded229",
   "metadata": {},
   "outputs": [
    {
     "name": "stdout",
     "output_type": "stream",
     "text": [
      "-----------------------\n",
      "fold: 0 , training_loss: 0.03353797644376755\n",
      "fold: 0, 1426 out of 1488 = 95.83% correct\n",
      "-----------------------\n",
      "-----------------------\n",
      "fold: 1 , training_loss: 0.0003266776620876044\n",
      "fold: 1, 1481 out of 1488 = 99.53% correct\n",
      "-----------------------\n",
      "-----------------------\n",
      "fold: 2 , training_loss: 0.00012876218534074724\n",
      "fold: 2, 1483 out of 1487 = 99.73% correct\n",
      "-----------------------\n",
      "\n",
      "Done Training\n",
      "Max Validation Accuracy:  99.73100201748487\n"
     ]
    }
   ],
   "source": [
    "skfcv = StratifiedKFold(n_splits=K, shuffle=True, random_state=1)\n",
    "training_loss = {}\n",
    "val_acc = []\n",
    "\n",
    "# per fold \n",
    "for fold, (train_index, test_index) in enumerate(skfcv.split(X_train, y_train)):\n",
    "    x_train_fold, x_test_fold = X_train[train_index], X_train[test_index]\n",
    "    y_train_fold, y_test_fold = y_train[train_index], y_train[test_index]\n",
    "    train_combined = TensorDataset(x_train_fold, y_train_fold)\n",
    "    test_combined = TensorDataset(x_test_fold, y_test_fold)\n",
    "    trainloader = DataLoader(train_combined, batch_size=TRAIN_BATCH_SIZE, shuffle=True)\n",
    "    testloader = DataLoader(test_combined, batch_size=TEST_BATCH_SIZE, shuffle=False)\n",
    "    # per epoch\n",
    "    for i in range(EPOCHS): \n",
    "        i+=1\n",
    "        # per batch \n",
    "        losses = [] \n",
    "        val_correct_preds = 0\n",
    "        count = 0 \n",
    "        for batch_idx, (data, target) in enumerate(trainloader):\n",
    "            mlp.train()\n",
    "             \n",
    "            # training \n",
    "            y_pred = mlp.forward(data)\n",
    "            loss = criterion(y_pred, target)\n",
    "            losses.append(loss)\n",
    "            \n",
    "            # backtracking \n",
    "            optimizer.zero_grad()\n",
    "            loss.backward()\n",
    "            optimizer.step() \n",
    "        \n",
    "        # validating \n",
    "        with torch.no_grad():\n",
    "            mlp.eval()\n",
    "            for val_batch_idx, (val_data, val_target) in enumerate(testloader):\n",
    "                y_out = mlp.forward(val_data)\n",
    "                for row in range(y_out.shape[0]):\n",
    "                    if y_out[row].argmax() == val_target[row]:\n",
    "                        val_correct_preds += 1\n",
    "                    count += 1\n",
    "                    \n",
    "    # per fold         \n",
    "    with torch.no_grad():\n",
    "        training_loss[fold] = np.array(losses).mean()\n",
    "        print(\"-----------------------\")\n",
    "        print(f\"fold: {fold} , training_loss: {training_loss[fold]}\")\n",
    "        print(f\"fold: {fold}, {val_correct_preds} out of {count} = {100*val_correct_preds/count:.2f}% correct\")\n",
    "        print(\"-----------------------\")\n",
    "        val_acc.append(100*val_correct_preds/count)\n",
    "        count = 0\n",
    "\n",
    "print()\n",
    "print(\"Done Training\")\n",
    "print(\"Max Validation Accuracy: \",  np.array(val_acc).max())"
   ]
  },
  {
   "cell_type": "markdown",
   "id": "ce2b52e3",
   "metadata": {},
   "source": [
    "#### Mean Loss per fold "
   ]
  },
  {
   "cell_type": "code",
   "execution_count": 7,
   "id": "bf240080",
   "metadata": {},
   "outputs": [
    {
     "data": {
      "image/png": "[encoded data removed]",
      "text/plain": [
       "<Figure size 432x288 with 1 Axes>"
      ]
     },
     "metadata": {
      "needs_background": "light"
     },
     "output_type": "display_data"
    }
   ],
   "source": [
    "with torch.no_grad():\n",
    "    y_axis  = training_loss.values()\n",
    "    plot_loss(K,y_axis)"
   ]
  },
  {
   "cell_type": "markdown",
   "id": "d3bc32f7",
   "metadata": {},
   "source": [
    "## Evaluation "
   ]
  },
  {
   "cell_type": "code",
   "execution_count": 8,
   "id": "1b883d3c",
   "metadata": {},
   "outputs": [
    {
     "name": "stdout",
     "output_type": "stream",
     "text": [
      "--- 0.039582252502441406 execution time in seconds ---\n",
      "Loss with test set : 9.25684834\n"
     ]
    }
   ],
   "source": [
    "# TO EVALUATE THE ENTIRE TEST SET\n",
    "with torch.no_grad():\n",
    "    start_time = time.time()\n",
    "    y_val = mlp.forward(X_test)\n",
    "    print(\"--- %s execution time in seconds ---\" % (time.time() - start_time))\n",
    "    loss = criterion(y_val, y_test)\n",
    "    print(f'Loss with test set : {loss:.8f}')"
   ]
  },
  {
   "cell_type": "code",
   "execution_count": 9,
   "id": "b9ab0404",
   "metadata": {},
   "outputs": [
    {
     "name": "stdout",
     "output_type": "stream",
     "text": [
      "\n",
      "711 out of 1079 = 65.89% correct\n",
      "Confusion matrix, without normalization\n",
      "tensor([[117,   0,   0,   0,   0,   0,   2,   0,   1],\n",
      "        [  0, 117,   0,   0,   0,   0,   0,   0,   3],\n",
      "        [ 39,   0,  80,   0,   0,   0,   0,   1,   0],\n",
      "        [  0,   0,   0, 120,   0,   0,   0,   0,   0],\n",
      "        [  0,   3,   0,   0, 113,   4,   0,   0,   0],\n",
      "        [  0,   4,   0,   0,   0,  72,   0,  44,   0],\n",
      "        [  0,  58,   0,   0,   0,   0,  22,   1,  38],\n",
      "        [  0,   0,   0,   0,   0,   0,  55,  64,   1],\n",
      "        [ 87,   0,  23,   0,   0,   0,   0,   4,   6]])\n",
      "Classification Report for MLP :\n",
      "              precision    recall  f1-score   support\n",
      "\n",
      "           0       0.48      0.97      0.64       120\n",
      "           1       0.64      0.97      0.77       120\n",
      "           2       0.78      0.67      0.72       120\n",
      "           3       1.00      1.00      1.00       120\n",
      "           4       1.00      0.94      0.97       120\n",
      "           5       0.95      0.60      0.73       120\n",
      "           6       0.28      0.18      0.22       119\n",
      "           7       0.56      0.53      0.55       120\n",
      "           8       0.12      0.05      0.07       120\n",
      "\n",
      "    accuracy                           0.66      1079\n",
      "   macro avg       0.65      0.66      0.63      1079\n",
      "weighted avg       0.65      0.66      0.63      1079\n",
      "\n"
     ]
    },
    {
     "data": {
      "image/png": "[encoded data removed]",
      "text/plain": [
       "<Figure size 864x864 with 2 Axes>"
      ]
     },
     "metadata": {
      "needs_background": "light"
     },
     "output_type": "display_data"
    }
   ],
   "source": [
    "with torch.no_grad():\n",
    "    # checking accuracy on test dataset \n",
    "    preds = []\n",
    "    correct = 0\n",
    "    for i,data in enumerate(X_test):\n",
    "        y_val = mlp.forward(data)\n",
    "        preds.append(y_val.argmax().item())\n",
    "        if y_val.argmax().item() == y_test[i]:\n",
    "            correct += 1\n",
    "    print(f'\\n{correct} out of {len(y_test)} = {100*correct/len(y_test):.2f}% correct')\n",
    "    y_preds = torch.tensor(preds, dtype = torch.int64)\n",
    "    stacked = torch.stack((y_test,y_preds),dim=1)\n",
    "\n",
    "    # confusion matrix generation \n",
    "    cmt = torch.zeros(OUT_FEATURES,OUT_FEATURES, dtype=torch.int64)\n",
    "    for p in stacked:\n",
    "        tl, pl = p.tolist()\n",
    "        cmt[tl, pl] = cmt[tl, pl] + 1  \n",
    "    \n",
    "    plt.figure(figsize=(12,12))\n",
    "    plot_confusion_matrix(cmt, DANCE_MOVES)\n",
    "    \n",
    "    print(\"Classification Report for MLP :\")\n",
    "    print(classification_report(y_test, y_preds))"
   ]
  },
  {
   "cell_type": "code",
   "execution_count": 10,
   "id": "af4da898",
   "metadata": {},
   "outputs": [
    {
     "name": "stdout",
     "output_type": "stream",
     "text": [
      "dict_keys(['fc1.weight', 'fc1.bias', 'fc2.weight', 'fc2.bias', 'out.weight', 'out.bias'])\n",
      "fc1.weight : 150 neurons in fc1.weight layer\n",
      " number of connections  : 150 * 300 = 45000 \n",
      "fc1.bias : 150 neurons in fc1.bias layer\n",
      " number of connections  : 150 * 1 = 150 \n",
      "fc2.weight : 60 neurons in fc2.weight layer\n",
      " number of connections  : 60 * 150 = 9000 \n",
      "fc2.bias : 60 neurons in fc2.bias layer\n",
      " number of connections  : 60 * 1 = 60 \n",
      "out.weight : 9 neurons in out.weight layer\n",
      " number of connections  : 9 * 60 = 540 \n",
      "out.bias : 9 neurons in out.bias layer\n",
      " number of connections  : 9 * 1 = 9 \n"
     ]
    }
   ],
   "source": [
    "# model weights \n",
    "with torch.no_grad():\n",
    "    mlp_params = {}\n",
    "    for name, param in mlp.named_parameters():\n",
    "        mlp_params[name] = param.numpy().copy().tolist()\n",
    "        \n",
    "    print(mlp_params.keys())\n",
    "    for key in mlp_params.keys(): \n",
    "        print(f\"{key} : {len(mlp_params[key])} neurons in {key} layer\")\n",
    "        print(f\" number of connections  : {len(mlp_params[key])} * {np.asarray(mlp_params[key][len(mlp_params[key]) -1]).size} = {len(mlp_params[key]) * np.asarray(mlp_params[key][len(mlp_params[key]) -1]).size } \")\n",
    "\n",
    "    # save model weights \n",
    "    with open('mlp.csv', 'w') as csv_file:  \n",
    "        writer = csv.writer(csv_file)\n",
    "        for key, value in mlp_params.items():\n",
    "           writer.writerow([key, value])"
   ]
  },
  {
   "cell_type": "markdown",
   "id": "0940b253",
   "metadata": {},
   "source": [
    "## Save & Load Model"
   ]
  },
  {
   "cell_type": "code",
   "execution_count": 11,
   "id": "308d3de1",
   "metadata": {},
   "outputs": [
    {
     "data": {
      "text/plain": [
       "Model(\n",
       "  (fc1): Linear(in_features=300, out_features=150, bias=True)\n",
       "  (fc2): Linear(in_features=150, out_features=60, bias=True)\n",
       "  (out): Linear(in_features=60, out_features=9, bias=True)\n",
       ")"
      ]
     },
     "execution_count": 11,
     "metadata": {},
     "output_type": "execute_result"
    }
   ],
   "source": [
    "torch.save(mlp.state_dict(), 'MLPW9.pt')\n",
    "loaded_model = Model(in_features=IN_FEATURES,h1=HIDDEN_LAYER_1_NODES, h2=HIDDEN_LAYER_2_NODES, out_features=OUT_FEATURES) \n",
    "loaded_model.load_state_dict(torch.load('MLPW9.pt'))\n",
    "loaded_model.eval()"
   ]
  },
  {
   "cell_type": "code",
   "execution_count": 12,
   "id": "11d6d14b",
   "metadata": {},
   "outputs": [
    {
     "name": "stdout",
     "output_type": "stream",
     "text": [
      "9.25684834\n"
     ]
    }
   ],
   "source": [
    "# loss when loaded model is run on test dataset \n",
    "with torch.no_grad():\n",
    "    y_val = loaded_model.forward(X_test)\n",
    "    loss = criterion(y_val, y_test)\n",
    "    print(f'{loss:.8f}')"
   ]
  },
  {
   "cell_type": "code",
   "execution_count": 13,
   "id": "c71a3207",
   "metadata": {},
   "outputs": [
    {
     "name": "stdout",
     "output_type": "stream",
     "text": [
      "tensor([-4.2725e-04, -4.2725e-04, -4.2725e-04, -4.2725e-04, -4.2725e-04,\n",
      "        -7.3242e-04, -1.0986e-03, -3.4485e-03, -3.4485e-03, -3.1433e-03,\n",
      "        -3.1433e-03, -3.2043e-03, -3.2043e-03, -2.9297e-03, -1.7700e-03,\n",
      "        -4.8828e-04, -3.3569e-04, -3.3569e-04, -3.3569e-04, -9.1553e-05,\n",
      "        -6.1035e-05, -6.1035e-05, -3.6621e-04, -6.1035e-04, -1.4648e-03,\n",
      "        -2.5940e-03, -3.6926e-03, -5.8594e-03, -6.0120e-03, -6.0120e-03,\n",
      "        -6.0120e-03, -6.0120e-03, -6.1951e-03, -6.1951e-03, -5.5542e-03,\n",
      "        -3.0212e-03, -2.4414e-04,  1.3733e-03,  2.5330e-03,  3.2959e-03,\n",
      "         3.2959e-03,  2.5024e-03,  2.0142e-03,  1.4038e-03, -1.2207e-04,\n",
      "        -3.9368e-03, -5.0964e-03, -5.0964e-03, -5.0964e-03, -4.9438e-03,\n",
      "        -4.6997e-03, -3.0518e-03, -3.0518e-03, -4.1199e-03, -4.3945e-03,\n",
      "        -4.3945e-03, -3.7842e-03, -3.4485e-03, -2.0142e-03, -7.0190e-04,\n",
      "         2.9907e-03,  2.9907e-03,  2.9907e-03,  2.9907e-03,  3.0212e-03,\n",
      "         3.5095e-03,  4.7607e-03,  5.5542e-03,  6.8054e-03,  7.7209e-03,\n",
      "         7.7209e-03,  7.4768e-03,  6.7749e-03,  5.6763e-03,  4.0588e-03,\n",
      "         1.9836e-03,  2.4414e-04, -1.1902e-03, -1.1902e-03, -7.3242e-04,\n",
      "         7.0190e-04,  2.1973e-03,  3.8757e-03,  5.3101e-03,  7.5684e-03,\n",
      "         8.7280e-03,  8.7280e-03,  7.7515e-03,  5.9509e-03,  4.3640e-03,\n",
      "         3.9062e-03,  3.9062e-03,  5.3711e-03,  7.1411e-03,  7.7515e-03,\n",
      "         7.7515e-03,  6.1035e-03,  4.0588e-03,  2.6245e-03,  1.7395e-03,\n",
      "         1.2817e-03,  1.2817e-03,  1.5259e-03,  2.2278e-03,  3.4790e-03,\n",
      "         5.4626e-03,  5.4626e-03,  5.7373e-03,  5.7373e-03,  5.2795e-03,\n",
      "         5.2490e-03,  5.1880e-03,  5.1880e-03,  6.5002e-03,  8.5449e-03,\n",
      "         8.5449e-03,  8.4839e-03,  7.5989e-03,  6.9580e-03,  5.3406e-03,\n",
      "        -1.5259e-04, -1.5259e-04, -1.8311e-04, -1.8311e-04, -1.5259e-04,\n",
      "         6.1035e-04,  2.1057e-03,  2.9602e-03,  4.0894e-03,  4.0894e-03,\n",
      "         3.0212e-03,  2.2888e-03,  1.6174e-03,  1.8311e-04, -1.0376e-03,\n",
      "        -2.0142e-03, -3.8147e-03, -6.1035e-03, -6.1035e-03, -4.0588e-03,\n",
      "        -2.8076e-03, -2.1362e-03, -1.4343e-03,  1.5259e-04,  1.0681e-03,\n",
      "         1.5259e-03,  2.5330e-03,  2.9907e-03,  2.9907e-03,  2.3499e-03,\n",
      "        -5.1880e-04, -3.2043e-03, -5.0049e-03, -5.4321e-03, -5.4321e-03,\n",
      "        -3.7537e-03, -1.6785e-03, -5.4932e-04,  2.7466e-04,  1.0986e-03,\n",
      "         1.1902e-03,  1.1902e-03,  6.4087e-04, -1.2207e-04, -1.5869e-03,\n",
      "        -3.4485e-03, -3.4485e-03, -2.2583e-03, -9.7656e-04,  3.0518e-04,\n",
      "         1.4648e-03,  2.0142e-03,  3.3264e-03,  3.4485e-03,  3.4485e-03,\n",
      "         1.9836e-03,  4.2725e-04, -6.1035e-05, -2.1362e-04, -6.1035e-05,\n",
      "        -6.1035e-05, -6.1035e-05, -6.1035e-05, -6.1035e-05, -6.1035e-05,\n",
      "         4.8828e-04,  1.7700e-03,  1.9531e-03,  1.9531e-03,  7.0190e-04,\n",
      "         6.4087e-04,  6.4087e-04,  1.1292e-03,  1.1292e-03,  1.0376e-03,\n",
      "        -3.6621e-04, -3.6621e-04, -2.1362e-04, -2.1362e-04, -1.0376e-03,\n",
      "        -1.1597e-03, -1.0376e-03,  5.1880e-04,  7.0190e-04,  1.5869e-03,\n",
      "         1.9531e-03,  1.9531e-03,  3.7231e-03,  4.0588e-03,  4.7913e-03,\n",
      "         4.7913e-03,  2.4414e-03,  2.3499e-03,  1.0071e-03,  3.3569e-04,\n",
      "        -8.8501e-04, -2.9602e-03, -4.9133e-03, -7.7820e-03, -8.3618e-03,\n",
      "        -8.3618e-03, -7.2937e-03, -6.2866e-03, -3.6316e-03,  4.8828e-04,\n",
      "         5.4626e-03,  5.4626e-03,  5.4016e-03,  5.4016e-03,  5.4016e-03,\n",
      "         5.4016e-03,  4.6387e-03,  4.6387e-03,  3.4485e-03,  2.8992e-03,\n",
      "         1.3123e-03,  9.4604e-04,  7.9346e-04,  7.3242e-04,  0.0000e+00,\n",
      "         0.0000e+00,  0.0000e+00,  0.0000e+00,  0.0000e+00,  0.0000e+00,\n",
      "        -7.0190e-04, -2.5330e-03, -4.7302e-03, -4.8218e-03, -4.9744e-03,\n",
      "        -4.9744e-03, -4.6387e-03, -4.4861e-03, -4.4250e-03, -4.4250e-03,\n",
      "        -6.7444e-03, -1.1139e-02, -1.1383e-02, -1.1383e-02, -9.5825e-03,\n",
      "        -5.9814e-03, -2.1362e-03,  7.3242e-04,  2.3499e-03,  2.3499e-03,\n",
      "         2.1362e-04, -7.9346e-04, -2.3499e-03, -4.1199e-03, -5.3101e-03,\n",
      "        -5.3101e-03, -4.5471e-03, -4.5471e-03, -3.0212e-03, -2.1667e-03,\n",
      "        -1.0071e-03, -7.3242e-04, -7.3242e-04, -3.6621e-03, -6.3477e-03,\n",
      "        -6.8970e-03, -6.8970e-03, -5.8594e-03, -3.5095e-03, -3.5095e-03,\n",
      "        -5.1575e-03, -5.1575e-03, -4.2419e-03, -4.2419e-03, -4.2725e-03,\n",
      "        -4.6387e-03, -4.7607e-03, -4.8828e-03, -4.7607e-03, -4.7302e-03,\n",
      "        -4.5471e-03, -4.0894e-03, -4.0283e-03, -4.0894e-03, -2.3499e-03])\n",
      "torch.Size([300])\n",
      "tensor([ 33.4929, -59.4361, -26.8055, -22.2482, -97.2703, -67.6404, -22.5861,\n",
      "        -71.9218, -31.4381])\n",
      "\n",
      "tensor(33.4929)\n",
      "0\n",
      "Predicted Output: dab\n",
      "Actual Output: dab\n"
     ]
    }
   ],
   "source": [
    "# run model on a random sample row of the test dataset \n",
    "random.seed(899)\n",
    "random_int = random.randint(0, len(testing_X))\n",
    "random_input = torch.FloatTensor(testing_X[random_int])\n",
    "print(random_input)\n",
    "print(random_input.shape)\n",
    "\n",
    "# random_input = torch.FloatTensor([])\n",
    "\n",
    "with torch.no_grad():\n",
    "    print(loaded_model(random_input))\n",
    "    print()\n",
    "    print(loaded_model(random_input).max())\n",
    "    print(loaded_model(random_input).argmax().item())\n",
    "    print(f\"Predicted Output: {NUM_TO_DANCE_MAP[loaded_model(random_input).argmax().item()]}\")\n",
    "    print(f\"Actual Output: {NUM_TO_DANCE_MAP[y_test[random_int].item()]}\")"
   ]
  },
  {
   "cell_type": "code",
   "execution_count": 14,
   "id": "3bd7ff14",
   "metadata": {},
   "outputs": [],
   "source": [
    "# save test dataset\n",
    "with torch.no_grad(): \n",
    "    x = X_test.numpy().copy().tolist()\n",
    "    np.savetxt(\"X_test.csv\", x, delimiter=\",\")\n",
    "    y = y_test.numpy().copy().tolist()\n",
    "    np.savetxt(\"y_test.csv\", y, delimiter=\",\")"
   ]
  }
 ],
 "metadata": {
  "kernelspec": {
   "display_name": "pytorch_env",
   "language": "python",
   "name": "pytorch_env"
  },
  "language_info": {
   "codemirror_mode": {
    "name": "ipython",
    "version": 3
   },
   "file_extension": ".py",
   "mimetype": "text/x-python",
   "name": "python",
   "nbconvert_exporter": "python",
   "pygments_lexer": "ipython3",
   "version": "3.9.7"
  }
 },
 "nbformat": 4,
 "nbformat_minor": 5
}
