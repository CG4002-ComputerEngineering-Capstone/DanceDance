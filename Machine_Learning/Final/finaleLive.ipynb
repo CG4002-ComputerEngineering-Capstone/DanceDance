{
 "cells": [
  {
   "cell_type": "code",
   "execution_count": 1,
   "id": "c8f95000",
   "metadata": {},
   "outputs": [],
   "source": [
    "import numpy as np\n",
    "from scipy.signal import medfilt\n",
    "import pandas as pd"
   ]
  },
  {
   "cell_type": "code",
   "execution_count": 2,
   "id": "95b2bcd0",
   "metadata": {},
   "outputs": [],
   "source": [
    "FREQ = 20 \n",
    "WINDOW = 2.1\n",
    "SEGMENT_SIZE = int(FREQ * WINDOW)\n",
    "OVERLAP = 21\n",
    "\n",
    "SENSOR_COLS = [\"ax\", \"ay\", \"az\", \"p\", \"r\"]\n",
    "MAX_VALUE = 32768 # 32768\n",
    "\n",
    "DATA = np.zeros((1,len(SENSOR_COLS)),dtype=np.float64)\n",
    "# DATA = np.delete(DATA, 0,axis=0)"
   ]
  },
  {
   "cell_type": "code",
   "execution_count": 3,
   "id": "3285a45c",
   "metadata": {},
   "outputs": [],
   "source": [
    "def segmentation(): \n",
    "    global DATA, SEGMENT_SIZE, OVERLAP, SENSOR_COLS, FREQ, WINDOW\n",
    "    ncols = int(FREQ * WINDOW) * len(SENSOR_COLS)\n",
    "    segments = []\n",
    "    for row in range(0, len(DATA) - SEGMENT_SIZE, OVERLAP):\n",
    "        window = []\n",
    "        for col in range(0, len(SENSOR_COLS)): \n",
    "            vals = DATA[row:row+SEGMENT_SIZE, col] # each col's raw sensor values\n",
    "            filtered_vals = median_filter(vals) # filtered \n",
    "            normalised_vals = normalise(filtered_vals) # normalised \n",
    "            window.append(normalised_vals) # each window extracted \n",
    "        segments.append(window) # 3d list of windows \n",
    "    \n",
    "    segments = np.asarray(segments).reshape(-1,ncols) # reshaped \n",
    "    DATA = np.delete(DATA, np.s_[0:OVERLAP], axis = 0) # pop first 50% overlap rows\n",
    "    return segments"
   ]
  },
  {
   "cell_type": "code",
   "execution_count": 4,
   "id": "1d3ff37a",
   "metadata": {},
   "outputs": [],
   "source": [
    "def median_filter(arr):\n",
    "    values = np.asarray(arr)\n",
    "    med_filtered = medfilt(values, kernel_size=3)\n",
    "    return np.asarray(med_filtered)"
   ]
  },
  {
   "cell_type": "code",
   "execution_count": 5,
   "id": "80a032b4",
   "metadata": {},
   "outputs": [],
   "source": [
    "def normalise(arr): \n",
    "    global MAX_VALUE\n",
    "    final_vals = np.round(arr / MAX_VALUE, 16)\n",
    "    return np.asarray(final_vals, dtype=np.float64)"
   ]
  },
  {
   "cell_type": "code",
   "execution_count": 6,
   "id": "c3299f2c",
   "metadata": {},
   "outputs": [],
   "source": [
    "def append(inputArr):\n",
    "    \"\"\"\n",
    "    Function returns inputVector to be fed into the nn.\n",
    "    \"\"\"\n",
    "    \n",
    "    global DATA , SEGMENT_SIZE, SENSOR_COLS\n",
    "    arr = np.asarray(inputArr, dtype=np.float64)\n",
    "\n",
    "    # padding \n",
    "    if len(arr) < SEGMENT_SIZE:\n",
    "        leftover = SEGMENT_SIZE - len(arr)\n",
    "        padding = np.zeros((leftover, len(SENSOR_COLS)),dtype=np.float64, order='C')\n",
    "        arr = np.concatenate((arr,padding))\n",
    "        \n",
    "    DATA = np.concatenate((DATA, arr))\n",
    "    print(\"GLOBAL ARRAY SHAPE BEFORE SEGMENTATION: \",DATA.shape)\n",
    "    segs = segmentation()\n",
    "    print(\"GLOBAL ARRAY SHAPE AFTER SEGMENTATION:  \",DATA.shape)\n",
    "    return segs"
   ]
  },
  {
   "cell_type": "code",
   "execution_count": 7,
   "id": "59b31b49",
   "metadata": {},
   "outputs": [],
   "source": [
    "def resetCumData(): \n",
    "    \"\"\"\n",
    "    Function to be called before the start of every dance move.\n",
    "    \"\"\"\n",
    "    global SENSOR_COLS, DATA\n",
    "    \n",
    "    DATA = np.zeros((1,len(SENSOR_COLS)),dtype=np.float64)"
   ]
  },
  {
   "cell_type": "code",
   "execution_count": 8,
   "id": "e8d41c34",
   "metadata": {},
   "outputs": [],
   "source": [
    "# # usage\n",
    "# resetCumData()\n",
    "# df = pd.read_csv(\"../capstone_data/test4/scarecrow_sean_3.csv\", names= [\"ax\", \"ay\", \"az\", \"y\", \"p\", \"r\", \"start_move\", \"checksum\"], header=None, index_col=None)\n",
    "# df.drop(columns=[\"y\", \"start_move\", \"checksum\"], axis=1,inplace=True)\n",
    "# df.reset_index(drop=True,inplace=True)\n",
    "# iv = append(np.asarray(df[0:42]))"
   ]
  },
  {
   "cell_type": "code",
   "execution_count": 9,
   "id": "ff913734",
   "metadata": {},
   "outputs": [],
   "source": [
    "# iv[0]"
   ]
  },
  {
   "cell_type": "code",
   "execution_count": 10,
   "id": "5e33e505",
   "metadata": {},
   "outputs": [],
   "source": [
    "# iv2 = append(np.asarray(df[42:84]))\n",
    "# iv2[0]"
   ]
  }
 ],
 "metadata": {
  "kernelspec": {
   "display_name": "pytorch_env",
   "language": "python",
   "name": "pytorch_env"
  },
  "language_info": {
   "codemirror_mode": {
    "name": "ipython",
    "version": 3
   },
   "file_extension": ".py",
   "mimetype": "text/x-python",
   "name": "python",
   "nbconvert_exporter": "python",
   "pygments_lexer": "ipython3",
   "version": "3.9.7"
  }
 },
 "nbformat": 4,
 "nbformat_minor": 5
}
