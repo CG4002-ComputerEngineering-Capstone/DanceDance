{
 "cells": [
  {
   "cell_type": "markdown",
   "metadata": {},
   "source": [
    "## Neural Network Hardware Accelerator\n",
    "\n",
    "An overlay is used to read and write data from a neural network accelerator implemented on the FPGA. \n",
    "The model implemented is MLP, with 2 hidden fully connected layers with ReLU activation function.\n",
    "An Axilite MMIO interface is used to handle reading and writing of data between the CPU and FPGA."
   ]
  },
  {
   "cell_type": "code",
   "execution_count": 1,
   "metadata": {
    "scrolled": true
   },
   "outputs": [
    {
     "data": {
      "application/javascript": [
       "\n",
       "try {\n",
       "require(['notebook/js/codecell'], function(codecell) {\n",
       "  codecell.CodeCell.options_default.highlight_modes[\n",
       "      'magic_text/x-csrc'] = {'reg':[/^%%microblaze/]};\n",
       "  Jupyter.notebook.events.one('kernel_ready.Kernel', function(){\n",
       "      Jupyter.notebook.get_cells().map(function(cell){\n",
       "          if (cell.cell_type == 'code'){ cell.auto_highlight(); } }) ;\n",
       "  });\n",
       "});\n",
       "} catch (e) {};\n"
      ]
     },
     "metadata": {},
     "output_type": "display_data"
    },
    {
     "data": {
      "application/javascript": [
       "\n",
       "try {\n",
       "require(['notebook/js/codecell'], function(codecell) {\n",
       "  codecell.CodeCell.options_default.highlight_modes[\n",
       "      'magic_text/x-csrc'] = {'reg':[/^%%pybind11/]};\n",
       "  Jupyter.notebook.events.one('kernel_ready.Kernel', function(){\n",
       "      Jupyter.notebook.get_cells().map(function(cell){\n",
       "          if (cell.cell_type == 'code'){ cell.auto_highlight(); } }) ;\n",
       "  });\n",
       "});\n",
       "} catch (e) {};\n"
      ]
     },
     "metadata": {},
     "output_type": "display_data"
    }
   ],
   "source": [
    "from pynq import Overlay\n",
    "import struct\n",
    "import time\n",
    "import pynq\n",
    "import pandas as pd\n"
   ]
  },
  {
   "cell_type": "code",
   "execution_count": 2,
   "metadata": {
    "scrolled": true
   },
   "outputs": [],
   "source": [
    "# Initializes DataRecorder object to monitor power rails using PMBus\n",
    "def init_power_recorder(): \n",
    "    rails = pynq.get_rails()\n",
    "    RAIL_NAME = 'PSINT_FP'\n",
    "    return pynq.DataRecorder(rails[RAIL_NAME].power)"
   ]
  },
  {
   "cell_type": "code",
   "execution_count": 3,
   "metadata": {},
   "outputs": [],
   "source": [
    "# Axilite MMIO interface does not support read/write of floats\n",
    "def float_to_integer(f):\n",
    "    return struct.unpack('<I', struct.pack('<f', f))[0]\n",
    "    \n",
    "def integer_to_float(i):\n",
    "    return struct.unpack('f', struct.pack('I', i))[0]"
   ]
  },
  {
   "cell_type": "code",
   "execution_count": 12,
   "metadata": {},
   "outputs": [],
   "source": [
    "# Initialize pynq Overlay to program FPGA using bitstream\n",
    "overlay = Overlay('MLP6.bit')\n",
    "accelerate_mlp = overlay.accelerate_MLP_0"
   ]
  },
  {
   "cell_type": "code",
   "execution_count": 5,
   "metadata": {},
   "outputs": [],
   "source": [
    "# Read in test inputs and labels as lists \n",
    "x_test = pd.read_csv('X_test.csv', header=None).values.tolist()\n",
    "test_length = len(x_test)\n",
    "input_length = len(x_test[0])\n",
    "\n",
    "# Get y labels from the txt file\n",
    "y_test = pd.read_csv('y_test.csv', names=['Activity'], squeeze=True).tolist()"
   ]
  },
  {
   "cell_type": "code",
   "execution_count": 6,
   "metadata": {},
   "outputs": [
    {
     "data": {
      "text/plain": [
       "480"
      ]
     },
     "execution_count": 6,
     "metadata": {},
     "output_type": "execute_result"
    }
   ],
   "source": [
    "len(x_test[0])"
   ]
  },
  {
   "cell_type": "code",
   "execution_count": 7,
   "metadata": {},
   "outputs": [],
   "source": [
    "def predict(inputs):   \n",
    "\n",
    "    # Mapping for MMIO obtained from Vivado HLS\n",
    "\n",
    "    # AXILiteS\n",
    "    # 0x0000 : Control signals\n",
    "    #          bit 0  - ap_start (Read/Write/COH)\n",
    "    #          bit 1  - ap_done (Read/COR)\n",
    "    #          bit 2  - ap_idle (Read)\n",
    "    #          bit 3  - ap_ready (Read)\n",
    "    #          bit 7  - auto_restart (Read/Write)\n",
    "    #          others - reserved\n",
    "    # 0x0800 ~\n",
    "    # 0x0fff : Memory 'inputs' (480 * 32b)\n",
    "    #          Word n : bit [31:0] - inputs[n]\n",
    "    # 0x1000 ~\n",
    "    # 0x100f : Memory 'outputs' (3 * 32b)\n",
    "    #          Word n : bit [31:0] - outputs[n]\n",
    "\n",
    "    INPUT_OFFSET = 0x0800\n",
    "    OUTPUT_OFFSET = 0x1000\n",
    "    CONTROL_OFFSET = 0x0000\n",
    "    AP_START = 1\n",
    "    AP_DONE = 2\n",
    "    # Each input is 32 bits = 4 bytes\n",
    "    NUM_BYTES = 4\n",
    "    INPUT_LENGTH = 480\n",
    "    OUTPUT_LENGTH = 3\n",
    "    \n",
    "    #write_start = time.time()\n",
    "    #Write input values to IP\n",
    "    for i in range(INPUT_LENGTH):\n",
    "        int_input = float_to_integer(inputs[i])\n",
    "        accelerate_mlp.write(INPUT_OFFSET + i*NUM_BYTES, int_input)\n",
    "    #write_end = time.time()\n",
    "    #print(f\"writing: {write_end-write_start}\")\n",
    "    \n",
    "     # Start executing IP\n",
    "    accelerate_mlp.write(CONTROL_OFFSET, AP_START)\n",
    "    \n",
    "    #execute_start = time.time()\n",
    "    # Wait for AP_DONE bit to be asserted when outputs are ready\n",
    "    while accelerate_mlp.read(CONTROL_OFFSET) & AP_DONE == 0:\n",
    "        continue\n",
    "    #execute_end = time.time()\n",
    "    #print(f\"execution: {execute_end-execute_start}\")\n",
    "    \n",
    "    #read_start = time.time()\n",
    "    # Read output values from IP\n",
    "    result = []\n",
    "    for i in range(OUTPUT_LENGTH):\n",
    "        res = accelerate_mlp.read(OUTPUT_OFFSET + i*NUM_BYTES)\n",
    "        result.append(integer_to_float(res))\n",
    "    #read_end = time.time()\n",
    "    #print(f\"reading: {read_end-read_start}\")\n",
    "    \n",
    "    # Return label with highest value\n",
    "    return result.index(max(result))"
   ]
  },
  {
   "cell_type": "code",
   "execution_count": 8,
   "metadata": {},
   "outputs": [
    {
     "name": "stdout",
     "output_type": "stream",
     "text": [
      "latency: 0.01224374771118164\n"
     ]
    }
   ],
   "source": [
    "# Single prediction test\n",
    "start_time = time.time()\n",
    "x = predict(x_test[0])\n",
    "latency = time.time() - start_time\n",
    "print(f\"latency: {latency}\")"
   ]
  },
  {
   "cell_type": "code",
   "execution_count": 9,
   "metadata": {
    "scrolled": true
   },
   "outputs": [
    {
     "name": "stdout",
     "output_type": "stream",
     "text": [
      "latency: 6.456728458404541\n",
      "\n",
      "accuracy: 87.17472118959108%\n",
      "Average latency: 0.012001354011904351\n",
      "\n"
     ]
    }
   ],
   "source": [
    "# Sample the power every 0.1 seconds \n",
    "recorder = init_power_recorder()\n",
    "with recorder.record(0.1):\n",
    "    start_time = time.time()\n",
    "    correct_predictions = 0\n",
    "    \n",
    "    # Test FPGA model \n",
    "    for i in range(test_length):\n",
    "        res = predict(x_test[i])\n",
    "        if res == y_test[i]:\n",
    "            correct_predictions += 1\n",
    "    \n",
    "    latency = time.time() - start_time\n",
    "    print(f\"latency: {latency}\\n\")\n",
    "\n",
    "    print(f\"accuracy: {correct_predictions/test_length * 100}%\")\n",
    "\n",
    "print(f\"Average latency: {latency / test_length}\\n\")"
   ]
  },
  {
   "cell_type": "code",
   "execution_count": 49,
   "metadata": {},
   "outputs": [
    {
     "name": "stdout",
     "output_type": "stream",
     "text": [
      "latency: 0.12263107299804688\n",
      "\n",
      "accuracy: 80.0%\n",
      "Average latency: 0.012263107299804687\n",
      "\n"
     ]
    }
   ],
   "source": [
    "# Sample the power every 0.1 seconds \n",
    "recorder = init_power_recorder()\n",
    "with recorder.record(0.1):\n",
    "    # Model execution\n",
    "    start_time = time.time()\n",
    "    correct_predictions = 0\n",
    "    \n",
    "    # Test FPGA model \n",
    "    for i in range(10):\n",
    "        res = predict(x_test[i])\n",
    "        if res == y_test[i]:\n",
    "            correct_predictions += 1\n",
    "    \n",
    "    latency = time.time() - start_time\n",
    "    print(f\"latency: {latency}\\n\")\n",
    "\n",
    "    print(f\"accuracy: {correct_predictions/10 * 100}%\")\n",
    "\n",
    "print(f\"Average latency: {latency / 10}\\n\")"
   ]
  },
  {
   "cell_type": "code",
   "execution_count": 37,
   "metadata": {
    "scrolled": true
   },
   "outputs": [
    {
     "data": {
      "text/html": [
       "<div>\n",
       "<style scoped>\n",
       "    .dataframe tbody tr th:only-of-type {\n",
       "        vertical-align: middle;\n",
       "    }\n",
       "\n",
       "    .dataframe tbody tr th {\n",
       "        vertical-align: top;\n",
       "    }\n",
       "\n",
       "    .dataframe thead th {\n",
       "        text-align: right;\n",
       "    }\n",
       "</style>\n",
       "<table border=\"1\" class=\"dataframe\">\n",
       "  <thead>\n",
       "    <tr style=\"text-align: right;\">\n",
       "      <th></th>\n",
       "      <th>Mark</th>\n",
       "      <th>PSINT_FP_power</th>\n",
       "    </tr>\n",
       "  </thead>\n",
       "  <tbody>\n",
       "    <tr>\n",
       "      <th>2021-10-05 07:41:10.436277</th>\n",
       "      <td>0.0</td>\n",
       "      <td>0.75</td>\n",
       "    </tr>\n",
       "  </tbody>\n",
       "</table>\n",
       "</div>"
      ],
      "text/plain": [
       "                            Mark  PSINT_FP_power\n",
       "2021-10-05 07:41:10.436277   0.0            0.75"
      ]
     },
     "execution_count": 37,
     "metadata": {},
     "output_type": "execute_result"
    }
   ],
   "source": [
    "# View the sampled power data\n",
    "recorder.frame"
   ]
  },
  {
   "cell_type": "code",
   "execution_count": null,
   "metadata": {},
   "outputs": [],
   "source": []
  }
 ],
 "metadata": {
  "kernelspec": {
   "display_name": "Python 3",
   "language": "python",
   "name": "python3"
  },
  "language_info": {
   "codemirror_mode": {
    "name": "ipython",
    "version": 3
   },
   "file_extension": ".py",
   "mimetype": "text/x-python",
   "name": "python",
   "nbconvert_exporter": "python",
   "pygments_lexer": "ipython3",
   "version": "3.6.5"
  }
 },
 "nbformat": 4,
 "nbformat_minor": 2
}
